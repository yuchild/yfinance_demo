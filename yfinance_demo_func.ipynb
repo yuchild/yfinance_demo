{
 "cells": [
  {
   "cell_type": "code",
   "execution_count": 1,
   "metadata": {},
   "outputs": [],
   "source": [
    "    import pandas as pd\n",
    "    import numpy as np\n",
    "\n",
    "    import matplotlib.pyplot as plt\n",
    "    plt.rcParams['font.size'] = 12\n",
    "    plt.rcParams['figure.figsize'] = (8, 7)\n",
    "    plt.style.use('fivethirtyeight')\n",
    "\n",
    "    import warnings\n",
    "    warnings.filterwarnings('ignore')\n",
    "\n",
    "    import yfinance as yf\n",
    "\n",
    "    from sklearn.model_selection import train_test_split\n",
    "    from sklearn.ensemble import RandomForestClassifier\n",
    "    from sklearn.metrics import (roc_auc_score\n",
    "                                 , precision_score\n",
    "                                 , recall_score\n",
    "                                 , roc_curve\n",
    "                                 , confusion_matrix\n",
    "                                 , plot_confusion_matrix\n",
    "                                 , precision_recall_curve\n",
    "                                 , auc\n",
    "                                )"
   ]
  },
  {
   "cell_type": "code",
   "execution_count": 2,
   "metadata": {},
   "outputs": [],
   "source": [
    "def direction(interval = '1d'\n",
    "              , history = '10y'\n",
    "              , perc_inc = 0.015\n",
    "              , symbol = 'IYW'\n",
    "              , perc_train = 0.333\n",
    "             ):\n",
    "    \n",
    "    import pandas as pd\n",
    "    import numpy as np\n",
    "\n",
    "    import matplotlib.pyplot as plt\n",
    "    plt.rcParams['font.size'] = 12\n",
    "    plt.rcParams['figure.figsize'] = (8, 7)\n",
    "    plt.style.use('fivethirtyeight')\n",
    "\n",
    "    import warnings\n",
    "    warnings.filterwarnings('ignore')\n",
    "\n",
    "    import yfinance as yf\n",
    "\n",
    "    from sklearn.model_selection import train_test_split\n",
    "    from sklearn.ensemble import RandomForestClassifier\n",
    "    from sklearn.metrics import (roc_auc_score\n",
    "                                 , precision_score\n",
    "                                 , recall_score\n",
    "                                 , roc_curve\n",
    "                                 , confusion_matrix\n",
    "                                 , plot_confusion_matrix\n",
    "                                 , precision_recall_curve\n",
    "                                 , auc\n",
    "                                )\n",
    "    \n",
    "    stock_df = yf.download(tickers = symbol # symbol of stock \n",
    "                       \n",
    "                       , period = history # length of history back in time\n",
    "                       \n",
    "                       , interval = interval # time periods of subinterval e.g. 1m or 1hr\n",
    "                       \n",
    "                       # , start = start # start date, time\n",
    "                       \n",
    "                       # , end = end # end date, time\n",
    "                       \n",
    "                       , prepost = True # pre/post market data\n",
    "                      )\n",
    "    \n",
    "    stock_df['percent change'] = (stock_df.Open - stock_df.Close) / stock_df.Open\n",
    "        \n",
    "    #create decision column\n",
    "    stock_df['decision'] = np.where((stock_df['Close'] - stock_df['Open'])/stock_df['Open'] > perc_inc\n",
    "                                \n",
    "                                    , 1  # 1 if up % or greater\n",
    "\n",
    "                                    , 0  # 0 if not up % or greater\n",
    "\n",
    "                                   )\n",
    "    # create one offs\n",
    "    decisions = stock_df.decision.values\n",
    "    decisions = decisions[1:len(decisions)]\n",
    "    stock_df_one_off = stock_df.iloc[0:stock_df.shape[0]-1]\n",
    "    stock_df_one_off['decision'] = decisions\n",
    "    \n",
    "    # balance the data\n",
    "    ones = stock_df_one_off.decision.value_counts()[1]\n",
    "    stock_df_bal = stock_df_one_off.groupby('decision').apply(lambda x: x.sample(n=ones)).reset_index(drop=True)\n",
    "    \n",
    "    # check for NaN's\n",
    "    stock_df_bal.dropna(axis=0, inplace=True)\n",
    "    \n",
    "    # Train Test Split\n",
    "    X = stock_df_bal.drop(columns=['percent change', 'decision']) # get columns other than decision\n",
    "    y = stock_df_bal['decision'] # get decision column\n",
    "    \n",
    "    X_train, X_test, y_train, y_test = train_test_split(X\n",
    "                                                        , y\n",
    "                                                        , test_size=0.20\n",
    "                                                        , random_state = 42\n",
    "                                                       )\n",
    "    \n",
    "    # random forest classifier rfc\n",
    "    rfc = RandomForestClassifier(n_estimators = int(perc_train * len(X_train)) # odd number \n",
    "                                 , random_state = 42\n",
    "                                 , verbose=0 # no showing backend work\n",
    "                                 , n_jobs = -1 # access all of your processor cores Lenovo P50 i7-6820HQ 2.7GHz\n",
    "                                )\n",
    "    rfc.fit(X_train, y_train)\n",
    "    y_pred = rfc.predict(X_test)\n",
    "    y_probs = rfc.predict_proba(X_test)[:, 1]\n",
    "    \n",
    "    # ROC Value\n",
    "    roc_value = roc_auc_score(y_test\n",
    "                              , y_probs\n",
    "                             )\n",
    "    \n",
    "    # AUC Score\n",
    "    rf_prec, rf_recall, _ = precision_recall_curve(y_test, y_probs)\n",
    "    auc_value = round(auc(rf_recall, rf_prec), 3)\n",
    "    \n",
    "    # Feature Importances\n",
    "    # feature_df = pd.DataFrame({'feature': X_train.columns\n",
    "    #                            , 'importances': rfc.feature_importances_\n",
    "    #                           }\n",
    "    #                          ).sort_values('importances', ascending=False)\n",
    "    \n",
    "    # Prediction\n",
    "    last = stock_df[['Open', 'High', 'Low', 'Close', 'Adj Close', 'Volume']].iloc[-1]\n",
    "    if rfc.predict(np.array(last).reshape(1, -1))[0] == 1:\n",
    "        result = f'Buy {symbol} on the {interval} interval for {round(perc_inc *100, 1)}% increase.'\n",
    "    else:\n",
    "        result = f'Sell or hold {symbol} on the {interval} interval.'\n",
    "        \n",
    "    return ones, roc_value, auc_value, result"
   ]
  },
  {
   "cell_type": "code",
   "execution_count": 3,
   "metadata": {},
   "outputs": [
    {
     "name": "stdout",
     "output_type": "stream",
     "text": [
      "[*********************100%***********************]  1 of 1 completed\n",
      "Positives: 54\n",
      "ROC Score: 0.57\n",
      "AUC Score: 0.74\n",
      "Buy IYW on the 1d interval for 2.0% increase.\n"
     ]
    }
   ],
   "source": [
    "ones, roc, auc, result = direction(interval = '1d'\n",
    "                                   , history = '10y'\n",
    "                                   , perc_inc = 0.02\n",
    "                                   , symbol = 'IYW'\n",
    "                                   , perc_train = 0.02\n",
    "                                  )\n",
    "print(f'Positives: {ones}')\n",
    "print(f'ROC Score: {round(roc, 2)}')\n",
    "print(f'AUC Score: {round(auc, 2)}')\n",
    "print(result)"
   ]
  },
  {
   "cell_type": "code",
   "execution_count": 4,
   "metadata": {},
   "outputs": [
    {
     "data": {
      "text/plain": [
       "[0.01,\n",
       " 0.1,\n",
       " 0.19,\n",
       " 0.28,\n",
       " 0.37,\n",
       " 0.46,\n",
       " 0.55,\n",
       " 0.64,\n",
       " 0.73,\n",
       " 0.8200000000000001,\n",
       " 0.91,\n",
       " 1.0]"
      ]
     },
     "execution_count": 4,
     "metadata": {},
     "output_type": "execute_result"
    }
   ],
   "source": [
    "perc = [x*0.01 for x in range(1,101, 9)]\n",
    "perc"
   ]
  },
  {
   "cell_type": "code",
   "execution_count": 5,
   "metadata": {},
   "outputs": [
    {
     "name": "stdout",
     "output_type": "stream",
     "text": [
      "[*********************100%***********************]  1 of 1 completed\n",
      "[*********************100%***********************]  1 of 1 completed\n",
      "[*********************100%***********************]  1 of 1 completed\n",
      "[*********************100%***********************]  1 of 1 completed\n",
      "[*********************100%***********************]  1 of 1 completed\n",
      "[*********************100%***********************]  1 of 1 completed\n",
      "[*********************100%***********************]  1 of 1 completed\n",
      "[*********************100%***********************]  1 of 1 completed\n",
      "[*********************100%***********************]  1 of 1 completed\n",
      "[*********************100%***********************]  1 of 1 completed\n",
      "[*********************100%***********************]  1 of 1 completed\n",
      "[*********************100%***********************]  1 of 1 completed\n"
     ]
    }
   ],
   "source": [
    "roc_lst = []\n",
    "auc_lst = []\n",
    "results_lst = []\n",
    "perc = [x*0.01 for x in range(1,101, 9)]\n",
    "\n",
    "for x in perc:\n",
    "    ones, roc, auc, result = direction(interval = '1d'\n",
    "                                       , history = '10y'\n",
    "                                       , perc_inc = 0.005\n",
    "                                       , symbol = 'ITOT'\n",
    "                                       , perc_train = x\n",
    "                                      )\n",
    "    roc_lst.append(roc)\n",
    "    auc_lst.append(auc)\n",
    "    results_lst.append(result)\n",
    "\n",
    "results_df = pd.DataFrame({'Percent': perc\n",
    "                           , 'ROC': roc_lst\n",
    "                           , 'AUC': auc_lst\n",
    "                           , 'Result': results_lst\n",
    "                          }\n",
    "                         )"
   ]
  },
  {
   "cell_type": "code",
   "execution_count": 6,
   "metadata": {},
   "outputs": [
    {
     "data": {
      "text/html": [
       "<div>\n",
       "<style scoped>\n",
       "    .dataframe tbody tr th:only-of-type {\n",
       "        vertical-align: middle;\n",
       "    }\n",
       "\n",
       "    .dataframe tbody tr th {\n",
       "        vertical-align: top;\n",
       "    }\n",
       "\n",
       "    .dataframe thead th {\n",
       "        text-align: right;\n",
       "    }\n",
       "</style>\n",
       "<table border=\"1\" class=\"dataframe\">\n",
       "  <thead>\n",
       "    <tr style=\"text-align: right;\">\n",
       "      <th></th>\n",
       "      <th>Percent</th>\n",
       "      <th>ROC</th>\n",
       "      <th>AUC</th>\n",
       "      <th>Result</th>\n",
       "    </tr>\n",
       "  </thead>\n",
       "  <tbody>\n",
       "    <tr>\n",
       "      <th>0</th>\n",
       "      <td>0.01</td>\n",
       "      <td>0.532748</td>\n",
       "      <td>0.486</td>\n",
       "      <td>Buy ITOT on the 1d interval for 0.5% increase.</td>\n",
       "    </tr>\n",
       "    <tr>\n",
       "      <th>1</th>\n",
       "      <td>0.10</td>\n",
       "      <td>0.603346</td>\n",
       "      <td>0.550</td>\n",
       "      <td>Sell or hold ITOT on the 1d interval.</td>\n",
       "    </tr>\n",
       "    <tr>\n",
       "      <th>2</th>\n",
       "      <td>0.19</td>\n",
       "      <td>0.601210</td>\n",
       "      <td>0.577</td>\n",
       "      <td>Buy ITOT on the 1d interval for 0.5% increase.</td>\n",
       "    </tr>\n",
       "    <tr>\n",
       "      <th>3</th>\n",
       "      <td>0.28</td>\n",
       "      <td>0.609160</td>\n",
       "      <td>0.535</td>\n",
       "      <td>Buy ITOT on the 1d interval for 0.5% increase.</td>\n",
       "    </tr>\n",
       "    <tr>\n",
       "      <th>4</th>\n",
       "      <td>0.37</td>\n",
       "      <td>0.627136</td>\n",
       "      <td>0.548</td>\n",
       "      <td>Buy ITOT on the 1d interval for 0.5% increase.</td>\n",
       "    </tr>\n",
       "    <tr>\n",
       "      <th>5</th>\n",
       "      <td>0.46</td>\n",
       "      <td>0.601032</td>\n",
       "      <td>0.576</td>\n",
       "      <td>Buy ITOT on the 1d interval for 0.5% increase.</td>\n",
       "    </tr>\n",
       "    <tr>\n",
       "      <th>6</th>\n",
       "      <td>0.55</td>\n",
       "      <td>0.597888</td>\n",
       "      <td>0.558</td>\n",
       "      <td>Buy ITOT on the 1d interval for 0.5% increase.</td>\n",
       "    </tr>\n",
       "    <tr>\n",
       "      <th>7</th>\n",
       "      <td>0.64</td>\n",
       "      <td>0.645349</td>\n",
       "      <td>0.602</td>\n",
       "      <td>Sell or hold ITOT on the 1d interval.</td>\n",
       "    </tr>\n",
       "    <tr>\n",
       "      <th>8</th>\n",
       "      <td>0.73</td>\n",
       "      <td>0.564250</td>\n",
       "      <td>0.537</td>\n",
       "      <td>Buy ITOT on the 1d interval for 0.5% increase.</td>\n",
       "    </tr>\n",
       "    <tr>\n",
       "      <th>9</th>\n",
       "      <td>0.82</td>\n",
       "      <td>0.590591</td>\n",
       "      <td>0.560</td>\n",
       "      <td>Buy ITOT on the 1d interval for 0.5% increase.</td>\n",
       "    </tr>\n",
       "    <tr>\n",
       "      <th>10</th>\n",
       "      <td>0.91</td>\n",
       "      <td>0.558436</td>\n",
       "      <td>0.487</td>\n",
       "      <td>Sell or hold ITOT on the 1d interval.</td>\n",
       "    </tr>\n",
       "    <tr>\n",
       "      <th>11</th>\n",
       "      <td>1.00</td>\n",
       "      <td>0.625831</td>\n",
       "      <td>0.559</td>\n",
       "      <td>Sell or hold ITOT on the 1d interval.</td>\n",
       "    </tr>\n",
       "  </tbody>\n",
       "</table>\n",
       "</div>"
      ],
      "text/plain": [
       "    Percent       ROC    AUC                                          Result\n",
       "0      0.01  0.532748  0.486  Buy ITOT on the 1d interval for 0.5% increase.\n",
       "1      0.10  0.603346  0.550           Sell or hold ITOT on the 1d interval.\n",
       "2      0.19  0.601210  0.577  Buy ITOT on the 1d interval for 0.5% increase.\n",
       "3      0.28  0.609160  0.535  Buy ITOT on the 1d interval for 0.5% increase.\n",
       "4      0.37  0.627136  0.548  Buy ITOT on the 1d interval for 0.5% increase.\n",
       "5      0.46  0.601032  0.576  Buy ITOT on the 1d interval for 0.5% increase.\n",
       "6      0.55  0.597888  0.558  Buy ITOT on the 1d interval for 0.5% increase.\n",
       "7      0.64  0.645349  0.602           Sell or hold ITOT on the 1d interval.\n",
       "8      0.73  0.564250  0.537  Buy ITOT on the 1d interval for 0.5% increase.\n",
       "9      0.82  0.590591  0.560  Buy ITOT on the 1d interval for 0.5% increase.\n",
       "10     0.91  0.558436  0.487           Sell or hold ITOT on the 1d interval.\n",
       "11     1.00  0.625831  0.559           Sell or hold ITOT on the 1d interval."
      ]
     },
     "execution_count": 6,
     "metadata": {},
     "output_type": "execute_result"
    }
   ],
   "source": [
    "results_df"
   ]
  },
  {
   "cell_type": "code",
   "execution_count": 7,
   "metadata": {},
   "outputs": [
    {
     "data": {
      "text/plain": [
       "Buy ITOT on the 1d interval for 0.5% increase.    8\n",
       "Sell or hold ITOT on the 1d interval.             4\n",
       "Name: Result, dtype: int64"
      ]
     },
     "execution_count": 7,
     "metadata": {},
     "output_type": "execute_result"
    }
   ],
   "source": [
    "results_df.Result.value_counts()"
   ]
  },
  {
   "cell_type": "code",
   "execution_count": 8,
   "metadata": {},
   "outputs": [
    {
     "data": {
      "image/png": "[encoded data removed]",
      "text/plain": [
       "<Figure size 576x504 with 1 Axes>"
      ]
     },
     "metadata": {},
     "output_type": "display_data"
    }
   ],
   "source": [
    "plt.scatter(results_df.Percent\n",
    "            , results_df.ROC\n",
    "            , label = 'ROC'\n",
    "           )\n",
    "plt.scatter(results_df.Percent\n",
    "            , results_df.AUC\n",
    "            , label = 'AUC'\n",
    "           )\n",
    "plt.xlabel('Percent Train Estimators')\n",
    "plt.ylabel('Percent Score')\n",
    "plt.legend();\n"
   ]
  },
  {
   "cell_type": "code",
   "execution_count": 9,
   "metadata": {},
   "outputs": [
    {
     "data": {
      "text/html": [
       "<div>\n",
       "<style scoped>\n",
       "    .dataframe tbody tr th:only-of-type {\n",
       "        vertical-align: middle;\n",
       "    }\n",
       "\n",
       "    .dataframe tbody tr th {\n",
       "        vertical-align: top;\n",
       "    }\n",
       "\n",
       "    .dataframe thead th {\n",
       "        text-align: right;\n",
       "    }\n",
       "</style>\n",
       "<table border=\"1\" class=\"dataframe\">\n",
       "  <thead>\n",
       "    <tr style=\"text-align: right;\">\n",
       "      <th></th>\n",
       "      <th>Percent</th>\n",
       "      <th>ROC</th>\n",
       "      <th>AUC</th>\n",
       "      <th>Result</th>\n",
       "    </tr>\n",
       "  </thead>\n",
       "  <tbody>\n",
       "    <tr>\n",
       "      <th>7</th>\n",
       "      <td>0.64</td>\n",
       "      <td>0.645349</td>\n",
       "      <td>0.602</td>\n",
       "      <td>Sell or hold ITOT on the 1d interval.</td>\n",
       "    </tr>\n",
       "  </tbody>\n",
       "</table>\n",
       "</div>"
      ],
      "text/plain": [
       "   Percent       ROC    AUC                                 Result\n",
       "7     0.64  0.645349  0.602  Sell or hold ITOT on the 1d interval."
      ]
     },
     "execution_count": 9,
     "metadata": {},
     "output_type": "execute_result"
    }
   ],
   "source": [
    "results_df.loc[results_df.ROC == results_df.ROC.max()]"
   ]
  },
  {
   "cell_type": "code",
   "execution_count": 10,
   "metadata": {},
   "outputs": [
    {
     "name": "stdout",
     "output_type": "stream",
     "text": [
      "[*********************100%***********************]  1 of 1 completed\n",
      "Positives: 54\n",
      "ROC Score: 0.38\n",
      "AUC Score: 0.51\n",
      "Buy IYW on the 1d interval for 2.0% increase.\n"
     ]
    }
   ],
   "source": [
    "ones, roc, auc, result = direction(interval = '1d'\n",
    "                                   , history = '10y'\n",
    "                                   , perc_inc = 0.02\n",
    "                                   , symbol = 'IYW'\n",
    "                                   , perc_train = 0.12\n",
    "                                  )\n",
    "print(f'Positives: {ones}')\n",
    "print(f'ROC Score: {round(roc, 2)}')\n",
    "print(f'AUC Score: {round(auc, 2)}')\n",
    "print(result)"
   ]
  },
  {
   "cell_type": "code",
   "execution_count": null,
   "metadata": {},
   "outputs": [],
   "source": []
  },
  {
   "cell_type": "code",
   "execution_count": null,
   "metadata": {},
   "outputs": [],
   "source": []
  }
 ],
 "metadata": {
  "kernelspec": {
   "display_name": "Python 3",
   "language": "python",
   "name": "python3"
  },
  "language_info": {
   "codemirror_mode": {
    "name": "ipython",
    "version": 3
   },
   "file_extension": ".py",
   "mimetype": "text/x-python",
   "name": "python",
   "nbconvert_exporter": "python",
   "pygments_lexer": "ipython3",
   "version": "3.7.5"
  }
 },
 "nbformat": 4,
 "nbformat_minor": 4
}
