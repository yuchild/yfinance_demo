{
 "cells": [
  {
   "cell_type": "code",
   "execution_count": null,
   "metadata": {},
   "outputs": [],
   "source": [
    "# https://blog.quantinsti.com/random-forest-algorithm-in-python/"
   ]
  },
  {
   "cell_type": "code",
   "execution_count": null,
   "metadata": {
    "scrolled": true
   },
   "outputs": [],
   "source": [
    "import pandas as pd\n",
    "import numpy as np\n",
    "import matplotlib.pyplot as plt\n",
    "plt.style.use('fivethirtyeight')\n",
    "\n",
    "import pandas_datareader.data as web"
   ]
  },
  {
   "cell_type": "code",
   "execution_count": null,
   "metadata": {},
   "outputs": [],
   "source": [
    "apple = web.DataReader('aapl'\n",
    "                       , 'yahoo'\n",
    "                       , start = '12/12/1980'\n",
    "                      )\n",
    "apple.shape"
   ]
  },
  {
   "cell_type": "code",
   "execution_count": null,
   "metadata": {},
   "outputs": [],
   "source": [
    "apple.head()"
   ]
  },
  {
   "cell_type": "code",
   "execution_count": null,
   "metadata": {},
   "outputs": [],
   "source": [
    "apple['Close_Shift1_DOwn'] = apple.Close.shift(1, fill_value = 0.0)\n",
    "apple.head()"
   ]
  },
  {
   "cell_type": "code",
   "execution_count": null,
   "metadata": {},
   "outputs": [],
   "source": [
    "# Function to find the max daily change in the direction of overall daily change \n",
    "def hl(h, l, o, c):\n",
    "    if o - c > 0:\n",
    "        return l-h\n",
    "    else:\n",
    "        return h-l"
   ]
  },
  {
   "cell_type": "code",
   "execution_count": null,
   "metadata": {},
   "outputs": [],
   "source": [
    "# Max daily change in the same direction fo daily change\n",
    "apple['Max Daily Change'] = apple.apply(lambda x: hl(x[0], x[1], x[2], x[3]), axis=1)\n",
    "apple.sample(10)"
   ]
  },
  {
   "cell_type": "code",
   "execution_count": null,
   "metadata": {},
   "outputs": [],
   "source": [
    "# negative means the next day opened lower than the pervious day\n",
    "apple['Interday Change'] = apple.apply(lambda x: x[2] - x[6], axis = 1)\n",
    "apple.head()"
   ]
  },
  {
   "cell_type": "code",
   "execution_count": null,
   "metadata": {},
   "outputs": [],
   "source": [
    "# Positive 'Close Adjusted Close' means overvalued price at close of day\n",
    "apple['Close Adjusted Close'] = apple.apply(lambda x: x[3] - x[5], axis = 1)\n",
    "apple.head()"
   ]
  },
  {
   "cell_type": "code",
   "execution_count": null,
   "metadata": {},
   "outputs": [],
   "source": [
    "apple[(apple['Max Daily Change'] > 0) & (apple['Interday Change'] < 0)]"
   ]
  },
  {
   "cell_type": "code",
   "execution_count": null,
   "metadata": {},
   "outputs": [],
   "source": [
    "apple[apple['Open'] == apple['Close']]"
   ]
  },
  {
   "cell_type": "code",
   "execution_count": null,
   "metadata": {},
   "outputs": [],
   "source": [
    "apple['Open Close % Change'] = (apple['Close'] - apple['Open']) / apple['Open'] * 100\n",
    "apple.head()"
   ]
  },
  {
   "cell_type": "code",
   "execution_count": null,
   "metadata": {},
   "outputs": [],
   "source": [
    "apple['Open Close % Change'].describe()"
   ]
  },
  {
   "cell_type": "code",
   "execution_count": null,
   "metadata": {},
   "outputs": [],
   "source": [
    "apple['Open Close % Change'].hist(bins=20)\n",
    "plt.vlines(0, 0, 4500, colors='r', label = '50%')\n",
    "plt.xlim(-10, 10)\n",
    "plt.legend();"
   ]
  },
  {
   "cell_type": "code",
   "execution_count": null,
   "metadata": {},
   "outputs": [],
   "source": [
    "apple['Open Close % Change'].quantile([0.84])"
   ]
  },
  {
   "cell_type": "code",
   "execution_count": null,
   "metadata": {},
   "outputs": [],
   "source": [
    "apple['Close'].plot();"
   ]
  },
  {
   "cell_type": "code",
   "execution_count": null,
   "metadata": {},
   "outputs": [],
   "source": [
    "apple.sample(10)"
   ]
  },
  {
   "cell_type": "code",
   "execution_count": null,
   "metadata": {},
   "outputs": [],
   "source": [
    "apple['5 Day SMA'] = apple['Close'].rolling(window=5).mean()\n",
    "apple['5 Day SMA'].fillna(apple['Close'], inplace = True)\n",
    "apple['10 Day SMA'] = apple['Close'].rolling(window=10).mean()\n",
    "apple['10 Day SMA'].fillna(apple['Close'], inplace = True)\n",
    "apple['5 Day STDev'] = apple['Close'].rolling(window=5).std()\n",
    "apple['5 Day STDev'].fillna(0, inplace = True)\n",
    "apple.head(30)"
   ]
  },
  {
   "cell_type": "code",
   "execution_count": null,
   "metadata": {},
   "outputs": [],
   "source": [
    "apple['5 Day STDev'].min(), apple['5 Day STDev'].max(), apple['5 Day STDev'].mean(), apple['5 Day STDev'].median()"
   ]
  },
  {
   "cell_type": "code",
   "execution_count": null,
   "metadata": {},
   "outputs": [],
   "source": [
    "def crossover(five, ten):\n",
    "    if five > ten:\n",
    "        return 1\n",
    "    else:\n",
    "        return 0"
   ]
  },
  {
   "cell_type": "code",
   "execution_count": null,
   "metadata": {},
   "outputs": [],
   "source": [
    "apple['5 10 Day Crossover'] = apple.apply(lambda x: crossover(x[11], x[12]), axis = 1)\n",
    "apple.head()"
   ]
  },
  {
   "cell_type": "code",
   "execution_count": null,
   "metadata": {},
   "outputs": [],
   "source": [
    "# Min Max Normalization of Features\n",
    "vol_max = apple['Volume'].max()\n",
    "vol_min = apple['Volume'].min()\n",
    "apple['Volume Norm'] = (apple['Volume'] - vol_min) / (vol_max - vol_min)\n",
    "\n",
    "daily_max = apple['Max Daily Change'].max()\n",
    "daily_min = apple['Max Daily Change'].min()\n",
    "apple['Max Daily Change Norm'] = (apple['Max Daily Change'] - daily_min) / (daily_max - daily_min)\n",
    "\n",
    "inter_max = apple['Interday Change'].max()\n",
    "inter_min = apple['Interday Change'].min()\n",
    "apple['Interday Change Norm'] = (apple['Interday Change'] - inter_min) / (inter_max - inter_min)\n",
    "\n",
    "adj_max = apple['Close Adjusted Close'].max()\n",
    "adj_min = apple['Close Adjusted Close'].min()\n",
    "apple['Close Adjusted Close Norm'] = (apple['Close Adjusted Close'] - adj_min) / (adj_max - adj_min)\n",
    "\n",
    "apple.head()"
   ]
  },
  {
   "cell_type": "code",
   "execution_count": null,
   "metadata": {},
   "outputs": [],
   "source": [
    "def decision(p):\n",
    "    if p > 1.5:\n",
    "        return 1\n",
    "    elif p < -0.75:\n",
    "        return -1\n",
    "    else:\n",
    "        return 0"
   ]
  },
  {
   "cell_type": "code",
   "execution_count": null,
   "metadata": {},
   "outputs": [],
   "source": [
    "apple['Buy Hold Sell'] = apple.apply(lambda x: decision(x[10]), axis = 1)"
   ]
  },
  {
   "cell_type": "code",
   "execution_count": null,
   "metadata": {},
   "outputs": [],
   "source": [
    "apple['Buy Hold Sell Shift1 Up'] = apple['Buy Hold Sell'].shift(-1, fill_value=0).astype(int)\n",
    "apple.head()"
   ]
  },
  {
   "cell_type": "code",
   "execution_count": null,
   "metadata": {
    "scrolled": false
   },
   "outputs": [],
   "source": [
    "# Select features\n",
    "apple.columns"
   ]
  },
  {
   "cell_type": "code",
   "execution_count": null,
   "metadata": {},
   "outputs": [],
   "source": [
    "apple_ = apple[['5 Day STDev'\n",
    "                , '5 Day SMA'\n",
    "                , '5 10 Day Crossover'\n",
    "                , 'Volume Norm'\n",
    "                , 'Max Daily Change Norm'\n",
    "                , 'Interday Change Norm'\n",
    "                , 'Close Adjusted Close Norm'\n",
    "                , 'Buy Hold Sell Shift1 Up'\n",
    "               ]\n",
    "              ].reset_index(drop=True)"
   ]
  },
  {
   "cell_type": "code",
   "execution_count": null,
   "metadata": {},
   "outputs": [],
   "source": [
    "apple_.head()"
   ]
  },
  {
   "cell_type": "code",
   "execution_count": null,
   "metadata": {},
   "outputs": [],
   "source": [
    "apple_.shape"
   ]
  },
  {
   "cell_type": "code",
   "execution_count": null,
   "metadata": {},
   "outputs": [],
   "source": [
    "apple_['Buy Hold Sell Shift1 Up'].value_counts()"
   ]
  },
  {
   "cell_type": "code",
   "execution_count": null,
   "metadata": {},
   "outputs": [],
   "source": [
    "10091*.10/3"
   ]
  },
  {
   "cell_type": "code",
   "execution_count": null,
   "metadata": {},
   "outputs": [],
   "source": [
    "buy_idxs = list(apple_[apple_['Buy Hold Sell Shift1 Up'] == 1].sample(336).index)\n",
    "hold_idxs = list(apple_[apple_['Buy Hold Sell Shift1 Up'] == 0].sample(336).index)\n",
    "sell_idxs = list(apple_[apple_['Buy Hold Sell Shift1 Up'] == -1].sample(336).index)"
   ]
  },
  {
   "cell_type": "code",
   "execution_count": null,
   "metadata": {},
   "outputs": [],
   "source": [
    "test_idxs = buy_idxs + hold_idxs + sell_idxs\n",
    "len(test_idxs)"
   ]
  },
  {
   "cell_type": "code",
   "execution_count": null,
   "metadata": {
    "scrolled": true
   },
   "outputs": [],
   "source": [
    "apple_test = apple_.iloc[test_idxs]\n",
    "apple_test['Buy Hold Sell Shift1 Up'].value_counts()"
   ]
  },
  {
   "cell_type": "code",
   "execution_count": null,
   "metadata": {},
   "outputs": [],
   "source": [
    "apple_train = apple_.drop(test_idxs, axis = 0)\n",
    "apple_train.shape"
   ]
  },
  {
   "cell_type": "code",
   "execution_count": null,
   "metadata": {},
   "outputs": [],
   "source": [
    "10091-336*3"
   ]
  },
  {
   "cell_type": "code",
   "execution_count": null,
   "metadata": {},
   "outputs": [],
   "source": [
    "apple_test = apple_test.sample(frac=1).reset_index(drop=True)\n",
    "apple_test.head()"
   ]
  },
  {
   "cell_type": "code",
   "execution_count": null,
   "metadata": {},
   "outputs": [],
   "source": [
    "apple_test['Buy Hold Sell Shift1 Up'].value_counts()"
   ]
  },
  {
   "cell_type": "code",
   "execution_count": null,
   "metadata": {},
   "outputs": [],
   "source": []
  },
  {
   "cell_type": "code",
   "execution_count": null,
   "metadata": {},
   "outputs": [],
   "source": []
  },
  {
   "cell_type": "code",
   "execution_count": null,
   "metadata": {},
   "outputs": [],
   "source": [
    "targets = list(apple_train['Buy Hold Sell Shift1 Up'].value_counts().index)\n",
    "targets_counts = list(apple_train['Buy Hold Sell Shift1 Up'].value_counts().values)"
   ]
  },
  {
   "cell_type": "code",
   "execution_count": null,
   "metadata": {},
   "outputs": [],
   "source": [
    "targets"
   ]
  },
  {
   "cell_type": "code",
   "execution_count": null,
   "metadata": {},
   "outputs": [],
   "source": [
    "targets_counts"
   ]
  },
  {
   "cell_type": "code",
   "execution_count": null,
   "metadata": {},
   "outputs": [],
   "source": [
    "from sklearn.utils import resample"
   ]
  },
  {
   "cell_type": "code",
   "execution_count": null,
   "metadata": {},
   "outputs": [],
   "source": [
    "X_major = apple_train[apple_train['Buy Hold Sell Shift1 Up'] == 0]\n",
    "X1_minor = apple_train[apple_train['Buy Hold Sell Shift1 Up'] == -1]\n",
    "X2_minor = apple_train[apple_train['Buy Hold Sell Shift1 Up'] == 1]\n",
    "\n",
    "X1_minor_upsampled = resample(X1_minor\n",
    "                              , replace = True\n",
    "                              , n_samples = targets_counts[0]\n",
    "                              , random_state = 42\n",
    "                             )\n",
    "\n",
    "X2_minor_upsampled = resample(X2_minor\n",
    "                              , replace = True\n",
    "                              , n_samples = targets_counts[0]\n",
    "                              , random_state = 42\n",
    "                             )\n",
    "\n",
    "apple_train_upsampled = pd.concat([X_major, X1_minor_upsampled, X2_minor_upsampled])"
   ]
  },
  {
   "cell_type": "code",
   "execution_count": null,
   "metadata": {},
   "outputs": [],
   "source": [
    "apple_train_upsampled['Buy Hold Sell Shift1 Up'].value_counts()"
   ]
  },
  {
   "cell_type": "code",
   "execution_count": null,
   "metadata": {},
   "outputs": [],
   "source": [
    "apple_train_upsampled = apple_train_upsampled.sample(frac = 1).reset_index(drop=True)\n",
    "apple_train_upsampled.head()"
   ]
  },
  {
   "cell_type": "code",
   "execution_count": null,
   "metadata": {},
   "outputs": [],
   "source": [
    "X_train = apple_train_upsampled.drop('Buy Hold Sell Shift1 Up', axis = 1)\n",
    "X_test = apple_test.drop('Buy Hold Sell Shift1 Up', axis = 1)\n",
    "y_train = apple_train_upsampled['Buy Hold Sell Shift1 Up']\n",
    "y_test = apple_test['Buy Hold Sell Shift1 Up']"
   ]
  },
  {
   "cell_type": "code",
   "execution_count": null,
   "metadata": {},
   "outputs": [],
   "source": [
    "X_train.head()"
   ]
  },
  {
   "cell_type": "code",
   "execution_count": null,
   "metadata": {},
   "outputs": [],
   "source": [
    "X_train.shape"
   ]
  },
  {
   "cell_type": "code",
   "execution_count": null,
   "metadata": {
    "scrolled": false
   },
   "outputs": [],
   "source": [
    "X_test.head()"
   ]
  },
  {
   "cell_type": "code",
   "execution_count": null,
   "metadata": {},
   "outputs": [],
   "source": [
    "X_test.shape"
   ]
  },
  {
   "cell_type": "code",
   "execution_count": null,
   "metadata": {},
   "outputs": [],
   "source": [
    "y_train.head()"
   ]
  },
  {
   "cell_type": "code",
   "execution_count": null,
   "metadata": {},
   "outputs": [],
   "source": [
    "y_train.shape"
   ]
  },
  {
   "cell_type": "code",
   "execution_count": null,
   "metadata": {},
   "outputs": [],
   "source": [
    "y_test.head()"
   ]
  },
  {
   "cell_type": "code",
   "execution_count": null,
   "metadata": {},
   "outputs": [],
   "source": [
    "y_test.shape"
   ]
  },
  {
   "cell_type": "code",
   "execution_count": null,
   "metadata": {},
   "outputs": [],
   "source": [
    "# https://www.analyticsvidhya.com/blog/2020/06/auc-roc-curve-machine-learning/"
   ]
  },
  {
   "cell_type": "code",
   "execution_count": null,
   "metadata": {},
   "outputs": [],
   "source": [
    "from sklearn.multiclass import OneVsRestClassifier\n",
    "from sklearn.ensemble import RandomForestClassifier\n",
    "rfc = RandomForestClassifier(n_estimators = 101\n",
    "                             , random_state = 42\n",
    "                             , n_jobs = -1\n",
    "                             , verbose = 0\n",
    "                            )\n",
    "rfc.fit(X_train, y_train)\n",
    "y_pred = rfc.predict(X_test)\n",
    "pred_probs = rfc.predict_proba(X_test)\n",
    "from sklearn import metrics\n",
    "print(f'Accuracy: {metrics.accuracy_score(y_test, y_pred)}')"
   ]
  },
  {
   "cell_type": "code",
   "execution_count": null,
   "metadata": {},
   "outputs": [],
   "source": [
    "apple_ = apple_.sample(frac=1).reset_index(drop=True)\n",
    "from sklearn.model_selection import cross_val_score\n",
    "cvals = cross_val_score(rfc\n",
    "                       , apple_.drop('Buy Hold Sell Shift1 Up', axis=1)\n",
    "                       , apple_['Buy Hold Sell Shift1 Up']\n",
    "                       , scoring = 'accuracy'\n",
    "                       , cv = 10\n",
    "                       , n_jobs = -1\n",
    "                       , verbose = 0\n",
    "                      )\n",
    "print(f'10 Fold Cross-Validation Score for First RF Model: {np.mean(cvals)}')"
   ]
  },
  {
   "cell_type": "code",
   "execution_count": null,
   "metadata": {},
   "outputs": [],
   "source": [
    "cvals"
   ]
  },
  {
   "cell_type": "code",
   "execution_count": null,
   "metadata": {},
   "outputs": [],
   "source": [
    "pred_probs[:,0]"
   ]
  },
  {
   "cell_type": "code",
   "execution_count": null,
   "metadata": {},
   "outputs": [],
   "source": [
    "pred_probs[:,1]"
   ]
  },
  {
   "cell_type": "code",
   "execution_count": null,
   "metadata": {},
   "outputs": [],
   "source": [
    "pred_probs[:,2]"
   ]
  },
  {
   "cell_type": "code",
   "execution_count": null,
   "metadata": {},
   "outputs": [],
   "source": []
  },
  {
   "cell_type": "code",
   "execution_count": null,
   "metadata": {},
   "outputs": [],
   "source": []
  },
  {
   "cell_type": "code",
   "execution_count": null,
   "metadata": {},
   "outputs": [],
   "source": []
  },
  {
   "cell_type": "code",
   "execution_count": null,
   "metadata": {},
   "outputs": [],
   "source": []
  },
  {
   "cell_type": "code",
   "execution_count": null,
   "metadata": {},
   "outputs": [],
   "source": []
  },
  {
   "cell_type": "code",
   "execution_count": null,
   "metadata": {},
   "outputs": [],
   "source": []
  },
  {
   "cell_type": "code",
   "execution_count": null,
   "metadata": {},
   "outputs": [],
   "source": []
  },
  {
   "cell_type": "code",
   "execution_count": null,
   "metadata": {},
   "outputs": [],
   "source": []
  },
  {
   "cell_type": "code",
   "execution_count": null,
   "metadata": {},
   "outputs": [],
   "source": []
  },
  {
   "cell_type": "code",
   "execution_count": null,
   "metadata": {},
   "outputs": [],
   "source": []
  },
  {
   "cell_type": "code",
   "execution_count": null,
   "metadata": {},
   "outputs": [],
   "source": []
  },
  {
   "cell_type": "code",
   "execution_count": null,
   "metadata": {},
   "outputs": [],
   "source": []
  },
  {
   "cell_type": "code",
   "execution_count": null,
   "metadata": {},
   "outputs": [],
   "source": [
    "from sklearn.metrics import (roc_auc_score\n",
    "                             , precision_score\n",
    "                             , recall_score\n",
    "                             , roc_curve\n",
    "                             , confusion_matrix\n",
    "                             , plot_confusion_matrix\n",
    "                             , precision_recall_curve\n",
    "                             , auc\n",
    "                            )"
   ]
  },
  {
   "cell_type": "code",
   "execution_count": null,
   "metadata": {
    "scrolled": true
   },
   "outputs": [],
   "source": [
    "y_probs = rfc.predict_proba(X_test)[:, 1]\n",
    "y_probs"
   ]
  },
  {
   "cell_type": "code",
   "execution_count": null,
   "metadata": {},
   "outputs": [],
   "source": []
  },
  {
   "cell_type": "code",
   "execution_count": null,
   "metadata": {},
   "outputs": [],
   "source": []
  },
  {
   "cell_type": "code",
   "execution_count": null,
   "metadata": {},
   "outputs": [],
   "source": []
  },
  {
   "cell_type": "code",
   "execution_count": null,
   "metadata": {},
   "outputs": [],
   "source": []
  },
  {
   "cell_type": "code",
   "execution_count": null,
   "metadata": {},
   "outputs": [],
   "source": []
  },
  {
   "cell_type": "code",
   "execution_count": null,
   "metadata": {},
   "outputs": [],
   "source": []
  },
  {
   "cell_type": "code",
   "execution_count": null,
   "metadata": {},
   "outputs": [],
   "source": []
  },
  {
   "cell_type": "code",
   "execution_count": null,
   "metadata": {},
   "outputs": [],
   "source": []
  },
  {
   "cell_type": "code",
   "execution_count": null,
   "metadata": {},
   "outputs": [],
   "source": [
    "# roc_score1 = roc_auc_score(y_test\n",
    "#                            , y_probs\n",
    "#                            , multi_class = 'ovr'\n",
    "#                            , average = 'macro'\n",
    "#                           )\n",
    "# roc_score1"
   ]
  },
  {
   "cell_type": "code",
   "execution_count": null,
   "metadata": {},
   "outputs": [],
   "source": [
    "rfc.feature_importances_"
   ]
  },
  {
   "cell_type": "code",
   "execution_count": null,
   "metadata": {},
   "outputs": [],
   "source": [
    "feature_imp = pd.Series(rfc.feature_importances_, index=apple_upsampled.columns[:4]).sort_values(ascending=False)\n",
    "feature_imp"
   ]
  },
  {
   "cell_type": "code",
   "execution_count": null,
   "metadata": {},
   "outputs": [],
   "source": [
    "import seaborn as sns\n",
    "sns.barplot(x=feature_imp\n",
    "            , y=feature_imp.index\n",
    "           );"
   ]
  },
  {
   "cell_type": "code",
   "execution_count": null,
   "metadata": {},
   "outputs": [],
   "source": [
    "# Drop 'Interday Change Norm' Column\n",
    "apple_upsampled_reduced = apple_upsampled.drop('Interday Change Norm', axis =1)\n",
    "apple_upsampled_reduced.head()"
   ]
  },
  {
   "cell_type": "code",
   "execution_count": null,
   "metadata": {},
   "outputs": [],
   "source": [
    "X_train, X_test, y_train, y_test = train_test_split(apple_upsampled_reduced.drop('Buy Hold Sell Shift1 Down', axis=1)\n",
    "                                                    , apple_upsampled_reduced['Buy Hold Sell Shift1 Down']\n",
    "                                                    , test_size = 0.1\n",
    "                                                    , random_state = 42\n",
    "                                                   )"
   ]
  },
  {
   "cell_type": "code",
   "execution_count": null,
   "metadata": {},
   "outputs": [],
   "source": [
    "# rfcr for Random Forest Classifier Reduced\n",
    "rfcr = RandomForestClassifier(n_estimators = 100)\n",
    "rfcr.fit(X_train, y_train)\n",
    "y_pred = rfcr.predict(X_test)\n",
    "print(f'Accuracy: {metrics.accuracy_score(y_test, y_pred)}')"
   ]
  },
  {
   "cell_type": "code",
   "execution_count": null,
   "metadata": {},
   "outputs": [],
   "source": [
    "cvalr = cross_val_score(rfcr\n",
    "                       , apple_upsampled_reduced.drop('Buy Hold Sell Shift1 Down', axis=1)\n",
    "                       , apple_upsampled_reduced['Buy Hold Sell Shift1 Down']\n",
    "                       , scoring = 'accuracy'\n",
    "                       , cv = 7\n",
    "                      )\n",
    "print(f'7 Fold Cross-Validation Score for Reduced RF Model: {np.mean(cvalr)}')"
   ]
  },
  {
   "cell_type": "code",
   "execution_count": null,
   "metadata": {},
   "outputs": [],
   "source": []
  },
  {
   "cell_type": "code",
   "execution_count": null,
   "metadata": {},
   "outputs": [],
   "source": []
  },
  {
   "cell_type": "code",
   "execution_count": null,
   "metadata": {},
   "outputs": [],
   "source": []
  },
  {
   "cell_type": "code",
   "execution_count": null,
   "metadata": {},
   "outputs": [],
   "source": []
  },
  {
   "cell_type": "code",
   "execution_count": null,
   "metadata": {},
   "outputs": [],
   "source": []
  },
  {
   "cell_type": "code",
   "execution_count": null,
   "metadata": {},
   "outputs": [],
   "source": []
  }
 ],
 "metadata": {
  "kernelspec": {
   "display_name": "Python 3",
   "language": "python",
   "name": "python3"
  },
  "language_info": {
   "codemirror_mode": {
    "name": "ipython",
    "version": 3
   },
   "file_extension": ".py",
   "mimetype": "text/x-python",
   "name": "python",
   "nbconvert_exporter": "python",
   "pygments_lexer": "ipython3",
   "version": "3.8.6"
  }
 },
 "nbformat": 4,
 "nbformat_minor": 4
}
