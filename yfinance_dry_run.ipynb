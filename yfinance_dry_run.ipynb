{
 "cells": [
  {
   "cell_type": "markdown",
   "metadata": {},
   "source": [
    "## Imports"
   ]
  },
  {
   "cell_type": "code",
   "execution_count": 27,
   "metadata": {},
   "outputs": [],
   "source": [
    "import pandas as pd\n",
    "import numpy as np\n",
    "\n",
    "import matplotlib.pyplot as plt\n",
    "plt.rcParams['font.size'] = 12\n",
    "plt.rcParams['figure.figsize'] = (8, 7)\n",
    "plt.style.use('fivethirtyeight')\n",
    "\n",
    "import warnings\n",
    "warnings.filterwarnings('ignore')\n",
    "\n",
    "import yfinance as yf\n",
    "\n",
    "from sklearn.model_selection import train_test_split, GridSearchCV, cross_val_score\n",
    "from sklearn.ensemble import RandomForestClassifier\n",
    "from sklearn.metrics import (roc_auc_score\n",
    "                             , precision_score\n",
    "                             , recall_score\n",
    "                             , roc_curve\n",
    "                             , confusion_matrix\n",
    "                             , plot_confusion_matrix\n",
    "                             , precision_recall_curve\n",
    "                             , auc\n",
    "                            )\n",
    "\n",
    "import joblib"
   ]
  },
  {
   "cell_type": "markdown",
   "metadata": {},
   "source": [
    "## Global Variables"
   ]
  },
  {
   "cell_type": "code",
   "execution_count": 94,
   "metadata": {},
   "outputs": [],
   "source": [
    "''' \n",
    "\n",
    "95 Percentile\n",
    "IYW 1d 1.5%, 1hr 0.697%\n",
    "JEF 1d 2.5%, 1hr 1.1%\n",
    "TSLA 1d 4.3%, 1hr 1.66%\n",
    "VGT 1d 1.41% 1hr 0.686%\n",
    "VHT 1d 1.24%, 1hr 0.59%\n",
    "\n",
    "'''\n",
    "\n",
    "interval = '1d' # time interval for data point\n",
    "history = '10y' # time period for total history\n",
    "perc_inc = 0.0124 # 1% increase or more from interval to interval\n",
    "symbol = 'VHT' # tech etf "
   ]
  },
  {
   "cell_type": "markdown",
   "metadata": {},
   "source": [
    "## Yahoo Finance"
   ]
  },
  {
   "cell_type": "code",
   "execution_count": 95,
   "metadata": {},
   "outputs": [
    {
     "name": "stdout",
     "output_type": "stream",
     "text": [
      "[*********************100%***********************]  1 of 1 completed\n"
     ]
    }
   ],
   "source": [
    "stock_df = yf.download(tickers = symbol\n",
    "                       , interval = interval\n",
    "                       , period = history\n",
    "                       , prepost = False\n",
    "                      )"
   ]
  },
  {
   "cell_type": "code",
   "execution_count": 96,
   "metadata": {},
   "outputs": [
    {
     "data": {
      "text/html": [
       "<div>\n",
       "<style scoped>\n",
       "    .dataframe tbody tr th:only-of-type {\n",
       "        vertical-align: middle;\n",
       "    }\n",
       "\n",
       "    .dataframe tbody tr th {\n",
       "        vertical-align: top;\n",
       "    }\n",
       "\n",
       "    .dataframe thead th {\n",
       "        text-align: right;\n",
       "    }\n",
       "</style>\n",
       "<table border=\"1\" class=\"dataframe\">\n",
       "  <thead>\n",
       "    <tr style=\"text-align: right;\">\n",
       "      <th></th>\n",
       "      <th>Open</th>\n",
       "      <th>High</th>\n",
       "      <th>Low</th>\n",
       "      <th>Close</th>\n",
       "      <th>Adj Close</th>\n",
       "      <th>Volume</th>\n",
       "    </tr>\n",
       "    <tr>\n",
       "      <th>Date</th>\n",
       "      <th></th>\n",
       "      <th></th>\n",
       "      <th></th>\n",
       "      <th></th>\n",
       "      <th></th>\n",
       "      <th></th>\n",
       "    </tr>\n",
       "  </thead>\n",
       "  <tbody>\n",
       "    <tr>\n",
       "      <th>2010-08-25</th>\n",
       "      <td>49.619999</td>\n",
       "      <td>50.480000</td>\n",
       "      <td>49.450001</td>\n",
       "      <td>50.419998</td>\n",
       "      <td>43.260532</td>\n",
       "      <td>46900</td>\n",
       "    </tr>\n",
       "    <tr>\n",
       "      <th>2010-08-26</th>\n",
       "      <td>50.590000</td>\n",
       "      <td>50.590000</td>\n",
       "      <td>49.880001</td>\n",
       "      <td>50.000000</td>\n",
       "      <td>42.900166</td>\n",
       "      <td>28200</td>\n",
       "    </tr>\n",
       "    <tr>\n",
       "      <th>2010-08-27</th>\n",
       "      <td>50.330002</td>\n",
       "      <td>50.599998</td>\n",
       "      <td>49.570000</td>\n",
       "      <td>50.560001</td>\n",
       "      <td>43.380657</td>\n",
       "      <td>40600</td>\n",
       "    </tr>\n",
       "  </tbody>\n",
       "</table>\n",
       "</div>"
      ],
      "text/plain": [
       "                 Open       High        Low      Close  Adj Close  Volume\n",
       "Date                                                                     \n",
       "2010-08-25  49.619999  50.480000  49.450001  50.419998  43.260532   46900\n",
       "2010-08-26  50.590000  50.590000  49.880001  50.000000  42.900166   28200\n",
       "2010-08-27  50.330002  50.599998  49.570000  50.560001  43.380657   40600"
      ]
     },
     "execution_count": 96,
     "metadata": {},
     "output_type": "execute_result"
    }
   ],
   "source": [
    "stock_df.head(3)"
   ]
  },
  {
   "cell_type": "code",
   "execution_count": 97,
   "metadata": {},
   "outputs": [
    {
     "data": {
      "text/html": [
       "<div>\n",
       "<style scoped>\n",
       "    .dataframe tbody tr th:only-of-type {\n",
       "        vertical-align: middle;\n",
       "    }\n",
       "\n",
       "    .dataframe tbody tr th {\n",
       "        vertical-align: top;\n",
       "    }\n",
       "\n",
       "    .dataframe thead th {\n",
       "        text-align: right;\n",
       "    }\n",
       "</style>\n",
       "<table border=\"1\" class=\"dataframe\">\n",
       "  <thead>\n",
       "    <tr style=\"text-align: right;\">\n",
       "      <th></th>\n",
       "      <th>Open</th>\n",
       "      <th>High</th>\n",
       "      <th>Low</th>\n",
       "      <th>Close</th>\n",
       "      <th>Adj Close</th>\n",
       "      <th>Volume</th>\n",
       "    </tr>\n",
       "    <tr>\n",
       "      <th>Date</th>\n",
       "      <th></th>\n",
       "      <th></th>\n",
       "      <th></th>\n",
       "      <th></th>\n",
       "      <th></th>\n",
       "      <th></th>\n",
       "    </tr>\n",
       "  </thead>\n",
       "  <tbody>\n",
       "    <tr>\n",
       "      <th>2020-08-21</th>\n",
       "      <td>204.660004</td>\n",
       "      <td>205.110001</td>\n",
       "      <td>203.500000</td>\n",
       "      <td>204.839996</td>\n",
       "      <td>204.839996</td>\n",
       "      <td>169700</td>\n",
       "    </tr>\n",
       "    <tr>\n",
       "      <th>2020-08-24</th>\n",
       "      <td>206.000000</td>\n",
       "      <td>206.009995</td>\n",
       "      <td>202.500000</td>\n",
       "      <td>203.649994</td>\n",
       "      <td>203.649994</td>\n",
       "      <td>141400</td>\n",
       "    </tr>\n",
       "    <tr>\n",
       "      <th>2020-08-25</th>\n",
       "      <td>204.339996</td>\n",
       "      <td>204.919998</td>\n",
       "      <td>203.559998</td>\n",
       "      <td>204.231201</td>\n",
       "      <td>204.231201</td>\n",
       "      <td>49037</td>\n",
       "    </tr>\n",
       "  </tbody>\n",
       "</table>\n",
       "</div>"
      ],
      "text/plain": [
       "                  Open        High         Low       Close   Adj Close  Volume\n",
       "Date                                                                          \n",
       "2020-08-21  204.660004  205.110001  203.500000  204.839996  204.839996  169700\n",
       "2020-08-24  206.000000  206.009995  202.500000  203.649994  203.649994  141400\n",
       "2020-08-25  204.339996  204.919998  203.559998  204.231201  204.231201   49037"
      ]
     },
     "execution_count": 97,
     "metadata": {},
     "output_type": "execute_result"
    }
   ],
   "source": [
    "stock_df.tail(3)"
   ]
  },
  {
   "cell_type": "markdown",
   "metadata": {},
   "source": [
    "## Create Percent Change"
   ]
  },
  {
   "cell_type": "code",
   "execution_count": 98,
   "metadata": {},
   "outputs": [
    {
     "data": {
      "text/html": [
       "<div>\n",
       "<style scoped>\n",
       "    .dataframe tbody tr th:only-of-type {\n",
       "        vertical-align: middle;\n",
       "    }\n",
       "\n",
       "    .dataframe tbody tr th {\n",
       "        vertical-align: top;\n",
       "    }\n",
       "\n",
       "    .dataframe thead th {\n",
       "        text-align: right;\n",
       "    }\n",
       "</style>\n",
       "<table border=\"1\" class=\"dataframe\">\n",
       "  <thead>\n",
       "    <tr style=\"text-align: right;\">\n",
       "      <th></th>\n",
       "      <th>Open</th>\n",
       "      <th>High</th>\n",
       "      <th>Low</th>\n",
       "      <th>Close</th>\n",
       "      <th>Adj Close</th>\n",
       "      <th>Volume</th>\n",
       "      <th>Percent Change</th>\n",
       "    </tr>\n",
       "    <tr>\n",
       "      <th>Date</th>\n",
       "      <th></th>\n",
       "      <th></th>\n",
       "      <th></th>\n",
       "      <th></th>\n",
       "      <th></th>\n",
       "      <th></th>\n",
       "      <th></th>\n",
       "    </tr>\n",
       "  </thead>\n",
       "  <tbody>\n",
       "    <tr>\n",
       "      <th>2010-08-25</th>\n",
       "      <td>49.619999</td>\n",
       "      <td>50.480000</td>\n",
       "      <td>49.450001</td>\n",
       "      <td>50.419998</td>\n",
       "      <td>43.260532</td>\n",
       "      <td>46900</td>\n",
       "      <td>0.016123</td>\n",
       "    </tr>\n",
       "    <tr>\n",
       "      <th>2010-08-26</th>\n",
       "      <td>50.590000</td>\n",
       "      <td>50.590000</td>\n",
       "      <td>49.880001</td>\n",
       "      <td>50.000000</td>\n",
       "      <td>42.900166</td>\n",
       "      <td>28200</td>\n",
       "      <td>-0.011662</td>\n",
       "    </tr>\n",
       "    <tr>\n",
       "      <th>2010-08-27</th>\n",
       "      <td>50.330002</td>\n",
       "      <td>50.599998</td>\n",
       "      <td>49.570000</td>\n",
       "      <td>50.560001</td>\n",
       "      <td>43.380657</td>\n",
       "      <td>40600</td>\n",
       "      <td>0.004570</td>\n",
       "    </tr>\n",
       "  </tbody>\n",
       "</table>\n",
       "</div>"
      ],
      "text/plain": [
       "                 Open       High        Low      Close  Adj Close  Volume  \\\n",
       "Date                                                                        \n",
       "2010-08-25  49.619999  50.480000  49.450001  50.419998  43.260532   46900   \n",
       "2010-08-26  50.590000  50.590000  49.880001  50.000000  42.900166   28200   \n",
       "2010-08-27  50.330002  50.599998  49.570000  50.560001  43.380657   40600   \n",
       "\n",
       "            Percent Change  \n",
       "Date                        \n",
       "2010-08-25        0.016123  \n",
       "2010-08-26       -0.011662  \n",
       "2010-08-27        0.004570  "
      ]
     },
     "execution_count": 98,
     "metadata": {},
     "output_type": "execute_result"
    }
   ],
   "source": [
    "stock_df['Percent Change'] = (stock_df.Close - stock_df.Open) / (stock_df.Open + 0.00001)\n",
    "stock_df.head(3)"
   ]
  },
  {
   "cell_type": "code",
   "execution_count": 99,
   "metadata": {},
   "outputs": [
    {
     "data": {
      "image/png": "[encoded data removed]",
      "text/plain": [
       "<Figure size 576x504 with 1 Axes>"
      ]
     },
     "metadata": {},
     "output_type": "display_data"
    }
   ],
   "source": [
    "stock_df['Percent Change'].hist(bins=25);"
   ]
  },
  {
   "cell_type": "code",
   "execution_count": 100,
   "metadata": {},
   "outputs": [
    {
     "data": {
      "text/plain": [
       "0.95    0.012417\n",
       "Name: Percent Change, dtype: float64"
      ]
     },
     "execution_count": 100,
     "metadata": {},
     "output_type": "execute_result"
    }
   ],
   "source": [
    "stock_df['Percent Change'].quantile([0.95]) # 1 stdev from avg"
   ]
  },
  {
   "cell_type": "markdown",
   "metadata": {},
   "source": [
    "## High Minus Low Percent Change"
   ]
  },
  {
   "cell_type": "code",
   "execution_count": 101,
   "metadata": {},
   "outputs": [
    {
     "data": {
      "text/html": [
       "<div>\n",
       "<style scoped>\n",
       "    .dataframe tbody tr th:only-of-type {\n",
       "        vertical-align: middle;\n",
       "    }\n",
       "\n",
       "    .dataframe tbody tr th {\n",
       "        vertical-align: top;\n",
       "    }\n",
       "\n",
       "    .dataframe thead th {\n",
       "        text-align: right;\n",
       "    }\n",
       "</style>\n",
       "<table border=\"1\" class=\"dataframe\">\n",
       "  <thead>\n",
       "    <tr style=\"text-align: right;\">\n",
       "      <th></th>\n",
       "      <th>Open</th>\n",
       "      <th>High</th>\n",
       "      <th>Low</th>\n",
       "      <th>Close</th>\n",
       "      <th>Adj Close</th>\n",
       "      <th>Volume</th>\n",
       "      <th>Percent Change</th>\n",
       "      <th>HL Percent Change</th>\n",
       "    </tr>\n",
       "    <tr>\n",
       "      <th>Date</th>\n",
       "      <th></th>\n",
       "      <th></th>\n",
       "      <th></th>\n",
       "      <th></th>\n",
       "      <th></th>\n",
       "      <th></th>\n",
       "      <th></th>\n",
       "      <th></th>\n",
       "    </tr>\n",
       "  </thead>\n",
       "  <tbody>\n",
       "    <tr>\n",
       "      <th>2010-08-25</th>\n",
       "      <td>49.619999</td>\n",
       "      <td>50.480000</td>\n",
       "      <td>49.450001</td>\n",
       "      <td>50.419998</td>\n",
       "      <td>43.260532</td>\n",
       "      <td>46900</td>\n",
       "      <td>0.016123</td>\n",
       "      <td>0.020829</td>\n",
       "    </tr>\n",
       "    <tr>\n",
       "      <th>2010-08-26</th>\n",
       "      <td>50.590000</td>\n",
       "      <td>50.590000</td>\n",
       "      <td>49.880001</td>\n",
       "      <td>50.000000</td>\n",
       "      <td>42.900166</td>\n",
       "      <td>28200</td>\n",
       "      <td>-0.011662</td>\n",
       "      <td>-0.014034</td>\n",
       "    </tr>\n",
       "    <tr>\n",
       "      <th>2010-08-27</th>\n",
       "      <td>50.330002</td>\n",
       "      <td>50.599998</td>\n",
       "      <td>49.570000</td>\n",
       "      <td>50.560001</td>\n",
       "      <td>43.380657</td>\n",
       "      <td>40600</td>\n",
       "      <td>0.004570</td>\n",
       "      <td>0.020779</td>\n",
       "    </tr>\n",
       "    <tr>\n",
       "      <th>2010-08-30</th>\n",
       "      <td>50.599998</td>\n",
       "      <td>50.599998</td>\n",
       "      <td>49.959999</td>\n",
       "      <td>49.959999</td>\n",
       "      <td>42.865852</td>\n",
       "      <td>86100</td>\n",
       "      <td>-0.012648</td>\n",
       "      <td>-0.012648</td>\n",
       "    </tr>\n",
       "    <tr>\n",
       "      <th>2010-08-31</th>\n",
       "      <td>49.610001</td>\n",
       "      <td>50.119999</td>\n",
       "      <td>49.570000</td>\n",
       "      <td>49.689999</td>\n",
       "      <td>42.634197</td>\n",
       "      <td>46300</td>\n",
       "      <td>0.001613</td>\n",
       "      <td>0.011095</td>\n",
       "    </tr>\n",
       "  </tbody>\n",
       "</table>\n",
       "</div>"
      ],
      "text/plain": [
       "                 Open       High        Low      Close  Adj Close  Volume  \\\n",
       "Date                                                                        \n",
       "2010-08-25  49.619999  50.480000  49.450001  50.419998  43.260532   46900   \n",
       "2010-08-26  50.590000  50.590000  49.880001  50.000000  42.900166   28200   \n",
       "2010-08-27  50.330002  50.599998  49.570000  50.560001  43.380657   40600   \n",
       "2010-08-30  50.599998  50.599998  49.959999  49.959999  42.865852   86100   \n",
       "2010-08-31  49.610001  50.119999  49.570000  49.689999  42.634197   46300   \n",
       "\n",
       "            Percent Change  HL Percent Change  \n",
       "Date                                           \n",
       "2010-08-25        0.016123           0.020829  \n",
       "2010-08-26       -0.011662          -0.014034  \n",
       "2010-08-27        0.004570           0.020779  \n",
       "2010-08-30       -0.012648          -0.012648  \n",
       "2010-08-31        0.001613           0.011095  "
      ]
     },
     "execution_count": 101,
     "metadata": {},
     "output_type": "execute_result"
    }
   ],
   "source": [
    "stock_df['HL Percent Change'] = np.where(stock_df['Percent Change'] > 0\n",
    "                                , (stock_df.High - stock_df.Low)/stock_df.Low\n",
    "                                , (stock_df.Low - stock_df.High)/stock_df.High\n",
    "                               )\n",
    "stock_df.head(5)"
   ]
  },
  {
   "cell_type": "markdown",
   "metadata": {},
   "source": [
    "## Assign Direction"
   ]
  },
  {
   "cell_type": "code",
   "execution_count": 102,
   "metadata": {},
   "outputs": [],
   "source": [
    "stock_df['Direction'] = np.where(stock_df['Percent Change'] > perc_inc\n",
    "                                 , 1\n",
    "                                 , 0\n",
    "                                )"
   ]
  },
  {
   "cell_type": "code",
   "execution_count": 103,
   "metadata": {},
   "outputs": [
    {
     "data": {
      "text/html": [
       "<div>\n",
       "<style scoped>\n",
       "    .dataframe tbody tr th:only-of-type {\n",
       "        vertical-align: middle;\n",
       "    }\n",
       "\n",
       "    .dataframe tbody tr th {\n",
       "        vertical-align: top;\n",
       "    }\n",
       "\n",
       "    .dataframe thead th {\n",
       "        text-align: right;\n",
       "    }\n",
       "</style>\n",
       "<table border=\"1\" class=\"dataframe\">\n",
       "  <thead>\n",
       "    <tr style=\"text-align: right;\">\n",
       "      <th></th>\n",
       "      <th>Open</th>\n",
       "      <th>High</th>\n",
       "      <th>Low</th>\n",
       "      <th>Close</th>\n",
       "      <th>Adj Close</th>\n",
       "      <th>Volume</th>\n",
       "      <th>Percent Change</th>\n",
       "      <th>HL Percent Change</th>\n",
       "      <th>Direction</th>\n",
       "    </tr>\n",
       "    <tr>\n",
       "      <th>Date</th>\n",
       "      <th></th>\n",
       "      <th></th>\n",
       "      <th></th>\n",
       "      <th></th>\n",
       "      <th></th>\n",
       "      <th></th>\n",
       "      <th></th>\n",
       "      <th></th>\n",
       "      <th></th>\n",
       "    </tr>\n",
       "  </thead>\n",
       "  <tbody>\n",
       "    <tr>\n",
       "      <th>2020-08-19</th>\n",
       "      <td>206.360001</td>\n",
       "      <td>206.899994</td>\n",
       "      <td>205.000000</td>\n",
       "      <td>205.529999</td>\n",
       "      <td>205.529999</td>\n",
       "      <td>144800</td>\n",
       "      <td>-0.004022</td>\n",
       "      <td>-0.009183</td>\n",
       "      <td>0</td>\n",
       "    </tr>\n",
       "    <tr>\n",
       "      <th>2020-08-20</th>\n",
       "      <td>204.750000</td>\n",
       "      <td>205.250000</td>\n",
       "      <td>204.419998</td>\n",
       "      <td>205.020004</td>\n",
       "      <td>205.020004</td>\n",
       "      <td>239000</td>\n",
       "      <td>0.001319</td>\n",
       "      <td>0.004060</td>\n",
       "      <td>0</td>\n",
       "    </tr>\n",
       "    <tr>\n",
       "      <th>2020-08-21</th>\n",
       "      <td>204.660004</td>\n",
       "      <td>205.110001</td>\n",
       "      <td>203.500000</td>\n",
       "      <td>204.839996</td>\n",
       "      <td>204.839996</td>\n",
       "      <td>169700</td>\n",
       "      <td>0.000879</td>\n",
       "      <td>0.007912</td>\n",
       "      <td>0</td>\n",
       "    </tr>\n",
       "    <tr>\n",
       "      <th>2020-08-24</th>\n",
       "      <td>206.000000</td>\n",
       "      <td>206.009995</td>\n",
       "      <td>202.500000</td>\n",
       "      <td>203.649994</td>\n",
       "      <td>203.649994</td>\n",
       "      <td>141400</td>\n",
       "      <td>-0.011408</td>\n",
       "      <td>-0.017038</td>\n",
       "      <td>0</td>\n",
       "    </tr>\n",
       "    <tr>\n",
       "      <th>2020-08-25</th>\n",
       "      <td>204.339996</td>\n",
       "      <td>204.919998</td>\n",
       "      <td>203.559998</td>\n",
       "      <td>204.231201</td>\n",
       "      <td>204.231201</td>\n",
       "      <td>49037</td>\n",
       "      <td>-0.000532</td>\n",
       "      <td>-0.006637</td>\n",
       "      <td>0</td>\n",
       "    </tr>\n",
       "  </tbody>\n",
       "</table>\n",
       "</div>"
      ],
      "text/plain": [
       "                  Open        High         Low       Close   Adj Close  \\\n",
       "Date                                                                     \n",
       "2020-08-19  206.360001  206.899994  205.000000  205.529999  205.529999   \n",
       "2020-08-20  204.750000  205.250000  204.419998  205.020004  205.020004   \n",
       "2020-08-21  204.660004  205.110001  203.500000  204.839996  204.839996   \n",
       "2020-08-24  206.000000  206.009995  202.500000  203.649994  203.649994   \n",
       "2020-08-25  204.339996  204.919998  203.559998  204.231201  204.231201   \n",
       "\n",
       "            Volume  Percent Change  HL Percent Change  Direction  \n",
       "Date                                                              \n",
       "2020-08-19  144800       -0.004022          -0.009183          0  \n",
       "2020-08-20  239000        0.001319           0.004060          0  \n",
       "2020-08-21  169700        0.000879           0.007912          0  \n",
       "2020-08-24  141400       -0.011408          -0.017038          0  \n",
       "2020-08-25   49037       -0.000532          -0.006637          0  "
      ]
     },
     "execution_count": 103,
     "metadata": {},
     "output_type": "execute_result"
    }
   ],
   "source": [
    "stock_df.tail(5)"
   ]
  },
  {
   "cell_type": "markdown",
   "metadata": {},
   "source": [
    "## Shift Direction Column Up 1"
   ]
  },
  {
   "cell_type": "markdown",
   "metadata": {},
   "source": [
    "Move decision column up by 1 cell so current hour of data will predict the next hour of data or whichever time frame interval is observed"
   ]
  },
  {
   "cell_type": "code",
   "execution_count": 104,
   "metadata": {},
   "outputs": [
    {
     "name": "stdout",
     "output_type": "stream",
     "text": [
      "Length Before: 2518\n",
      "Length After: 2517\n"
     ]
    }
   ],
   "source": [
    "direction = stock_df.Direction.values\n",
    "print(f'Length Before: {len(direction)}')\n",
    "direction = direction[1:len(direction)]\n",
    "print(f'Length After: {len(direction)}')"
   ]
  },
  {
   "cell_type": "code",
   "execution_count": 105,
   "metadata": {},
   "outputs": [
    {
     "data": {
      "text/plain": [
       "(2517, 9)"
      ]
     },
     "execution_count": 105,
     "metadata": {},
     "output_type": "execute_result"
    }
   ],
   "source": [
    "stock_df_one_off = stock_df.iloc[0:stock_df.shape[0]-1]\n",
    "stock_df_one_off['Direction'] = direction\n",
    "stock_df_one_off.shape"
   ]
  },
  {
   "cell_type": "code",
   "execution_count": 106,
   "metadata": {
    "scrolled": true
   },
   "outputs": [
    {
     "data": {
      "text/html": [
       "<div>\n",
       "<style scoped>\n",
       "    .dataframe tbody tr th:only-of-type {\n",
       "        vertical-align: middle;\n",
       "    }\n",
       "\n",
       "    .dataframe tbody tr th {\n",
       "        vertical-align: top;\n",
       "    }\n",
       "\n",
       "    .dataframe thead th {\n",
       "        text-align: right;\n",
       "    }\n",
       "</style>\n",
       "<table border=\"1\" class=\"dataframe\">\n",
       "  <thead>\n",
       "    <tr style=\"text-align: right;\">\n",
       "      <th></th>\n",
       "      <th>Open</th>\n",
       "      <th>High</th>\n",
       "      <th>Low</th>\n",
       "      <th>Close</th>\n",
       "      <th>Adj Close</th>\n",
       "      <th>Volume</th>\n",
       "      <th>Percent Change</th>\n",
       "      <th>HL Percent Change</th>\n",
       "      <th>Direction</th>\n",
       "    </tr>\n",
       "    <tr>\n",
       "      <th>Date</th>\n",
       "      <th></th>\n",
       "      <th></th>\n",
       "      <th></th>\n",
       "      <th></th>\n",
       "      <th></th>\n",
       "      <th></th>\n",
       "      <th></th>\n",
       "      <th></th>\n",
       "      <th></th>\n",
       "    </tr>\n",
       "  </thead>\n",
       "  <tbody>\n",
       "    <tr>\n",
       "      <th>2020-08-18</th>\n",
       "      <td>206.850006</td>\n",
       "      <td>207.250000</td>\n",
       "      <td>205.050003</td>\n",
       "      <td>206.399994</td>\n",
       "      <td>206.399994</td>\n",
       "      <td>166000</td>\n",
       "      <td>-0.002176</td>\n",
       "      <td>-0.010615</td>\n",
       "      <td>0</td>\n",
       "    </tr>\n",
       "    <tr>\n",
       "      <th>2020-08-19</th>\n",
       "      <td>206.360001</td>\n",
       "      <td>206.899994</td>\n",
       "      <td>205.000000</td>\n",
       "      <td>205.529999</td>\n",
       "      <td>205.529999</td>\n",
       "      <td>144800</td>\n",
       "      <td>-0.004022</td>\n",
       "      <td>-0.009183</td>\n",
       "      <td>0</td>\n",
       "    </tr>\n",
       "    <tr>\n",
       "      <th>2020-08-20</th>\n",
       "      <td>204.750000</td>\n",
       "      <td>205.250000</td>\n",
       "      <td>204.419998</td>\n",
       "      <td>205.020004</td>\n",
       "      <td>205.020004</td>\n",
       "      <td>239000</td>\n",
       "      <td>0.001319</td>\n",
       "      <td>0.004060</td>\n",
       "      <td>0</td>\n",
       "    </tr>\n",
       "    <tr>\n",
       "      <th>2020-08-21</th>\n",
       "      <td>204.660004</td>\n",
       "      <td>205.110001</td>\n",
       "      <td>203.500000</td>\n",
       "      <td>204.839996</td>\n",
       "      <td>204.839996</td>\n",
       "      <td>169700</td>\n",
       "      <td>0.000879</td>\n",
       "      <td>0.007912</td>\n",
       "      <td>0</td>\n",
       "    </tr>\n",
       "    <tr>\n",
       "      <th>2020-08-24</th>\n",
       "      <td>206.000000</td>\n",
       "      <td>206.009995</td>\n",
       "      <td>202.500000</td>\n",
       "      <td>203.649994</td>\n",
       "      <td>203.649994</td>\n",
       "      <td>141400</td>\n",
       "      <td>-0.011408</td>\n",
       "      <td>-0.017038</td>\n",
       "      <td>0</td>\n",
       "    </tr>\n",
       "  </tbody>\n",
       "</table>\n",
       "</div>"
      ],
      "text/plain": [
       "                  Open        High         Low       Close   Adj Close  \\\n",
       "Date                                                                     \n",
       "2020-08-18  206.850006  207.250000  205.050003  206.399994  206.399994   \n",
       "2020-08-19  206.360001  206.899994  205.000000  205.529999  205.529999   \n",
       "2020-08-20  204.750000  205.250000  204.419998  205.020004  205.020004   \n",
       "2020-08-21  204.660004  205.110001  203.500000  204.839996  204.839996   \n",
       "2020-08-24  206.000000  206.009995  202.500000  203.649994  203.649994   \n",
       "\n",
       "            Volume  Percent Change  HL Percent Change  Direction  \n",
       "Date                                                              \n",
       "2020-08-18  166000       -0.002176          -0.010615          0  \n",
       "2020-08-19  144800       -0.004022          -0.009183          0  \n",
       "2020-08-20  239000        0.001319           0.004060          0  \n",
       "2020-08-21  169700        0.000879           0.007912          0  \n",
       "2020-08-24  141400       -0.011408          -0.017038          0  "
      ]
     },
     "execution_count": 106,
     "metadata": {},
     "output_type": "execute_result"
    }
   ],
   "source": [
    "stock_df_one_off.tail(5)"
   ]
  },
  {
   "cell_type": "code",
   "execution_count": 107,
   "metadata": {},
   "outputs": [
    {
     "data": {
      "text/plain": [
       "0    2391\n",
       "1     126\n",
       "Name: Direction, dtype: int64"
      ]
     },
     "execution_count": 107,
     "metadata": {},
     "output_type": "execute_result"
    }
   ],
   "source": [
    "stock_df_one_off.Direction.value_counts()"
   ]
  },
  {
   "cell_type": "markdown",
   "metadata": {},
   "source": [
    "## Balance 1's and 0's"
   ]
  },
  {
   "cell_type": "code",
   "execution_count": 108,
   "metadata": {},
   "outputs": [
    {
     "data": {
      "text/plain": [
       "126"
      ]
     },
     "execution_count": 108,
     "metadata": {},
     "output_type": "execute_result"
    }
   ],
   "source": [
    "ones_count = stock_df_one_off['Direction'].value_counts()[1]\n",
    "ones_count"
   ]
  },
  {
   "cell_type": "code",
   "execution_count": 109,
   "metadata": {},
   "outputs": [
    {
     "data": {
      "text/plain": [
       "(252, 9)"
      ]
     },
     "execution_count": 109,
     "metadata": {},
     "output_type": "execute_result"
    }
   ],
   "source": [
    "stock_df_bal = stock_df_one_off.groupby('Direction').apply(lambda x: x.sample(n=ones_count)).reset_index(drop=True)\n",
    "stock_df_bal.shape"
   ]
  },
  {
   "cell_type": "code",
   "execution_count": 110,
   "metadata": {},
   "outputs": [
    {
     "data": {
      "text/plain": [
       "1    126\n",
       "0    126\n",
       "Name: Direction, dtype: int64"
      ]
     },
     "execution_count": 110,
     "metadata": {},
     "output_type": "execute_result"
    }
   ],
   "source": [
    "stock_df_bal['Direction'].value_counts() # try bootstrapping and upsampling "
   ]
  },
  {
   "cell_type": "markdown",
   "metadata": {},
   "source": [
    "## Check for NaN's"
   ]
  },
  {
   "cell_type": "code",
   "execution_count": 111,
   "metadata": {},
   "outputs": [
    {
     "data": {
      "text/plain": [
       "Open                 0\n",
       "High                 0\n",
       "Low                  0\n",
       "Close                0\n",
       "Adj Close            0\n",
       "Volume               0\n",
       "Percent Change       0\n",
       "HL Percent Change    0\n",
       "Direction            0\n",
       "dtype: int64"
      ]
     },
     "execution_count": 111,
     "metadata": {},
     "output_type": "execute_result"
    }
   ],
   "source": [
    "stock_df_bal.isna().sum()"
   ]
  },
  {
   "cell_type": "code",
   "execution_count": 112,
   "metadata": {},
   "outputs": [],
   "source": [
    "stock_df_bal.dropna(axis=0, inplace=True)"
   ]
  },
  {
   "cell_type": "code",
   "execution_count": 113,
   "metadata": {},
   "outputs": [
    {
     "data": {
      "text/plain": [
       "Open                 0\n",
       "High                 0\n",
       "Low                  0\n",
       "Close                0\n",
       "Adj Close            0\n",
       "Volume               0\n",
       "Percent Change       0\n",
       "HL Percent Change    0\n",
       "Direction            0\n",
       "dtype: int64"
      ]
     },
     "execution_count": 113,
     "metadata": {},
     "output_type": "execute_result"
    }
   ],
   "source": [
    "stock_df_bal.isna().sum()"
   ]
  },
  {
   "cell_type": "markdown",
   "metadata": {},
   "source": [
    "## Train Test Split"
   ]
  },
  {
   "cell_type": "code",
   "execution_count": 114,
   "metadata": {},
   "outputs": [],
   "source": [
    "X = stock_df_bal.drop(columns=['Direction'])\n",
    "y = stock_df_bal['Direction']"
   ]
  },
  {
   "cell_type": "code",
   "execution_count": 115,
   "metadata": {},
   "outputs": [],
   "source": [
    "X_train, X_test, y_train, y_test = train_test_split(X\n",
    "                                                    , y\n",
    "                                                    , test_size=0.2\n",
    "                                                    , random_state = 42\n",
    "                                                   )"
   ]
  },
  {
   "cell_type": "markdown",
   "metadata": {},
   "source": [
    "## Grid Search"
   ]
  },
  {
   "cell_type": "code",
   "execution_count": 116,
   "metadata": {
    "scrolled": true
   },
   "outputs": [
    {
     "name": "stdout",
     "output_type": "stream",
     "text": [
      "Fitting 7 folds for each of 12600 candidates, totalling 88200 fits\n"
     ]
    },
    {
     "name": "stderr",
     "output_type": "stream",
     "text": [
      "[Parallel(n_jobs=-1)]: Using backend LokyBackend with 8 concurrent workers.\n",
      "[Parallel(n_jobs=-1)]: Done  52 tasks      | elapsed:    0.9s\n",
      "[Parallel(n_jobs=-1)]: Done 352 tasks      | elapsed:    6.0s\n",
      "[Parallel(n_jobs=-1)]: Done 852 tasks      | elapsed:   14.8s\n",
      "[Parallel(n_jobs=-1)]: Done 1552 tasks      | elapsed:   27.6s\n",
      "[Parallel(n_jobs=-1)]: Done 2452 tasks      | elapsed:   44.6s\n",
      "[Parallel(n_jobs=-1)]: Done 3552 tasks      | elapsed:  1.1min\n",
      "[Parallel(n_jobs=-1)]: Done 4852 tasks      | elapsed:  1.5min\n",
      "[Parallel(n_jobs=-1)]: Done 6352 tasks      | elapsed:  2.0min\n",
      "[Parallel(n_jobs=-1)]: Done 8052 tasks      | elapsed:  2.5min\n",
      "[Parallel(n_jobs=-1)]: Done 9952 tasks      | elapsed:  3.2min\n",
      "[Parallel(n_jobs=-1)]: Done 12052 tasks      | elapsed:  3.8min\n",
      "[Parallel(n_jobs=-1)]: Done 14352 tasks      | elapsed:  4.6min\n",
      "[Parallel(n_jobs=-1)]: Done 16852 tasks      | elapsed:  5.5min\n",
      "[Parallel(n_jobs=-1)]: Done 19552 tasks      | elapsed:  6.3min\n",
      "[Parallel(n_jobs=-1)]: Done 22452 tasks      | elapsed:  7.3min\n",
      "[Parallel(n_jobs=-1)]: Done 25552 tasks      | elapsed:  8.3min\n",
      "[Parallel(n_jobs=-1)]: Done 28852 tasks      | elapsed:  9.4min\n",
      "[Parallel(n_jobs=-1)]: Done 32352 tasks      | elapsed: 10.5min\n",
      "[Parallel(n_jobs=-1)]: Done 36052 tasks      | elapsed: 11.8min\n",
      "[Parallel(n_jobs=-1)]: Done 39952 tasks      | elapsed: 13.0min\n",
      "[Parallel(n_jobs=-1)]: Done 44052 tasks      | elapsed: 14.4min\n",
      "[Parallel(n_jobs=-1)]: Done 48352 tasks      | elapsed: 15.3min\n",
      "[Parallel(n_jobs=-1)]: Done 52852 tasks      | elapsed: 16.3min\n",
      "[Parallel(n_jobs=-1)]: Done 57552 tasks      | elapsed: 17.4min\n",
      "[Parallel(n_jobs=-1)]: Done 62452 tasks      | elapsed: 18.5min\n",
      "[Parallel(n_jobs=-1)]: Done 67552 tasks      | elapsed: 19.8min\n",
      "[Parallel(n_jobs=-1)]: Done 72852 tasks      | elapsed: 21.1min\n",
      "[Parallel(n_jobs=-1)]: Done 78352 tasks      | elapsed: 22.4min\n",
      "[Parallel(n_jobs=-1)]: Done 84052 tasks      | elapsed: 23.8min\n",
      "[Parallel(n_jobs=-1)]: Done 88200 out of 88200 | elapsed: 24.9min finished\n"
     ]
    },
    {
     "data": {
      "text/plain": [
       "GridSearchCV(cv=7, estimator=RandomForestClassifier(), n_jobs=-1,\n",
       "             param_grid={'bootstrap': [True, False],\n",
       "                         'max_depth': [1, 2, 3, 4, 5, 6],\n",
       "                         'max_features': [1, 2, 3, 4, 5, 6],\n",
       "                         'min_samples_leaf': [1, 2, 3, 4, 5],\n",
       "                         'min_samples_split': [2, 3, 4, 5, 6],\n",
       "                         'n_estimators': [5, 25, 45, 65, 85, 105, 125]},\n",
       "             verbose=1)"
      ]
     },
     "execution_count": 116,
     "metadata": {},
     "output_type": "execute_result"
    }
   ],
   "source": [
    "grid1={'bootstrap': [True, False]\n",
    "       , 'n_estimators': [5, 25, 45, 65, 85, 105, 125]\n",
    "       , 'max_depth': [1, 2, 3, 4, 5, 6]\n",
    "       , 'max_features': [1, 2, 3, 4, 5, 6]\n",
    "       , 'min_samples_leaf': [1, 2, 3, 4, 5]\n",
    "       , 'min_samples_split': [2, 3, 4, 5, 6]\n",
    "      }\n",
    "\n",
    "rf_grid_search1 = GridSearchCV(estimator = RandomForestClassifier()\n",
    "                               , param_grid = grid1\n",
    "                               , cv = 7\n",
    "                               , n_jobs = -1\n",
    "                               , verbose = 1\n",
    "                              )\n",
    "\n",
    "rf_grid_search1.fit(X_train, y_train)"
   ]
  },
  {
   "cell_type": "code",
   "execution_count": 117,
   "metadata": {},
   "outputs": [
    {
     "data": {
      "text/plain": [
       "{'bootstrap': True,\n",
       " 'max_depth': 5,\n",
       " 'max_features': 6,\n",
       " 'min_samples_leaf': 3,\n",
       " 'min_samples_split': 4,\n",
       " 'n_estimators': 25}"
      ]
     },
     "execution_count": 117,
     "metadata": {},
     "output_type": "execute_result"
    }
   ],
   "source": [
    "rf_grid_search1.best_params_"
   ]
  },
  {
   "cell_type": "markdown",
   "metadata": {},
   "source": [
    "## Save Best Parameters"
   ]
  },
  {
   "cell_type": "code",
   "execution_count": 118,
   "metadata": {},
   "outputs": [
    {
     "data": {
      "text/plain": [
       "['rfc_1d_VHT.pkl']"
      ]
     },
     "execution_count": 118,
     "metadata": {},
     "output_type": "execute_result"
    }
   ],
   "source": [
    "joblib.dump(rf_grid_search1.best_params_\n",
    "            , 'rfc_1d_VHT.pkl' # 1d or 1hr change ***\n",
    "            , compress = 1\n",
    "           )"
   ]
  },
  {
   "cell_type": "markdown",
   "metadata": {},
   "source": [
    "## Load Best parameters"
   ]
  },
  {
   "cell_type": "code",
   "execution_count": null,
   "metadata": {},
   "outputs": [],
   "source": [
    "rfc = RandomForestClassifier(random_state = 42\n",
    "                             , n_jobs = -1\n",
    "                             , verbose = 1\n",
    "                            ).set_params(**joblib.load('rfc_1hr_JEF.pkl')) # 1d or 1hr change ***"
   ]
  },
  {
   "cell_type": "code",
   "execution_count": null,
   "metadata": {},
   "outputs": [],
   "source": []
  },
  {
   "cell_type": "markdown",
   "metadata": {},
   "source": [
    "## Random Forest Classifier"
   ]
  },
  {
   "cell_type": "code",
   "execution_count": null,
   "metadata": {},
   "outputs": [],
   "source": [
    "# rfc loaded from above\n",
    "# rfc = RandomForestClassifier(bootstrap = True\n",
    "#                              , n_estimators = 5 # how many trees, optimize using grid search   \n",
    "#                              , random_state = 42\n",
    "#                              , verbose = 1\n",
    "#                              , n_jobs = -1 # uses all your processer cores\n",
    "#                              , max_depth = 6 # height of tree\n",
    "#                              , max_features = 3 # random sampling of features\n",
    "#                              , min_samples_leaf = 2\n",
    "#                              , min_samples_split = 2\n",
    "#                              # need to tune n_estimators, n max_depth, max_features\n",
    "#                             )"
   ]
  },
  {
   "cell_type": "code",
   "execution_count": null,
   "metadata": {},
   "outputs": [],
   "source": [
    "rfc.fit(X_train, y_train)\n",
    "\n",
    "y_pred = rfc.predict(X_test)\n",
    "\n",
    "y_probs = rfc.predict_proba(X_test)[:, 1]"
   ]
  },
  {
   "cell_type": "markdown",
   "metadata": {},
   "source": [
    "## Cross Val Score"
   ]
  },
  {
   "cell_type": "code",
   "execution_count": null,
   "metadata": {},
   "outputs": [],
   "source": [
    "cval = cross_val_score(rfc\n",
    "                       , X_train\n",
    "                       , y_train\n",
    "                       , scoring='accuracy'\n",
    "                       , cv=7\n",
    "                      )\n",
    "\n",
    "print(f'Cross-Validation Score: {np.mean(cval)}')"
   ]
  },
  {
   "cell_type": "markdown",
   "metadata": {},
   "source": [
    "## Receiver Operating Characteristic (ROC) Curve"
   ]
  },
  {
   "cell_type": "code",
   "execution_count": null,
   "metadata": {},
   "outputs": [],
   "source": [
    "roc_score = roc_auc_score(y_test\n",
    "                          , y_probs\n",
    "                         )\n",
    "roc_score"
   ]
  },
  {
   "cell_type": "code",
   "execution_count": null,
   "metadata": {},
   "outputs": [],
   "source": [
    "plt.rcParams['font.size'] = 16\n",
    "plt.figure(figsize=(10,7))\n",
    "\n",
    "# No Skill Line Data\n",
    "base_fpr, base_tpr, _ = roc_curve(y_test\n",
    "                                  , [1 for _ in range(len(y_test))]\n",
    "                                 ) \n",
    "\n",
    "# Model Data\n",
    "model_fpr, model_tpr, _ = roc_curve(y_test\n",
    "                                    , y_probs\n",
    "                                   )\n",
    "\n",
    "plt.plot(base_fpr\n",
    "         , base_tpr\n",
    "         , 'b'\n",
    "         , label='No Skill'\n",
    "        )\n",
    "\n",
    "plt.plot(model_fpr\n",
    "         , model_tpr\n",
    "         , 'r'\n",
    "         , label='RFC Model'\n",
    "        )\n",
    "\n",
    "plt.xlabel('False Positive Rate')\n",
    "plt.ylabel('True Positive Rate')\n",
    "plt.title(f'{symbol} ROC Curve, Accuracy: {round(roc_score, 3)}')\n",
    "plt.legend();"
   ]
  },
  {
   "cell_type": "markdown",
   "metadata": {},
   "source": [
    "## Precision Recall Curve"
   ]
  },
  {
   "cell_type": "code",
   "execution_count": null,
   "metadata": {},
   "outputs": [],
   "source": [
    "# Precision Recall Data\n",
    "rf_prec, rf_recall, _ = precision_recall_curve(y_test\n",
    "                                             , y_probs\n",
    "                                            )\n",
    "\n",
    "auc_score = auc(rf_recall, rf_prec)\n",
    "auc_score"
   ]
  },
  {
   "cell_type": "code",
   "execution_count": null,
   "metadata": {},
   "outputs": [],
   "source": [
    "plt.rcParams['font.size'] = 16\n",
    "plt.rcParams['figure.figsize'] = (10, 8)\n",
    "\n",
    "\n",
    "\n",
    "# No Skill Line\n",
    "plt.plot([0, 0]\n",
    "         , linestyle = '--'\n",
    "         , color = 'b'\n",
    "         , label = 'No Skill'\n",
    "        )\n",
    "\n",
    "# PR Line\n",
    "plt.plot(rf_recall\n",
    "         , rf_prec\n",
    "         , color = 'r'\n",
    "         , label = 'Random Forest'\n",
    "        )\n",
    "\n",
    "plt.xlabel('Recall')\n",
    "plt.ylabel('Precision')\n",
    "plt.title(f'{symbol} Precision-Recall Curve, Accuracy: {round(auc_score, 3)}')\n",
    "plt.legend();"
   ]
  },
  {
   "cell_type": "markdown",
   "metadata": {},
   "source": [
    "## Confusion Matrix"
   ]
  },
  {
   "cell_type": "code",
   "execution_count": null,
   "metadata": {
    "scrolled": false
   },
   "outputs": [],
   "source": [
    "plt.rcParams['figure.figsize'] = (5, 4)\n",
    "plt.rcParams['font.size'] = 16\n",
    "disp = plot_confusion_matrix(rfc\n",
    "                             , X_test\n",
    "                             , y_test\n",
    "                             , cmap = plt.cm.Blues\n",
    "                             , normalize = 'true'\n",
    "                            )\n",
    "disp.ax_.grid(False)\n",
    "disp.ax_.set_title(f'{symbol} Direction Confusion Matrix');"
   ]
  },
  {
   "cell_type": "markdown",
   "metadata": {},
   "source": [
    "## Feature Importances"
   ]
  },
  {
   "cell_type": "code",
   "execution_count": null,
   "metadata": {},
   "outputs": [],
   "source": [
    "features_df = pd.DataFrame({'Feature': X_train.columns\n",
    "                            , 'Importances': rfc.feature_importances_\n",
    "                           }).sort_values('Importances'\n",
    "                                          , ascending=False\n",
    "                                         )\n",
    "features_df"
   ]
  },
  {
   "cell_type": "markdown",
   "metadata": {},
   "source": [
    "## Make A Prediction"
   ]
  },
  {
   "cell_type": "code",
   "execution_count": null,
   "metadata": {},
   "outputs": [],
   "source": [
    "stock_df.tail(3)"
   ]
  },
  {
   "cell_type": "code",
   "execution_count": null,
   "metadata": {},
   "outputs": [],
   "source": [
    "last = stock_df.drop(columns=['Direction']).iloc[-1]\n",
    "last"
   ]
  },
  {
   "cell_type": "code",
   "execution_count": null,
   "metadata": {},
   "outputs": [],
   "source": [
    "if rfc.predict(np.array(last).reshape(1, -1))[0] == 1:\n",
    "    print(f'Buy {symbol} on the {interval} for {round(perc_inc * 100, 1)}% increase.')\n",
    "else:\n",
    "    print(f'Sell or hold {symbol} on the {interval} interval for expected {round(perc_inc * 100, 1)}% increase.')"
   ]
  },
  {
   "cell_type": "markdown",
   "metadata": {},
   "source": [
    "Try Gradient Boosting: n_estimators, n_splits, n_depths, learning rate, etc..."
   ]
  },
  {
   "cell_type": "markdown",
   "metadata": {},
   "source": [
    "### Make A Function"
   ]
  },
  {
   "cell_type": "code",
   "execution_count": null,
   "metadata": {},
   "outputs": [],
   "source": []
  }
 ],
 "metadata": {
  "kernelspec": {
   "display_name": "Python 3",
   "language": "python",
   "name": "python3"
  },
  "language_info": {
   "codemirror_mode": {
    "name": "ipython",
    "version": 3
   },
   "file_extension": ".py",
   "mimetype": "text/x-python",
   "name": "python",
   "nbconvert_exporter": "python",
   "pygments_lexer": "ipython3",
   "version": "3.8.2"
  }
 },
 "nbformat": 4,
 "nbformat_minor": 4
}
