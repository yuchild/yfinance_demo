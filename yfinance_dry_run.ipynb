{
 "cells": [
  {
   "cell_type": "markdown",
   "metadata": {},
   "source": [
    "## Imports"
   ]
  },
  {
   "cell_type": "code",
   "execution_count": 1,
   "metadata": {},
   "outputs": [],
   "source": [
    "import pandas as pd\n",
    "import numpy as np\n",
    "\n",
    "import matplotlib.pyplot as plt\n",
    "plt.rcParams['font.size'] = 12\n",
    "plt.rcParams['figure.figsize'] = (8, 7)\n",
    "plt.style.use('fivethirtyeight')\n",
    "\n",
    "import warnings\n",
    "warnings.filterwarnings('ignore')\n",
    "\n",
    "import yfinance as yf\n",
    "\n",
    "from sklearn.model_selection import train_test_split, GridSearchCV, cross_val_score\n",
    "from sklearn.ensemble import RandomForestClassifier\n",
    "from sklearn.metrics import (roc_auc_score\n",
    "                             , precision_score\n",
    "                             , recall_score\n",
    "                             , roc_curve\n",
    "                             , confusion_matrix\n",
    "                             , plot_confusion_matrix\n",
    "                             , precision_recall_curve\n",
    "                             , auc\n",
    "                            )\n",
    "from sklearn.externals import joblib"
   ]
  },
  {
   "cell_type": "markdown",
   "metadata": {},
   "source": [
    "## Global Variables"
   ]
  },
  {
   "cell_type": "code",
   "execution_count": 2,
   "metadata": {},
   "outputs": [],
   "source": [
    "interval = '1d' # time interval for data point\n",
    "history = '10y' # time period for total history\n",
    "perc_inc = 0.02 # 2% increase or more from interval to interval\n",
    "symbol = 'IYW' # tech etf"
   ]
  },
  {
   "cell_type": "markdown",
   "metadata": {},
   "source": [
    "## Yahoo Finance"
   ]
  },
  {
   "cell_type": "code",
   "execution_count": 3,
   "metadata": {},
   "outputs": [
    {
     "name": "stdout",
     "output_type": "stream",
     "text": [
      "[*********************100%***********************]  1 of 1 completed\n"
     ]
    }
   ],
   "source": [
    "stock_df = yf.download(tickers = symbol\n",
    "                       , interval = interval\n",
    "                       , period = history\n",
    "                       , prepost = False\n",
    "                      )"
   ]
  },
  {
   "cell_type": "code",
   "execution_count": 4,
   "metadata": {},
   "outputs": [
    {
     "data": {
      "text/html": [
       "<div>\n",
       "<style scoped>\n",
       "    .dataframe tbody tr th:only-of-type {\n",
       "        vertical-align: middle;\n",
       "    }\n",
       "\n",
       "    .dataframe tbody tr th {\n",
       "        vertical-align: top;\n",
       "    }\n",
       "\n",
       "    .dataframe thead th {\n",
       "        text-align: right;\n",
       "    }\n",
       "</style>\n",
       "<table border=\"1\" class=\"dataframe\">\n",
       "  <thead>\n",
       "    <tr style=\"text-align: right;\">\n",
       "      <th></th>\n",
       "      <th>Open</th>\n",
       "      <th>High</th>\n",
       "      <th>Low</th>\n",
       "      <th>Close</th>\n",
       "      <th>Adj Close</th>\n",
       "      <th>Volume</th>\n",
       "    </tr>\n",
       "    <tr>\n",
       "      <th>Date</th>\n",
       "      <th></th>\n",
       "      <th></th>\n",
       "      <th></th>\n",
       "      <th></th>\n",
       "      <th></th>\n",
       "      <th></th>\n",
       "    </tr>\n",
       "  </thead>\n",
       "  <tbody>\n",
       "    <tr>\n",
       "      <th>2010-06-28</th>\n",
       "      <td>54.500000</td>\n",
       "      <td>54.889999</td>\n",
       "      <td>54.150002</td>\n",
       "      <td>54.520000</td>\n",
       "      <td>49.537273</td>\n",
       "      <td>116400</td>\n",
       "    </tr>\n",
       "    <tr>\n",
       "      <th>2010-06-29</th>\n",
       "      <td>53.619999</td>\n",
       "      <td>53.689999</td>\n",
       "      <td>52.049999</td>\n",
       "      <td>52.450001</td>\n",
       "      <td>47.656467</td>\n",
       "      <td>302700</td>\n",
       "    </tr>\n",
       "    <tr>\n",
       "      <th>2010-06-30</th>\n",
       "      <td>52.330002</td>\n",
       "      <td>52.660000</td>\n",
       "      <td>51.410000</td>\n",
       "      <td>51.599998</td>\n",
       "      <td>46.884140</td>\n",
       "      <td>471900</td>\n",
       "    </tr>\n",
       "  </tbody>\n",
       "</table>\n",
       "</div>"
      ],
      "text/plain": [
       "                 Open       High        Low      Close  Adj Close  Volume\n",
       "Date                                                                     \n",
       "2010-06-28  54.500000  54.889999  54.150002  54.520000  49.537273  116400\n",
       "2010-06-29  53.619999  53.689999  52.049999  52.450001  47.656467  302700\n",
       "2010-06-30  52.330002  52.660000  51.410000  51.599998  46.884140  471900"
      ]
     },
     "execution_count": 4,
     "metadata": {},
     "output_type": "execute_result"
    }
   ],
   "source": [
    "stock_df.head(3)"
   ]
  },
  {
   "cell_type": "code",
   "execution_count": 5,
   "metadata": {},
   "outputs": [
    {
     "data": {
      "text/html": [
       "<div>\n",
       "<style scoped>\n",
       "    .dataframe tbody tr th:only-of-type {\n",
       "        vertical-align: middle;\n",
       "    }\n",
       "\n",
       "    .dataframe tbody tr th {\n",
       "        vertical-align: top;\n",
       "    }\n",
       "\n",
       "    .dataframe thead th {\n",
       "        text-align: right;\n",
       "    }\n",
       "</style>\n",
       "<table border=\"1\" class=\"dataframe\">\n",
       "  <thead>\n",
       "    <tr style=\"text-align: right;\">\n",
       "      <th></th>\n",
       "      <th>Open</th>\n",
       "      <th>High</th>\n",
       "      <th>Low</th>\n",
       "      <th>Close</th>\n",
       "      <th>Adj Close</th>\n",
       "      <th>Volume</th>\n",
       "    </tr>\n",
       "    <tr>\n",
       "      <th>Date</th>\n",
       "      <th></th>\n",
       "      <th></th>\n",
       "      <th></th>\n",
       "      <th></th>\n",
       "      <th></th>\n",
       "      <th></th>\n",
       "    </tr>\n",
       "  </thead>\n",
       "  <tbody>\n",
       "    <tr>\n",
       "      <th>2020-06-24</th>\n",
       "      <td>269.500000</td>\n",
       "      <td>271.070007</td>\n",
       "      <td>263.429993</td>\n",
       "      <td>264.809998</td>\n",
       "      <td>264.809998</td>\n",
       "      <td>228900</td>\n",
       "    </tr>\n",
       "    <tr>\n",
       "      <th>2020-06-25</th>\n",
       "      <td>264.619995</td>\n",
       "      <td>267.750000</td>\n",
       "      <td>262.100006</td>\n",
       "      <td>267.630005</td>\n",
       "      <td>267.630005</td>\n",
       "      <td>67400</td>\n",
       "    </tr>\n",
       "    <tr>\n",
       "      <th>2020-06-26</th>\n",
       "      <td>266.880005</td>\n",
       "      <td>267.359985</td>\n",
       "      <td>261.010010</td>\n",
       "      <td>261.529999</td>\n",
       "      <td>261.529999</td>\n",
       "      <td>96500</td>\n",
       "    </tr>\n",
       "  </tbody>\n",
       "</table>\n",
       "</div>"
      ],
      "text/plain": [
       "                  Open        High         Low       Close   Adj Close  Volume\n",
       "Date                                                                          \n",
       "2020-06-24  269.500000  271.070007  263.429993  264.809998  264.809998  228900\n",
       "2020-06-25  264.619995  267.750000  262.100006  267.630005  267.630005   67400\n",
       "2020-06-26  266.880005  267.359985  261.010010  261.529999  261.529999   96500"
      ]
     },
     "execution_count": 5,
     "metadata": {},
     "output_type": "execute_result"
    }
   ],
   "source": [
    "stock_df.tail(3)"
   ]
  },
  {
   "cell_type": "markdown",
   "metadata": {},
   "source": [
    "## Create Percent Change"
   ]
  },
  {
   "cell_type": "code",
   "execution_count": 6,
   "metadata": {},
   "outputs": [
    {
     "data": {
      "text/html": [
       "<div>\n",
       "<style scoped>\n",
       "    .dataframe tbody tr th:only-of-type {\n",
       "        vertical-align: middle;\n",
       "    }\n",
       "\n",
       "    .dataframe tbody tr th {\n",
       "        vertical-align: top;\n",
       "    }\n",
       "\n",
       "    .dataframe thead th {\n",
       "        text-align: right;\n",
       "    }\n",
       "</style>\n",
       "<table border=\"1\" class=\"dataframe\">\n",
       "  <thead>\n",
       "    <tr style=\"text-align: right;\">\n",
       "      <th></th>\n",
       "      <th>Open</th>\n",
       "      <th>High</th>\n",
       "      <th>Low</th>\n",
       "      <th>Close</th>\n",
       "      <th>Adj Close</th>\n",
       "      <th>Volume</th>\n",
       "      <th>Percent Change</th>\n",
       "    </tr>\n",
       "    <tr>\n",
       "      <th>Date</th>\n",
       "      <th></th>\n",
       "      <th></th>\n",
       "      <th></th>\n",
       "      <th></th>\n",
       "      <th></th>\n",
       "      <th></th>\n",
       "      <th></th>\n",
       "    </tr>\n",
       "  </thead>\n",
       "  <tbody>\n",
       "    <tr>\n",
       "      <th>2010-06-28</th>\n",
       "      <td>54.500000</td>\n",
       "      <td>54.889999</td>\n",
       "      <td>54.150002</td>\n",
       "      <td>54.520000</td>\n",
       "      <td>49.537273</td>\n",
       "      <td>116400</td>\n",
       "      <td>0.000367</td>\n",
       "    </tr>\n",
       "    <tr>\n",
       "      <th>2010-06-29</th>\n",
       "      <td>53.619999</td>\n",
       "      <td>53.689999</td>\n",
       "      <td>52.049999</td>\n",
       "      <td>52.450001</td>\n",
       "      <td>47.656467</td>\n",
       "      <td>302700</td>\n",
       "      <td>-0.021820</td>\n",
       "    </tr>\n",
       "    <tr>\n",
       "      <th>2010-06-30</th>\n",
       "      <td>52.330002</td>\n",
       "      <td>52.660000</td>\n",
       "      <td>51.410000</td>\n",
       "      <td>51.599998</td>\n",
       "      <td>46.884140</td>\n",
       "      <td>471900</td>\n",
       "      <td>-0.013950</td>\n",
       "    </tr>\n",
       "  </tbody>\n",
       "</table>\n",
       "</div>"
      ],
      "text/plain": [
       "                 Open       High        Low      Close  Adj Close  Volume  \\\n",
       "Date                                                                        \n",
       "2010-06-28  54.500000  54.889999  54.150002  54.520000  49.537273  116400   \n",
       "2010-06-29  53.619999  53.689999  52.049999  52.450001  47.656467  302700   \n",
       "2010-06-30  52.330002  52.660000  51.410000  51.599998  46.884140  471900   \n",
       "\n",
       "            Percent Change  \n",
       "Date                        \n",
       "2010-06-28        0.000367  \n",
       "2010-06-29       -0.021820  \n",
       "2010-06-30       -0.013950  "
      ]
     },
     "execution_count": 6,
     "metadata": {},
     "output_type": "execute_result"
    }
   ],
   "source": [
    "stock_df['Percent Change'] = (stock_df.Close - stock_df.Open) / stock_df.Open\n",
    "stock_df.head(3)"
   ]
  },
  {
   "cell_type": "code",
   "execution_count": 7,
   "metadata": {},
   "outputs": [
    {
     "data": {
      "image/png": "[encoded data removed]",
      "text/plain": [
       "<Figure size 576x504 with 1 Axes>"
      ]
     },
     "metadata": {},
     "output_type": "display_data"
    }
   ],
   "source": [
    "stock_df['Percent Change'].hist(bins=25);"
   ]
  },
  {
   "cell_type": "code",
   "execution_count": 8,
   "metadata": {},
   "outputs": [
    {
     "data": {
      "text/plain": [
       "0.84    0.007997\n",
       "Name: Percent Change, dtype: float64"
      ]
     },
     "execution_count": 8,
     "metadata": {},
     "output_type": "execute_result"
    }
   ],
   "source": [
    "stock_df['Percent Change'].quantile([0.84]) # 1 stdev from avg"
   ]
  },
  {
   "cell_type": "markdown",
   "metadata": {},
   "source": [
    "## Assign Direction"
   ]
  },
  {
   "cell_type": "code",
   "execution_count": 9,
   "metadata": {},
   "outputs": [],
   "source": [
    "stock_df['Direction'] = np.where(stock_df['Percent Change'] > perc_inc\n",
    "                                 , 1\n",
    "                                 , 0\n",
    "                                )"
   ]
  },
  {
   "cell_type": "code",
   "execution_count": 10,
   "metadata": {},
   "outputs": [
    {
     "data": {
      "text/html": [
       "<div>\n",
       "<style scoped>\n",
       "    .dataframe tbody tr th:only-of-type {\n",
       "        vertical-align: middle;\n",
       "    }\n",
       "\n",
       "    .dataframe tbody tr th {\n",
       "        vertical-align: top;\n",
       "    }\n",
       "\n",
       "    .dataframe thead th {\n",
       "        text-align: right;\n",
       "    }\n",
       "</style>\n",
       "<table border=\"1\" class=\"dataframe\">\n",
       "  <thead>\n",
       "    <tr style=\"text-align: right;\">\n",
       "      <th></th>\n",
       "      <th>Open</th>\n",
       "      <th>High</th>\n",
       "      <th>Low</th>\n",
       "      <th>Close</th>\n",
       "      <th>Adj Close</th>\n",
       "      <th>Volume</th>\n",
       "      <th>Percent Change</th>\n",
       "      <th>Direction</th>\n",
       "    </tr>\n",
       "    <tr>\n",
       "      <th>Date</th>\n",
       "      <th></th>\n",
       "      <th></th>\n",
       "      <th></th>\n",
       "      <th></th>\n",
       "      <th></th>\n",
       "      <th></th>\n",
       "      <th></th>\n",
       "      <th></th>\n",
       "    </tr>\n",
       "  </thead>\n",
       "  <tbody>\n",
       "    <tr>\n",
       "      <th>2020-06-22</th>\n",
       "      <td>264.470001</td>\n",
       "      <td>268.920013</td>\n",
       "      <td>264.260010</td>\n",
       "      <td>268.739990</td>\n",
       "      <td>268.739990</td>\n",
       "      <td>114800</td>\n",
       "      <td>0.016145</td>\n",
       "      <td>0</td>\n",
       "    </tr>\n",
       "    <tr>\n",
       "      <th>2020-06-23</th>\n",
       "      <td>270.970001</td>\n",
       "      <td>273.350006</td>\n",
       "      <td>269.929993</td>\n",
       "      <td>270.510010</td>\n",
       "      <td>270.510010</td>\n",
       "      <td>272800</td>\n",
       "      <td>-0.001698</td>\n",
       "      <td>0</td>\n",
       "    </tr>\n",
       "    <tr>\n",
       "      <th>2020-06-24</th>\n",
       "      <td>269.500000</td>\n",
       "      <td>271.070007</td>\n",
       "      <td>263.429993</td>\n",
       "      <td>264.809998</td>\n",
       "      <td>264.809998</td>\n",
       "      <td>228900</td>\n",
       "      <td>-0.017403</td>\n",
       "      <td>0</td>\n",
       "    </tr>\n",
       "    <tr>\n",
       "      <th>2020-06-25</th>\n",
       "      <td>264.619995</td>\n",
       "      <td>267.750000</td>\n",
       "      <td>262.100006</td>\n",
       "      <td>267.630005</td>\n",
       "      <td>267.630005</td>\n",
       "      <td>67400</td>\n",
       "      <td>0.011375</td>\n",
       "      <td>0</td>\n",
       "    </tr>\n",
       "    <tr>\n",
       "      <th>2020-06-26</th>\n",
       "      <td>266.880005</td>\n",
       "      <td>267.359985</td>\n",
       "      <td>261.010010</td>\n",
       "      <td>261.529999</td>\n",
       "      <td>261.529999</td>\n",
       "      <td>96500</td>\n",
       "      <td>-0.020046</td>\n",
       "      <td>0</td>\n",
       "    </tr>\n",
       "  </tbody>\n",
       "</table>\n",
       "</div>"
      ],
      "text/plain": [
       "                  Open        High         Low       Close   Adj Close  \\\n",
       "Date                                                                     \n",
       "2020-06-22  264.470001  268.920013  264.260010  268.739990  268.739990   \n",
       "2020-06-23  270.970001  273.350006  269.929993  270.510010  270.510010   \n",
       "2020-06-24  269.500000  271.070007  263.429993  264.809998  264.809998   \n",
       "2020-06-25  264.619995  267.750000  262.100006  267.630005  267.630005   \n",
       "2020-06-26  266.880005  267.359985  261.010010  261.529999  261.529999   \n",
       "\n",
       "            Volume  Percent Change  Direction  \n",
       "Date                                           \n",
       "2020-06-22  114800        0.016145          0  \n",
       "2020-06-23  272800       -0.001698          0  \n",
       "2020-06-24  228900       -0.017403          0  \n",
       "2020-06-25   67400        0.011375          0  \n",
       "2020-06-26   96500       -0.020046          0  "
      ]
     },
     "execution_count": 10,
     "metadata": {},
     "output_type": "execute_result"
    }
   ],
   "source": [
    "stock_df.tail(5)"
   ]
  },
  {
   "cell_type": "markdown",
   "metadata": {},
   "source": [
    "## Shift Direction Column Up 1"
   ]
  },
  {
   "cell_type": "markdown",
   "metadata": {},
   "source": [
    "Move decision column up by 1 cell so current hour of data will predict the next hour of data or whichever time frame interval is observed"
   ]
  },
  {
   "cell_type": "code",
   "execution_count": 11,
   "metadata": {},
   "outputs": [
    {
     "name": "stdout",
     "output_type": "stream",
     "text": [
      "Length Before: 2518\n",
      "Length After: 2517\n"
     ]
    }
   ],
   "source": [
    "direction = stock_df.Direction.values\n",
    "print(f'Length Before: {len(direction)}')\n",
    "direction = direction[1:len(direction)]\n",
    "print(f'Length After: {len(direction)}')"
   ]
  },
  {
   "cell_type": "code",
   "execution_count": 12,
   "metadata": {},
   "outputs": [
    {
     "data": {
      "text/plain": [
       "(2517, 8)"
      ]
     },
     "execution_count": 12,
     "metadata": {},
     "output_type": "execute_result"
    }
   ],
   "source": [
    "stock_df_one_off = stock_df.iloc[0:stock_df.shape[0]-1]\n",
    "stock_df_one_off['Direction'] = direction\n",
    "stock_df_one_off.shape"
   ]
  },
  {
   "cell_type": "code",
   "execution_count": 13,
   "metadata": {
    "scrolled": true
   },
   "outputs": [
    {
     "data": {
      "text/html": [
       "<div>\n",
       "<style scoped>\n",
       "    .dataframe tbody tr th:only-of-type {\n",
       "        vertical-align: middle;\n",
       "    }\n",
       "\n",
       "    .dataframe tbody tr th {\n",
       "        vertical-align: top;\n",
       "    }\n",
       "\n",
       "    .dataframe thead th {\n",
       "        text-align: right;\n",
       "    }\n",
       "</style>\n",
       "<table border=\"1\" class=\"dataframe\">\n",
       "  <thead>\n",
       "    <tr style=\"text-align: right;\">\n",
       "      <th></th>\n",
       "      <th>Open</th>\n",
       "      <th>High</th>\n",
       "      <th>Low</th>\n",
       "      <th>Close</th>\n",
       "      <th>Adj Close</th>\n",
       "      <th>Volume</th>\n",
       "      <th>Percent Change</th>\n",
       "      <th>Direction</th>\n",
       "    </tr>\n",
       "    <tr>\n",
       "      <th>Date</th>\n",
       "      <th></th>\n",
       "      <th></th>\n",
       "      <th></th>\n",
       "      <th></th>\n",
       "      <th></th>\n",
       "      <th></th>\n",
       "      <th></th>\n",
       "      <th></th>\n",
       "    </tr>\n",
       "  </thead>\n",
       "  <tbody>\n",
       "    <tr>\n",
       "      <th>2020-06-19</th>\n",
       "      <td>268.450012</td>\n",
       "      <td>268.450012</td>\n",
       "      <td>262.630005</td>\n",
       "      <td>264.230011</td>\n",
       "      <td>264.230011</td>\n",
       "      <td>116900</td>\n",
       "      <td>-0.015720</td>\n",
       "      <td>0</td>\n",
       "    </tr>\n",
       "    <tr>\n",
       "      <th>2020-06-22</th>\n",
       "      <td>264.470001</td>\n",
       "      <td>268.920013</td>\n",
       "      <td>264.260010</td>\n",
       "      <td>268.739990</td>\n",
       "      <td>268.739990</td>\n",
       "      <td>114800</td>\n",
       "      <td>0.016145</td>\n",
       "      <td>0</td>\n",
       "    </tr>\n",
       "    <tr>\n",
       "      <th>2020-06-23</th>\n",
       "      <td>270.970001</td>\n",
       "      <td>273.350006</td>\n",
       "      <td>269.929993</td>\n",
       "      <td>270.510010</td>\n",
       "      <td>270.510010</td>\n",
       "      <td>272800</td>\n",
       "      <td>-0.001698</td>\n",
       "      <td>0</td>\n",
       "    </tr>\n",
       "    <tr>\n",
       "      <th>2020-06-24</th>\n",
       "      <td>269.500000</td>\n",
       "      <td>271.070007</td>\n",
       "      <td>263.429993</td>\n",
       "      <td>264.809998</td>\n",
       "      <td>264.809998</td>\n",
       "      <td>228900</td>\n",
       "      <td>-0.017403</td>\n",
       "      <td>0</td>\n",
       "    </tr>\n",
       "    <tr>\n",
       "      <th>2020-06-25</th>\n",
       "      <td>264.619995</td>\n",
       "      <td>267.750000</td>\n",
       "      <td>262.100006</td>\n",
       "      <td>267.630005</td>\n",
       "      <td>267.630005</td>\n",
       "      <td>67400</td>\n",
       "      <td>0.011375</td>\n",
       "      <td>0</td>\n",
       "    </tr>\n",
       "  </tbody>\n",
       "</table>\n",
       "</div>"
      ],
      "text/plain": [
       "                  Open        High         Low       Close   Adj Close  \\\n",
       "Date                                                                     \n",
       "2020-06-19  268.450012  268.450012  262.630005  264.230011  264.230011   \n",
       "2020-06-22  264.470001  268.920013  264.260010  268.739990  268.739990   \n",
       "2020-06-23  270.970001  273.350006  269.929993  270.510010  270.510010   \n",
       "2020-06-24  269.500000  271.070007  263.429993  264.809998  264.809998   \n",
       "2020-06-25  264.619995  267.750000  262.100006  267.630005  267.630005   \n",
       "\n",
       "            Volume  Percent Change  Direction  \n",
       "Date                                           \n",
       "2020-06-19  116900       -0.015720          0  \n",
       "2020-06-22  114800        0.016145          0  \n",
       "2020-06-23  272800       -0.001698          0  \n",
       "2020-06-24  228900       -0.017403          0  \n",
       "2020-06-25   67400        0.011375          0  "
      ]
     },
     "execution_count": 13,
     "metadata": {},
     "output_type": "execute_result"
    }
   ],
   "source": [
    "stock_df_one_off.tail(5)"
   ]
  },
  {
   "cell_type": "code",
   "execution_count": 14,
   "metadata": {},
   "outputs": [
    {
     "data": {
      "text/plain": [
       "0    2463\n",
       "1      54\n",
       "Name: Direction, dtype: int64"
      ]
     },
     "execution_count": 14,
     "metadata": {},
     "output_type": "execute_result"
    }
   ],
   "source": [
    "stock_df_one_off.Direction.value_counts()"
   ]
  },
  {
   "cell_type": "markdown",
   "metadata": {},
   "source": [
    "## Balance 1's and 0's"
   ]
  },
  {
   "cell_type": "code",
   "execution_count": 15,
   "metadata": {},
   "outputs": [
    {
     "data": {
      "text/plain": [
       "54"
      ]
     },
     "execution_count": 15,
     "metadata": {},
     "output_type": "execute_result"
    }
   ],
   "source": [
    "ones_count = stock_df_one_off['Direction'].value_counts()[1]\n",
    "ones_count"
   ]
  },
  {
   "cell_type": "code",
   "execution_count": 16,
   "metadata": {},
   "outputs": [
    {
     "data": {
      "text/plain": [
       "(108, 8)"
      ]
     },
     "execution_count": 16,
     "metadata": {},
     "output_type": "execute_result"
    }
   ],
   "source": [
    "stock_df_bal = stock_df_one_off.groupby('Direction').apply(lambda x: x.sample(n=ones_count)).reset_index(drop=True)\n",
    "stock_df_bal.shape"
   ]
  },
  {
   "cell_type": "code",
   "execution_count": 17,
   "metadata": {},
   "outputs": [
    {
     "data": {
      "text/plain": [
       "1    54\n",
       "0    54\n",
       "Name: Direction, dtype: int64"
      ]
     },
     "execution_count": 17,
     "metadata": {},
     "output_type": "execute_result"
    }
   ],
   "source": [
    "stock_df_bal['Direction'].value_counts() # try bootstrapping and upsampling "
   ]
  },
  {
   "cell_type": "markdown",
   "metadata": {},
   "source": [
    "## Check for NaN's"
   ]
  },
  {
   "cell_type": "code",
   "execution_count": 18,
   "metadata": {},
   "outputs": [
    {
     "data": {
      "text/plain": [
       "Open              0\n",
       "High              0\n",
       "Low               0\n",
       "Close             0\n",
       "Adj Close         0\n",
       "Volume            0\n",
       "Percent Change    0\n",
       "Direction         0\n",
       "dtype: int64"
      ]
     },
     "execution_count": 18,
     "metadata": {},
     "output_type": "execute_result"
    }
   ],
   "source": [
    "stock_df_bal.isna().sum()"
   ]
  },
  {
   "cell_type": "code",
   "execution_count": 19,
   "metadata": {},
   "outputs": [],
   "source": [
    "stock_df_bal.dropna(axis=0, inplace=True)"
   ]
  },
  {
   "cell_type": "code",
   "execution_count": 20,
   "metadata": {},
   "outputs": [
    {
     "data": {
      "text/plain": [
       "Open              0\n",
       "High              0\n",
       "Low               0\n",
       "Close             0\n",
       "Adj Close         0\n",
       "Volume            0\n",
       "Percent Change    0\n",
       "Direction         0\n",
       "dtype: int64"
      ]
     },
     "execution_count": 20,
     "metadata": {},
     "output_type": "execute_result"
    }
   ],
   "source": [
    "stock_df_bal.isna().sum()"
   ]
  },
  {
   "cell_type": "markdown",
   "metadata": {},
   "source": [
    "## Train Test Split"
   ]
  },
  {
   "cell_type": "code",
   "execution_count": 21,
   "metadata": {},
   "outputs": [],
   "source": [
    "X = stock_df_bal.drop(columns=['Direction'])\n",
    "y = stock_df_bal['Direction']"
   ]
  },
  {
   "cell_type": "code",
   "execution_count": 22,
   "metadata": {},
   "outputs": [],
   "source": [
    "X_train, X_test, y_train, y_test = train_test_split(X\n",
    "                                                    , y\n",
    "                                                    , test_size=0.2\n",
    "                                                    , random_state = 42\n",
    "                                                   )"
   ]
  },
  {
   "cell_type": "markdown",
   "metadata": {},
   "source": [
    "## Grid Search"
   ]
  },
  {
   "cell_type": "code",
   "execution_count": 23,
   "metadata": {},
   "outputs": [
    {
     "name": "stdout",
     "output_type": "stream",
     "text": [
      "Fitting 7 folds for each of 4536 candidates, totalling 31752 fits\n"
     ]
    },
    {
     "name": "stderr",
     "output_type": "stream",
     "text": [
      "[Parallel(n_jobs=-1)]: Using backend LokyBackend with 8 concurrent workers.\n",
      "[Parallel(n_jobs=-1)]: Done  34 tasks      | elapsed:    1.5s\n",
      "[Parallel(n_jobs=-1)]: Done 296 tasks      | elapsed:    5.8s\n",
      "[Parallel(n_jobs=-1)]: Done 796 tasks      | elapsed:   14.0s\n",
      "[Parallel(n_jobs=-1)]: Done 1496 tasks      | elapsed:   26.0s\n",
      "[Parallel(n_jobs=-1)]: Done 2396 tasks      | elapsed:   41.4s\n",
      "[Parallel(n_jobs=-1)]: Done 3496 tasks      | elapsed:  1.1min\n",
      "[Parallel(n_jobs=-1)]: Done 4796 tasks      | elapsed:  1.4min\n",
      "[Parallel(n_jobs=-1)]: Done 6296 tasks      | elapsed:  1.9min\n",
      "[Parallel(n_jobs=-1)]: Done 7996 tasks      | elapsed:  2.4min\n",
      "[Parallel(n_jobs=-1)]: Done 9896 tasks      | elapsed:  3.0min\n",
      "[Parallel(n_jobs=-1)]: Done 11996 tasks      | elapsed:  3.7min\n",
      "[Parallel(n_jobs=-1)]: Done 14296 tasks      | elapsed:  4.4min\n",
      "[Parallel(n_jobs=-1)]: Done 16796 tasks      | elapsed:  5.2min\n",
      "[Parallel(n_jobs=-1)]: Done 19496 tasks      | elapsed:  5.8min\n",
      "[Parallel(n_jobs=-1)]: Done 22396 tasks      | elapsed:  6.4min\n",
      "[Parallel(n_jobs=-1)]: Done 25496 tasks      | elapsed:  7.1min\n",
      "[Parallel(n_jobs=-1)]: Done 28796 tasks      | elapsed:  7.9min\n",
      "[Parallel(n_jobs=-1)]: Done 31752 out of 31752 | elapsed:  8.6min finished\n"
     ]
    },
    {
     "data": {
      "text/plain": [
       "GridSearchCV(cv=7, error_score=nan,\n",
       "             estimator=RandomForestClassifier(bootstrap=True, ccp_alpha=0.0,\n",
       "                                              class_weight=None,\n",
       "                                              criterion='gini', max_depth=None,\n",
       "                                              max_features='auto',\n",
       "                                              max_leaf_nodes=None,\n",
       "                                              max_samples=None,\n",
       "                                              min_impurity_decrease=0.0,\n",
       "                                              min_impurity_split=None,\n",
       "                                              min_samples_leaf=1,\n",
       "                                              min_samples_split=2,\n",
       "                                              min_weight_fraction_leaf=0.0,\n",
       "                                              n_estimators=100, n_jobs=None,\n",
       "                                              oob_score=False,\n",
       "                                              random_state=None, verbose=0,\n",
       "                                              warm_start=False),\n",
       "             iid='deprecated', n_jobs=-1,\n",
       "             param_grid={'bootstrap': [True, False],\n",
       "                         'max_depth': [1, 2, 3, 4, 5, 6],\n",
       "                         'max_features': [1, 2, 3, 4, 5, 6],\n",
       "                         'min_samples_leaf': [1, 2, 3],\n",
       "                         'min_samples_split': [2, 5, 10],\n",
       "                         'n_estimators': [5, 25, 45, 65, 85, 105, 125]},\n",
       "             pre_dispatch='2*n_jobs', refit=True, return_train_score=False,\n",
       "             scoring=None, verbose=1)"
      ]
     },
     "execution_count": 23,
     "metadata": {},
     "output_type": "execute_result"
    }
   ],
   "source": [
    "grid1={'bootstrap': [True, False]\n",
    "       , 'n_estimators': [5, 25, 45, 65, 85, 105, 125]\n",
    "       , 'max_depth': [1, 2, 3, 4, 5, 6]\n",
    "       , 'max_features': [1, 2, 3, 4, 5, 6]\n",
    "       , 'min_samples_leaf': [1, 2, 3]\n",
    "       , 'min_samples_split': [2, 5, 10]\n",
    "      }\n",
    "\n",
    "rf_grid_search1 = GridSearchCV(estimator = RandomForestClassifier()\n",
    "                               , param_grid = grid1\n",
    "                               , cv = 7\n",
    "                               , n_jobs = -1\n",
    "                               , verbose = 1\n",
    "                              )\n",
    "\n",
    "rf_grid_search1.fit(X_train, y_train)"
   ]
  },
  {
   "cell_type": "code",
   "execution_count": 24,
   "metadata": {},
   "outputs": [
    {
     "data": {
      "text/plain": [
       "{'bootstrap': True,\n",
       " 'max_depth': 4,\n",
       " 'max_features': 1,\n",
       " 'min_samples_leaf': 1,\n",
       " 'min_samples_split': 5,\n",
       " 'n_estimators': 5}"
      ]
     },
     "execution_count": 24,
     "metadata": {},
     "output_type": "execute_result"
    }
   ],
   "source": [
    "rf_grid_search1.best_params_"
   ]
  },
  {
   "cell_type": "markdown",
   "metadata": {},
   "source": [
    "## Save Best Parameters"
   ]
  },
  {
   "cell_type": "code",
   "execution_count": 25,
   "metadata": {},
   "outputs": [
    {
     "data": {
      "text/plain": [
       "['rfc_1d.pkl']"
      ]
     },
     "execution_count": 25,
     "metadata": {},
     "output_type": "execute_result"
    }
   ],
   "source": [
    "joblib.dump(rf_grid_search1.best_params_\n",
    "            , 'rfc_1d.pkl'\n",
    "            , compress = 1\n",
    "           )"
   ]
  },
  {
   "cell_type": "markdown",
   "metadata": {},
   "source": [
    "## Load Best parameters"
   ]
  },
  {
   "cell_type": "code",
   "execution_count": 26,
   "metadata": {},
   "outputs": [],
   "source": [
    "rfc = RandomForestClassifier(random_state = 42\n",
    "                             , n_jobs = -1\n",
    "                             , verbose = 1\n",
    "                            ).set_params(**joblib.load('rfc_1d.pkl'))"
   ]
  },
  {
   "cell_type": "code",
   "execution_count": null,
   "metadata": {},
   "outputs": [],
   "source": []
  },
  {
   "cell_type": "markdown",
   "metadata": {},
   "source": [
    "## Random Forest Classifier"
   ]
  },
  {
   "cell_type": "code",
   "execution_count": 27,
   "metadata": {},
   "outputs": [],
   "source": [
    "# rfc loaded from above\n",
    "# rfc = RandomForestClassifier(bootstrap = True\n",
    "#                              , n_estimators = 5 # how many trees, optimize using grid search   \n",
    "#                              , random_state = 42\n",
    "#                              , verbose = 1\n",
    "#                              , n_jobs = -1 # uses all your processer cores\n",
    "#                              , max_depth = 6 # height of tree\n",
    "#                              , max_features = 3 # random sampling of features\n",
    "#                              , min_samples_leaf = 2\n",
    "#                              , min_samples_split = 2\n",
    "#                              # need to tune n_estimators, n max_depth, max_features\n",
    "#                             )"
   ]
  },
  {
   "cell_type": "code",
   "execution_count": 28,
   "metadata": {},
   "outputs": [
    {
     "name": "stderr",
     "output_type": "stream",
     "text": [
      "[Parallel(n_jobs=-1)]: Using backend ThreadingBackend with 8 concurrent workers.\n",
      "[Parallel(n_jobs=-1)]: Done   2 out of   5 | elapsed:    0.0s remaining:    0.0s\n",
      "[Parallel(n_jobs=-1)]: Done   5 out of   5 | elapsed:    0.0s finished\n",
      "[Parallel(n_jobs=5)]: Using backend ThreadingBackend with 5 concurrent workers.\n",
      "[Parallel(n_jobs=5)]: Done   2 out of   5 | elapsed:    0.0s remaining:    0.0s\n",
      "[Parallel(n_jobs=5)]: Done   5 out of   5 | elapsed:    0.0s finished\n",
      "[Parallel(n_jobs=5)]: Using backend ThreadingBackend with 5 concurrent workers.\n",
      "[Parallel(n_jobs=5)]: Done   2 out of   5 | elapsed:    0.0s remaining:    0.0s\n",
      "[Parallel(n_jobs=5)]: Done   5 out of   5 | elapsed:    0.0s finished\n"
     ]
    }
   ],
   "source": [
    "rfc.fit(X_train, y_train)\n",
    "\n",
    "y_pred = rfc.predict(X_test)\n",
    "\n",
    "y_probs = rfc.predict_proba(X_test)[:, 1]"
   ]
  },
  {
   "cell_type": "markdown",
   "metadata": {},
   "source": [
    "## Cross Val Score"
   ]
  },
  {
   "cell_type": "code",
   "execution_count": 29,
   "metadata": {},
   "outputs": [
    {
     "name": "stderr",
     "output_type": "stream",
     "text": [
      "[Parallel(n_jobs=-1)]: Using backend LokyBackend with 8 concurrent workers.\n",
      "[Parallel(n_jobs=-1)]: Done   2 out of   5 | elapsed:    0.0s remaining:    0.0s\n",
      "[Parallel(n_jobs=-1)]: Done   5 out of   5 | elapsed:    0.0s finished\n",
      "[Parallel(n_jobs=5)]: Using backend ThreadingBackend with 5 concurrent workers.\n",
      "[Parallel(n_jobs=5)]: Done   2 out of   5 | elapsed:    0.0s remaining:    0.0s\n",
      "[Parallel(n_jobs=5)]: Done   5 out of   5 | elapsed:    0.0s finished\n",
      "[Parallel(n_jobs=-1)]: Using backend LokyBackend with 8 concurrent workers.\n",
      "[Parallel(n_jobs=-1)]: Done   2 out of   5 | elapsed:    0.0s remaining:    0.0s\n",
      "[Parallel(n_jobs=-1)]: Done   5 out of   5 | elapsed:    0.0s finished\n",
      "[Parallel(n_jobs=5)]: Using backend ThreadingBackend with 5 concurrent workers.\n",
      "[Parallel(n_jobs=5)]: Done   2 out of   5 | elapsed:    0.0s remaining:    0.0s\n",
      "[Parallel(n_jobs=5)]: Done   5 out of   5 | elapsed:    0.0s finished\n",
      "[Parallel(n_jobs=-1)]: Using backend LokyBackend with 8 concurrent workers.\n",
      "[Parallel(n_jobs=-1)]: Done   2 out of   5 | elapsed:    0.0s remaining:    0.0s\n",
      "[Parallel(n_jobs=-1)]: Done   5 out of   5 | elapsed:    0.0s finished\n",
      "[Parallel(n_jobs=5)]: Using backend ThreadingBackend with 5 concurrent workers.\n",
      "[Parallel(n_jobs=5)]: Done   2 out of   5 | elapsed:    0.0s remaining:    0.0s\n",
      "[Parallel(n_jobs=5)]: Done   5 out of   5 | elapsed:    0.0s finished\n",
      "[Parallel(n_jobs=-1)]: Using backend LokyBackend with 8 concurrent workers.\n",
      "[Parallel(n_jobs=-1)]: Done   2 out of   5 | elapsed:    0.0s remaining:    0.0s\n",
      "[Parallel(n_jobs=-1)]: Done   5 out of   5 | elapsed:    0.0s finished\n",
      "[Parallel(n_jobs=5)]: Using backend ThreadingBackend with 5 concurrent workers.\n",
      "[Parallel(n_jobs=5)]: Done   2 out of   5 | elapsed:    0.0s remaining:    0.0s\n",
      "[Parallel(n_jobs=5)]: Done   5 out of   5 | elapsed:    0.0s finished\n",
      "[Parallel(n_jobs=-1)]: Using backend LokyBackend with 8 concurrent workers.\n",
      "[Parallel(n_jobs=-1)]: Done   2 out of   5 | elapsed:    0.0s remaining:    0.0s\n",
      "[Parallel(n_jobs=-1)]: Done   5 out of   5 | elapsed:    0.0s finished\n",
      "[Parallel(n_jobs=5)]: Using backend ThreadingBackend with 5 concurrent workers.\n",
      "[Parallel(n_jobs=5)]: Done   2 out of   5 | elapsed:    0.0s remaining:    0.0s\n",
      "[Parallel(n_jobs=5)]: Done   5 out of   5 | elapsed:    0.0s finished\n",
      "[Parallel(n_jobs=-1)]: Using backend LokyBackend with 8 concurrent workers.\n",
      "[Parallel(n_jobs=-1)]: Done   2 out of   5 | elapsed:    0.0s remaining:    0.0s\n",
      "[Parallel(n_jobs=-1)]: Done   5 out of   5 | elapsed:    0.0s finished\n",
      "[Parallel(n_jobs=5)]: Using backend ThreadingBackend with 5 concurrent workers.\n",
      "[Parallel(n_jobs=5)]: Done   2 out of   5 | elapsed:    0.0s remaining:    0.0s\n",
      "[Parallel(n_jobs=5)]: Done   5 out of   5 | elapsed:    0.0s finished\n",
      "[Parallel(n_jobs=-1)]: Using backend LokyBackend with 8 concurrent workers.\n",
      "[Parallel(n_jobs=-1)]: Done   2 out of   5 | elapsed:    0.0s remaining:    0.0s\n",
      "[Parallel(n_jobs=-1)]: Done   5 out of   5 | elapsed:    0.0s finished\n",
      "[Parallel(n_jobs=5)]: Using backend ThreadingBackend with 5 concurrent workers.\n",
      "[Parallel(n_jobs=5)]: Done   2 out of   5 | elapsed:    0.0s remaining:    0.0s\n",
      "[Parallel(n_jobs=5)]: Done   5 out of   5 | elapsed:    0.0s finished\n"
     ]
    },
    {
     "name": "stdout",
     "output_type": "stream",
     "text": [
      "Cross-Validation Score: 0.6968864468864469\n"
     ]
    }
   ],
   "source": [
    "cval = cross_val_score(rfc\n",
    "                       , X_train\n",
    "                       , y_train\n",
    "                       , scoring='accuracy'\n",
    "                       , cv=7\n",
    "                      )\n",
    "\n",
    "print(f'Cross-Validation Score: {np.mean(cval)}')"
   ]
  },
  {
   "cell_type": "markdown",
   "metadata": {},
   "source": [
    "## Receiver Operating Characteristic (ROC) Curve"
   ]
  },
  {
   "cell_type": "code",
   "execution_count": 30,
   "metadata": {},
   "outputs": [
    {
     "data": {
      "text/plain": [
       "0.9583333333333334"
      ]
     },
     "execution_count": 30,
     "metadata": {},
     "output_type": "execute_result"
    }
   ],
   "source": [
    "roc_score = roc_auc_score(y_test\n",
    "                          , y_probs\n",
    "                         )\n",
    "roc_score"
   ]
  },
  {
   "cell_type": "code",
   "execution_count": 31,
   "metadata": {},
   "outputs": [
    {
     "data": {
      "image/png": "[encoded data removed]",
      "text/plain": [
       "<Figure size 720x504 with 1 Axes>"
      ]
     },
     "metadata": {},
     "output_type": "display_data"
    }
   ],
   "source": [
    "plt.rcParams['font.size'] = 16\n",
    "plt.figure(figsize=(10,7))\n",
    "\n",
    "# No Skill Line Data\n",
    "base_fpr, base_tpr, _ = roc_curve(y_test\n",
    "                                  , [1 for _ in range(len(y_test))]\n",
    "                                 ) \n",
    "\n",
    "# Model Data\n",
    "model_fpr, model_tpr, _ = roc_curve(y_test\n",
    "                                    , y_probs\n",
    "                                   )\n",
    "\n",
    "plt.plot(base_fpr\n",
    "         , base_tpr\n",
    "         , 'b'\n",
    "         , label='No Skill'\n",
    "        )\n",
    "\n",
    "plt.plot(model_fpr\n",
    "         , model_tpr\n",
    "         , 'r'\n",
    "         , label='RFC Model'\n",
    "        )\n",
    "\n",
    "plt.xlabel('False Positive Rate')\n",
    "plt.ylabel('True Positive Rate')\n",
    "plt.title(f'{symbol} ROC Curve, Accuracy: {round(roc_score, 3)}')\n",
    "plt.legend();"
   ]
  },
  {
   "cell_type": "markdown",
   "metadata": {},
   "source": [
    "## Precision Recall Curve"
   ]
  },
  {
   "cell_type": "code",
   "execution_count": 32,
   "metadata": {},
   "outputs": [
    {
     "data": {
      "text/plain": [
       "0.9693833943833944"
      ]
     },
     "execution_count": 32,
     "metadata": {},
     "output_type": "execute_result"
    }
   ],
   "source": [
    "# Precision Recall Data\n",
    "rf_prec, rf_recall, _ = precision_recall_curve(y_test\n",
    "                                             , y_probs\n",
    "                                            )\n",
    "\n",
    "auc_score = auc(rf_recall, rf_prec)\n",
    "auc_score"
   ]
  },
  {
   "cell_type": "code",
   "execution_count": 33,
   "metadata": {},
   "outputs": [
    {
     "data": {
      "image/png": "[encoded data removed]",
      "text/plain": [
       "<Figure size 720x576 with 1 Axes>"
      ]
     },
     "metadata": {},
     "output_type": "display_data"
    }
   ],
   "source": [
    "plt.rcParams['font.size'] = 16\n",
    "plt.rcParams['figure.figsize'] = (10, 8)\n",
    "\n",
    "\n",
    "\n",
    "# No Skill Line\n",
    "plt.plot([0, 0]\n",
    "         , linestyle = '--'\n",
    "         , color = 'b'\n",
    "         , label = 'No Skill'\n",
    "        )\n",
    "\n",
    "# PR Line\n",
    "plt.plot(rf_recall\n",
    "         , rf_prec\n",
    "         , color = 'r'\n",
    "         , label = 'Random Forest'\n",
    "        )\n",
    "\n",
    "plt.xlabel('Recall')\n",
    "plt.ylabel('Precision')\n",
    "plt.title(f'{symbol} Precision-Recall Curve, Accuracy: {round(auc_score, 3)}')\n",
    "plt.legend();"
   ]
  },
  {
   "cell_type": "markdown",
   "metadata": {},
   "source": [
    "## Confusion Matrix"
   ]
  },
  {
   "cell_type": "code",
   "execution_count": 34,
   "metadata": {
    "scrolled": false
   },
   "outputs": [
    {
     "name": "stderr",
     "output_type": "stream",
     "text": [
      "[Parallel(n_jobs=5)]: Using backend ThreadingBackend with 5 concurrent workers.\n",
      "[Parallel(n_jobs=5)]: Done   2 out of   5 | elapsed:    0.0s remaining:    0.0s\n",
      "[Parallel(n_jobs=5)]: Done   5 out of   5 | elapsed:    0.0s finished\n"
     ]
    },
    {
     "data": {
      "image/png": "[encoded data removed]",
      "text/plain": [
       "<Figure size 360x288 with 2 Axes>"
      ]
     },
     "metadata": {},
     "output_type": "display_data"
    }
   ],
   "source": [
    "plt.rcParams['figure.figsize'] = (5, 4)\n",
    "plt.rcParams['font.size'] = 16\n",
    "disp = plot_confusion_matrix(rfc\n",
    "                             , X_test\n",
    "                             , y_test\n",
    "                             , cmap = plt.cm.Blues\n",
    "                             , normalize = 'true'\n",
    "                            )\n",
    "disp.ax_.grid(False)\n",
    "disp.ax_.set_title(f'{symbol} Direction Confusion Matrix');"
   ]
  },
  {
   "cell_type": "markdown",
   "metadata": {},
   "source": [
    "## Feature Importances"
   ]
  },
  {
   "cell_type": "code",
   "execution_count": 35,
   "metadata": {},
   "outputs": [
    {
     "data": {
      "text/html": [
       "<div>\n",
       "<style scoped>\n",
       "    .dataframe tbody tr th:only-of-type {\n",
       "        vertical-align: middle;\n",
       "    }\n",
       "\n",
       "    .dataframe tbody tr th {\n",
       "        vertical-align: top;\n",
       "    }\n",
       "\n",
       "    .dataframe thead th {\n",
       "        text-align: right;\n",
       "    }\n",
       "</style>\n",
       "<table border=\"1\" class=\"dataframe\">\n",
       "  <thead>\n",
       "    <tr style=\"text-align: right;\">\n",
       "      <th></th>\n",
       "      <th>Feature</th>\n",
       "      <th>Importances</th>\n",
       "    </tr>\n",
       "  </thead>\n",
       "  <tbody>\n",
       "    <tr>\n",
       "      <th>1</th>\n",
       "      <td>High</td>\n",
       "      <td>0.327936</td>\n",
       "    </tr>\n",
       "    <tr>\n",
       "      <th>4</th>\n",
       "      <td>Adj Close</td>\n",
       "      <td>0.175032</td>\n",
       "    </tr>\n",
       "    <tr>\n",
       "      <th>6</th>\n",
       "      <td>Percent Change</td>\n",
       "      <td>0.167814</td>\n",
       "    </tr>\n",
       "    <tr>\n",
       "      <th>5</th>\n",
       "      <td>Volume</td>\n",
       "      <td>0.131215</td>\n",
       "    </tr>\n",
       "    <tr>\n",
       "      <th>3</th>\n",
       "      <td>Close</td>\n",
       "      <td>0.119586</td>\n",
       "    </tr>\n",
       "    <tr>\n",
       "      <th>2</th>\n",
       "      <td>Low</td>\n",
       "      <td>0.064468</td>\n",
       "    </tr>\n",
       "    <tr>\n",
       "      <th>0</th>\n",
       "      <td>Open</td>\n",
       "      <td>0.013948</td>\n",
       "    </tr>\n",
       "  </tbody>\n",
       "</table>\n",
       "</div>"
      ],
      "text/plain": [
       "          Feature  Importances\n",
       "1            High     0.327936\n",
       "4       Adj Close     0.175032\n",
       "6  Percent Change     0.167814\n",
       "5          Volume     0.131215\n",
       "3           Close     0.119586\n",
       "2             Low     0.064468\n",
       "0            Open     0.013948"
      ]
     },
     "execution_count": 35,
     "metadata": {},
     "output_type": "execute_result"
    }
   ],
   "source": [
    "features_df = pd.DataFrame({'Feature': X_train.columns\n",
    "                            , 'Importances': rfc.feature_importances_\n",
    "                           }).sort_values('Importances'\n",
    "                                          , ascending=False\n",
    "                                         )\n",
    "features_df"
   ]
  },
  {
   "cell_type": "markdown",
   "metadata": {},
   "source": [
    "## Make A Prediction"
   ]
  },
  {
   "cell_type": "code",
   "execution_count": 36,
   "metadata": {},
   "outputs": [
    {
     "data": {
      "text/html": [
       "<div>\n",
       "<style scoped>\n",
       "    .dataframe tbody tr th:only-of-type {\n",
       "        vertical-align: middle;\n",
       "    }\n",
       "\n",
       "    .dataframe tbody tr th {\n",
       "        vertical-align: top;\n",
       "    }\n",
       "\n",
       "    .dataframe thead th {\n",
       "        text-align: right;\n",
       "    }\n",
       "</style>\n",
       "<table border=\"1\" class=\"dataframe\">\n",
       "  <thead>\n",
       "    <tr style=\"text-align: right;\">\n",
       "      <th></th>\n",
       "      <th>Open</th>\n",
       "      <th>High</th>\n",
       "      <th>Low</th>\n",
       "      <th>Close</th>\n",
       "      <th>Adj Close</th>\n",
       "      <th>Volume</th>\n",
       "      <th>Percent Change</th>\n",
       "      <th>Direction</th>\n",
       "    </tr>\n",
       "    <tr>\n",
       "      <th>Date</th>\n",
       "      <th></th>\n",
       "      <th></th>\n",
       "      <th></th>\n",
       "      <th></th>\n",
       "      <th></th>\n",
       "      <th></th>\n",
       "      <th></th>\n",
       "      <th></th>\n",
       "    </tr>\n",
       "  </thead>\n",
       "  <tbody>\n",
       "    <tr>\n",
       "      <th>2020-06-24</th>\n",
       "      <td>269.500000</td>\n",
       "      <td>271.070007</td>\n",
       "      <td>263.429993</td>\n",
       "      <td>264.809998</td>\n",
       "      <td>264.809998</td>\n",
       "      <td>228900</td>\n",
       "      <td>-0.017403</td>\n",
       "      <td>0</td>\n",
       "    </tr>\n",
       "    <tr>\n",
       "      <th>2020-06-25</th>\n",
       "      <td>264.619995</td>\n",
       "      <td>267.750000</td>\n",
       "      <td>262.100006</td>\n",
       "      <td>267.630005</td>\n",
       "      <td>267.630005</td>\n",
       "      <td>67400</td>\n",
       "      <td>0.011375</td>\n",
       "      <td>0</td>\n",
       "    </tr>\n",
       "    <tr>\n",
       "      <th>2020-06-26</th>\n",
       "      <td>266.880005</td>\n",
       "      <td>267.359985</td>\n",
       "      <td>261.010010</td>\n",
       "      <td>261.529999</td>\n",
       "      <td>261.529999</td>\n",
       "      <td>96500</td>\n",
       "      <td>-0.020046</td>\n",
       "      <td>0</td>\n",
       "    </tr>\n",
       "  </tbody>\n",
       "</table>\n",
       "</div>"
      ],
      "text/plain": [
       "                  Open        High         Low       Close   Adj Close  \\\n",
       "Date                                                                     \n",
       "2020-06-24  269.500000  271.070007  263.429993  264.809998  264.809998   \n",
       "2020-06-25  264.619995  267.750000  262.100006  267.630005  267.630005   \n",
       "2020-06-26  266.880005  267.359985  261.010010  261.529999  261.529999   \n",
       "\n",
       "            Volume  Percent Change  Direction  \n",
       "Date                                           \n",
       "2020-06-24  228900       -0.017403          0  \n",
       "2020-06-25   67400        0.011375          0  \n",
       "2020-06-26   96500       -0.020046          0  "
      ]
     },
     "execution_count": 36,
     "metadata": {},
     "output_type": "execute_result"
    }
   ],
   "source": [
    "stock_df.tail(3)"
   ]
  },
  {
   "cell_type": "code",
   "execution_count": 37,
   "metadata": {},
   "outputs": [
    {
     "data": {
      "text/plain": [
       "Open                266.880005\n",
       "High                267.359985\n",
       "Low                 261.010010\n",
       "Close               261.529999\n",
       "Adj Close           261.529999\n",
       "Volume            96500.000000\n",
       "Percent Change       -0.020046\n",
       "Name: 2020-06-26 00:00:00, dtype: float64"
      ]
     },
     "execution_count": 37,
     "metadata": {},
     "output_type": "execute_result"
    }
   ],
   "source": [
    "last = stock_df.drop(columns=['Direction']).iloc[-1]\n",
    "last"
   ]
  },
  {
   "cell_type": "code",
   "execution_count": 38,
   "metadata": {},
   "outputs": [
    {
     "name": "stdout",
     "output_type": "stream",
     "text": [
      "Buy IYW on the 1d for 2.0% increase.\n"
     ]
    },
    {
     "name": "stderr",
     "output_type": "stream",
     "text": [
      "[Parallel(n_jobs=5)]: Using backend ThreadingBackend with 5 concurrent workers.\n",
      "[Parallel(n_jobs=5)]: Done   2 out of   5 | elapsed:    0.0s remaining:    0.0s\n",
      "[Parallel(n_jobs=5)]: Done   5 out of   5 | elapsed:    0.0s finished\n"
     ]
    }
   ],
   "source": [
    "if rfc.predict(np.array(last).reshape(1, -1))[0] == 1:\n",
    "    print(f'Buy {symbol} on the {interval} for {round(perc_inc * 100, 1)}% increase.')\n",
    "else:\n",
    "    print(f'Sell or hold {symbol} on the {interval} interval for expected {round(perc_inc * 100, 1)}% increase.')"
   ]
  },
  {
   "cell_type": "markdown",
   "metadata": {},
   "source": [
    "Try Gradient Boosting: n_estimators, n_splits, n_depths, learning rate, etc..."
   ]
  },
  {
   "cell_type": "code",
   "execution_count": null,
   "metadata": {},
   "outputs": [],
   "source": []
  }
 ],
 "metadata": {
  "kernelspec": {
   "display_name": "Python 3",
   "language": "python",
   "name": "python3"
  },
  "language_info": {
   "codemirror_mode": {
    "name": "ipython",
    "version": 3
   },
   "file_extension": ".py",
   "mimetype": "text/x-python",
   "name": "python",
   "nbconvert_exporter": "python",
   "pygments_lexer": "ipython3",
   "version": "3.7.5"
  }
 },
 "nbformat": 4,
 "nbformat_minor": 4
}
