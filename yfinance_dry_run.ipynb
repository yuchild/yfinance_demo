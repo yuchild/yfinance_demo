{
 "cells": [
  {
   "cell_type": "markdown",
   "metadata": {},
   "source": [
    "## Imports"
   ]
  },
  {
   "cell_type": "code",
   "execution_count": 119,
   "metadata": {},
   "outputs": [],
   "source": [
    "import pandas as pd\n",
    "import numpy as np\n",
    "\n",
    "import matplotlib.pyplot as plt\n",
    "plt.rcParams['font.size'] = 12\n",
    "plt.rcParams['figure.figsize'] = (8, 7)\n",
    "plt.style.use('fivethirtyeight')\n",
    "\n",
    "import warnings\n",
    "warnings.filterwarnings('ignore')\n",
    "\n",
    "import yfinance as yf\n",
    "\n",
    "from sklearn.model_selection import train_test_split, GridSearchCV, cross_val_score\n",
    "from sklearn.ensemble import RandomForestClassifier\n",
    "from sklearn.metrics import (roc_auc_score\n",
    "                             , precision_score\n",
    "                             , recall_score\n",
    "                             , roc_curve\n",
    "                             , confusion_matrix\n",
    "                             , plot_confusion_matrix\n",
    "                             , precision_recall_curve\n",
    "                             , auc\n",
    "                            )\n",
    "\n",
    "import joblib"
   ]
  },
  {
   "cell_type": "markdown",
   "metadata": {},
   "source": [
    "## Global Variables"
   ]
  },
  {
   "cell_type": "code",
   "execution_count": 120,
   "metadata": {},
   "outputs": [],
   "source": [
    "''' \n",
    "\n",
    "95 Percentile\n",
    "IYW 1d 1.5%, 1hr 0.697%\n",
    "JEF 1d 2.5%, 1hr 1.1%\n",
    "TSLA 1d 4.3%, 1hr 1.66%\n",
    "VGT 1d 1.41% 1hr 0.686%\n",
    "VHT 1d 1.24%, 1hr 0.59%\n",
    "\n",
    "'''\n",
    "\n",
    "interval = '60m' # time interval for data point\n",
    "history = '2y' # time period for total history\n",
    "perc_inc = 0.006 # 1% increase or more from interval to interval\n",
    "symbol = 'VHT' # tech etf "
   ]
  },
  {
   "cell_type": "markdown",
   "metadata": {},
   "source": [
    "## Yahoo Finance"
   ]
  },
  {
   "cell_type": "code",
   "execution_count": 121,
   "metadata": {},
   "outputs": [
    {
     "name": "stdout",
     "output_type": "stream",
     "text": [
      "[*********************100%***********************]  1 of 1 completed\n"
     ]
    }
   ],
   "source": [
    "stock_df = yf.download(tickers = symbol\n",
    "                       , interval = interval\n",
    "                       , period = history\n",
    "                       , prepost = False\n",
    "                      )"
   ]
  },
  {
   "cell_type": "code",
   "execution_count": 122,
   "metadata": {},
   "outputs": [
    {
     "data": {
      "text/html": [
       "<div>\n",
       "<style scoped>\n",
       "    .dataframe tbody tr th:only-of-type {\n",
       "        vertical-align: middle;\n",
       "    }\n",
       "\n",
       "    .dataframe tbody tr th {\n",
       "        vertical-align: top;\n",
       "    }\n",
       "\n",
       "    .dataframe thead th {\n",
       "        text-align: right;\n",
       "    }\n",
       "</style>\n",
       "<table border=\"1\" class=\"dataframe\">\n",
       "  <thead>\n",
       "    <tr style=\"text-align: right;\">\n",
       "      <th></th>\n",
       "      <th>Open</th>\n",
       "      <th>High</th>\n",
       "      <th>Low</th>\n",
       "      <th>Close</th>\n",
       "      <th>Adj Close</th>\n",
       "      <th>Volume</th>\n",
       "    </tr>\n",
       "    <tr>\n",
       "      <th>Datetime</th>\n",
       "      <th></th>\n",
       "      <th></th>\n",
       "      <th></th>\n",
       "      <th></th>\n",
       "      <th></th>\n",
       "      <th></th>\n",
       "    </tr>\n",
       "  </thead>\n",
       "  <tbody>\n",
       "    <tr>\n",
       "      <th>2018-08-27 09:30:00-04:00</th>\n",
       "      <td>175.455002</td>\n",
       "      <td>175.455002</td>\n",
       "      <td>175.039993</td>\n",
       "      <td>175.199997</td>\n",
       "      <td>175.199997</td>\n",
       "      <td>16155</td>\n",
       "    </tr>\n",
       "    <tr>\n",
       "      <th>2018-08-27 10:30:00-04:00</th>\n",
       "      <td>175.080002</td>\n",
       "      <td>175.466003</td>\n",
       "      <td>175.012894</td>\n",
       "      <td>175.466003</td>\n",
       "      <td>175.466003</td>\n",
       "      <td>19416</td>\n",
       "    </tr>\n",
       "    <tr>\n",
       "      <th>2018-08-27 11:30:00-04:00</th>\n",
       "      <td>175.419998</td>\n",
       "      <td>175.645996</td>\n",
       "      <td>175.352997</td>\n",
       "      <td>175.630997</td>\n",
       "      <td>175.630997</td>\n",
       "      <td>14102</td>\n",
       "    </tr>\n",
       "  </tbody>\n",
       "</table>\n",
       "</div>"
      ],
      "text/plain": [
       "                                 Open        High         Low       Close  \\\n",
       "Datetime                                                                    \n",
       "2018-08-27 09:30:00-04:00  175.455002  175.455002  175.039993  175.199997   \n",
       "2018-08-27 10:30:00-04:00  175.080002  175.466003  175.012894  175.466003   \n",
       "2018-08-27 11:30:00-04:00  175.419998  175.645996  175.352997  175.630997   \n",
       "\n",
       "                            Adj Close  Volume  \n",
       "Datetime                                       \n",
       "2018-08-27 09:30:00-04:00  175.199997   16155  \n",
       "2018-08-27 10:30:00-04:00  175.466003   19416  \n",
       "2018-08-27 11:30:00-04:00  175.630997   14102  "
      ]
     },
     "execution_count": 122,
     "metadata": {},
     "output_type": "execute_result"
    }
   ],
   "source": [
    "stock_df.head(3)"
   ]
  },
  {
   "cell_type": "code",
   "execution_count": 123,
   "metadata": {},
   "outputs": [
    {
     "data": {
      "text/html": [
       "<div>\n",
       "<style scoped>\n",
       "    .dataframe tbody tr th:only-of-type {\n",
       "        vertical-align: middle;\n",
       "    }\n",
       "\n",
       "    .dataframe tbody tr th {\n",
       "        vertical-align: top;\n",
       "    }\n",
       "\n",
       "    .dataframe thead th {\n",
       "        text-align: right;\n",
       "    }\n",
       "</style>\n",
       "<table border=\"1\" class=\"dataframe\">\n",
       "  <thead>\n",
       "    <tr style=\"text-align: right;\">\n",
       "      <th></th>\n",
       "      <th>Open</th>\n",
       "      <th>High</th>\n",
       "      <th>Low</th>\n",
       "      <th>Close</th>\n",
       "      <th>Adj Close</th>\n",
       "      <th>Volume</th>\n",
       "    </tr>\n",
       "    <tr>\n",
       "      <th>Datetime</th>\n",
       "      <th></th>\n",
       "      <th></th>\n",
       "      <th></th>\n",
       "      <th></th>\n",
       "      <th></th>\n",
       "      <th></th>\n",
       "    </tr>\n",
       "  </thead>\n",
       "  <tbody>\n",
       "    <tr>\n",
       "      <th>2020-08-24 15:30:00-04:00</th>\n",
       "      <td>203.156601</td>\n",
       "      <td>203.630005</td>\n",
       "      <td>203.156601</td>\n",
       "      <td>203.559998</td>\n",
       "      <td>203.559998</td>\n",
       "      <td>17886</td>\n",
       "    </tr>\n",
       "    <tr>\n",
       "      <th>2020-08-25 09:30:00-04:00</th>\n",
       "      <td>204.339996</td>\n",
       "      <td>204.820007</td>\n",
       "      <td>203.559998</td>\n",
       "      <td>204.820007</td>\n",
       "      <td>204.820007</td>\n",
       "      <td>20983</td>\n",
       "    </tr>\n",
       "    <tr>\n",
       "      <th>2020-08-25 12:58:56-04:00</th>\n",
       "      <td>204.669998</td>\n",
       "      <td>204.669998</td>\n",
       "      <td>204.669998</td>\n",
       "      <td>204.669998</td>\n",
       "      <td>204.669998</td>\n",
       "      <td>0</td>\n",
       "    </tr>\n",
       "  </tbody>\n",
       "</table>\n",
       "</div>"
      ],
      "text/plain": [
       "                                 Open        High         Low       Close  \\\n",
       "Datetime                                                                    \n",
       "2020-08-24 15:30:00-04:00  203.156601  203.630005  203.156601  203.559998   \n",
       "2020-08-25 09:30:00-04:00  204.339996  204.820007  203.559998  204.820007   \n",
       "2020-08-25 12:58:56-04:00  204.669998  204.669998  204.669998  204.669998   \n",
       "\n",
       "                            Adj Close  Volume  \n",
       "Datetime                                       \n",
       "2020-08-24 15:30:00-04:00  203.559998   17886  \n",
       "2020-08-25 09:30:00-04:00  204.820007   20983  \n",
       "2020-08-25 12:58:56-04:00  204.669998       0  "
      ]
     },
     "execution_count": 123,
     "metadata": {},
     "output_type": "execute_result"
    }
   ],
   "source": [
    "stock_df.tail(3)"
   ]
  },
  {
   "cell_type": "markdown",
   "metadata": {},
   "source": [
    "## Create Percent Change"
   ]
  },
  {
   "cell_type": "code",
   "execution_count": 124,
   "metadata": {},
   "outputs": [
    {
     "data": {
      "text/html": [
       "<div>\n",
       "<style scoped>\n",
       "    .dataframe tbody tr th:only-of-type {\n",
       "        vertical-align: middle;\n",
       "    }\n",
       "\n",
       "    .dataframe tbody tr th {\n",
       "        vertical-align: top;\n",
       "    }\n",
       "\n",
       "    .dataframe thead th {\n",
       "        text-align: right;\n",
       "    }\n",
       "</style>\n",
       "<table border=\"1\" class=\"dataframe\">\n",
       "  <thead>\n",
       "    <tr style=\"text-align: right;\">\n",
       "      <th></th>\n",
       "      <th>Open</th>\n",
       "      <th>High</th>\n",
       "      <th>Low</th>\n",
       "      <th>Close</th>\n",
       "      <th>Adj Close</th>\n",
       "      <th>Volume</th>\n",
       "      <th>Percent Change</th>\n",
       "    </tr>\n",
       "    <tr>\n",
       "      <th>Datetime</th>\n",
       "      <th></th>\n",
       "      <th></th>\n",
       "      <th></th>\n",
       "      <th></th>\n",
       "      <th></th>\n",
       "      <th></th>\n",
       "      <th></th>\n",
       "    </tr>\n",
       "  </thead>\n",
       "  <tbody>\n",
       "    <tr>\n",
       "      <th>2018-08-27 09:30:00-04:00</th>\n",
       "      <td>175.455002</td>\n",
       "      <td>175.455002</td>\n",
       "      <td>175.039993</td>\n",
       "      <td>175.199997</td>\n",
       "      <td>175.199997</td>\n",
       "      <td>16155</td>\n",
       "      <td>-0.001453</td>\n",
       "    </tr>\n",
       "    <tr>\n",
       "      <th>2018-08-27 10:30:00-04:00</th>\n",
       "      <td>175.080002</td>\n",
       "      <td>175.466003</td>\n",
       "      <td>175.012894</td>\n",
       "      <td>175.466003</td>\n",
       "      <td>175.466003</td>\n",
       "      <td>19416</td>\n",
       "      <td>0.002205</td>\n",
       "    </tr>\n",
       "    <tr>\n",
       "      <th>2018-08-27 11:30:00-04:00</th>\n",
       "      <td>175.419998</td>\n",
       "      <td>175.645996</td>\n",
       "      <td>175.352997</td>\n",
       "      <td>175.630997</td>\n",
       "      <td>175.630997</td>\n",
       "      <td>14102</td>\n",
       "      <td>0.001203</td>\n",
       "    </tr>\n",
       "  </tbody>\n",
       "</table>\n",
       "</div>"
      ],
      "text/plain": [
       "                                 Open        High         Low       Close  \\\n",
       "Datetime                                                                    \n",
       "2018-08-27 09:30:00-04:00  175.455002  175.455002  175.039993  175.199997   \n",
       "2018-08-27 10:30:00-04:00  175.080002  175.466003  175.012894  175.466003   \n",
       "2018-08-27 11:30:00-04:00  175.419998  175.645996  175.352997  175.630997   \n",
       "\n",
       "                            Adj Close  Volume  Percent Change  \n",
       "Datetime                                                       \n",
       "2018-08-27 09:30:00-04:00  175.199997   16155       -0.001453  \n",
       "2018-08-27 10:30:00-04:00  175.466003   19416        0.002205  \n",
       "2018-08-27 11:30:00-04:00  175.630997   14102        0.001203  "
      ]
     },
     "execution_count": 124,
     "metadata": {},
     "output_type": "execute_result"
    }
   ],
   "source": [
    "stock_df['Percent Change'] = (stock_df.Close - stock_df.Open) / (stock_df.Open + 0.00001)\n",
    "stock_df.head(3)"
   ]
  },
  {
   "cell_type": "code",
   "execution_count": 125,
   "metadata": {},
   "outputs": [
    {
     "data": {
      "image/png": "[encoded data removed]",
      "text/plain": [
       "<Figure size 576x504 with 1 Axes>"
      ]
     },
     "metadata": {},
     "output_type": "display_data"
    }
   ],
   "source": [
    "stock_df['Percent Change'].hist(bins=25);"
   ]
  },
  {
   "cell_type": "code",
   "execution_count": 126,
   "metadata": {},
   "outputs": [
    {
     "data": {
      "text/plain": [
       "0.95    0.005872\n",
       "Name: Percent Change, dtype: float64"
      ]
     },
     "execution_count": 126,
     "metadata": {},
     "output_type": "execute_result"
    }
   ],
   "source": [
    "stock_df['Percent Change'].quantile([0.95]) # 1 stdev from avg"
   ]
  },
  {
   "cell_type": "markdown",
   "metadata": {},
   "source": [
    "## High Minus Low Percent Change"
   ]
  },
  {
   "cell_type": "code",
   "execution_count": 127,
   "metadata": {},
   "outputs": [
    {
     "data": {
      "text/html": [
       "<div>\n",
       "<style scoped>\n",
       "    .dataframe tbody tr th:only-of-type {\n",
       "        vertical-align: middle;\n",
       "    }\n",
       "\n",
       "    .dataframe tbody tr th {\n",
       "        vertical-align: top;\n",
       "    }\n",
       "\n",
       "    .dataframe thead th {\n",
       "        text-align: right;\n",
       "    }\n",
       "</style>\n",
       "<table border=\"1\" class=\"dataframe\">\n",
       "  <thead>\n",
       "    <tr style=\"text-align: right;\">\n",
       "      <th></th>\n",
       "      <th>Open</th>\n",
       "      <th>High</th>\n",
       "      <th>Low</th>\n",
       "      <th>Close</th>\n",
       "      <th>Adj Close</th>\n",
       "      <th>Volume</th>\n",
       "      <th>Percent Change</th>\n",
       "      <th>HL Percent Change</th>\n",
       "    </tr>\n",
       "    <tr>\n",
       "      <th>Datetime</th>\n",
       "      <th></th>\n",
       "      <th></th>\n",
       "      <th></th>\n",
       "      <th></th>\n",
       "      <th></th>\n",
       "      <th></th>\n",
       "      <th></th>\n",
       "      <th></th>\n",
       "    </tr>\n",
       "  </thead>\n",
       "  <tbody>\n",
       "    <tr>\n",
       "      <th>2018-08-27 09:30:00-04:00</th>\n",
       "      <td>175.455002</td>\n",
       "      <td>175.455002</td>\n",
       "      <td>175.039993</td>\n",
       "      <td>175.199997</td>\n",
       "      <td>175.199997</td>\n",
       "      <td>16155</td>\n",
       "      <td>-0.001453</td>\n",
       "      <td>-0.002365</td>\n",
       "    </tr>\n",
       "    <tr>\n",
       "      <th>2018-08-27 10:30:00-04:00</th>\n",
       "      <td>175.080002</td>\n",
       "      <td>175.466003</td>\n",
       "      <td>175.012894</td>\n",
       "      <td>175.466003</td>\n",
       "      <td>175.466003</td>\n",
       "      <td>19416</td>\n",
       "      <td>0.002205</td>\n",
       "      <td>0.002589</td>\n",
       "    </tr>\n",
       "    <tr>\n",
       "      <th>2018-08-27 11:30:00-04:00</th>\n",
       "      <td>175.419998</td>\n",
       "      <td>175.645996</td>\n",
       "      <td>175.352997</td>\n",
       "      <td>175.630997</td>\n",
       "      <td>175.630997</td>\n",
       "      <td>14102</td>\n",
       "      <td>0.001203</td>\n",
       "      <td>0.001671</td>\n",
       "    </tr>\n",
       "    <tr>\n",
       "      <th>2018-08-27 12:30:00-04:00</th>\n",
       "      <td>175.619995</td>\n",
       "      <td>175.639999</td>\n",
       "      <td>175.445007</td>\n",
       "      <td>175.460403</td>\n",
       "      <td>175.460403</td>\n",
       "      <td>20653</td>\n",
       "      <td>-0.000909</td>\n",
       "      <td>-0.001110</td>\n",
       "    </tr>\n",
       "    <tr>\n",
       "      <th>2018-08-27 13:30:00-04:00</th>\n",
       "      <td>175.457397</td>\n",
       "      <td>175.570099</td>\n",
       "      <td>175.309998</td>\n",
       "      <td>175.500000</td>\n",
       "      <td>175.500000</td>\n",
       "      <td>15494</td>\n",
       "      <td>0.000243</td>\n",
       "      <td>0.001484</td>\n",
       "    </tr>\n",
       "  </tbody>\n",
       "</table>\n",
       "</div>"
      ],
      "text/plain": [
       "                                 Open        High         Low       Close  \\\n",
       "Datetime                                                                    \n",
       "2018-08-27 09:30:00-04:00  175.455002  175.455002  175.039993  175.199997   \n",
       "2018-08-27 10:30:00-04:00  175.080002  175.466003  175.012894  175.466003   \n",
       "2018-08-27 11:30:00-04:00  175.419998  175.645996  175.352997  175.630997   \n",
       "2018-08-27 12:30:00-04:00  175.619995  175.639999  175.445007  175.460403   \n",
       "2018-08-27 13:30:00-04:00  175.457397  175.570099  175.309998  175.500000   \n",
       "\n",
       "                            Adj Close  Volume  Percent Change  \\\n",
       "Datetime                                                        \n",
       "2018-08-27 09:30:00-04:00  175.199997   16155       -0.001453   \n",
       "2018-08-27 10:30:00-04:00  175.466003   19416        0.002205   \n",
       "2018-08-27 11:30:00-04:00  175.630997   14102        0.001203   \n",
       "2018-08-27 12:30:00-04:00  175.460403   20653       -0.000909   \n",
       "2018-08-27 13:30:00-04:00  175.500000   15494        0.000243   \n",
       "\n",
       "                           HL Percent Change  \n",
       "Datetime                                      \n",
       "2018-08-27 09:30:00-04:00          -0.002365  \n",
       "2018-08-27 10:30:00-04:00           0.002589  \n",
       "2018-08-27 11:30:00-04:00           0.001671  \n",
       "2018-08-27 12:30:00-04:00          -0.001110  \n",
       "2018-08-27 13:30:00-04:00           0.001484  "
      ]
     },
     "execution_count": 127,
     "metadata": {},
     "output_type": "execute_result"
    }
   ],
   "source": [
    "stock_df['HL Percent Change'] = np.where(stock_df['Percent Change'] > 0\n",
    "                                , (stock_df.High - stock_df.Low)/stock_df.Low\n",
    "                                , (stock_df.Low - stock_df.High)/stock_df.High\n",
    "                               )\n",
    "stock_df.head(5)"
   ]
  },
  {
   "cell_type": "markdown",
   "metadata": {},
   "source": [
    "## Assign Direction"
   ]
  },
  {
   "cell_type": "code",
   "execution_count": 128,
   "metadata": {},
   "outputs": [],
   "source": [
    "stock_df['Direction'] = np.where(stock_df['Percent Change'] > perc_inc\n",
    "                                 , 1\n",
    "                                 , 0\n",
    "                                )"
   ]
  },
  {
   "cell_type": "code",
   "execution_count": 129,
   "metadata": {},
   "outputs": [
    {
     "data": {
      "text/html": [
       "<div>\n",
       "<style scoped>\n",
       "    .dataframe tbody tr th:only-of-type {\n",
       "        vertical-align: middle;\n",
       "    }\n",
       "\n",
       "    .dataframe tbody tr th {\n",
       "        vertical-align: top;\n",
       "    }\n",
       "\n",
       "    .dataframe thead th {\n",
       "        text-align: right;\n",
       "    }\n",
       "</style>\n",
       "<table border=\"1\" class=\"dataframe\">\n",
       "  <thead>\n",
       "    <tr style=\"text-align: right;\">\n",
       "      <th></th>\n",
       "      <th>Open</th>\n",
       "      <th>High</th>\n",
       "      <th>Low</th>\n",
       "      <th>Close</th>\n",
       "      <th>Adj Close</th>\n",
       "      <th>Volume</th>\n",
       "      <th>Percent Change</th>\n",
       "      <th>HL Percent Change</th>\n",
       "      <th>Direction</th>\n",
       "    </tr>\n",
       "    <tr>\n",
       "      <th>Datetime</th>\n",
       "      <th></th>\n",
       "      <th></th>\n",
       "      <th></th>\n",
       "      <th></th>\n",
       "      <th></th>\n",
       "      <th></th>\n",
       "      <th></th>\n",
       "      <th></th>\n",
       "      <th></th>\n",
       "    </tr>\n",
       "  </thead>\n",
       "  <tbody>\n",
       "    <tr>\n",
       "      <th>2020-08-24 13:30:00-04:00</th>\n",
       "      <td>203.259995</td>\n",
       "      <td>203.335999</td>\n",
       "      <td>203.095001</td>\n",
       "      <td>203.210007</td>\n",
       "      <td>203.210007</td>\n",
       "      <td>12031</td>\n",
       "      <td>-0.000246</td>\n",
       "      <td>-0.001185</td>\n",
       "      <td>0</td>\n",
       "    </tr>\n",
       "    <tr>\n",
       "      <th>2020-08-24 14:30:00-04:00</th>\n",
       "      <td>203.220001</td>\n",
       "      <td>203.345001</td>\n",
       "      <td>202.979996</td>\n",
       "      <td>203.130005</td>\n",
       "      <td>203.130005</td>\n",
       "      <td>19015</td>\n",
       "      <td>-0.000443</td>\n",
       "      <td>-0.001795</td>\n",
       "      <td>0</td>\n",
       "    </tr>\n",
       "    <tr>\n",
       "      <th>2020-08-24 15:30:00-04:00</th>\n",
       "      <td>203.156601</td>\n",
       "      <td>203.630005</td>\n",
       "      <td>203.156601</td>\n",
       "      <td>203.559998</td>\n",
       "      <td>203.559998</td>\n",
       "      <td>17886</td>\n",
       "      <td>0.001986</td>\n",
       "      <td>0.002330</td>\n",
       "      <td>0</td>\n",
       "    </tr>\n",
       "    <tr>\n",
       "      <th>2020-08-25 09:30:00-04:00</th>\n",
       "      <td>204.339996</td>\n",
       "      <td>204.820007</td>\n",
       "      <td>203.559998</td>\n",
       "      <td>204.820007</td>\n",
       "      <td>204.820007</td>\n",
       "      <td>20983</td>\n",
       "      <td>0.002349</td>\n",
       "      <td>0.006190</td>\n",
       "      <td>0</td>\n",
       "    </tr>\n",
       "    <tr>\n",
       "      <th>2020-08-25 12:58:56-04:00</th>\n",
       "      <td>204.669998</td>\n",
       "      <td>204.669998</td>\n",
       "      <td>204.669998</td>\n",
       "      <td>204.669998</td>\n",
       "      <td>204.669998</td>\n",
       "      <td>0</td>\n",
       "      <td>0.000000</td>\n",
       "      <td>0.000000</td>\n",
       "      <td>0</td>\n",
       "    </tr>\n",
       "  </tbody>\n",
       "</table>\n",
       "</div>"
      ],
      "text/plain": [
       "                                 Open        High         Low       Close  \\\n",
       "Datetime                                                                    \n",
       "2020-08-24 13:30:00-04:00  203.259995  203.335999  203.095001  203.210007   \n",
       "2020-08-24 14:30:00-04:00  203.220001  203.345001  202.979996  203.130005   \n",
       "2020-08-24 15:30:00-04:00  203.156601  203.630005  203.156601  203.559998   \n",
       "2020-08-25 09:30:00-04:00  204.339996  204.820007  203.559998  204.820007   \n",
       "2020-08-25 12:58:56-04:00  204.669998  204.669998  204.669998  204.669998   \n",
       "\n",
       "                            Adj Close  Volume  Percent Change  \\\n",
       "Datetime                                                        \n",
       "2020-08-24 13:30:00-04:00  203.210007   12031       -0.000246   \n",
       "2020-08-24 14:30:00-04:00  203.130005   19015       -0.000443   \n",
       "2020-08-24 15:30:00-04:00  203.559998   17886        0.001986   \n",
       "2020-08-25 09:30:00-04:00  204.820007   20983        0.002349   \n",
       "2020-08-25 12:58:56-04:00  204.669998       0        0.000000   \n",
       "\n",
       "                           HL Percent Change  Direction  \n",
       "Datetime                                                 \n",
       "2020-08-24 13:30:00-04:00          -0.001185          0  \n",
       "2020-08-24 14:30:00-04:00          -0.001795          0  \n",
       "2020-08-24 15:30:00-04:00           0.002330          0  \n",
       "2020-08-25 09:30:00-04:00           0.006190          0  \n",
       "2020-08-25 12:58:56-04:00           0.000000          0  "
      ]
     },
     "execution_count": 129,
     "metadata": {},
     "output_type": "execute_result"
    }
   ],
   "source": [
    "stock_df.tail(5)"
   ]
  },
  {
   "cell_type": "markdown",
   "metadata": {},
   "source": [
    "## Shift Direction Column Up 1"
   ]
  },
  {
   "cell_type": "markdown",
   "metadata": {},
   "source": [
    "Move decision column up by 1 cell so current hour of data will predict the next hour of data or whichever time frame interval is observed"
   ]
  },
  {
   "cell_type": "code",
   "execution_count": 130,
   "metadata": {},
   "outputs": [
    {
     "name": "stdout",
     "output_type": "stream",
     "text": [
      "Length Before: 3471\n",
      "Length After: 3470\n"
     ]
    }
   ],
   "source": [
    "direction = stock_df.Direction.values\n",
    "print(f'Length Before: {len(direction)}')\n",
    "direction = direction[1:len(direction)]\n",
    "print(f'Length After: {len(direction)}')"
   ]
  },
  {
   "cell_type": "code",
   "execution_count": 131,
   "metadata": {},
   "outputs": [
    {
     "data": {
      "text/plain": [
       "(3470, 9)"
      ]
     },
     "execution_count": 131,
     "metadata": {},
     "output_type": "execute_result"
    }
   ],
   "source": [
    "stock_df_one_off = stock_df.iloc[0:stock_df.shape[0]-1]\n",
    "stock_df_one_off['Direction'] = direction\n",
    "stock_df_one_off.shape"
   ]
  },
  {
   "cell_type": "code",
   "execution_count": 132,
   "metadata": {
    "scrolled": true
   },
   "outputs": [
    {
     "data": {
      "text/html": [
       "<div>\n",
       "<style scoped>\n",
       "    .dataframe tbody tr th:only-of-type {\n",
       "        vertical-align: middle;\n",
       "    }\n",
       "\n",
       "    .dataframe tbody tr th {\n",
       "        vertical-align: top;\n",
       "    }\n",
       "\n",
       "    .dataframe thead th {\n",
       "        text-align: right;\n",
       "    }\n",
       "</style>\n",
       "<table border=\"1\" class=\"dataframe\">\n",
       "  <thead>\n",
       "    <tr style=\"text-align: right;\">\n",
       "      <th></th>\n",
       "      <th>Open</th>\n",
       "      <th>High</th>\n",
       "      <th>Low</th>\n",
       "      <th>Close</th>\n",
       "      <th>Adj Close</th>\n",
       "      <th>Volume</th>\n",
       "      <th>Percent Change</th>\n",
       "      <th>HL Percent Change</th>\n",
       "      <th>Direction</th>\n",
       "    </tr>\n",
       "    <tr>\n",
       "      <th>Datetime</th>\n",
       "      <th></th>\n",
       "      <th></th>\n",
       "      <th></th>\n",
       "      <th></th>\n",
       "      <th></th>\n",
       "      <th></th>\n",
       "      <th></th>\n",
       "      <th></th>\n",
       "      <th></th>\n",
       "    </tr>\n",
       "  </thead>\n",
       "  <tbody>\n",
       "    <tr>\n",
       "      <th>2020-08-24 12:30:00-04:00</th>\n",
       "      <td>202.500000</td>\n",
       "      <td>203.434998</td>\n",
       "      <td>202.500000</td>\n",
       "      <td>203.292007</td>\n",
       "      <td>203.292007</td>\n",
       "      <td>9919</td>\n",
       "      <td>0.003911</td>\n",
       "      <td>0.004617</td>\n",
       "      <td>0</td>\n",
       "    </tr>\n",
       "    <tr>\n",
       "      <th>2020-08-24 13:30:00-04:00</th>\n",
       "      <td>203.259995</td>\n",
       "      <td>203.335999</td>\n",
       "      <td>203.095001</td>\n",
       "      <td>203.210007</td>\n",
       "      <td>203.210007</td>\n",
       "      <td>12031</td>\n",
       "      <td>-0.000246</td>\n",
       "      <td>-0.001185</td>\n",
       "      <td>0</td>\n",
       "    </tr>\n",
       "    <tr>\n",
       "      <th>2020-08-24 14:30:00-04:00</th>\n",
       "      <td>203.220001</td>\n",
       "      <td>203.345001</td>\n",
       "      <td>202.979996</td>\n",
       "      <td>203.130005</td>\n",
       "      <td>203.130005</td>\n",
       "      <td>19015</td>\n",
       "      <td>-0.000443</td>\n",
       "      <td>-0.001795</td>\n",
       "      <td>0</td>\n",
       "    </tr>\n",
       "    <tr>\n",
       "      <th>2020-08-24 15:30:00-04:00</th>\n",
       "      <td>203.156601</td>\n",
       "      <td>203.630005</td>\n",
       "      <td>203.156601</td>\n",
       "      <td>203.559998</td>\n",
       "      <td>203.559998</td>\n",
       "      <td>17886</td>\n",
       "      <td>0.001986</td>\n",
       "      <td>0.002330</td>\n",
       "      <td>0</td>\n",
       "    </tr>\n",
       "    <tr>\n",
       "      <th>2020-08-25 09:30:00-04:00</th>\n",
       "      <td>204.339996</td>\n",
       "      <td>204.820007</td>\n",
       "      <td>203.559998</td>\n",
       "      <td>204.820007</td>\n",
       "      <td>204.820007</td>\n",
       "      <td>20983</td>\n",
       "      <td>0.002349</td>\n",
       "      <td>0.006190</td>\n",
       "      <td>0</td>\n",
       "    </tr>\n",
       "  </tbody>\n",
       "</table>\n",
       "</div>"
      ],
      "text/plain": [
       "                                 Open        High         Low       Close  \\\n",
       "Datetime                                                                    \n",
       "2020-08-24 12:30:00-04:00  202.500000  203.434998  202.500000  203.292007   \n",
       "2020-08-24 13:30:00-04:00  203.259995  203.335999  203.095001  203.210007   \n",
       "2020-08-24 14:30:00-04:00  203.220001  203.345001  202.979996  203.130005   \n",
       "2020-08-24 15:30:00-04:00  203.156601  203.630005  203.156601  203.559998   \n",
       "2020-08-25 09:30:00-04:00  204.339996  204.820007  203.559998  204.820007   \n",
       "\n",
       "                            Adj Close  Volume  Percent Change  \\\n",
       "Datetime                                                        \n",
       "2020-08-24 12:30:00-04:00  203.292007    9919        0.003911   \n",
       "2020-08-24 13:30:00-04:00  203.210007   12031       -0.000246   \n",
       "2020-08-24 14:30:00-04:00  203.130005   19015       -0.000443   \n",
       "2020-08-24 15:30:00-04:00  203.559998   17886        0.001986   \n",
       "2020-08-25 09:30:00-04:00  204.820007   20983        0.002349   \n",
       "\n",
       "                           HL Percent Change  Direction  \n",
       "Datetime                                                 \n",
       "2020-08-24 12:30:00-04:00           0.004617          0  \n",
       "2020-08-24 13:30:00-04:00          -0.001185          0  \n",
       "2020-08-24 14:30:00-04:00          -0.001795          0  \n",
       "2020-08-24 15:30:00-04:00           0.002330          0  \n",
       "2020-08-25 09:30:00-04:00           0.006190          0  "
      ]
     },
     "execution_count": 132,
     "metadata": {},
     "output_type": "execute_result"
    }
   ],
   "source": [
    "stock_df_one_off.tail(5)"
   ]
  },
  {
   "cell_type": "code",
   "execution_count": 133,
   "metadata": {},
   "outputs": [
    {
     "data": {
      "text/plain": [
       "0    3301\n",
       "1     169\n",
       "Name: Direction, dtype: int64"
      ]
     },
     "execution_count": 133,
     "metadata": {},
     "output_type": "execute_result"
    }
   ],
   "source": [
    "stock_df_one_off.Direction.value_counts()"
   ]
  },
  {
   "cell_type": "markdown",
   "metadata": {},
   "source": [
    "## Balance 1's and 0's"
   ]
  },
  {
   "cell_type": "code",
   "execution_count": 134,
   "metadata": {},
   "outputs": [
    {
     "data": {
      "text/plain": [
       "169"
      ]
     },
     "execution_count": 134,
     "metadata": {},
     "output_type": "execute_result"
    }
   ],
   "source": [
    "ones_count = stock_df_one_off['Direction'].value_counts()[1]\n",
    "ones_count"
   ]
  },
  {
   "cell_type": "code",
   "execution_count": 135,
   "metadata": {},
   "outputs": [
    {
     "data": {
      "text/plain": [
       "(338, 9)"
      ]
     },
     "execution_count": 135,
     "metadata": {},
     "output_type": "execute_result"
    }
   ],
   "source": [
    "stock_df_bal = stock_df_one_off.groupby('Direction').apply(lambda x: x.sample(n=ones_count)).reset_index(drop=True)\n",
    "stock_df_bal.shape"
   ]
  },
  {
   "cell_type": "code",
   "execution_count": 136,
   "metadata": {},
   "outputs": [
    {
     "data": {
      "text/plain": [
       "1    169\n",
       "0    169\n",
       "Name: Direction, dtype: int64"
      ]
     },
     "execution_count": 136,
     "metadata": {},
     "output_type": "execute_result"
    }
   ],
   "source": [
    "stock_df_bal['Direction'].value_counts() # try bootstrapping and upsampling "
   ]
  },
  {
   "cell_type": "markdown",
   "metadata": {},
   "source": [
    "## Check for NaN's"
   ]
  },
  {
   "cell_type": "code",
   "execution_count": 137,
   "metadata": {},
   "outputs": [
    {
     "data": {
      "text/plain": [
       "Open                 0\n",
       "High                 0\n",
       "Low                  0\n",
       "Close                0\n",
       "Adj Close            0\n",
       "Volume               0\n",
       "Percent Change       0\n",
       "HL Percent Change    0\n",
       "Direction            0\n",
       "dtype: int64"
      ]
     },
     "execution_count": 137,
     "metadata": {},
     "output_type": "execute_result"
    }
   ],
   "source": [
    "stock_df_bal.isna().sum()"
   ]
  },
  {
   "cell_type": "code",
   "execution_count": 138,
   "metadata": {},
   "outputs": [],
   "source": [
    "stock_df_bal.dropna(axis=0, inplace=True)"
   ]
  },
  {
   "cell_type": "code",
   "execution_count": 139,
   "metadata": {},
   "outputs": [
    {
     "data": {
      "text/plain": [
       "Open                 0\n",
       "High                 0\n",
       "Low                  0\n",
       "Close                0\n",
       "Adj Close            0\n",
       "Volume               0\n",
       "Percent Change       0\n",
       "HL Percent Change    0\n",
       "Direction            0\n",
       "dtype: int64"
      ]
     },
     "execution_count": 139,
     "metadata": {},
     "output_type": "execute_result"
    }
   ],
   "source": [
    "stock_df_bal.isna().sum()"
   ]
  },
  {
   "cell_type": "markdown",
   "metadata": {},
   "source": [
    "## Train Test Split"
   ]
  },
  {
   "cell_type": "code",
   "execution_count": 140,
   "metadata": {},
   "outputs": [],
   "source": [
    "X = stock_df_bal.drop(columns=['Direction'])\n",
    "y = stock_df_bal['Direction']"
   ]
  },
  {
   "cell_type": "code",
   "execution_count": 141,
   "metadata": {},
   "outputs": [],
   "source": [
    "X_train, X_test, y_train, y_test = train_test_split(X\n",
    "                                                    , y\n",
    "                                                    , test_size=0.2\n",
    "                                                    , random_state = 42\n",
    "                                                   )"
   ]
  },
  {
   "cell_type": "markdown",
   "metadata": {},
   "source": [
    "## Grid Search"
   ]
  },
  {
   "cell_type": "code",
   "execution_count": 142,
   "metadata": {
    "scrolled": true
   },
   "outputs": [
    {
     "name": "stdout",
     "output_type": "stream",
     "text": [
      "Fitting 7 folds for each of 12600 candidates, totalling 88200 fits\n"
     ]
    },
    {
     "name": "stderr",
     "output_type": "stream",
     "text": [
      "[Parallel(n_jobs=-1)]: Using backend LokyBackend with 8 concurrent workers.\n",
      "[Parallel(n_jobs=-1)]: Done  34 tasks      | elapsed:    1.5s\n",
      "[Parallel(n_jobs=-1)]: Done 232 tasks      | elapsed:    5.2s\n",
      "[Parallel(n_jobs=-1)]: Done 732 tasks      | elapsed:   13.9s\n",
      "[Parallel(n_jobs=-1)]: Done 1432 tasks      | elapsed:   25.7s\n",
      "[Parallel(n_jobs=-1)]: Done 2332 tasks      | elapsed:   41.1s\n",
      "[Parallel(n_jobs=-1)]: Done 3432 tasks      | elapsed:   59.8s\n",
      "[Parallel(n_jobs=-1)]: Done 4732 tasks      | elapsed:  1.4min\n",
      "[Parallel(n_jobs=-1)]: Done 6232 tasks      | elapsed:  1.8min\n",
      "[Parallel(n_jobs=-1)]: Done 7932 tasks      | elapsed:  2.3min\n",
      "[Parallel(n_jobs=-1)]: Done 9832 tasks      | elapsed:  2.8min\n",
      "[Parallel(n_jobs=-1)]: Done 11932 tasks      | elapsed:  3.5min\n",
      "[Parallel(n_jobs=-1)]: Done 14232 tasks      | elapsed:  4.2min\n",
      "[Parallel(n_jobs=-1)]: Done 16732 tasks      | elapsed:  4.9min\n",
      "[Parallel(n_jobs=-1)]: Done 19432 tasks      | elapsed:  5.7min\n",
      "[Parallel(n_jobs=-1)]: Done 22332 tasks      | elapsed:  6.6min\n",
      "[Parallel(n_jobs=-1)]: Done 25432 tasks      | elapsed:  7.5min\n",
      "[Parallel(n_jobs=-1)]: Done 28732 tasks      | elapsed:  8.6min\n",
      "[Parallel(n_jobs=-1)]: Done 32232 tasks      | elapsed:  9.7min\n",
      "[Parallel(n_jobs=-1)]: Done 35932 tasks      | elapsed: 10.9min\n",
      "[Parallel(n_jobs=-1)]: Done 39832 tasks      | elapsed: 12.0min\n",
      "[Parallel(n_jobs=-1)]: Done 43932 tasks      | elapsed: 13.4min\n",
      "[Parallel(n_jobs=-1)]: Done 48232 tasks      | elapsed: 14.3min\n",
      "[Parallel(n_jobs=-1)]: Done 52732 tasks      | elapsed: 15.3min\n",
      "[Parallel(n_jobs=-1)]: Done 57432 tasks      | elapsed: 16.4min\n",
      "[Parallel(n_jobs=-1)]: Done 62332 tasks      | elapsed: 17.6min\n",
      "[Parallel(n_jobs=-1)]: Done 67432 tasks      | elapsed: 18.8min\n",
      "[Parallel(n_jobs=-1)]: Done 72732 tasks      | elapsed: 20.2min\n",
      "[Parallel(n_jobs=-1)]: Done 78232 tasks      | elapsed: 21.6min\n",
      "[Parallel(n_jobs=-1)]: Done 83932 tasks      | elapsed: 23.1min\n",
      "[Parallel(n_jobs=-1)]: Done 88200 out of 88200 | elapsed: 24.3min finished\n"
     ]
    },
    {
     "data": {
      "text/plain": [
       "GridSearchCV(cv=7, estimator=RandomForestClassifier(), n_jobs=-1,\n",
       "             param_grid={'bootstrap': [True, False],\n",
       "                         'max_depth': [1, 2, 3, 4, 5, 6],\n",
       "                         'max_features': [1, 2, 3, 4, 5, 6],\n",
       "                         'min_samples_leaf': [1, 2, 3, 4, 5],\n",
       "                         'min_samples_split': [2, 3, 4, 5, 6],\n",
       "                         'n_estimators': [5, 25, 45, 65, 85, 105, 125]},\n",
       "             verbose=1)"
      ]
     },
     "execution_count": 142,
     "metadata": {},
     "output_type": "execute_result"
    }
   ],
   "source": [
    "grid1={'bootstrap': [True, False]\n",
    "       , 'n_estimators': [5, 25, 45, 65, 85, 105, 125]\n",
    "       , 'max_depth': [1, 2, 3, 4, 5, 6]\n",
    "       , 'max_features': [1, 2, 3, 4, 5, 6]\n",
    "       , 'min_samples_leaf': [1, 2, 3, 4, 5]\n",
    "       , 'min_samples_split': [2, 3, 4, 5, 6]\n",
    "      }\n",
    "\n",
    "rf_grid_search1 = GridSearchCV(estimator = RandomForestClassifier()\n",
    "                               , param_grid = grid1\n",
    "                               , cv = 7\n",
    "                               , n_jobs = -1\n",
    "                               , verbose = 1\n",
    "                              )\n",
    "\n",
    "rf_grid_search1.fit(X_train, y_train)"
   ]
  },
  {
   "cell_type": "code",
   "execution_count": 143,
   "metadata": {},
   "outputs": [
    {
     "data": {
      "text/plain": [
       "{'bootstrap': True,\n",
       " 'max_depth': 4,\n",
       " 'max_features': 5,\n",
       " 'min_samples_leaf': 5,\n",
       " 'min_samples_split': 6,\n",
       " 'n_estimators': 5}"
      ]
     },
     "execution_count": 143,
     "metadata": {},
     "output_type": "execute_result"
    }
   ],
   "source": [
    "rf_grid_search1.best_params_"
   ]
  },
  {
   "cell_type": "markdown",
   "metadata": {},
   "source": [
    "## Save Best Parameters"
   ]
  },
  {
   "cell_type": "code",
   "execution_count": 144,
   "metadata": {},
   "outputs": [
    {
     "data": {
      "text/plain": [
       "['rfc_1hr_VHT.pkl']"
      ]
     },
     "execution_count": 144,
     "metadata": {},
     "output_type": "execute_result"
    }
   ],
   "source": [
    "joblib.dump(rf_grid_search1.best_params_\n",
    "            , 'rfc_1hr_VHT.pkl' # 1d or 1hr change ***\n",
    "            , compress = 1\n",
    "           )"
   ]
  },
  {
   "cell_type": "markdown",
   "metadata": {},
   "source": [
    "## Load Best parameters"
   ]
  },
  {
   "cell_type": "code",
   "execution_count": null,
   "metadata": {},
   "outputs": [],
   "source": [
    "rfc = RandomForestClassifier(random_state = 42\n",
    "                             , n_jobs = -1\n",
    "                             , verbose = 1\n",
    "                            ).set_params(**joblib.load('rfc_1hr_JEF.pkl')) # 1d or 1hr change ***"
   ]
  },
  {
   "cell_type": "code",
   "execution_count": null,
   "metadata": {},
   "outputs": [],
   "source": []
  },
  {
   "cell_type": "markdown",
   "metadata": {},
   "source": [
    "## Random Forest Classifier"
   ]
  },
  {
   "cell_type": "code",
   "execution_count": null,
   "metadata": {},
   "outputs": [],
   "source": [
    "# rfc loaded from above\n",
    "# rfc = RandomForestClassifier(bootstrap = True\n",
    "#                              , n_estimators = 5 # how many trees, optimize using grid search   \n",
    "#                              , random_state = 42\n",
    "#                              , verbose = 1\n",
    "#                              , n_jobs = -1 # uses all your processer cores\n",
    "#                              , max_depth = 6 # height of tree\n",
    "#                              , max_features = 3 # random sampling of features\n",
    "#                              , min_samples_leaf = 2\n",
    "#                              , min_samples_split = 2\n",
    "#                              # need to tune n_estimators, n max_depth, max_features\n",
    "#                             )"
   ]
  },
  {
   "cell_type": "code",
   "execution_count": null,
   "metadata": {},
   "outputs": [],
   "source": [
    "rfc.fit(X_train, y_train)\n",
    "\n",
    "y_pred = rfc.predict(X_test)\n",
    "\n",
    "y_probs = rfc.predict_proba(X_test)[:, 1]"
   ]
  },
  {
   "cell_type": "markdown",
   "metadata": {},
   "source": [
    "## Cross Val Score"
   ]
  },
  {
   "cell_type": "code",
   "execution_count": null,
   "metadata": {},
   "outputs": [],
   "source": [
    "cval = cross_val_score(rfc\n",
    "                       , X_train\n",
    "                       , y_train\n",
    "                       , scoring='accuracy'\n",
    "                       , cv=7\n",
    "                      )\n",
    "\n",
    "print(f'Cross-Validation Score: {np.mean(cval)}')"
   ]
  },
  {
   "cell_type": "markdown",
   "metadata": {},
   "source": [
    "## Receiver Operating Characteristic (ROC) Curve"
   ]
  },
  {
   "cell_type": "code",
   "execution_count": null,
   "metadata": {},
   "outputs": [],
   "source": [
    "roc_score = roc_auc_score(y_test\n",
    "                          , y_probs\n",
    "                         )\n",
    "roc_score"
   ]
  },
  {
   "cell_type": "code",
   "execution_count": null,
   "metadata": {},
   "outputs": [],
   "source": [
    "plt.rcParams['font.size'] = 16\n",
    "plt.figure(figsize=(10,7))\n",
    "\n",
    "# No Skill Line Data\n",
    "base_fpr, base_tpr, _ = roc_curve(y_test\n",
    "                                  , [1 for _ in range(len(y_test))]\n",
    "                                 ) \n",
    "\n",
    "# Model Data\n",
    "model_fpr, model_tpr, _ = roc_curve(y_test\n",
    "                                    , y_probs\n",
    "                                   )\n",
    "\n",
    "plt.plot(base_fpr\n",
    "         , base_tpr\n",
    "         , 'b'\n",
    "         , label='No Skill'\n",
    "        )\n",
    "\n",
    "plt.plot(model_fpr\n",
    "         , model_tpr\n",
    "         , 'r'\n",
    "         , label='RFC Model'\n",
    "        )\n",
    "\n",
    "plt.xlabel('False Positive Rate')\n",
    "plt.ylabel('True Positive Rate')\n",
    "plt.title(f'{symbol} ROC Curve, Accuracy: {round(roc_score, 3)}')\n",
    "plt.legend();"
   ]
  },
  {
   "cell_type": "markdown",
   "metadata": {},
   "source": [
    "## Precision Recall Curve"
   ]
  },
  {
   "cell_type": "code",
   "execution_count": null,
   "metadata": {},
   "outputs": [],
   "source": [
    "# Precision Recall Data\n",
    "rf_prec, rf_recall, _ = precision_recall_curve(y_test\n",
    "                                             , y_probs\n",
    "                                            )\n",
    "\n",
    "auc_score = auc(rf_recall, rf_prec)\n",
    "auc_score"
   ]
  },
  {
   "cell_type": "code",
   "execution_count": null,
   "metadata": {},
   "outputs": [],
   "source": [
    "plt.rcParams['font.size'] = 16\n",
    "plt.rcParams['figure.figsize'] = (10, 8)\n",
    "\n",
    "\n",
    "\n",
    "# No Skill Line\n",
    "plt.plot([0, 0]\n",
    "         , linestyle = '--'\n",
    "         , color = 'b'\n",
    "         , label = 'No Skill'\n",
    "        )\n",
    "\n",
    "# PR Line\n",
    "plt.plot(rf_recall\n",
    "         , rf_prec\n",
    "         , color = 'r'\n",
    "         , label = 'Random Forest'\n",
    "        )\n",
    "\n",
    "plt.xlabel('Recall')\n",
    "plt.ylabel('Precision')\n",
    "plt.title(f'{symbol} Precision-Recall Curve, Accuracy: {round(auc_score, 3)}')\n",
    "plt.legend();"
   ]
  },
  {
   "cell_type": "markdown",
   "metadata": {},
   "source": [
    "## Confusion Matrix"
   ]
  },
  {
   "cell_type": "code",
   "execution_count": null,
   "metadata": {
    "scrolled": false
   },
   "outputs": [],
   "source": [
    "plt.rcParams['figure.figsize'] = (5, 4)\n",
    "plt.rcParams['font.size'] = 16\n",
    "disp = plot_confusion_matrix(rfc\n",
    "                             , X_test\n",
    "                             , y_test\n",
    "                             , cmap = plt.cm.Blues\n",
    "                             , normalize = 'true'\n",
    "                            )\n",
    "disp.ax_.grid(False)\n",
    "disp.ax_.set_title(f'{symbol} Direction Confusion Matrix');"
   ]
  },
  {
   "cell_type": "markdown",
   "metadata": {},
   "source": [
    "## Feature Importances"
   ]
  },
  {
   "cell_type": "code",
   "execution_count": null,
   "metadata": {},
   "outputs": [],
   "source": [
    "features_df = pd.DataFrame({'Feature': X_train.columns\n",
    "                            , 'Importances': rfc.feature_importances_\n",
    "                           }).sort_values('Importances'\n",
    "                                          , ascending=False\n",
    "                                         )\n",
    "features_df"
   ]
  },
  {
   "cell_type": "markdown",
   "metadata": {},
   "source": [
    "## Make A Prediction"
   ]
  },
  {
   "cell_type": "code",
   "execution_count": null,
   "metadata": {},
   "outputs": [],
   "source": [
    "stock_df.tail(3)"
   ]
  },
  {
   "cell_type": "code",
   "execution_count": null,
   "metadata": {},
   "outputs": [],
   "source": [
    "last = stock_df.drop(columns=['Direction']).iloc[-1]\n",
    "last"
   ]
  },
  {
   "cell_type": "code",
   "execution_count": null,
   "metadata": {},
   "outputs": [],
   "source": [
    "if rfc.predict(np.array(last).reshape(1, -1))[0] == 1:\n",
    "    print(f'Buy {symbol} on the {interval} for {round(perc_inc * 100, 1)}% increase.')\n",
    "else:\n",
    "    print(f'Sell or hold {symbol} on the {interval} interval for expected {round(perc_inc * 100, 1)}% increase.')"
   ]
  },
  {
   "cell_type": "markdown",
   "metadata": {},
   "source": [
    "Try Gradient Boosting: n_estimators, n_splits, n_depths, learning rate, etc..."
   ]
  },
  {
   "cell_type": "markdown",
   "metadata": {},
   "source": [
    "### Make A Function"
   ]
  },
  {
   "cell_type": "code",
   "execution_count": null,
   "metadata": {},
   "outputs": [],
   "source": []
  }
 ],
 "metadata": {
  "kernelspec": {
   "display_name": "Python 3",
   "language": "python",
   "name": "python3"
  },
  "language_info": {
   "codemirror_mode": {
    "name": "ipython",
    "version": 3
   },
   "file_extension": ".py",
   "mimetype": "text/x-python",
   "name": "python",
   "nbconvert_exporter": "python",
   "pygments_lexer": "ipython3",
   "version": "3.8.2"
  }
 },
 "nbformat": 4,
 "nbformat_minor": 4
}
