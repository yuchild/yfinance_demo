{
 "cells": [
  {
   "cell_type": "markdown",
   "metadata": {},
   "source": [
    "## Imports"
   ]
  },
  {
   "cell_type": "code",
   "execution_count": 1,
   "metadata": {},
   "outputs": [],
   "source": [
    "import pandas as pd\n",
    "import numpy as np\n",
    "\n",
    "import matplotlib.pyplot as plt\n",
    "plt.rcParams['font.size'] = 12\n",
    "plt.rcParams['figure.figsize'] = (8, 7)\n",
    "plt.style.use('fivethirtyeight')\n",
    "\n",
    "import warnings\n",
    "warnings.filterwarnings('ignore')\n",
    "\n",
    "import yfinance as yf\n",
    "\n",
    "from sklearn.model_selection import train_test_split, GridSearchCV, cross_val_score\n",
    "from sklearn.ensemble import RandomForestClassifier\n",
    "from sklearn.metrics import (roc_auc_score\n",
    "                             , precision_score\n",
    "                             , recall_score\n",
    "                             , roc_curve\n",
    "                             , confusion_matrix\n",
    "                             , plot_confusion_matrix\n",
    "                             , precision_recall_curve\n",
    "                             , auc\n",
    "                            )\n",
    "\n",
    "import joblib"
   ]
  },
  {
   "cell_type": "markdown",
   "metadata": {},
   "source": [
    "## Global Variables"
   ]
  },
  {
   "cell_type": "code",
   "execution_count": 2,
   "metadata": {},
   "outputs": [],
   "source": [
    "interval = '1d' # time interval for data point\n",
    "history = '20y' # time period for total history\n",
    "perc_inc = 0.08 # 8% increase or more from interval to interval\n",
    "symbol = 'JEF' # fintech stock "
   ]
  },
  {
   "cell_type": "markdown",
   "metadata": {},
   "source": [
    "## Yahoo Finance"
   ]
  },
  {
   "cell_type": "code",
   "execution_count": 3,
   "metadata": {},
   "outputs": [
    {
     "name": "stdout",
     "output_type": "stream",
     "text": [
      "[*********************100%***********************]  1 of 1 completed\n"
     ]
    }
   ],
   "source": [
    "stock_df = yf.download(tickers = symbol\n",
    "                       , interval = interval\n",
    "                       , period = history\n",
    "                       , prepost = False\n",
    "                      )"
   ]
  },
  {
   "cell_type": "code",
   "execution_count": 4,
   "metadata": {},
   "outputs": [
    {
     "data": {
      "text/html": [
       "<div>\n",
       "<style scoped>\n",
       "    .dataframe tbody tr th:only-of-type {\n",
       "        vertical-align: middle;\n",
       "    }\n",
       "\n",
       "    .dataframe tbody tr th {\n",
       "        vertical-align: top;\n",
       "    }\n",
       "\n",
       "    .dataframe thead th {\n",
       "        text-align: right;\n",
       "    }\n",
       "</style>\n",
       "<table border=\"1\" class=\"dataframe\">\n",
       "  <thead>\n",
       "    <tr style=\"text-align: right;\">\n",
       "      <th></th>\n",
       "      <th>Open</th>\n",
       "      <th>High</th>\n",
       "      <th>Low</th>\n",
       "      <th>Close</th>\n",
       "      <th>Adj Close</th>\n",
       "      <th>Volume</th>\n",
       "    </tr>\n",
       "    <tr>\n",
       "      <th>Date</th>\n",
       "      <th></th>\n",
       "      <th></th>\n",
       "      <th></th>\n",
       "      <th></th>\n",
       "      <th></th>\n",
       "      <th></th>\n",
       "    </tr>\n",
       "  </thead>\n",
       "  <tbody>\n",
       "    <tr>\n",
       "      <th>2000-07-14</th>\n",
       "      <td>7.407671</td>\n",
       "      <td>7.607108</td>\n",
       "      <td>7.369683</td>\n",
       "      <td>7.445659</td>\n",
       "      <td>5.946013</td>\n",
       "      <td>205900</td>\n",
       "    </tr>\n",
       "    <tr>\n",
       "      <th>2000-07-17</th>\n",
       "      <td>7.426665</td>\n",
       "      <td>7.673587</td>\n",
       "      <td>7.426665</td>\n",
       "      <td>7.597611</td>\n",
       "      <td>6.067360</td>\n",
       "      <td>233500</td>\n",
       "    </tr>\n",
       "    <tr>\n",
       "      <th>2000-07-18</th>\n",
       "      <td>7.597611</td>\n",
       "      <td>7.730569</td>\n",
       "      <td>7.597611</td>\n",
       "      <td>7.673587</td>\n",
       "      <td>6.128036</td>\n",
       "      <td>319900</td>\n",
       "    </tr>\n",
       "  </tbody>\n",
       "</table>\n",
       "</div>"
      ],
      "text/plain": [
       "                Open      High       Low     Close  Adj Close  Volume\n",
       "Date                                                                 \n",
       "2000-07-14  7.407671  7.607108  7.369683  7.445659   5.946013  205900\n",
       "2000-07-17  7.426665  7.673587  7.426665  7.597611   6.067360  233500\n",
       "2000-07-18  7.597611  7.730569  7.597611  7.673587   6.128036  319900"
      ]
     },
     "execution_count": 4,
     "metadata": {},
     "output_type": "execute_result"
    }
   ],
   "source": [
    "stock_df.head(3)"
   ]
  },
  {
   "cell_type": "code",
   "execution_count": 5,
   "metadata": {},
   "outputs": [
    {
     "data": {
      "text/html": [
       "<div>\n",
       "<style scoped>\n",
       "    .dataframe tbody tr th:only-of-type {\n",
       "        vertical-align: middle;\n",
       "    }\n",
       "\n",
       "    .dataframe tbody tr th {\n",
       "        vertical-align: top;\n",
       "    }\n",
       "\n",
       "    .dataframe thead th {\n",
       "        text-align: right;\n",
       "    }\n",
       "</style>\n",
       "<table border=\"1\" class=\"dataframe\">\n",
       "  <thead>\n",
       "    <tr style=\"text-align: right;\">\n",
       "      <th></th>\n",
       "      <th>Open</th>\n",
       "      <th>High</th>\n",
       "      <th>Low</th>\n",
       "      <th>Close</th>\n",
       "      <th>Adj Close</th>\n",
       "      <th>Volume</th>\n",
       "    </tr>\n",
       "    <tr>\n",
       "      <th>Date</th>\n",
       "      <th></th>\n",
       "      <th></th>\n",
       "      <th></th>\n",
       "      <th></th>\n",
       "      <th></th>\n",
       "      <th></th>\n",
       "    </tr>\n",
       "  </thead>\n",
       "  <tbody>\n",
       "    <tr>\n",
       "      <th>2020-07-09</th>\n",
       "      <td>15.430000</td>\n",
       "      <td>15.44</td>\n",
       "      <td>14.870000</td>\n",
       "      <td>15.12</td>\n",
       "      <td>15.12</td>\n",
       "      <td>2578000</td>\n",
       "    </tr>\n",
       "    <tr>\n",
       "      <th>2020-07-10</th>\n",
       "      <td>15.160000</td>\n",
       "      <td>16.02</td>\n",
       "      <td>15.110000</td>\n",
       "      <td>16.01</td>\n",
       "      <td>16.01</td>\n",
       "      <td>2747900</td>\n",
       "    </tr>\n",
       "    <tr>\n",
       "      <th>2020-07-13</th>\n",
       "      <td>16.209999</td>\n",
       "      <td>16.67</td>\n",
       "      <td>16.059999</td>\n",
       "      <td>16.27</td>\n",
       "      <td>16.27</td>\n",
       "      <td>2842000</td>\n",
       "    </tr>\n",
       "  </tbody>\n",
       "</table>\n",
       "</div>"
      ],
      "text/plain": [
       "                 Open   High        Low  Close  Adj Close   Volume\n",
       "Date                                                              \n",
       "2020-07-09  15.430000  15.44  14.870000  15.12      15.12  2578000\n",
       "2020-07-10  15.160000  16.02  15.110000  16.01      16.01  2747900\n",
       "2020-07-13  16.209999  16.67  16.059999  16.27      16.27  2842000"
      ]
     },
     "execution_count": 5,
     "metadata": {},
     "output_type": "execute_result"
    }
   ],
   "source": [
    "stock_df.tail(3)"
   ]
  },
  {
   "cell_type": "markdown",
   "metadata": {},
   "source": [
    "## Create Percent Change"
   ]
  },
  {
   "cell_type": "code",
   "execution_count": 6,
   "metadata": {},
   "outputs": [
    {
     "data": {
      "text/html": [
       "<div>\n",
       "<style scoped>\n",
       "    .dataframe tbody tr th:only-of-type {\n",
       "        vertical-align: middle;\n",
       "    }\n",
       "\n",
       "    .dataframe tbody tr th {\n",
       "        vertical-align: top;\n",
       "    }\n",
       "\n",
       "    .dataframe thead th {\n",
       "        text-align: right;\n",
       "    }\n",
       "</style>\n",
       "<table border=\"1\" class=\"dataframe\">\n",
       "  <thead>\n",
       "    <tr style=\"text-align: right;\">\n",
       "      <th></th>\n",
       "      <th>Open</th>\n",
       "      <th>High</th>\n",
       "      <th>Low</th>\n",
       "      <th>Close</th>\n",
       "      <th>Adj Close</th>\n",
       "      <th>Volume</th>\n",
       "      <th>Percent Change</th>\n",
       "    </tr>\n",
       "    <tr>\n",
       "      <th>Date</th>\n",
       "      <th></th>\n",
       "      <th></th>\n",
       "      <th></th>\n",
       "      <th></th>\n",
       "      <th></th>\n",
       "      <th></th>\n",
       "      <th></th>\n",
       "    </tr>\n",
       "  </thead>\n",
       "  <tbody>\n",
       "    <tr>\n",
       "      <th>2000-07-14</th>\n",
       "      <td>7.407671</td>\n",
       "      <td>7.607108</td>\n",
       "      <td>7.369683</td>\n",
       "      <td>7.445659</td>\n",
       "      <td>5.946013</td>\n",
       "      <td>205900</td>\n",
       "      <td>0.005128</td>\n",
       "    </tr>\n",
       "    <tr>\n",
       "      <th>2000-07-17</th>\n",
       "      <td>7.426665</td>\n",
       "      <td>7.673587</td>\n",
       "      <td>7.426665</td>\n",
       "      <td>7.597611</td>\n",
       "      <td>6.067360</td>\n",
       "      <td>233500</td>\n",
       "      <td>0.023018</td>\n",
       "    </tr>\n",
       "    <tr>\n",
       "      <th>2000-07-18</th>\n",
       "      <td>7.597611</td>\n",
       "      <td>7.730569</td>\n",
       "      <td>7.597611</td>\n",
       "      <td>7.673587</td>\n",
       "      <td>6.128036</td>\n",
       "      <td>319900</td>\n",
       "      <td>0.010000</td>\n",
       "    </tr>\n",
       "  </tbody>\n",
       "</table>\n",
       "</div>"
      ],
      "text/plain": [
       "                Open      High       Low     Close  Adj Close  Volume  \\\n",
       "Date                                                                    \n",
       "2000-07-14  7.407671  7.607108  7.369683  7.445659   5.946013  205900   \n",
       "2000-07-17  7.426665  7.673587  7.426665  7.597611   6.067360  233500   \n",
       "2000-07-18  7.597611  7.730569  7.597611  7.673587   6.128036  319900   \n",
       "\n",
       "            Percent Change  \n",
       "Date                        \n",
       "2000-07-14        0.005128  \n",
       "2000-07-17        0.023018  \n",
       "2000-07-18        0.010000  "
      ]
     },
     "execution_count": 6,
     "metadata": {},
     "output_type": "execute_result"
    }
   ],
   "source": [
    "stock_df['Percent Change'] = (stock_df.Close - stock_df.Open) / (stock_df.Open + 0.00001)\n",
    "stock_df.head(3)"
   ]
  },
  {
   "cell_type": "code",
   "execution_count": 7,
   "metadata": {},
   "outputs": [
    {
     "data": {
      "image/png": "[encoded data removed]",
      "text/plain": [
       "<Figure size 576x504 with 1 Axes>"
      ]
     },
     "metadata": {},
     "output_type": "display_data"
    }
   ],
   "source": [
    "stock_df['Percent Change'].hist(bins=25);"
   ]
  },
  {
   "cell_type": "code",
   "execution_count": 8,
   "metadata": {},
   "outputs": [
    {
     "data": {
      "text/plain": [
       "0.84    0.013778\n",
       "Name: Percent Change, dtype: float64"
      ]
     },
     "execution_count": 8,
     "metadata": {},
     "output_type": "execute_result"
    }
   ],
   "source": [
    "stock_df['Percent Change'].quantile([0.84]) # 1 stdev from avg"
   ]
  },
  {
   "cell_type": "markdown",
   "metadata": {},
   "source": [
    "## Assign Direction"
   ]
  },
  {
   "cell_type": "code",
   "execution_count": 9,
   "metadata": {},
   "outputs": [],
   "source": [
    "stock_df['Direction'] = np.where(stock_df['Percent Change'] > perc_inc\n",
    "                                 , 1\n",
    "                                 , 0\n",
    "                                )"
   ]
  },
  {
   "cell_type": "code",
   "execution_count": 10,
   "metadata": {},
   "outputs": [
    {
     "data": {
      "text/html": [
       "<div>\n",
       "<style scoped>\n",
       "    .dataframe tbody tr th:only-of-type {\n",
       "        vertical-align: middle;\n",
       "    }\n",
       "\n",
       "    .dataframe tbody tr th {\n",
       "        vertical-align: top;\n",
       "    }\n",
       "\n",
       "    .dataframe thead th {\n",
       "        text-align: right;\n",
       "    }\n",
       "</style>\n",
       "<table border=\"1\" class=\"dataframe\">\n",
       "  <thead>\n",
       "    <tr style=\"text-align: right;\">\n",
       "      <th></th>\n",
       "      <th>Open</th>\n",
       "      <th>High</th>\n",
       "      <th>Low</th>\n",
       "      <th>Close</th>\n",
       "      <th>Adj Close</th>\n",
       "      <th>Volume</th>\n",
       "      <th>Percent Change</th>\n",
       "      <th>Direction</th>\n",
       "    </tr>\n",
       "    <tr>\n",
       "      <th>Date</th>\n",
       "      <th></th>\n",
       "      <th></th>\n",
       "      <th></th>\n",
       "      <th></th>\n",
       "      <th></th>\n",
       "      <th></th>\n",
       "      <th></th>\n",
       "      <th></th>\n",
       "    </tr>\n",
       "  </thead>\n",
       "  <tbody>\n",
       "    <tr>\n",
       "      <th>2020-07-07</th>\n",
       "      <td>15.590000</td>\n",
       "      <td>15.83</td>\n",
       "      <td>15.310000</td>\n",
       "      <td>15.36</td>\n",
       "      <td>15.36</td>\n",
       "      <td>2086100</td>\n",
       "      <td>-0.014753</td>\n",
       "      <td>0</td>\n",
       "    </tr>\n",
       "    <tr>\n",
       "      <th>2020-07-08</th>\n",
       "      <td>15.290000</td>\n",
       "      <td>15.63</td>\n",
       "      <td>15.240000</td>\n",
       "      <td>15.53</td>\n",
       "      <td>15.53</td>\n",
       "      <td>1655500</td>\n",
       "      <td>0.015697</td>\n",
       "      <td>0</td>\n",
       "    </tr>\n",
       "    <tr>\n",
       "      <th>2020-07-09</th>\n",
       "      <td>15.430000</td>\n",
       "      <td>15.44</td>\n",
       "      <td>14.870000</td>\n",
       "      <td>15.12</td>\n",
       "      <td>15.12</td>\n",
       "      <td>2578000</td>\n",
       "      <td>-0.020091</td>\n",
       "      <td>0</td>\n",
       "    </tr>\n",
       "    <tr>\n",
       "      <th>2020-07-10</th>\n",
       "      <td>15.160000</td>\n",
       "      <td>16.02</td>\n",
       "      <td>15.110000</td>\n",
       "      <td>16.01</td>\n",
       "      <td>16.01</td>\n",
       "      <td>2747900</td>\n",
       "      <td>0.056069</td>\n",
       "      <td>0</td>\n",
       "    </tr>\n",
       "    <tr>\n",
       "      <th>2020-07-13</th>\n",
       "      <td>16.209999</td>\n",
       "      <td>16.67</td>\n",
       "      <td>16.059999</td>\n",
       "      <td>16.27</td>\n",
       "      <td>16.27</td>\n",
       "      <td>2842000</td>\n",
       "      <td>0.003702</td>\n",
       "      <td>0</td>\n",
       "    </tr>\n",
       "  </tbody>\n",
       "</table>\n",
       "</div>"
      ],
      "text/plain": [
       "                 Open   High        Low  Close  Adj Close   Volume  \\\n",
       "Date                                                                 \n",
       "2020-07-07  15.590000  15.83  15.310000  15.36      15.36  2086100   \n",
       "2020-07-08  15.290000  15.63  15.240000  15.53      15.53  1655500   \n",
       "2020-07-09  15.430000  15.44  14.870000  15.12      15.12  2578000   \n",
       "2020-07-10  15.160000  16.02  15.110000  16.01      16.01  2747900   \n",
       "2020-07-13  16.209999  16.67  16.059999  16.27      16.27  2842000   \n",
       "\n",
       "            Percent Change  Direction  \n",
       "Date                                   \n",
       "2020-07-07       -0.014753          0  \n",
       "2020-07-08        0.015697          0  \n",
       "2020-07-09       -0.020091          0  \n",
       "2020-07-10        0.056069          0  \n",
       "2020-07-13        0.003702          0  "
      ]
     },
     "execution_count": 10,
     "metadata": {},
     "output_type": "execute_result"
    }
   ],
   "source": [
    "stock_df.tail(5)"
   ]
  },
  {
   "cell_type": "markdown",
   "metadata": {},
   "source": [
    "## Shift Direction Column Up 1"
   ]
  },
  {
   "cell_type": "markdown",
   "metadata": {},
   "source": [
    "Move decision column up by 1 cell so current hour of data will predict the next hour of data or whichever time frame interval is observed"
   ]
  },
  {
   "cell_type": "code",
   "execution_count": 11,
   "metadata": {},
   "outputs": [
    {
     "name": "stdout",
     "output_type": "stream",
     "text": [
      "Length Before: 5030\n",
      "Length After: 5029\n"
     ]
    }
   ],
   "source": [
    "direction = stock_df.Direction.values\n",
    "print(f'Length Before: {len(direction)}')\n",
    "direction = direction[1:len(direction)]\n",
    "print(f'Length After: {len(direction)}')"
   ]
  },
  {
   "cell_type": "code",
   "execution_count": 12,
   "metadata": {},
   "outputs": [
    {
     "data": {
      "text/plain": [
       "(5029, 8)"
      ]
     },
     "execution_count": 12,
     "metadata": {},
     "output_type": "execute_result"
    }
   ],
   "source": [
    "stock_df_one_off = stock_df.iloc[0:stock_df.shape[0]-1]\n",
    "stock_df_one_off['Direction'] = direction\n",
    "stock_df_one_off.shape"
   ]
  },
  {
   "cell_type": "code",
   "execution_count": 13,
   "metadata": {
    "scrolled": true
   },
   "outputs": [
    {
     "data": {
      "text/html": [
       "<div>\n",
       "<style scoped>\n",
       "    .dataframe tbody tr th:only-of-type {\n",
       "        vertical-align: middle;\n",
       "    }\n",
       "\n",
       "    .dataframe tbody tr th {\n",
       "        vertical-align: top;\n",
       "    }\n",
       "\n",
       "    .dataframe thead th {\n",
       "        text-align: right;\n",
       "    }\n",
       "</style>\n",
       "<table border=\"1\" class=\"dataframe\">\n",
       "  <thead>\n",
       "    <tr style=\"text-align: right;\">\n",
       "      <th></th>\n",
       "      <th>Open</th>\n",
       "      <th>High</th>\n",
       "      <th>Low</th>\n",
       "      <th>Close</th>\n",
       "      <th>Adj Close</th>\n",
       "      <th>Volume</th>\n",
       "      <th>Percent Change</th>\n",
       "      <th>Direction</th>\n",
       "    </tr>\n",
       "    <tr>\n",
       "      <th>Date</th>\n",
       "      <th></th>\n",
       "      <th></th>\n",
       "      <th></th>\n",
       "      <th></th>\n",
       "      <th></th>\n",
       "      <th></th>\n",
       "      <th></th>\n",
       "      <th></th>\n",
       "    </tr>\n",
       "  </thead>\n",
       "  <tbody>\n",
       "    <tr>\n",
       "      <th>2020-07-06</th>\n",
       "      <td>16.00</td>\n",
       "      <td>16.129999</td>\n",
       "      <td>15.68</td>\n",
       "      <td>15.84</td>\n",
       "      <td>15.84</td>\n",
       "      <td>2285300</td>\n",
       "      <td>-0.010000</td>\n",
       "      <td>0</td>\n",
       "    </tr>\n",
       "    <tr>\n",
       "      <th>2020-07-07</th>\n",
       "      <td>15.59</td>\n",
       "      <td>15.830000</td>\n",
       "      <td>15.31</td>\n",
       "      <td>15.36</td>\n",
       "      <td>15.36</td>\n",
       "      <td>2086100</td>\n",
       "      <td>-0.014753</td>\n",
       "      <td>0</td>\n",
       "    </tr>\n",
       "    <tr>\n",
       "      <th>2020-07-08</th>\n",
       "      <td>15.29</td>\n",
       "      <td>15.630000</td>\n",
       "      <td>15.24</td>\n",
       "      <td>15.53</td>\n",
       "      <td>15.53</td>\n",
       "      <td>1655500</td>\n",
       "      <td>0.015697</td>\n",
       "      <td>0</td>\n",
       "    </tr>\n",
       "    <tr>\n",
       "      <th>2020-07-09</th>\n",
       "      <td>15.43</td>\n",
       "      <td>15.440000</td>\n",
       "      <td>14.87</td>\n",
       "      <td>15.12</td>\n",
       "      <td>15.12</td>\n",
       "      <td>2578000</td>\n",
       "      <td>-0.020091</td>\n",
       "      <td>0</td>\n",
       "    </tr>\n",
       "    <tr>\n",
       "      <th>2020-07-10</th>\n",
       "      <td>15.16</td>\n",
       "      <td>16.020000</td>\n",
       "      <td>15.11</td>\n",
       "      <td>16.01</td>\n",
       "      <td>16.01</td>\n",
       "      <td>2747900</td>\n",
       "      <td>0.056069</td>\n",
       "      <td>0</td>\n",
       "    </tr>\n",
       "  </tbody>\n",
       "</table>\n",
       "</div>"
      ],
      "text/plain": [
       "             Open       High    Low  Close  Adj Close   Volume  \\\n",
       "Date                                                             \n",
       "2020-07-06  16.00  16.129999  15.68  15.84      15.84  2285300   \n",
       "2020-07-07  15.59  15.830000  15.31  15.36      15.36  2086100   \n",
       "2020-07-08  15.29  15.630000  15.24  15.53      15.53  1655500   \n",
       "2020-07-09  15.43  15.440000  14.87  15.12      15.12  2578000   \n",
       "2020-07-10  15.16  16.020000  15.11  16.01      16.01  2747900   \n",
       "\n",
       "            Percent Change  Direction  \n",
       "Date                                   \n",
       "2020-07-06       -0.010000          0  \n",
       "2020-07-07       -0.014753          0  \n",
       "2020-07-08        0.015697          0  \n",
       "2020-07-09       -0.020091          0  \n",
       "2020-07-10        0.056069          0  "
      ]
     },
     "execution_count": 13,
     "metadata": {},
     "output_type": "execute_result"
    }
   ],
   "source": [
    "stock_df_one_off.tail(5)"
   ]
  },
  {
   "cell_type": "code",
   "execution_count": 14,
   "metadata": {},
   "outputs": [
    {
     "data": {
      "text/plain": [
       "0    5013\n",
       "1      16\n",
       "Name: Direction, dtype: int64"
      ]
     },
     "execution_count": 14,
     "metadata": {},
     "output_type": "execute_result"
    }
   ],
   "source": [
    "stock_df_one_off.Direction.value_counts()"
   ]
  },
  {
   "cell_type": "markdown",
   "metadata": {},
   "source": [
    "## Balance 1's and 0's"
   ]
  },
  {
   "cell_type": "code",
   "execution_count": 15,
   "metadata": {},
   "outputs": [
    {
     "data": {
      "text/plain": [
       "16"
      ]
     },
     "execution_count": 15,
     "metadata": {},
     "output_type": "execute_result"
    }
   ],
   "source": [
    "ones_count = stock_df_one_off['Direction'].value_counts()[1]\n",
    "ones_count"
   ]
  },
  {
   "cell_type": "code",
   "execution_count": 16,
   "metadata": {},
   "outputs": [
    {
     "data": {
      "text/plain": [
       "(32, 8)"
      ]
     },
     "execution_count": 16,
     "metadata": {},
     "output_type": "execute_result"
    }
   ],
   "source": [
    "stock_df_bal = stock_df_one_off.groupby('Direction').apply(lambda x: x.sample(n=ones_count)).reset_index(drop=True)\n",
    "stock_df_bal.shape"
   ]
  },
  {
   "cell_type": "code",
   "execution_count": 17,
   "metadata": {},
   "outputs": [
    {
     "data": {
      "text/plain": [
       "1    16\n",
       "0    16\n",
       "Name: Direction, dtype: int64"
      ]
     },
     "execution_count": 17,
     "metadata": {},
     "output_type": "execute_result"
    }
   ],
   "source": [
    "stock_df_bal['Direction'].value_counts() # try bootstrapping and upsampling "
   ]
  },
  {
   "cell_type": "markdown",
   "metadata": {},
   "source": [
    "## Check for NaN's"
   ]
  },
  {
   "cell_type": "code",
   "execution_count": 18,
   "metadata": {},
   "outputs": [
    {
     "data": {
      "text/plain": [
       "Open              0\n",
       "High              0\n",
       "Low               0\n",
       "Close             0\n",
       "Adj Close         0\n",
       "Volume            0\n",
       "Percent Change    0\n",
       "Direction         0\n",
       "dtype: int64"
      ]
     },
     "execution_count": 18,
     "metadata": {},
     "output_type": "execute_result"
    }
   ],
   "source": [
    "stock_df_bal.isna().sum()"
   ]
  },
  {
   "cell_type": "code",
   "execution_count": 19,
   "metadata": {},
   "outputs": [],
   "source": [
    "stock_df_bal.dropna(axis=0, inplace=True)"
   ]
  },
  {
   "cell_type": "code",
   "execution_count": 20,
   "metadata": {},
   "outputs": [
    {
     "data": {
      "text/plain": [
       "Open              0\n",
       "High              0\n",
       "Low               0\n",
       "Close             0\n",
       "Adj Close         0\n",
       "Volume            0\n",
       "Percent Change    0\n",
       "Direction         0\n",
       "dtype: int64"
      ]
     },
     "execution_count": 20,
     "metadata": {},
     "output_type": "execute_result"
    }
   ],
   "source": [
    "stock_df_bal.isna().sum()"
   ]
  },
  {
   "cell_type": "markdown",
   "metadata": {},
   "source": [
    "## Train Test Split"
   ]
  },
  {
   "cell_type": "code",
   "execution_count": 21,
   "metadata": {},
   "outputs": [],
   "source": [
    "X = stock_df_bal.drop(columns=['Direction'])\n",
    "y = stock_df_bal['Direction']"
   ]
  },
  {
   "cell_type": "code",
   "execution_count": 22,
   "metadata": {},
   "outputs": [],
   "source": [
    "X_train, X_test, y_train, y_test = train_test_split(X\n",
    "                                                    , y\n",
    "                                                    , test_size=0.2\n",
    "                                                    , random_state = 42\n",
    "                                                   )"
   ]
  },
  {
   "cell_type": "markdown",
   "metadata": {},
   "source": [
    "## Grid Search"
   ]
  },
  {
   "cell_type": "code",
   "execution_count": 23,
   "metadata": {},
   "outputs": [
    {
     "name": "stdout",
     "output_type": "stream",
     "text": [
      "Fitting 7 folds for each of 4536 candidates, totalling 31752 fits\n"
     ]
    },
    {
     "name": "stderr",
     "output_type": "stream",
     "text": [
      "[Parallel(n_jobs=-1)]: Using backend LokyBackend with 8 concurrent workers.\n",
      "[Parallel(n_jobs=-1)]: Done  34 tasks      | elapsed:    2.4s\n",
      "[Parallel(n_jobs=-1)]: Done 184 tasks      | elapsed:    6.0s\n",
      "[Parallel(n_jobs=-1)]: Done 684 tasks      | elapsed:   18.0s\n",
      "[Parallel(n_jobs=-1)]: Done 1384 tasks      | elapsed:   33.6s\n",
      "[Parallel(n_jobs=-1)]: Done 2284 tasks      | elapsed:   52.9s\n",
      "[Parallel(n_jobs=-1)]: Done 3384 tasks      | elapsed:  1.3min\n",
      "[Parallel(n_jobs=-1)]: Done 4684 tasks      | elapsed:  1.7min\n",
      "[Parallel(n_jobs=-1)]: Done 6184 tasks      | elapsed:  2.1min\n",
      "[Parallel(n_jobs=-1)]: Done 7884 tasks      | elapsed:  2.6min\n",
      "[Parallel(n_jobs=-1)]: Done 9784 tasks      | elapsed:  3.2min\n",
      "[Parallel(n_jobs=-1)]: Done 11884 tasks      | elapsed:  3.9min\n",
      "[Parallel(n_jobs=-1)]: Done 14184 tasks      | elapsed:  4.7min\n",
      "[Parallel(n_jobs=-1)]: Done 16684 tasks      | elapsed:  5.4min\n",
      "[Parallel(n_jobs=-1)]: Done 19384 tasks      | elapsed:  6.0min\n",
      "[Parallel(n_jobs=-1)]: Done 22284 tasks      | elapsed:  6.7min\n",
      "[Parallel(n_jobs=-1)]: Done 25384 tasks      | elapsed:  7.4min\n",
      "[Parallel(n_jobs=-1)]: Done 28684 tasks      | elapsed:  8.1min\n",
      "[Parallel(n_jobs=-1)]: Done 31752 out of 31752 | elapsed:  8.8min finished\n"
     ]
    },
    {
     "data": {
      "text/plain": [
       "GridSearchCV(cv=7, estimator=RandomForestClassifier(), n_jobs=-1,\n",
       "             param_grid={'bootstrap': [True, False],\n",
       "                         'max_depth': [1, 2, 3, 4, 5, 6],\n",
       "                         'max_features': [1, 2, 3, 4, 5, 6],\n",
       "                         'min_samples_leaf': [1, 2, 3],\n",
       "                         'min_samples_split': [2, 5, 10],\n",
       "                         'n_estimators': [5, 25, 45, 65, 85, 105, 125]},\n",
       "             verbose=1)"
      ]
     },
     "execution_count": 23,
     "metadata": {},
     "output_type": "execute_result"
    }
   ],
   "source": [
    "grid1={'bootstrap': [True, False]\n",
    "       , 'n_estimators': [5, 25, 45, 65, 85, 105, 125]\n",
    "       , 'max_depth': [1, 2, 3, 4, 5, 6]\n",
    "       , 'max_features': [1, 2, 3, 4, 5, 6]\n",
    "       , 'min_samples_leaf': [1, 2, 3]\n",
    "       , 'min_samples_split': [2, 5, 10]\n",
    "      }\n",
    "\n",
    "rf_grid_search1 = GridSearchCV(estimator = RandomForestClassifier()\n",
    "                               , param_grid = grid1\n",
    "                               , cv = 5eqe\n",
    "                               , n_jobs = -1\n",
    "                               , verbose = 1\n",
    "                              )\n",
    "\n",
    "rf_grid_search1.fit(X_train, y_train)"
   ]
  },
  {
   "cell_type": "code",
   "execution_count": 24,
   "metadata": {},
   "outputs": [
    {
     "data": {
      "text/plain": [
       "{'bootstrap': True,\n",
       " 'max_depth': 2,\n",
       " 'max_features': 3,\n",
       " 'min_samples_leaf': 3,\n",
       " 'min_samples_split': 10,\n",
       " 'n_estimators': 45}"
      ]
     },
     "execution_count": 24,
     "metadata": {},
     "output_type": "execute_result"
    }
   ],
   "source": [
    "rf_grid_search1.best_params_"
   ]
  },
  {
   "cell_type": "markdown",
   "metadata": {},
   "source": [
    "## Save Best Parameters"
   ]
  },
  {
   "cell_type": "code",
   "execution_count": 25,
   "metadata": {},
   "outputs": [
    {
     "data": {
      "text/plain": [
       "['rfc_1d_JEF.pkl']"
      ]
     },
     "execution_count": 25,
     "metadata": {},
     "output_type": "execute_result"
    }
   ],
   "source": [
    "joblib.dump(rf_grid_search1.best_params_\n",
    "            , 'rfc_1d_JEF.pkl' # 1d or 1hr change ***\n",
    "            , compress = 1\n",
    "           )"
   ]
  },
  {
   "cell_type": "markdown",
   "metadata": {},
   "source": [
    "## Load Best parameters"
   ]
  },
  {
   "cell_type": "code",
   "execution_count": 26,
   "metadata": {},
   "outputs": [],
   "source": [
    "rfc = RandomForestClassifier(random_state = 42\n",
    "                             , n_jobs = -1\n",
    "                             , verbose = 1\n",
    "                            ).set_params(**joblib.load('rfc_1hr.pkl')) # 1d or 1hr change ***"
   ]
  },
  {
   "cell_type": "code",
   "execution_count": null,
   "metadata": {},
   "outputs": [],
   "source": []
  },
  {
   "cell_type": "markdown",
   "metadata": {},
   "source": [
    "## Random Forest Classifier"
   ]
  },
  {
   "cell_type": "code",
   "execution_count": 27,
   "metadata": {},
   "outputs": [],
   "source": [
    "# rfc loaded from above\n",
    "# rfc = RandomForestClassifier(bootstrap = True\n",
    "#                              , n_estimators = 5 # how many trees, optimize using grid search   \n",
    "#                              , random_state = 42\n",
    "#                              , verbose = 1\n",
    "#                              , n_jobs = -1 # uses all your processer cores\n",
    "#                              , max_depth = 6 # height of tree\n",
    "#                              , max_features = 3 # random sampling of features\n",
    "#                              , min_samples_leaf = 2\n",
    "#                              , min_samples_split = 2\n",
    "#                              # need to tune n_estimators, n max_depth, max_features\n",
    "#                             )"
   ]
  },
  {
   "cell_type": "code",
   "execution_count": 28,
   "metadata": {},
   "outputs": [
    {
     "name": "stderr",
     "output_type": "stream",
     "text": [
      "[Parallel(n_jobs=-1)]: Using backend ThreadingBackend with 8 concurrent workers.\n",
      "[Parallel(n_jobs=-1)]: Done  45 out of  45 | elapsed:    0.0s finished\n",
      "[Parallel(n_jobs=8)]: Using backend ThreadingBackend with 8 concurrent workers.\n",
      "[Parallel(n_jobs=8)]: Done  45 out of  45 | elapsed:    0.0s finished\n",
      "[Parallel(n_jobs=8)]: Using backend ThreadingBackend with 8 concurrent workers.\n",
      "[Parallel(n_jobs=8)]: Done  45 out of  45 | elapsed:    0.0s finished\n"
     ]
    }
   ],
   "source": [
    "rfc.fit(X_train, y_train)\n",
    "\n",
    "y_pred = rfc.predict(X_test)\n",
    "\n",
    "y_probs = rfc.predict_proba(X_test)[:, 1]"
   ]
  },
  {
   "cell_type": "markdown",
   "metadata": {},
   "source": [
    "## Cross Val Score"
   ]
  },
  {
   "cell_type": "code",
   "execution_count": 29,
   "metadata": {},
   "outputs": [
    {
     "name": "stderr",
     "output_type": "stream",
     "text": [
      "[Parallel(n_jobs=-1)]: Using backend LokyBackend with 8 concurrent workers.\n",
      "[Parallel(n_jobs=-1)]: Done  30 out of  45 | elapsed:    0.0s remaining:    0.0s\n",
      "[Parallel(n_jobs=-1)]: Done  45 out of  45 | elapsed:    0.0s finished\n",
      "[Parallel(n_jobs=8)]: Using backend ThreadingBackend with 8 concurrent workers.\n",
      "[Parallel(n_jobs=8)]: Done  45 out of  45 | elapsed:    0.0s finished\n",
      "[Parallel(n_jobs=-1)]: Using backend LokyBackend with 8 concurrent workers.\n",
      "[Parallel(n_jobs=-1)]: Done  30 out of  45 | elapsed:    0.0s remaining:    0.0s\n",
      "[Parallel(n_jobs=-1)]: Done  45 out of  45 | elapsed:    0.0s finished\n",
      "[Parallel(n_jobs=8)]: Using backend ThreadingBackend with 8 concurrent workers.\n",
      "[Parallel(n_jobs=8)]: Done  45 out of  45 | elapsed:    0.0s finished\n",
      "[Parallel(n_jobs=-1)]: Using backend LokyBackend with 8 concurrent workers.\n",
      "[Parallel(n_jobs=-1)]: Done  30 out of  45 | elapsed:    0.0s remaining:    0.0s\n",
      "[Parallel(n_jobs=-1)]: Done  45 out of  45 | elapsed:    0.0s finished\n",
      "[Parallel(n_jobs=8)]: Using backend ThreadingBackend with 8 concurrent workers.\n",
      "[Parallel(n_jobs=8)]: Done  45 out of  45 | elapsed:    0.0s finished\n",
      "[Parallel(n_jobs=-1)]: Using backend LokyBackend with 8 concurrent workers.\n",
      "[Parallel(n_jobs=-1)]: Done  30 out of  45 | elapsed:    0.0s remaining:    0.0s\n",
      "[Parallel(n_jobs=-1)]: Done  45 out of  45 | elapsed:    0.0s finished\n",
      "[Parallel(n_jobs=8)]: Using backend ThreadingBackend with 8 concurrent workers.\n",
      "[Parallel(n_jobs=8)]: Done  45 out of  45 | elapsed:    0.0s finished\n",
      "[Parallel(n_jobs=-1)]: Using backend LokyBackend with 8 concurrent workers.\n",
      "[Parallel(n_jobs=-1)]: Done  30 out of  45 | elapsed:    0.0s remaining:    0.0s\n",
      "[Parallel(n_jobs=-1)]: Done  45 out of  45 | elapsed:    0.0s finished\n",
      "[Parallel(n_jobs=8)]: Using backend ThreadingBackend with 8 concurrent workers.\n",
      "[Parallel(n_jobs=8)]: Done  45 out of  45 | elapsed:    0.0s finished\n",
      "[Parallel(n_jobs=-1)]: Using backend LokyBackend with 8 concurrent workers.\n",
      "[Parallel(n_jobs=-1)]: Done  30 out of  45 | elapsed:    0.0s remaining:    0.0s\n",
      "[Parallel(n_jobs=-1)]: Done  45 out of  45 | elapsed:    0.0s finished\n",
      "[Parallel(n_jobs=8)]: Using backend ThreadingBackend with 8 concurrent workers.\n",
      "[Parallel(n_jobs=8)]: Done  45 out of  45 | elapsed:    0.0s finished\n",
      "[Parallel(n_jobs=-1)]: Using backend LokyBackend with 8 concurrent workers.\n"
     ]
    },
    {
     "name": "stdout",
     "output_type": "stream",
     "text": [
      "Cross-Validation Score: 0.7976190476190476\n"
     ]
    },
    {
     "name": "stderr",
     "output_type": "stream",
     "text": [
      "[Parallel(n_jobs=-1)]: Done  30 out of  45 | elapsed:    0.0s remaining:    0.0s\n",
      "[Parallel(n_jobs=-1)]: Done  45 out of  45 | elapsed:    0.0s finished\n",
      "[Parallel(n_jobs=8)]: Using backend ThreadingBackend with 8 concurrent workers.\n",
      "[Parallel(n_jobs=8)]: Done  45 out of  45 | elapsed:    0.0s finished\n"
     ]
    }
   ],
   "source": [
    "cval = cross_val_score(rfc\n",
    "                       , X_train\n",
    "                       , y_train\n",
    "                       , scoring='accuracy'\n",
    "                       , cv=7\n",
    "                      )\n",
    "\n",
    "print(f'Cross-Validation Score: {np.mean(cval)}')"
   ]
  },
  {
   "cell_type": "markdown",
   "metadata": {},
   "source": [
    "## Receiver Operating Characteristic (ROC) Curve"
   ]
  },
  {
   "cell_type": "code",
   "execution_count": 30,
   "metadata": {},
   "outputs": [
    {
     "data": {
      "text/plain": [
       "0.7083333333333334"
      ]
     },
     "execution_count": 30,
     "metadata": {},
     "output_type": "execute_result"
    }
   ],
   "source": [
    "roc_score = roc_auc_score(y_test\n",
    "                          , y_probs\n",
    "                         )\n",
    "roc_score"
   ]
  },
  {
   "cell_type": "code",
   "execution_count": 31,
   "metadata": {},
   "outputs": [
    {
     "data": {
      "image/png": "[encoded data removed]",
      "text/plain": [
       "<Figure size 720x504 with 1 Axes>"
      ]
     },
     "metadata": {},
     "output_type": "display_data"
    }
   ],
   "source": [
    "plt.rcParams['font.size'] = 16\n",
    "plt.figure(figsize=(10,7))\n",
    "\n",
    "# No Skill Line Data\n",
    "base_fpr, base_tpr, _ = roc_curve(y_test\n",
    "                                  , [1 for _ in range(len(y_test))]\n",
    "                                 ) \n",
    "\n",
    "# Model Data\n",
    "model_fpr, model_tpr, _ = roc_curve(y_test\n",
    "                                    , y_probs\n",
    "                                   )\n",
    "\n",
    "plt.plot(base_fpr\n",
    "         , base_tpr\n",
    "         , 'b'\n",
    "         , label='No Skill'\n",
    "        )\n",
    "\n",
    "plt.plot(model_fpr\n",
    "         , model_tpr\n",
    "         , 'r'\n",
    "         , label='RFC Model'\n",
    "        )\n",
    "\n",
    "plt.xlabel('False Positive Rate')\n",
    "plt.ylabel('True Positive Rate')\n",
    "plt.title(f'{symbol} ROC Curve, Accuracy: {round(roc_score, 3)}')\n",
    "plt.legend();"
   ]
  },
  {
   "cell_type": "markdown",
   "metadata": {},
   "source": [
    "## Precision Recall Curve"
   ]
  },
  {
   "cell_type": "code",
   "execution_count": 32,
   "metadata": {},
   "outputs": [
    {
     "data": {
      "text/plain": [
       "0.69375"
      ]
     },
     "execution_count": 32,
     "metadata": {},
     "output_type": "execute_result"
    }
   ],
   "source": [
    "# Precision Recall Data\n",
    "rf_prec, rf_recall, _ = precision_recall_curve(y_test\n",
    "                                             , y_probs\n",
    "                                            )\n",
    "\n",
    "auc_score = auc(rf_recall, rf_prec)\n",
    "auc_score"
   ]
  },
  {
   "cell_type": "code",
   "execution_count": 33,
   "metadata": {},
   "outputs": [
    {
     "data": {
      "image/png": "[encoded data removed]",
      "text/plain": [
       "<Figure size 720x576 with 1 Axes>"
      ]
     },
     "metadata": {},
     "output_type": "display_data"
    }
   ],
   "source": [
    "plt.rcParams['font.size'] = 16\n",
    "plt.rcParams['figure.figsize'] = (10, 8)\n",
    "\n",
    "\n",
    "\n",
    "# No Skill Line\n",
    "plt.plot([0, 0]\n",
    "         , linestyle = '--'\n",
    "         , color = 'b'\n",
    "         , label = 'No Skill'\n",
    "        )\n",
    "\n",
    "# PR Line\n",
    "plt.plot(rf_recall\n",
    "         , rf_prec\n",
    "         , color = 'r'\n",
    "         , label = 'Random Forest'\n",
    "        )\n",
    "\n",
    "plt.xlabel('Recall')\n",
    "plt.ylabel('Precision')\n",
    "plt.title(f'{symbol} Precision-Recall Curve, Accuracy: {round(auc_score, 3)}')\n",
    "plt.legend();"
   ]
  },
  {
   "cell_type": "markdown",
   "metadata": {},
   "source": [
    "## Confusion Matrix"
   ]
  },
  {
   "cell_type": "code",
   "execution_count": 34,
   "metadata": {
    "scrolled": false
   },
   "outputs": [
    {
     "name": "stderr",
     "output_type": "stream",
     "text": [
      "[Parallel(n_jobs=8)]: Using backend ThreadingBackend with 8 concurrent workers.\n",
      "[Parallel(n_jobs=8)]: Done  45 out of  45 | elapsed:    0.0s finished\n"
     ]
    },
    {
     "data": {
      "image/png": "[encoded data removed]",
      "text/plain": [
       "<Figure size 360x288 with 2 Axes>"
      ]
     },
     "metadata": {},
     "output_type": "display_data"
    }
   ],
   "source": [
    "plt.rcParams['figure.figsize'] = (5, 4)\n",
    "plt.rcParams['font.size'] = 16\n",
    "disp = plot_confusion_matrix(rfc\n",
    "                             , X_test\n",
    "                             , y_test\n",
    "                             , cmap = plt.cm.Blues\n",
    "                             , normalize = 'true'\n",
    "                            )\n",
    "disp.ax_.grid(False)\n",
    "disp.ax_.set_title(f'{symbol} Direction Confusion Matrix');"
   ]
  },
  {
   "cell_type": "markdown",
   "metadata": {},
   "source": [
    "## Feature Importances"
   ]
  },
  {
   "cell_type": "code",
   "execution_count": 35,
   "metadata": {},
   "outputs": [
    {
     "data": {
      "text/html": [
       "<div>\n",
       "<style scoped>\n",
       "    .dataframe tbody tr th:only-of-type {\n",
       "        vertical-align: middle;\n",
       "    }\n",
       "\n",
       "    .dataframe tbody tr th {\n",
       "        vertical-align: top;\n",
       "    }\n",
       "\n",
       "    .dataframe thead th {\n",
       "        text-align: right;\n",
       "    }\n",
       "</style>\n",
       "<table border=\"1\" class=\"dataframe\">\n",
       "  <thead>\n",
       "    <tr style=\"text-align: right;\">\n",
       "      <th></th>\n",
       "      <th>Feature</th>\n",
       "      <th>Importances</th>\n",
       "    </tr>\n",
       "  </thead>\n",
       "  <tbody>\n",
       "    <tr>\n",
       "      <th>5</th>\n",
       "      <td>Volume</td>\n",
       "      <td>0.311179</td>\n",
       "    </tr>\n",
       "    <tr>\n",
       "      <th>6</th>\n",
       "      <td>Percent Change</td>\n",
       "      <td>0.297585</td>\n",
       "    </tr>\n",
       "    <tr>\n",
       "      <th>4</th>\n",
       "      <td>Adj Close</td>\n",
       "      <td>0.144642</td>\n",
       "    </tr>\n",
       "    <tr>\n",
       "      <th>2</th>\n",
       "      <td>Low</td>\n",
       "      <td>0.093167</td>\n",
       "    </tr>\n",
       "    <tr>\n",
       "      <th>3</th>\n",
       "      <td>Close</td>\n",
       "      <td>0.063418</td>\n",
       "    </tr>\n",
       "    <tr>\n",
       "      <th>0</th>\n",
       "      <td>Open</td>\n",
       "      <td>0.055429</td>\n",
       "    </tr>\n",
       "    <tr>\n",
       "      <th>1</th>\n",
       "      <td>High</td>\n",
       "      <td>0.034580</td>\n",
       "    </tr>\n",
       "  </tbody>\n",
       "</table>\n",
       "</div>"
      ],
      "text/plain": [
       "          Feature  Importances\n",
       "5          Volume     0.311179\n",
       "6  Percent Change     0.297585\n",
       "4       Adj Close     0.144642\n",
       "2             Low     0.093167\n",
       "3           Close     0.063418\n",
       "0            Open     0.055429\n",
       "1            High     0.034580"
      ]
     },
     "execution_count": 35,
     "metadata": {},
     "output_type": "execute_result"
    }
   ],
   "source": [
    "features_df = pd.DataFrame({'Feature': X_train.columns\n",
    "                            , 'Importances': rfc.feature_importances_\n",
    "                           }).sort_values('Importances'\n",
    "                                          , ascending=False\n",
    "                                         )\n",
    "features_df"
   ]
  },
  {
   "cell_type": "markdown",
   "metadata": {},
   "source": [
    "## Make A Prediction"
   ]
  },
  {
   "cell_type": "code",
   "execution_count": 36,
   "metadata": {},
   "outputs": [
    {
     "data": {
      "text/html": [
       "<div>\n",
       "<style scoped>\n",
       "    .dataframe tbody tr th:only-of-type {\n",
       "        vertical-align: middle;\n",
       "    }\n",
       "\n",
       "    .dataframe tbody tr th {\n",
       "        vertical-align: top;\n",
       "    }\n",
       "\n",
       "    .dataframe thead th {\n",
       "        text-align: right;\n",
       "    }\n",
       "</style>\n",
       "<table border=\"1\" class=\"dataframe\">\n",
       "  <thead>\n",
       "    <tr style=\"text-align: right;\">\n",
       "      <th></th>\n",
       "      <th>Open</th>\n",
       "      <th>High</th>\n",
       "      <th>Low</th>\n",
       "      <th>Close</th>\n",
       "      <th>Adj Close</th>\n",
       "      <th>Volume</th>\n",
       "      <th>Percent Change</th>\n",
       "      <th>Direction</th>\n",
       "    </tr>\n",
       "    <tr>\n",
       "      <th>Date</th>\n",
       "      <th></th>\n",
       "      <th></th>\n",
       "      <th></th>\n",
       "      <th></th>\n",
       "      <th></th>\n",
       "      <th></th>\n",
       "      <th></th>\n",
       "      <th></th>\n",
       "    </tr>\n",
       "  </thead>\n",
       "  <tbody>\n",
       "    <tr>\n",
       "      <th>2020-07-09</th>\n",
       "      <td>15.430000</td>\n",
       "      <td>15.44</td>\n",
       "      <td>14.870000</td>\n",
       "      <td>15.12</td>\n",
       "      <td>15.12</td>\n",
       "      <td>2578000</td>\n",
       "      <td>-0.020091</td>\n",
       "      <td>0</td>\n",
       "    </tr>\n",
       "    <tr>\n",
       "      <th>2020-07-10</th>\n",
       "      <td>15.160000</td>\n",
       "      <td>16.02</td>\n",
       "      <td>15.110000</td>\n",
       "      <td>16.01</td>\n",
       "      <td>16.01</td>\n",
       "      <td>2747900</td>\n",
       "      <td>0.056069</td>\n",
       "      <td>0</td>\n",
       "    </tr>\n",
       "    <tr>\n",
       "      <th>2020-07-13</th>\n",
       "      <td>16.209999</td>\n",
       "      <td>16.67</td>\n",
       "      <td>16.059999</td>\n",
       "      <td>16.27</td>\n",
       "      <td>16.27</td>\n",
       "      <td>2842000</td>\n",
       "      <td>0.003702</td>\n",
       "      <td>0</td>\n",
       "    </tr>\n",
       "  </tbody>\n",
       "</table>\n",
       "</div>"
      ],
      "text/plain": [
       "                 Open   High        Low  Close  Adj Close   Volume  \\\n",
       "Date                                                                 \n",
       "2020-07-09  15.430000  15.44  14.870000  15.12      15.12  2578000   \n",
       "2020-07-10  15.160000  16.02  15.110000  16.01      16.01  2747900   \n",
       "2020-07-13  16.209999  16.67  16.059999  16.27      16.27  2842000   \n",
       "\n",
       "            Percent Change  Direction  \n",
       "Date                                   \n",
       "2020-07-09       -0.020091          0  \n",
       "2020-07-10        0.056069          0  \n",
       "2020-07-13        0.003702          0  "
      ]
     },
     "execution_count": 36,
     "metadata": {},
     "output_type": "execute_result"
    }
   ],
   "source": [
    "stock_df.tail(3)"
   ]
  },
  {
   "cell_type": "code",
   "execution_count": 37,
   "metadata": {},
   "outputs": [
    {
     "data": {
      "text/plain": [
       "Open              1.621000e+01\n",
       "High              1.667000e+01\n",
       "Low               1.606000e+01\n",
       "Close             1.627000e+01\n",
       "Adj Close         1.627000e+01\n",
       "Volume            2.842000e+06\n",
       "Percent Change    3.701502e-03\n",
       "Name: 2020-07-13 00:00:00, dtype: float64"
      ]
     },
     "execution_count": 37,
     "metadata": {},
     "output_type": "execute_result"
    }
   ],
   "source": [
    "last = stock_df.drop(columns=['Direction']).iloc[-1]\n",
    "last"
   ]
  },
  {
   "cell_type": "code",
   "execution_count": 38,
   "metadata": {},
   "outputs": [
    {
     "name": "stdout",
     "output_type": "stream",
     "text": [
      "Buy JEF on the 1d for 8.0% increase.\n"
     ]
    },
    {
     "name": "stderr",
     "output_type": "stream",
     "text": [
      "[Parallel(n_jobs=8)]: Using backend ThreadingBackend with 8 concurrent workers.\n",
      "[Parallel(n_jobs=8)]: Done  45 out of  45 | elapsed:    0.0s finished\n"
     ]
    }
   ],
   "source": [
    "if rfc.predict(np.array(last).reshape(1, -1))[0] == 1:\n",
    "    print(f'Buy {symbol} on the {interval} for {round(perc_inc * 100, 1)}% increase.')\n",
    "else:\n",
    "    print(f'Sell or hold {symbol} on the {interval} interval for expected {round(perc_inc * 100, 1)}% increase.')"
   ]
  },
  {
   "cell_type": "markdown",
   "metadata": {},
   "source": [
    "Try Gradient Boosting: n_estimators, n_splits, n_depths, learning rate, etc..."
   ]
  },
  {
   "cell_type": "markdown",
   "metadata": {},
   "source": [
    "### Make A Function"
   ]
  },
  {
   "cell_type": "code",
   "execution_count": null,
   "metadata": {},
   "outputs": [],
   "source": []
  }
 ],
 "metadata": {
  "kernelspec": {
   "display_name": "Python 3",
   "language": "python",
   "name": "python3"
  },
  "language_info": {
   "codemirror_mode": {
    "name": "ipython",
    "version": 3
   },
   "file_extension": ".py",
   "mimetype": "text/x-python",
   "name": "python",
   "nbconvert_exporter": "python",
   "pygments_lexer": "ipython3",
   "version": "3.8.2"
  }
 },
 "nbformat": 4,
 "nbformat_minor": 4
}
