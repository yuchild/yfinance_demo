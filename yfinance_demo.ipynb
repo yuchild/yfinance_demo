{
 "cells": [
  {
   "cell_type": "markdown",
   "metadata": {},
   "source": [
    "## yfinance Library Demo 6/15/2020"
   ]
  },
  {
   "cell_type": "markdown",
   "metadata": {},
   "source": [
    "### Imports: "
   ]
  },
  {
   "cell_type": "code",
   "execution_count": 1,
   "metadata": {},
   "outputs": [],
   "source": [
    "import pandas as pd\n",
    "import numpy as np\n",
    "\n",
    "import matplotlib.pyplot as plt\n",
    "plt.rcParams['font.size'] = 12\n",
    "plt.rcParams['figure.figsize'] = (8, 7)\n",
    "plt.style.use('fivethirtyeight')\n",
    "\n",
    "import warnings\n",
    "warnings.filterwarnings('ignore')\n",
    "\n",
    "import yfinance as yf\n",
    "\n",
    "from sklearn.model_selection import train_test_split\n",
    "from sklearn.ensemble import RandomForestClassifier\n",
    "from sklearn.metrics import (roc_auc_score\n",
    "                             , precision_score\n",
    "                             , recall_score\n",
    "                             , roc_curve\n",
    "                             , confusion_matrix\n",
    "                             , plot_confusion_matrix\n",
    "                             , precision_recall_curve\n",
    "                             , auc\n",
    "                            )"
   ]
  },
  {
   "cell_type": "markdown",
   "metadata": {},
   "source": [
    "### Global Variables:"
   ]
  },
  {
   "cell_type": "code",
   "execution_count": 2,
   "metadata": {},
   "outputs": [],
   "source": [
    "month = '06'\n",
    "\n",
    "date = '15'\n",
    "\n",
    "# sf_hour = 13 # 6 to 13 military time in PST\n",
    "# ny_hour = 4 # 9 to 16 military time in EST\n",
    "\n",
    "# valid intervals: 1m,2m,5m,15m,30m,60m,90m,1h,1d,5d,1wk,1mo,3mo\n",
    "interval = '60m'\n",
    "\n",
    "perc_inc = 0.008 # 0.8 percent increase from hour to hour or any time period\n",
    "\n",
    "# start = '2018-07-01'\n",
    "\n",
    "# end = '2020-' + month + '-' + date\n",
    "\n",
    "symbol = 'VTI' # VTI or Vanguard Total Stock Market ETF\n",
    "\n",
    "perc_train = 1 # percent of train set"
   ]
  },
  {
   "cell_type": "markdown",
   "metadata": {},
   "source": [
    "### Yahoo Finance"
   ]
  },
  {
   "cell_type": "code",
   "execution_count": 3,
   "metadata": {},
   "outputs": [
    {
     "name": "stdout",
     "output_type": "stream",
     "text": [
      "[*********************100%***********************]  1 of 1 completed\n"
     ]
    }
   ],
   "source": [
    "stock_df = yf.download(tickers = symbol # symbol of stock \n",
    "                       \n",
    "                       , period = '2y' # time span of data e.g. 1y or 10y\n",
    "                       \n",
    "                       , interval = interval # time periods of subinterval e.g. 1m or 1hr\n",
    "                       \n",
    "                       # , start = start # start time\n",
    "                       \n",
    "                       # , end = end # end time\n",
    "                       \n",
    "                       , prepost = True # pre/post market data\n",
    "                      )"
   ]
  },
  {
   "cell_type": "code",
   "execution_count": 4,
   "metadata": {},
   "outputs": [
    {
     "data": {
      "text/html": [
       "<div>\n",
       "<style scoped>\n",
       "    .dataframe tbody tr th:only-of-type {\n",
       "        vertical-align: middle;\n",
       "    }\n",
       "\n",
       "    .dataframe tbody tr th {\n",
       "        vertical-align: top;\n",
       "    }\n",
       "\n",
       "    .dataframe thead th {\n",
       "        text-align: right;\n",
       "    }\n",
       "</style>\n",
       "<table border=\"1\" class=\"dataframe\">\n",
       "  <thead>\n",
       "    <tr style=\"text-align: right;\">\n",
       "      <th></th>\n",
       "      <th>Open</th>\n",
       "      <th>High</th>\n",
       "      <th>Low</th>\n",
       "      <th>Close</th>\n",
       "      <th>Adj Close</th>\n",
       "      <th>Volume</th>\n",
       "    </tr>\n",
       "    <tr>\n",
       "      <th>Datetime</th>\n",
       "      <th></th>\n",
       "      <th></th>\n",
       "      <th></th>\n",
       "      <th></th>\n",
       "      <th></th>\n",
       "      <th></th>\n",
       "    </tr>\n",
       "  </thead>\n",
       "  <tbody>\n",
       "    <tr>\n",
       "      <th>2018-06-18 08:00:00-04:00</th>\n",
       "      <td>144.150000</td>\n",
       "      <td>144.150000</td>\n",
       "      <td>143.000000</td>\n",
       "      <td>144.150000</td>\n",
       "      <td>144.150000</td>\n",
       "      <td>0</td>\n",
       "    </tr>\n",
       "    <tr>\n",
       "      <th>2018-06-18 09:30:00-04:00</th>\n",
       "      <td>143.281998</td>\n",
       "      <td>143.569901</td>\n",
       "      <td>143.063202</td>\n",
       "      <td>143.520996</td>\n",
       "      <td>143.520996</td>\n",
       "      <td>367516</td>\n",
       "    </tr>\n",
       "    <tr>\n",
       "      <th>2018-06-18 10:30:00-04:00</th>\n",
       "      <td>143.509003</td>\n",
       "      <td>143.979996</td>\n",
       "      <td>143.509003</td>\n",
       "      <td>143.840103</td>\n",
       "      <td>143.840103</td>\n",
       "      <td>301945</td>\n",
       "    </tr>\n",
       "    <tr>\n",
       "      <th>2018-06-18 11:30:00-04:00</th>\n",
       "      <td>143.880005</td>\n",
       "      <td>143.880005</td>\n",
       "      <td>143.580002</td>\n",
       "      <td>143.580002</td>\n",
       "      <td>143.580002</td>\n",
       "      <td>132313</td>\n",
       "    </tr>\n",
       "    <tr>\n",
       "      <th>2018-06-18 12:30:00-04:00</th>\n",
       "      <td>143.589996</td>\n",
       "      <td>143.899994</td>\n",
       "      <td>143.589996</td>\n",
       "      <td>143.859299</td>\n",
       "      <td>143.859299</td>\n",
       "      <td>122883</td>\n",
       "    </tr>\n",
       "  </tbody>\n",
       "</table>\n",
       "</div>"
      ],
      "text/plain": [
       "                                 Open        High         Low       Close  \\\n",
       "Datetime                                                                    \n",
       "2018-06-18 08:00:00-04:00  144.150000  144.150000  143.000000  144.150000   \n",
       "2018-06-18 09:30:00-04:00  143.281998  143.569901  143.063202  143.520996   \n",
       "2018-06-18 10:30:00-04:00  143.509003  143.979996  143.509003  143.840103   \n",
       "2018-06-18 11:30:00-04:00  143.880005  143.880005  143.580002  143.580002   \n",
       "2018-06-18 12:30:00-04:00  143.589996  143.899994  143.589996  143.859299   \n",
       "\n",
       "                            Adj Close  Volume  \n",
       "Datetime                                       \n",
       "2018-06-18 08:00:00-04:00  144.150000       0  \n",
       "2018-06-18 09:30:00-04:00  143.520996  367516  \n",
       "2018-06-18 10:30:00-04:00  143.840103  301945  \n",
       "2018-06-18 11:30:00-04:00  143.580002  132313  \n",
       "2018-06-18 12:30:00-04:00  143.859299  122883  "
      ]
     },
     "execution_count": 4,
     "metadata": {},
     "output_type": "execute_result"
    }
   ],
   "source": [
    "stock_df.head()"
   ]
  },
  {
   "cell_type": "markdown",
   "metadata": {},
   "source": [
    "### Assign Descisions for Up %+ or Not"
   ]
  },
  {
   "cell_type": "code",
   "execution_count": 5,
   "metadata": {},
   "outputs": [],
   "source": [
    "stock_df['decision'] = np.where((stock_df['Close'] - stock_df['Open'])/stock_df['Open'] > perc_inc\n",
    "                                \n",
    "                                , 1  # 1 if up % or greater\n",
    "                                \n",
    "                                , 0  # 0 if not up % or greater\n",
    "                                \n",
    "                               )"
   ]
  },
  {
   "cell_type": "code",
   "execution_count": 6,
   "metadata": {
    "scrolled": true
   },
   "outputs": [
    {
     "data": {
      "text/html": [
       "<div>\n",
       "<style scoped>\n",
       "    .dataframe tbody tr th:only-of-type {\n",
       "        vertical-align: middle;\n",
       "    }\n",
       "\n",
       "    .dataframe tbody tr th {\n",
       "        vertical-align: top;\n",
       "    }\n",
       "\n",
       "    .dataframe thead th {\n",
       "        text-align: right;\n",
       "    }\n",
       "</style>\n",
       "<table border=\"1\" class=\"dataframe\">\n",
       "  <thead>\n",
       "    <tr style=\"text-align: right;\">\n",
       "      <th></th>\n",
       "      <th>Open</th>\n",
       "      <th>High</th>\n",
       "      <th>Low</th>\n",
       "      <th>Close</th>\n",
       "      <th>Adj Close</th>\n",
       "      <th>Volume</th>\n",
       "      <th>decision</th>\n",
       "    </tr>\n",
       "    <tr>\n",
       "      <th>Datetime</th>\n",
       "      <th></th>\n",
       "      <th></th>\n",
       "      <th></th>\n",
       "      <th></th>\n",
       "      <th></th>\n",
       "      <th></th>\n",
       "      <th></th>\n",
       "    </tr>\n",
       "  </thead>\n",
       "  <tbody>\n",
       "    <tr>\n",
       "      <th>2020-06-12 18:00:00-04:00</th>\n",
       "      <td>153.500000</td>\n",
       "      <td>154.030000</td>\n",
       "      <td>153.500000</td>\n",
       "      <td>154.030000</td>\n",
       "      <td>154.030000</td>\n",
       "      <td>0</td>\n",
       "      <td>0</td>\n",
       "    </tr>\n",
       "    <tr>\n",
       "      <th>2020-06-15 04:00:00-04:00</th>\n",
       "      <td>150.000000</td>\n",
       "      <td>150.000000</td>\n",
       "      <td>149.990000</td>\n",
       "      <td>149.990000</td>\n",
       "      <td>149.990000</td>\n",
       "      <td>0</td>\n",
       "      <td>0</td>\n",
       "    </tr>\n",
       "    <tr>\n",
       "      <th>2020-06-15 07:00:00-04:00</th>\n",
       "      <td>150.510000</td>\n",
       "      <td>150.510000</td>\n",
       "      <td>150.010000</td>\n",
       "      <td>150.060000</td>\n",
       "      <td>150.060000</td>\n",
       "      <td>0</td>\n",
       "      <td>0</td>\n",
       "    </tr>\n",
       "    <tr>\n",
       "      <th>2020-06-15 08:00:00-04:00</th>\n",
       "      <td>150.480000</td>\n",
       "      <td>151.585000</td>\n",
       "      <td>150.049100</td>\n",
       "      <td>150.500000</td>\n",
       "      <td>150.500000</td>\n",
       "      <td>0</td>\n",
       "      <td>0</td>\n",
       "    </tr>\n",
       "    <tr>\n",
       "      <th>2020-06-15 09:30:00-04:00</th>\n",
       "      <td>150.559998</td>\n",
       "      <td>152.410004</td>\n",
       "      <td>149.850006</td>\n",
       "      <td>151.730103</td>\n",
       "      <td>151.730103</td>\n",
       "      <td>1148437</td>\n",
       "      <td>0</td>\n",
       "    </tr>\n",
       "    <tr>\n",
       "      <th>2020-06-15 10:30:00-04:00</th>\n",
       "      <td>151.690002</td>\n",
       "      <td>153.229996</td>\n",
       "      <td>151.380005</td>\n",
       "      <td>152.770004</td>\n",
       "      <td>152.770004</td>\n",
       "      <td>631161</td>\n",
       "      <td>0</td>\n",
       "    </tr>\n",
       "    <tr>\n",
       "      <th>2020-06-15 11:30:00-04:00</th>\n",
       "      <td>152.789993</td>\n",
       "      <td>153.880005</td>\n",
       "      <td>152.429993</td>\n",
       "      <td>153.750000</td>\n",
       "      <td>153.750000</td>\n",
       "      <td>557678</td>\n",
       "      <td>0</td>\n",
       "    </tr>\n",
       "    <tr>\n",
       "      <th>2020-06-15 12:30:00-04:00</th>\n",
       "      <td>153.699997</td>\n",
       "      <td>154.779999</td>\n",
       "      <td>153.509995</td>\n",
       "      <td>154.330002</td>\n",
       "      <td>154.330002</td>\n",
       "      <td>462396</td>\n",
       "      <td>0</td>\n",
       "    </tr>\n",
       "    <tr>\n",
       "      <th>2020-06-15 13:30:00-04:00</th>\n",
       "      <td>154.309998</td>\n",
       "      <td>156.160004</td>\n",
       "      <td>153.869995</td>\n",
       "      <td>155.960602</td>\n",
       "      <td>155.960602</td>\n",
       "      <td>796158</td>\n",
       "      <td>1</td>\n",
       "    </tr>\n",
       "    <tr>\n",
       "      <th>2020-06-15 14:30:00-04:00</th>\n",
       "      <td>156.009995</td>\n",
       "      <td>156.149994</td>\n",
       "      <td>154.935806</td>\n",
       "      <td>154.957001</td>\n",
       "      <td>154.957001</td>\n",
       "      <td>780323</td>\n",
       "      <td>0</td>\n",
       "    </tr>\n",
       "    <tr>\n",
       "      <th>2020-06-15 15:30:00-04:00</th>\n",
       "      <td>154.960007</td>\n",
       "      <td>155.610001</td>\n",
       "      <td>154.289993</td>\n",
       "      <td>155.610001</td>\n",
       "      <td>155.610001</td>\n",
       "      <td>459884</td>\n",
       "      <td>0</td>\n",
       "    </tr>\n",
       "    <tr>\n",
       "      <th>2020-06-15 16:00:00-04:00</th>\n",
       "      <td>155.620000</td>\n",
       "      <td>155.990000</td>\n",
       "      <td>155.620000</td>\n",
       "      <td>155.800000</td>\n",
       "      <td>155.800000</td>\n",
       "      <td>0</td>\n",
       "      <td>0</td>\n",
       "    </tr>\n",
       "    <tr>\n",
       "      <th>2020-06-15 17:00:00-04:00</th>\n",
       "      <td>155.620000</td>\n",
       "      <td>155.660000</td>\n",
       "      <td>155.620000</td>\n",
       "      <td>155.660000</td>\n",
       "      <td>155.660000</td>\n",
       "      <td>0</td>\n",
       "      <td>0</td>\n",
       "    </tr>\n",
       "    <tr>\n",
       "      <th>2020-06-15 18:00:00-04:00</th>\n",
       "      <td>155.970000</td>\n",
       "      <td>156.000000</td>\n",
       "      <td>155.970000</td>\n",
       "      <td>156.000000</td>\n",
       "      <td>156.000000</td>\n",
       "      <td>0</td>\n",
       "      <td>0</td>\n",
       "    </tr>\n",
       "    <tr>\n",
       "      <th>2020-06-15 19:00:00-04:00</th>\n",
       "      <td>156.000000</td>\n",
       "      <td>156.000000</td>\n",
       "      <td>156.000000</td>\n",
       "      <td>156.000000</td>\n",
       "      <td>156.000000</td>\n",
       "      <td>0</td>\n",
       "      <td>0</td>\n",
       "    </tr>\n",
       "  </tbody>\n",
       "</table>\n",
       "</div>"
      ],
      "text/plain": [
       "                                 Open        High         Low       Close  \\\n",
       "Datetime                                                                    \n",
       "2020-06-12 18:00:00-04:00  153.500000  154.030000  153.500000  154.030000   \n",
       "2020-06-15 04:00:00-04:00  150.000000  150.000000  149.990000  149.990000   \n",
       "2020-06-15 07:00:00-04:00  150.510000  150.510000  150.010000  150.060000   \n",
       "2020-06-15 08:00:00-04:00  150.480000  151.585000  150.049100  150.500000   \n",
       "2020-06-15 09:30:00-04:00  150.559998  152.410004  149.850006  151.730103   \n",
       "2020-06-15 10:30:00-04:00  151.690002  153.229996  151.380005  152.770004   \n",
       "2020-06-15 11:30:00-04:00  152.789993  153.880005  152.429993  153.750000   \n",
       "2020-06-15 12:30:00-04:00  153.699997  154.779999  153.509995  154.330002   \n",
       "2020-06-15 13:30:00-04:00  154.309998  156.160004  153.869995  155.960602   \n",
       "2020-06-15 14:30:00-04:00  156.009995  156.149994  154.935806  154.957001   \n",
       "2020-06-15 15:30:00-04:00  154.960007  155.610001  154.289993  155.610001   \n",
       "2020-06-15 16:00:00-04:00  155.620000  155.990000  155.620000  155.800000   \n",
       "2020-06-15 17:00:00-04:00  155.620000  155.660000  155.620000  155.660000   \n",
       "2020-06-15 18:00:00-04:00  155.970000  156.000000  155.970000  156.000000   \n",
       "2020-06-15 19:00:00-04:00  156.000000  156.000000  156.000000  156.000000   \n",
       "\n",
       "                            Adj Close   Volume  decision  \n",
       "Datetime                                                  \n",
       "2020-06-12 18:00:00-04:00  154.030000        0         0  \n",
       "2020-06-15 04:00:00-04:00  149.990000        0         0  \n",
       "2020-06-15 07:00:00-04:00  150.060000        0         0  \n",
       "2020-06-15 08:00:00-04:00  150.500000        0         0  \n",
       "2020-06-15 09:30:00-04:00  151.730103  1148437         0  \n",
       "2020-06-15 10:30:00-04:00  152.770004   631161         0  \n",
       "2020-06-15 11:30:00-04:00  153.750000   557678         0  \n",
       "2020-06-15 12:30:00-04:00  154.330002   462396         0  \n",
       "2020-06-15 13:30:00-04:00  155.960602   796158         1  \n",
       "2020-06-15 14:30:00-04:00  154.957001   780323         0  \n",
       "2020-06-15 15:30:00-04:00  155.610001   459884         0  \n",
       "2020-06-15 16:00:00-04:00  155.800000        0         0  \n",
       "2020-06-15 17:00:00-04:00  155.660000        0         0  \n",
       "2020-06-15 18:00:00-04:00  156.000000        0         0  \n",
       "2020-06-15 19:00:00-04:00  156.000000        0         0  "
      ]
     },
     "execution_count": 6,
     "metadata": {},
     "output_type": "execute_result"
    }
   ],
   "source": [
    "stock_df.tail(15)"
   ]
  },
  {
   "cell_type": "markdown",
   "metadata": {},
   "source": [
    "### Create One Offs"
   ]
  },
  {
   "cell_type": "markdown",
   "metadata": {},
   "source": [
    "Move decision column up by 1 row so the current\n",
    "hour of data will predict the next hour of data\n",
    "or whichever time frame is observed"
   ]
  },
  {
   "cell_type": "code",
   "execution_count": 7,
   "metadata": {
    "scrolled": true
   },
   "outputs": [
    {
     "data": {
      "text/plain": [
       "numpy.ndarray"
      ]
     },
     "execution_count": 7,
     "metadata": {},
     "output_type": "execute_result"
    }
   ],
   "source": [
    "decisions = stock_df.decision.values\n",
    "type(decisions)"
   ]
  },
  {
   "cell_type": "code",
   "execution_count": 8,
   "metadata": {},
   "outputs": [
    {
     "data": {
      "text/plain": [
       "5500"
      ]
     },
     "execution_count": 8,
     "metadata": {},
     "output_type": "execute_result"
    }
   ],
   "source": [
    "len(decisions)"
   ]
  },
  {
   "cell_type": "code",
   "execution_count": 9,
   "metadata": {},
   "outputs": [],
   "source": [
    "decisions = decisions[1:len(decisions)] # from rows 2 to 6061"
   ]
  },
  {
   "cell_type": "code",
   "execution_count": 10,
   "metadata": {},
   "outputs": [
    {
     "data": {
      "text/plain": [
       "5499"
      ]
     },
     "execution_count": 10,
     "metadata": {},
     "output_type": "execute_result"
    }
   ],
   "source": [
    "len(decisions)"
   ]
  },
  {
   "cell_type": "code",
   "execution_count": 11,
   "metadata": {},
   "outputs": [
    {
     "data": {
      "text/plain": [
       "(5499, 7)"
      ]
     },
     "execution_count": 11,
     "metadata": {},
     "output_type": "execute_result"
    }
   ],
   "source": [
    "stock_df_one_off = stock_df.iloc[0:stock_df.shape[0]-1] # from rows 1 to 6060\n",
    "stock_df_one_off.shape"
   ]
  },
  {
   "cell_type": "code",
   "execution_count": 12,
   "metadata": {
    "scrolled": true
   },
   "outputs": [
    {
     "data": {
      "text/plain": [
       "Open         155.97\n",
       "High         156.00\n",
       "Low          155.97\n",
       "Close        156.00\n",
       "Adj Close    156.00\n",
       "Volume         0.00\n",
       "decision       0.00\n",
       "Name: 2020-06-15 18:00:00-04:00, dtype: float64"
      ]
     },
     "execution_count": 12,
     "metadata": {},
     "output_type": "execute_result"
    }
   ],
   "source": [
    "stock_df_one_off.iloc[-1]"
   ]
  },
  {
   "cell_type": "code",
   "execution_count": 13,
   "metadata": {},
   "outputs": [
    {
     "data": {
      "text/html": [
       "<div>\n",
       "<style scoped>\n",
       "    .dataframe tbody tr th:only-of-type {\n",
       "        vertical-align: middle;\n",
       "    }\n",
       "\n",
       "    .dataframe tbody tr th {\n",
       "        vertical-align: top;\n",
       "    }\n",
       "\n",
       "    .dataframe thead th {\n",
       "        text-align: right;\n",
       "    }\n",
       "</style>\n",
       "<table border=\"1\" class=\"dataframe\">\n",
       "  <thead>\n",
       "    <tr style=\"text-align: right;\">\n",
       "      <th></th>\n",
       "      <th>Open</th>\n",
       "      <th>High</th>\n",
       "      <th>Low</th>\n",
       "      <th>Close</th>\n",
       "      <th>Adj Close</th>\n",
       "      <th>Volume</th>\n",
       "      <th>decision</th>\n",
       "    </tr>\n",
       "    <tr>\n",
       "      <th>Datetime</th>\n",
       "      <th></th>\n",
       "      <th></th>\n",
       "      <th></th>\n",
       "      <th></th>\n",
       "      <th></th>\n",
       "      <th></th>\n",
       "      <th></th>\n",
       "    </tr>\n",
       "  </thead>\n",
       "  <tbody>\n",
       "    <tr>\n",
       "      <th>2018-06-18 08:00:00-04:00</th>\n",
       "      <td>144.150000</td>\n",
       "      <td>144.150000</td>\n",
       "      <td>143.000000</td>\n",
       "      <td>144.150000</td>\n",
       "      <td>144.150000</td>\n",
       "      <td>0</td>\n",
       "      <td>0</td>\n",
       "    </tr>\n",
       "    <tr>\n",
       "      <th>2018-06-18 09:30:00-04:00</th>\n",
       "      <td>143.281998</td>\n",
       "      <td>143.569901</td>\n",
       "      <td>143.063202</td>\n",
       "      <td>143.520996</td>\n",
       "      <td>143.520996</td>\n",
       "      <td>367516</td>\n",
       "      <td>0</td>\n",
       "    </tr>\n",
       "    <tr>\n",
       "      <th>2018-06-18 10:30:00-04:00</th>\n",
       "      <td>143.509003</td>\n",
       "      <td>143.979996</td>\n",
       "      <td>143.509003</td>\n",
       "      <td>143.840103</td>\n",
       "      <td>143.840103</td>\n",
       "      <td>301945</td>\n",
       "      <td>0</td>\n",
       "    </tr>\n",
       "    <tr>\n",
       "      <th>2018-06-18 11:30:00-04:00</th>\n",
       "      <td>143.880005</td>\n",
       "      <td>143.880005</td>\n",
       "      <td>143.580002</td>\n",
       "      <td>143.580002</td>\n",
       "      <td>143.580002</td>\n",
       "      <td>132313</td>\n",
       "      <td>0</td>\n",
       "    </tr>\n",
       "    <tr>\n",
       "      <th>2018-06-18 12:30:00-04:00</th>\n",
       "      <td>143.589996</td>\n",
       "      <td>143.899994</td>\n",
       "      <td>143.589996</td>\n",
       "      <td>143.859299</td>\n",
       "      <td>143.859299</td>\n",
       "      <td>122883</td>\n",
       "      <td>0</td>\n",
       "    </tr>\n",
       "  </tbody>\n",
       "</table>\n",
       "</div>"
      ],
      "text/plain": [
       "                                 Open        High         Low       Close  \\\n",
       "Datetime                                                                    \n",
       "2018-06-18 08:00:00-04:00  144.150000  144.150000  143.000000  144.150000   \n",
       "2018-06-18 09:30:00-04:00  143.281998  143.569901  143.063202  143.520996   \n",
       "2018-06-18 10:30:00-04:00  143.509003  143.979996  143.509003  143.840103   \n",
       "2018-06-18 11:30:00-04:00  143.880005  143.880005  143.580002  143.580002   \n",
       "2018-06-18 12:30:00-04:00  143.589996  143.899994  143.589996  143.859299   \n",
       "\n",
       "                            Adj Close  Volume  decision  \n",
       "Datetime                                                 \n",
       "2018-06-18 08:00:00-04:00  144.150000       0         0  \n",
       "2018-06-18 09:30:00-04:00  143.520996  367516         0  \n",
       "2018-06-18 10:30:00-04:00  143.840103  301945         0  \n",
       "2018-06-18 11:30:00-04:00  143.580002  132313         0  \n",
       "2018-06-18 12:30:00-04:00  143.859299  122883         0  "
      ]
     },
     "execution_count": 13,
     "metadata": {},
     "output_type": "execute_result"
    }
   ],
   "source": [
    "stock_df_one_off['decision'] = decisions\n",
    "stock_df_one_off.head()"
   ]
  },
  {
   "cell_type": "code",
   "execution_count": 14,
   "metadata": {},
   "outputs": [
    {
     "data": {
      "text/plain": [
       "0    5355\n",
       "1     144\n",
       "Name: decision, dtype: int64"
      ]
     },
     "execution_count": 14,
     "metadata": {},
     "output_type": "execute_result"
    }
   ],
   "source": [
    "stock_df_one_off.decision.value_counts() # there is an inablance between 0's and 1's"
   ]
  },
  {
   "cell_type": "markdown",
   "metadata": {},
   "source": [
    "### Balance the 0's and 1's"
   ]
  },
  {
   "cell_type": "code",
   "execution_count": 15,
   "metadata": {},
   "outputs": [
    {
     "data": {
      "text/plain": [
       "144"
      ]
     },
     "execution_count": 15,
     "metadata": {},
     "output_type": "execute_result"
    }
   ],
   "source": [
    "ones = stock_df_one_off.decision.value_counts()[1]\n",
    "ones"
   ]
  },
  {
   "cell_type": "code",
   "execution_count": 16,
   "metadata": {},
   "outputs": [],
   "source": [
    "stock_df_bal = stock_df_one_off.groupby('decision').apply(lambda x: x.sample(n=ones)).reset_index(drop=True)"
   ]
  },
  {
   "cell_type": "code",
   "execution_count": 17,
   "metadata": {},
   "outputs": [
    {
     "data": {
      "text/plain": [
       "(288, 7)"
      ]
     },
     "execution_count": 17,
     "metadata": {},
     "output_type": "execute_result"
    }
   ],
   "source": [
    "stock_df_bal.shape"
   ]
  },
  {
   "cell_type": "code",
   "execution_count": 18,
   "metadata": {},
   "outputs": [
    {
     "data": {
      "text/plain": [
       "1    144\n",
       "0    144\n",
       "Name: decision, dtype: int64"
      ]
     },
     "execution_count": 18,
     "metadata": {},
     "output_type": "execute_result"
    }
   ],
   "source": [
    "stock_df_bal.decision.value_counts()"
   ]
  },
  {
   "cell_type": "markdown",
   "metadata": {},
   "source": [
    "### Train Test Split"
   ]
  },
  {
   "cell_type": "code",
   "execution_count": 19,
   "metadata": {},
   "outputs": [],
   "source": [
    "X = stock_df_bal.drop(columns=['decision']) # get columns other than decision\n",
    "y = stock_df_bal['decision'] # get decision column"
   ]
  },
  {
   "cell_type": "code",
   "execution_count": 20,
   "metadata": {},
   "outputs": [],
   "source": [
    "X_train, X_test, y_train, y_test = train_test_split(X\n",
    "                                                    , y\n",
    "                                                    , test_size=0.20\n",
    "                                                    , random_state = 42\n",
    "                                                   )"
   ]
  },
  {
   "cell_type": "markdown",
   "metadata": {},
   "source": [
    "### Random Forest Classifier"
   ]
  },
  {
   "cell_type": "code",
   "execution_count": 21,
   "metadata": {},
   "outputs": [
    {
     "name": "stderr",
     "output_type": "stream",
     "text": [
      "[Parallel(n_jobs=-1)]: Using backend ThreadingBackend with 8 concurrent workers.\n",
      "[Parallel(n_jobs=-1)]: Done  34 tasks      | elapsed:    0.1s\n",
      "[Parallel(n_jobs=-1)]: Done 184 tasks      | elapsed:    0.2s\n",
      "[Parallel(n_jobs=-1)]: Done 230 out of 230 | elapsed:    0.3s finished\n",
      "[Parallel(n_jobs=8)]: Using backend ThreadingBackend with 8 concurrent workers.\n",
      "[Parallel(n_jobs=8)]: Done  34 tasks      | elapsed:    0.0s\n",
      "[Parallel(n_jobs=8)]: Done 184 tasks      | elapsed:    0.0s\n",
      "[Parallel(n_jobs=8)]: Done 230 out of 230 | elapsed:    0.0s finished\n",
      "[Parallel(n_jobs=8)]: Using backend ThreadingBackend with 8 concurrent workers.\n",
      "[Parallel(n_jobs=8)]: Done  34 tasks      | elapsed:    0.0s\n",
      "[Parallel(n_jobs=8)]: Done 184 tasks      | elapsed:    0.1s\n",
      "[Parallel(n_jobs=8)]: Done 230 out of 230 | elapsed:    0.1s finished\n"
     ]
    }
   ],
   "source": [
    "rfc = RandomForestClassifier(n_estimators = int(perc_train * len(X_train)) # odd number \n",
    "                             , random_state = 42\n",
    "                             , verbose=1\n",
    "                             , n_jobs = -1 # access all of your processor cores Lenovo P50 i7-6820HQ 2.7GHz\n",
    "                            )\n",
    "\n",
    "rfc.fit(X_train, y_train)\n",
    "\n",
    "y_pred = rfc.predict(X_test)\n",
    "\n",
    "y_probs = rfc.predict_proba(X_test)[:, 1]"
   ]
  },
  {
   "cell_type": "markdown",
   "metadata": {},
   "source": [
    "### Measures of Performances: Receiver Operating Characteristic (ROC) Curve"
   ]
  },
  {
   "cell_type": "code",
   "execution_count": 22,
   "metadata": {},
   "outputs": [
    {
     "data": {
      "text/plain": [
       "0.8412121212121212"
      ]
     },
     "execution_count": 22,
     "metadata": {},
     "output_type": "execute_result"
    }
   ],
   "source": [
    "roc_value = roc_auc_score(y_test\n",
    "                          , y_probs\n",
    "                         )\n",
    "roc_value"
   ]
  },
  {
   "cell_type": "code",
   "execution_count": 23,
   "metadata": {},
   "outputs": [
    {
     "data": {
      "image/png": "[encoded data removed]",
      "text/plain": [
       "<Figure size 720x504 with 1 Axes>"
      ]
     },
     "metadata": {},
     "output_type": "display_data"
    }
   ],
   "source": [
    "plt.rcParams['font.size'] = 16\n",
    "base_fpr, base_tpr, _ = roc_curve(y_test, [1 for _ in range(len(y_test))])\n",
    "model_fpr, model_tpr, _ = roc_curve(y_test, y_probs)\n",
    "\n",
    "plt.figure(figsize=(10,7))\n",
    "plt.plot(base_fpr, base_tpr, 'b', label='No Skill')\n",
    "plt.plot(model_fpr, model_tpr, 'r', label='RFC Model')\n",
    "plt.legend()\n",
    "plt.xlabel('False Positive Rate')\n",
    "plt.ylabel('True Positive Rate')\n",
    "plt.title(f'{symbol} ROC Curve, Accuracy: {round(roc_value, 3)}');"
   ]
  },
  {
   "cell_type": "markdown",
   "metadata": {},
   "source": [
    "### Measures of Performance: Confusion Matrix"
   ]
  },
  {
   "cell_type": "code",
   "execution_count": 24,
   "metadata": {},
   "outputs": [
    {
     "name": "stderr",
     "output_type": "stream",
     "text": [
      "[Parallel(n_jobs=8)]: Using backend ThreadingBackend with 8 concurrent workers.\n",
      "[Parallel(n_jobs=8)]: Done  34 tasks      | elapsed:    0.0s\n",
      "[Parallel(n_jobs=8)]: Done 184 tasks      | elapsed:    0.0s\n",
      "[Parallel(n_jobs=8)]: Done 230 out of 230 | elapsed:    0.0s finished\n"
     ]
    },
    {
     "data": {
      "image/png": "[encoded data removed]",
      "text/plain": [
       "<Figure size 360x288 with 2 Axes>"
      ]
     },
     "metadata": {},
     "output_type": "display_data"
    }
   ],
   "source": [
    "plt.rcParams['figure.figsize'] = (5, 4)\n",
    "plt.rcParams['font.size'] = 16\n",
    "disp = plot_confusion_matrix(rfc\n",
    "                           , X_test\n",
    "                           , y_test\n",
    "                           , cmap=plt.cm.Blues\n",
    "                           , normalize='true'\n",
    "                     )\n",
    "disp.ax_.grid(False)\n",
    "disp.ax_.set_title(f'{symbol} Decision Confusion Matrix');"
   ]
  },
  {
   "cell_type": "markdown",
   "metadata": {},
   "source": [
    "### Measures of Performance: Precision Recall Curve"
   ]
  },
  {
   "cell_type": "code",
   "execution_count": 25,
   "metadata": {},
   "outputs": [
    {
     "data": {
      "image/png": "[encoded data removed]",
      "text/plain": [
       "<Figure size 720x576 with 1 Axes>"
      ]
     },
     "metadata": {},
     "output_type": "display_data"
    }
   ],
   "source": [
    "plt.rcParams['font.size'] = 16\n",
    "plt.rcParams['figure.figsize'] = (10,8)\n",
    "rf_prec, rf_recall, _ = precision_recall_curve(y_test, y_probs)\n",
    "plt.plot([0, 0], linestyle = '--', color = 'b', label='No Skill')\n",
    "plt.plot(rf_recall, rf_prec, color='r', label='Random Forest')\n",
    "plt.xlabel('Recall')\n",
    "plt.ylabel('Precision')\n",
    "plt.legend()\n",
    "plt.title(f'{symbol} Precision-Recall Curve, Accuracy: {round(auc(rf_recall, rf_prec), 3)}');"
   ]
  },
  {
   "cell_type": "markdown",
   "metadata": {},
   "source": [
    "### Measure of Performance: Feature Importances"
   ]
  },
  {
   "cell_type": "code",
   "execution_count": 26,
   "metadata": {},
   "outputs": [
    {
     "data": {
      "text/html": [
       "<div>\n",
       "<style scoped>\n",
       "    .dataframe tbody tr th:only-of-type {\n",
       "        vertical-align: middle;\n",
       "    }\n",
       "\n",
       "    .dataframe tbody tr th {\n",
       "        vertical-align: top;\n",
       "    }\n",
       "\n",
       "    .dataframe thead th {\n",
       "        text-align: right;\n",
       "    }\n",
       "</style>\n",
       "<table border=\"1\" class=\"dataframe\">\n",
       "  <thead>\n",
       "    <tr style=\"text-align: right;\">\n",
       "      <th></th>\n",
       "      <th>feature</th>\n",
       "      <th>importances</th>\n",
       "    </tr>\n",
       "  </thead>\n",
       "  <tbody>\n",
       "    <tr>\n",
       "      <th>0</th>\n",
       "      <td>Open</td>\n",
       "      <td>0.189398</td>\n",
       "    </tr>\n",
       "    <tr>\n",
       "      <th>5</th>\n",
       "      <td>Volume</td>\n",
       "      <td>0.186946</td>\n",
       "    </tr>\n",
       "    <tr>\n",
       "      <th>2</th>\n",
       "      <td>Low</td>\n",
       "      <td>0.185571</td>\n",
       "    </tr>\n",
       "    <tr>\n",
       "      <th>1</th>\n",
       "      <td>High</td>\n",
       "      <td>0.157499</td>\n",
       "    </tr>\n",
       "    <tr>\n",
       "      <th>4</th>\n",
       "      <td>Adj Close</td>\n",
       "      <td>0.145042</td>\n",
       "    </tr>\n",
       "    <tr>\n",
       "      <th>3</th>\n",
       "      <td>Close</td>\n",
       "      <td>0.135543</td>\n",
       "    </tr>\n",
       "  </tbody>\n",
       "</table>\n",
       "</div>"
      ],
      "text/plain": [
       "     feature  importances\n",
       "0       Open     0.189398\n",
       "5     Volume     0.186946\n",
       "2        Low     0.185571\n",
       "1       High     0.157499\n",
       "4  Adj Close     0.145042\n",
       "3      Close     0.135543"
      ]
     },
     "execution_count": 26,
     "metadata": {},
     "output_type": "execute_result"
    }
   ],
   "source": [
    "feature_df = pd.DataFrame({'feature': X_train.columns\n",
    "                           , 'importances': rfc.feature_importances_\n",
    "                          }).sort_values('importances', ascending=False)\n",
    "feature_df"
   ]
  },
  {
   "cell_type": "code",
   "execution_count": 27,
   "metadata": {
    "scrolled": true
   },
   "outputs": [
    {
     "data": {
      "text/html": [
       "<div>\n",
       "<style scoped>\n",
       "    .dataframe tbody tr th:only-of-type {\n",
       "        vertical-align: middle;\n",
       "    }\n",
       "\n",
       "    .dataframe tbody tr th {\n",
       "        vertical-align: top;\n",
       "    }\n",
       "\n",
       "    .dataframe thead th {\n",
       "        text-align: right;\n",
       "    }\n",
       "</style>\n",
       "<table border=\"1\" class=\"dataframe\">\n",
       "  <thead>\n",
       "    <tr style=\"text-align: right;\">\n",
       "      <th></th>\n",
       "      <th>Open</th>\n",
       "      <th>High</th>\n",
       "      <th>Low</th>\n",
       "      <th>Close</th>\n",
       "      <th>Adj Close</th>\n",
       "      <th>Volume</th>\n",
       "      <th>decision</th>\n",
       "    </tr>\n",
       "  </thead>\n",
       "  <tbody>\n",
       "    <tr>\n",
       "      <th>0</th>\n",
       "      <td>138.500000</td>\n",
       "      <td>140.690000</td>\n",
       "      <td>138.250000</td>\n",
       "      <td>139.000000</td>\n",
       "      <td>139.000000</td>\n",
       "      <td>0</td>\n",
       "      <td>0</td>\n",
       "    </tr>\n",
       "    <tr>\n",
       "      <th>1</th>\n",
       "      <td>165.460000</td>\n",
       "      <td>165.460000</td>\n",
       "      <td>165.440000</td>\n",
       "      <td>165.460000</td>\n",
       "      <td>165.460000</td>\n",
       "      <td>0</td>\n",
       "      <td>0</td>\n",
       "    </tr>\n",
       "    <tr>\n",
       "      <th>2</th>\n",
       "      <td>151.475006</td>\n",
       "      <td>151.630005</td>\n",
       "      <td>151.350006</td>\n",
       "      <td>151.580002</td>\n",
       "      <td>151.580002</td>\n",
       "      <td>214932</td>\n",
       "      <td>0</td>\n",
       "    </tr>\n",
       "    <tr>\n",
       "      <th>3</th>\n",
       "      <td>123.379997</td>\n",
       "      <td>124.360001</td>\n",
       "      <td>123.070000</td>\n",
       "      <td>123.839996</td>\n",
       "      <td>123.839996</td>\n",
       "      <td>1627555</td>\n",
       "      <td>0</td>\n",
       "    </tr>\n",
       "    <tr>\n",
       "      <th>4</th>\n",
       "      <td>158.690000</td>\n",
       "      <td>158.690000</td>\n",
       "      <td>158.690000</td>\n",
       "      <td>158.690000</td>\n",
       "      <td>158.690000</td>\n",
       "      <td>0</td>\n",
       "      <td>0</td>\n",
       "    </tr>\n",
       "  </tbody>\n",
       "</table>\n",
       "</div>"
      ],
      "text/plain": [
       "         Open        High         Low       Close   Adj Close   Volume  \\\n",
       "0  138.500000  140.690000  138.250000  139.000000  139.000000        0   \n",
       "1  165.460000  165.460000  165.440000  165.460000  165.460000        0   \n",
       "2  151.475006  151.630005  151.350006  151.580002  151.580002   214932   \n",
       "3  123.379997  124.360001  123.070000  123.839996  123.839996  1627555   \n",
       "4  158.690000  158.690000  158.690000  158.690000  158.690000        0   \n",
       "\n",
       "   decision  \n",
       "0         0  \n",
       "1         0  \n",
       "2         0  \n",
       "3         0  \n",
       "4         0  "
      ]
     },
     "execution_count": 27,
     "metadata": {},
     "output_type": "execute_result"
    }
   ],
   "source": [
    "stock_df_bal.head()"
   ]
  },
  {
   "cell_type": "markdown",
   "metadata": {},
   "source": [
    "### Make A Prediction"
   ]
  },
  {
   "cell_type": "code",
   "execution_count": 28,
   "metadata": {},
   "outputs": [
    {
     "data": {
      "text/plain": [
       "Open         156.0\n",
       "High         156.0\n",
       "Low          156.0\n",
       "Close        156.0\n",
       "Adj Close    156.0\n",
       "Volume         0.0\n",
       "Name: 2020-06-15 19:00:00-04:00, dtype: float64"
      ]
     },
     "execution_count": 28,
     "metadata": {},
     "output_type": "execute_result"
    }
   ],
   "source": [
    "last = stock_df[['Open', 'High', 'Low', 'Close', 'Adj Close', 'Volume']].iloc[-1]\n",
    "last"
   ]
  },
  {
   "cell_type": "code",
   "execution_count": 29,
   "metadata": {},
   "outputs": [
    {
     "name": "stdout",
     "output_type": "stream",
     "text": [
      "Sell or hold VTI on the 60m interval.\n"
     ]
    },
    {
     "name": "stderr",
     "output_type": "stream",
     "text": [
      "[Parallel(n_jobs=8)]: Using backend ThreadingBackend with 8 concurrent workers.\n",
      "[Parallel(n_jobs=8)]: Done  34 tasks      | elapsed:    0.0s\n",
      "[Parallel(n_jobs=8)]: Done 184 tasks      | elapsed:    0.0s\n",
      "[Parallel(n_jobs=8)]: Done 230 out of 230 | elapsed:    0.0s finished\n"
     ]
    }
   ],
   "source": [
    "if rfc.predict(np.array(last).reshape(1, -1))[0] == 1:\n",
    "    print(f'Buy {symbol} on the {interval} interval.')\n",
    "else:\n",
    "    print(f'Sell or hold {symbol} on the {interval} interval.')"
   ]
  },
  {
   "cell_type": "code",
   "execution_count": null,
   "metadata": {},
   "outputs": [],
   "source": []
  },
  {
   "cell_type": "code",
   "execution_count": null,
   "metadata": {},
   "outputs": [],
   "source": []
  },
  {
   "cell_type": "code",
   "execution_count": null,
   "metadata": {},
   "outputs": [],
   "source": []
  },
  {
   "cell_type": "code",
   "execution_count": null,
   "metadata": {},
   "outputs": [],
   "source": []
  },
  {
   "cell_type": "code",
   "execution_count": null,
   "metadata": {},
   "outputs": [],
   "source": []
  },
  {
   "cell_type": "code",
   "execution_count": null,
   "metadata": {},
   "outputs": [],
   "source": []
  }
 ],
 "metadata": {
  "kernelspec": {
   "display_name": "Python 3",
   "language": "python",
   "name": "python3"
  },
  "language_info": {
   "codemirror_mode": {
    "name": "ipython",
    "version": 3
   },
   "file_extension": ".py",
   "mimetype": "text/x-python",
   "name": "python",
   "nbconvert_exporter": "python",
   "pygments_lexer": "ipython3",
   "version": "3.7.5"
  }
 },
 "nbformat": 4,
 "nbformat_minor": 4
}
