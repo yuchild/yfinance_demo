{
 "cells": [
  {
   "cell_type": "markdown",
   "metadata": {},
   "source": [
    "## yfinance Library Demo"
   ]
  },
  {
   "cell_type": "markdown",
   "metadata": {},
   "source": [
    "### Disclaimers:"
   ]
  },
  {
   "cell_type": "markdown",
   "metadata": {},
   "source": [
    "Trading stocks has it's own inherent risks. Trade at your own discretion. \n",
    "<br />\n",
    "\n",
    "The predictions from the model is best thought of as correlations rather than causations.  "
   ]
  },
  {
   "cell_type": "markdown",
   "metadata": {},
   "source": [
    "### Overview:"
   ]
  },
  {
   "cell_type": "markdown",
   "metadata": {},
   "source": [
    "This notebook provides a random forest classifier model that predicts the direction of movement of a secruity in the next time interval.\n",
    "<br />\n",
    "\n",
    "The prediction is only for directions up 1 or down 0. "
   ]
  },
  {
   "cell_type": "markdown",
   "metadata": {},
   "source": [
    "### Imports: "
   ]
  },
  {
   "cell_type": "code",
   "execution_count": 1,
   "metadata": {},
   "outputs": [],
   "source": [
    "import pandas as pd\n",
    "import numpy as np\n",
    "\n",
    "import matplotlib.pyplot as plt\n",
    "plt.rcParams['font.size'] = 12\n",
    "plt.rcParams['figure.figsize'] = (8, 7)\n",
    "plt.style.use('fivethirtyeight')\n",
    "\n",
    "import warnings\n",
    "warnings.filterwarnings('ignore')\n",
    "\n",
    "import yfinance as yf\n",
    "\n",
    "from sklearn.model_selection import train_test_split\n",
    "from sklearn.ensemble import RandomForestClassifier\n",
    "from sklearn.metrics import (roc_auc_score\n",
    "                             , precision_score\n",
    "                             , recall_score\n",
    "                             , roc_curve\n",
    "                             , confusion_matrix\n",
    "                             , plot_confusion_matrix\n",
    "                             , precision_recall_curve\n",
    "                             , auc\n",
    "                            )"
   ]
  },
  {
   "cell_type": "markdown",
   "metadata": {},
   "source": [
    "### Global Variables:"
   ]
  },
  {
   "cell_type": "code",
   "execution_count": 2,
   "metadata": {},
   "outputs": [],
   "source": [
    "# yfinance automatically pull data up to the current time, unless specified \n",
    "\n",
    "# month = '06' # month and date not necessary if using fix period, see next cell\n",
    "# date = '15'\n",
    "\n",
    "# sf_hour = 13 # 6 to 13 military time in PST\n",
    "# ny_hour = 4 # 9 to 16 military time in EST\n",
    "\n",
    "# valid intervals: 1m,2m,5m,15m,30m,60m,90m,1h,1d,5d,1wk,1mo,3mo\n",
    "interval = '60m'\n",
    "\n",
    "# time span of data e.g. 2y for 60m, 10y for 1d\n",
    "period = '2y'\n",
    "\n",
    "perc_inc = 0.005 # 0.5 percent increase from hour to hour or any time period\n",
    "\n",
    "# start = '2018-07-01'\n",
    "\n",
    "# end = '2020-' + month + '-' + date\n",
    "\n",
    "symbol = 'ITOT' # ITOT iShares TOTAL Market ETF stock\n",
    "\n",
    "perc_train = 0.25 # percent of train set"
   ]
  },
  {
   "cell_type": "markdown",
   "metadata": {},
   "source": [
    "### Yahoo Finance"
   ]
  },
  {
   "cell_type": "code",
   "execution_count": 3,
   "metadata": {},
   "outputs": [
    {
     "name": "stdout",
     "output_type": "stream",
     "text": [
      "[*********************100%***********************]  1 of 1 completed\n"
     ]
    }
   ],
   "source": [
    "stock_df = yf.download(tickers = symbol # symbol of stock \n",
    "                       \n",
    "                       , period = period\n",
    "                       \n",
    "                       , interval = interval # time periods of subinterval e.g. 1m or 1hr\n",
    "                       \n",
    "                       # , start = start # start date, time\n",
    "                       \n",
    "                       # , end = end # end date, time\n",
    "                       \n",
    "                       , prepost = True # pre/post market data\n",
    "                      )"
   ]
  },
  {
   "cell_type": "code",
   "execution_count": 4,
   "metadata": {},
   "outputs": [
    {
     "data": {
      "text/html": [
       "<div>\n",
       "<style scoped>\n",
       "    .dataframe tbody tr th:only-of-type {\n",
       "        vertical-align: middle;\n",
       "    }\n",
       "\n",
       "    .dataframe tbody tr th {\n",
       "        vertical-align: top;\n",
       "    }\n",
       "\n",
       "    .dataframe thead th {\n",
       "        text-align: right;\n",
       "    }\n",
       "</style>\n",
       "<table border=\"1\" class=\"dataframe\">\n",
       "  <thead>\n",
       "    <tr style=\"text-align: right;\">\n",
       "      <th></th>\n",
       "      <th>Open</th>\n",
       "      <th>High</th>\n",
       "      <th>Low</th>\n",
       "      <th>Close</th>\n",
       "      <th>Adj Close</th>\n",
       "      <th>Volume</th>\n",
       "    </tr>\n",
       "    <tr>\n",
       "      <th>Datetime</th>\n",
       "      <th></th>\n",
       "      <th></th>\n",
       "      <th></th>\n",
       "      <th></th>\n",
       "      <th></th>\n",
       "      <th></th>\n",
       "    </tr>\n",
       "  </thead>\n",
       "  <tbody>\n",
       "    <tr>\n",
       "      <th>2018-06-20 08:00:00-04:00</th>\n",
       "      <td>63.890000</td>\n",
       "      <td>63.890000</td>\n",
       "      <td>63.890000</td>\n",
       "      <td>63.890000</td>\n",
       "      <td>63.890000</td>\n",
       "      <td>0</td>\n",
       "    </tr>\n",
       "    <tr>\n",
       "      <th>2018-06-20 09:30:00-04:00</th>\n",
       "      <td>64.080002</td>\n",
       "      <td>64.105003</td>\n",
       "      <td>63.930000</td>\n",
       "      <td>63.930000</td>\n",
       "      <td>63.930000</td>\n",
       "      <td>140337</td>\n",
       "    </tr>\n",
       "    <tr>\n",
       "      <th>2018-06-20 10:30:00-04:00</th>\n",
       "      <td>63.970001</td>\n",
       "      <td>64.083504</td>\n",
       "      <td>63.919998</td>\n",
       "      <td>64.059998</td>\n",
       "      <td>64.059998</td>\n",
       "      <td>100727</td>\n",
       "    </tr>\n",
       "    <tr>\n",
       "      <th>2018-06-20 11:30:00-04:00</th>\n",
       "      <td>64.070000</td>\n",
       "      <td>64.150002</td>\n",
       "      <td>64.040001</td>\n",
       "      <td>64.110001</td>\n",
       "      <td>64.110001</td>\n",
       "      <td>46765</td>\n",
       "    </tr>\n",
       "    <tr>\n",
       "      <th>2018-06-20 12:30:00-04:00</th>\n",
       "      <td>64.119904</td>\n",
       "      <td>64.204498</td>\n",
       "      <td>64.110001</td>\n",
       "      <td>64.120003</td>\n",
       "      <td>64.120003</td>\n",
       "      <td>51480</td>\n",
       "    </tr>\n",
       "  </tbody>\n",
       "</table>\n",
       "</div>"
      ],
      "text/plain": [
       "                                Open       High        Low      Close  \\\n",
       "Datetime                                                                \n",
       "2018-06-20 08:00:00-04:00  63.890000  63.890000  63.890000  63.890000   \n",
       "2018-06-20 09:30:00-04:00  64.080002  64.105003  63.930000  63.930000   \n",
       "2018-06-20 10:30:00-04:00  63.970001  64.083504  63.919998  64.059998   \n",
       "2018-06-20 11:30:00-04:00  64.070000  64.150002  64.040001  64.110001   \n",
       "2018-06-20 12:30:00-04:00  64.119904  64.204498  64.110001  64.120003   \n",
       "\n",
       "                           Adj Close  Volume  \n",
       "Datetime                                      \n",
       "2018-06-20 08:00:00-04:00  63.890000       0  \n",
       "2018-06-20 09:30:00-04:00  63.930000  140337  \n",
       "2018-06-20 10:30:00-04:00  64.059998  100727  \n",
       "2018-06-20 11:30:00-04:00  64.110001   46765  \n",
       "2018-06-20 12:30:00-04:00  64.120003   51480  "
      ]
     },
     "execution_count": 4,
     "metadata": {},
     "output_type": "execute_result"
    }
   ],
   "source": [
    "stock_df.head()"
   ]
  },
  {
   "cell_type": "markdown",
   "metadata": {},
   "source": [
    "### EDA of Secruity"
   ]
  },
  {
   "cell_type": "code",
   "execution_count": 5,
   "metadata": {
    "scrolled": true
   },
   "outputs": [
    {
     "data": {
      "text/html": [
       "<div>\n",
       "<style scoped>\n",
       "    .dataframe tbody tr th:only-of-type {\n",
       "        vertical-align: middle;\n",
       "    }\n",
       "\n",
       "    .dataframe tbody tr th {\n",
       "        vertical-align: top;\n",
       "    }\n",
       "\n",
       "    .dataframe thead th {\n",
       "        text-align: right;\n",
       "    }\n",
       "</style>\n",
       "<table border=\"1\" class=\"dataframe\">\n",
       "  <thead>\n",
       "    <tr style=\"text-align: right;\">\n",
       "      <th></th>\n",
       "      <th>Open</th>\n",
       "      <th>High</th>\n",
       "      <th>Low</th>\n",
       "      <th>Close</th>\n",
       "      <th>Adj Close</th>\n",
       "      <th>Volume</th>\n",
       "      <th>percent change</th>\n",
       "    </tr>\n",
       "    <tr>\n",
       "      <th>Datetime</th>\n",
       "      <th></th>\n",
       "      <th></th>\n",
       "      <th></th>\n",
       "      <th></th>\n",
       "      <th></th>\n",
       "      <th></th>\n",
       "      <th></th>\n",
       "    </tr>\n",
       "  </thead>\n",
       "  <tbody>\n",
       "    <tr>\n",
       "      <th>2018-06-20 08:00:00-04:00</th>\n",
       "      <td>63.890000</td>\n",
       "      <td>63.890000</td>\n",
       "      <td>63.890000</td>\n",
       "      <td>63.890000</td>\n",
       "      <td>63.890000</td>\n",
       "      <td>0</td>\n",
       "      <td>0.000000</td>\n",
       "    </tr>\n",
       "    <tr>\n",
       "      <th>2018-06-20 09:30:00-04:00</th>\n",
       "      <td>64.080002</td>\n",
       "      <td>64.105003</td>\n",
       "      <td>63.930000</td>\n",
       "      <td>63.930000</td>\n",
       "      <td>63.930000</td>\n",
       "      <td>140337</td>\n",
       "      <td>0.002341</td>\n",
       "    </tr>\n",
       "    <tr>\n",
       "      <th>2018-06-20 10:30:00-04:00</th>\n",
       "      <td>63.970001</td>\n",
       "      <td>64.083504</td>\n",
       "      <td>63.919998</td>\n",
       "      <td>64.059998</td>\n",
       "      <td>64.059998</td>\n",
       "      <td>100727</td>\n",
       "      <td>-0.001407</td>\n",
       "    </tr>\n",
       "    <tr>\n",
       "      <th>2018-06-20 11:30:00-04:00</th>\n",
       "      <td>64.070000</td>\n",
       "      <td>64.150002</td>\n",
       "      <td>64.040001</td>\n",
       "      <td>64.110001</td>\n",
       "      <td>64.110001</td>\n",
       "      <td>46765</td>\n",
       "      <td>-0.000624</td>\n",
       "    </tr>\n",
       "    <tr>\n",
       "      <th>2018-06-20 12:30:00-04:00</th>\n",
       "      <td>64.119904</td>\n",
       "      <td>64.204498</td>\n",
       "      <td>64.110001</td>\n",
       "      <td>64.120003</td>\n",
       "      <td>64.120003</td>\n",
       "      <td>51480</td>\n",
       "      <td>-0.000002</td>\n",
       "    </tr>\n",
       "  </tbody>\n",
       "</table>\n",
       "</div>"
      ],
      "text/plain": [
       "                                Open       High        Low      Close  \\\n",
       "Datetime                                                                \n",
       "2018-06-20 08:00:00-04:00  63.890000  63.890000  63.890000  63.890000   \n",
       "2018-06-20 09:30:00-04:00  64.080002  64.105003  63.930000  63.930000   \n",
       "2018-06-20 10:30:00-04:00  63.970001  64.083504  63.919998  64.059998   \n",
       "2018-06-20 11:30:00-04:00  64.070000  64.150002  64.040001  64.110001   \n",
       "2018-06-20 12:30:00-04:00  64.119904  64.204498  64.110001  64.120003   \n",
       "\n",
       "                           Adj Close  Volume  percent change  \n",
       "Datetime                                                      \n",
       "2018-06-20 08:00:00-04:00  63.890000       0        0.000000  \n",
       "2018-06-20 09:30:00-04:00  63.930000  140337        0.002341  \n",
       "2018-06-20 10:30:00-04:00  64.059998  100727       -0.001407  \n",
       "2018-06-20 11:30:00-04:00  64.110001   46765       -0.000624  \n",
       "2018-06-20 12:30:00-04:00  64.120003   51480       -0.000002  "
      ]
     },
     "execution_count": 5,
     "metadata": {},
     "output_type": "execute_result"
    }
   ],
   "source": [
    "stock_df['percent change'] = (stock_df.Open - stock_df.Close) / stock_df.Open\n",
    "stock_df.head()"
   ]
  },
  {
   "cell_type": "code",
   "execution_count": 6,
   "metadata": {
    "scrolled": true
   },
   "outputs": [
    {
     "data": {
      "image/png": "[encoded data removed]",
      "text/plain": [
       "<Figure size 576x504 with 1 Axes>"
      ]
     },
     "metadata": {},
     "output_type": "display_data"
    }
   ],
   "source": [
    "stock_df['percent change'].hist(bins=25);"
   ]
  },
  {
   "cell_type": "code",
   "execution_count": 7,
   "metadata": {},
   "outputs": [
    {
     "data": {
      "text/plain": [
       "0.84    0.00192\n",
       "Name: percent change, dtype: float64"
      ]
     },
     "execution_count": 7,
     "metadata": {},
     "output_type": "execute_result"
    }
   ],
   "source": [
    "stock_df['percent change'].quantile([0.84])"
   ]
  },
  {
   "cell_type": "markdown",
   "metadata": {},
   "source": [
    "### Assign Descisions for Up %+ or Not"
   ]
  },
  {
   "cell_type": "code",
   "execution_count": 8,
   "metadata": {},
   "outputs": [],
   "source": [
    "stock_df['decision'] = np.where((stock_df['Close'] - stock_df['Open'])/stock_df['Open'] > perc_inc\n",
    "                                \n",
    "                                , 1  # 1 if up % or greater\n",
    "                                \n",
    "                                , 0  # 0 if not up % or greater\n",
    "                                \n",
    "                               )"
   ]
  },
  {
   "cell_type": "code",
   "execution_count": 9,
   "metadata": {
    "scrolled": true
   },
   "outputs": [
    {
     "data": {
      "text/html": [
       "<div>\n",
       "<style scoped>\n",
       "    .dataframe tbody tr th:only-of-type {\n",
       "        vertical-align: middle;\n",
       "    }\n",
       "\n",
       "    .dataframe tbody tr th {\n",
       "        vertical-align: top;\n",
       "    }\n",
       "\n",
       "    .dataframe thead th {\n",
       "        text-align: right;\n",
       "    }\n",
       "</style>\n",
       "<table border=\"1\" class=\"dataframe\">\n",
       "  <thead>\n",
       "    <tr style=\"text-align: right;\">\n",
       "      <th></th>\n",
       "      <th>Open</th>\n",
       "      <th>High</th>\n",
       "      <th>Low</th>\n",
       "      <th>Close</th>\n",
       "      <th>Adj Close</th>\n",
       "      <th>Volume</th>\n",
       "      <th>percent change</th>\n",
       "      <th>decision</th>\n",
       "    </tr>\n",
       "    <tr>\n",
       "      <th>Datetime</th>\n",
       "      <th></th>\n",
       "      <th></th>\n",
       "      <th></th>\n",
       "      <th></th>\n",
       "      <th></th>\n",
       "      <th></th>\n",
       "      <th></th>\n",
       "      <th></th>\n",
       "    </tr>\n",
       "  </thead>\n",
       "  <tbody>\n",
       "    <tr>\n",
       "      <th>2020-06-18 11:30:00-04:00</th>\n",
       "      <td>69.779999</td>\n",
       "      <td>69.849998</td>\n",
       "      <td>69.480103</td>\n",
       "      <td>69.709999</td>\n",
       "      <td>69.709999</td>\n",
       "      <td>96821</td>\n",
       "      <td>0.001003</td>\n",
       "      <td>0</td>\n",
       "    </tr>\n",
       "    <tr>\n",
       "      <th>2020-06-18 12:30:00-04:00</th>\n",
       "      <td>69.709999</td>\n",
       "      <td>69.769997</td>\n",
       "      <td>69.580002</td>\n",
       "      <td>69.739998</td>\n",
       "      <td>69.739998</td>\n",
       "      <td>81552</td>\n",
       "      <td>-0.000430</td>\n",
       "      <td>0</td>\n",
       "    </tr>\n",
       "    <tr>\n",
       "      <th>2020-06-18 13:30:00-04:00</th>\n",
       "      <td>69.750000</td>\n",
       "      <td>69.839996</td>\n",
       "      <td>69.565002</td>\n",
       "      <td>69.686302</td>\n",
       "      <td>69.686302</td>\n",
       "      <td>125833</td>\n",
       "      <td>0.000913</td>\n",
       "      <td>0</td>\n",
       "    </tr>\n",
       "    <tr>\n",
       "      <th>2020-06-18 14:30:00-04:00</th>\n",
       "      <td>69.699898</td>\n",
       "      <td>69.790001</td>\n",
       "      <td>69.430000</td>\n",
       "      <td>69.589996</td>\n",
       "      <td>69.589996</td>\n",
       "      <td>190707</td>\n",
       "      <td>0.001577</td>\n",
       "      <td>0</td>\n",
       "    </tr>\n",
       "    <tr>\n",
       "      <th>2020-06-18 15:30:00-04:00</th>\n",
       "      <td>69.589996</td>\n",
       "      <td>69.815002</td>\n",
       "      <td>69.540001</td>\n",
       "      <td>69.809998</td>\n",
       "      <td>69.809998</td>\n",
       "      <td>129329</td>\n",
       "      <td>-0.003161</td>\n",
       "      <td>0</td>\n",
       "    </tr>\n",
       "    <tr>\n",
       "      <th>2020-06-18 16:00:00-04:00</th>\n",
       "      <td>69.810000</td>\n",
       "      <td>69.810000</td>\n",
       "      <td>69.810000</td>\n",
       "      <td>69.810000</td>\n",
       "      <td>69.810000</td>\n",
       "      <td>0</td>\n",
       "      <td>0.000000</td>\n",
       "      <td>0</td>\n",
       "    </tr>\n",
       "    <tr>\n",
       "      <th>2020-06-19 09:30:00-04:00</th>\n",
       "      <td>70.669998</td>\n",
       "      <td>70.680000</td>\n",
       "      <td>70.290001</td>\n",
       "      <td>70.385002</td>\n",
       "      <td>70.385002</td>\n",
       "      <td>158337</td>\n",
       "      <td>0.004033</td>\n",
       "      <td>0</td>\n",
       "    </tr>\n",
       "    <tr>\n",
       "      <th>2020-06-19 10:30:00-04:00</th>\n",
       "      <td>70.389999</td>\n",
       "      <td>70.389999</td>\n",
       "      <td>70.139999</td>\n",
       "      <td>70.230003</td>\n",
       "      <td>70.230003</td>\n",
       "      <td>107960</td>\n",
       "      <td>0.002273</td>\n",
       "      <td>0</td>\n",
       "    </tr>\n",
       "    <tr>\n",
       "      <th>2020-06-19 11:30:00-04:00</th>\n",
       "      <td>70.239998</td>\n",
       "      <td>70.239998</td>\n",
       "      <td>69.239998</td>\n",
       "      <td>69.510002</td>\n",
       "      <td>69.510002</td>\n",
       "      <td>178128</td>\n",
       "      <td>0.010393</td>\n",
       "      <td>0</td>\n",
       "    </tr>\n",
       "    <tr>\n",
       "      <th>2020-06-19 12:30:00-04:00</th>\n",
       "      <td>69.500000</td>\n",
       "      <td>69.820000</td>\n",
       "      <td>69.389999</td>\n",
       "      <td>69.449997</td>\n",
       "      <td>69.449997</td>\n",
       "      <td>82032</td>\n",
       "      <td>0.000719</td>\n",
       "      <td>0</td>\n",
       "    </tr>\n",
       "    <tr>\n",
       "      <th>2020-06-19 13:30:00-04:00</th>\n",
       "      <td>69.440002</td>\n",
       "      <td>69.550003</td>\n",
       "      <td>69.050003</td>\n",
       "      <td>69.139999</td>\n",
       "      <td>69.139999</td>\n",
       "      <td>247531</td>\n",
       "      <td>0.004320</td>\n",
       "      <td>0</td>\n",
       "    </tr>\n",
       "    <tr>\n",
       "      <th>2020-06-19 14:30:00-04:00</th>\n",
       "      <td>69.139999</td>\n",
       "      <td>69.824997</td>\n",
       "      <td>69.070000</td>\n",
       "      <td>69.690002</td>\n",
       "      <td>69.690002</td>\n",
       "      <td>291761</td>\n",
       "      <td>-0.007955</td>\n",
       "      <td>1</td>\n",
       "    </tr>\n",
       "    <tr>\n",
       "      <th>2020-06-19 15:30:00-04:00</th>\n",
       "      <td>69.669998</td>\n",
       "      <td>69.769997</td>\n",
       "      <td>69.375000</td>\n",
       "      <td>69.375000</td>\n",
       "      <td>69.375000</td>\n",
       "      <td>266983</td>\n",
       "      <td>0.004234</td>\n",
       "      <td>0</td>\n",
       "    </tr>\n",
       "    <tr>\n",
       "      <th>2020-06-19 16:00:00-04:00</th>\n",
       "      <td>69.420000</td>\n",
       "      <td>69.420000</td>\n",
       "      <td>69.000000</td>\n",
       "      <td>69.000000</td>\n",
       "      <td>69.000000</td>\n",
       "      <td>8823</td>\n",
       "      <td>0.006050</td>\n",
       "      <td>0</td>\n",
       "    </tr>\n",
       "    <tr>\n",
       "      <th>2020-06-19 17:00:00-04:00</th>\n",
       "      <td>68.590000</td>\n",
       "      <td>68.590000</td>\n",
       "      <td>68.590000</td>\n",
       "      <td>68.590000</td>\n",
       "      <td>68.590000</td>\n",
       "      <td>0</td>\n",
       "      <td>0.000000</td>\n",
       "      <td>0</td>\n",
       "    </tr>\n",
       "  </tbody>\n",
       "</table>\n",
       "</div>"
      ],
      "text/plain": [
       "                                Open       High        Low      Close  \\\n",
       "Datetime                                                                \n",
       "2020-06-18 11:30:00-04:00  69.779999  69.849998  69.480103  69.709999   \n",
       "2020-06-18 12:30:00-04:00  69.709999  69.769997  69.580002  69.739998   \n",
       "2020-06-18 13:30:00-04:00  69.750000  69.839996  69.565002  69.686302   \n",
       "2020-06-18 14:30:00-04:00  69.699898  69.790001  69.430000  69.589996   \n",
       "2020-06-18 15:30:00-04:00  69.589996  69.815002  69.540001  69.809998   \n",
       "2020-06-18 16:00:00-04:00  69.810000  69.810000  69.810000  69.810000   \n",
       "2020-06-19 09:30:00-04:00  70.669998  70.680000  70.290001  70.385002   \n",
       "2020-06-19 10:30:00-04:00  70.389999  70.389999  70.139999  70.230003   \n",
       "2020-06-19 11:30:00-04:00  70.239998  70.239998  69.239998  69.510002   \n",
       "2020-06-19 12:30:00-04:00  69.500000  69.820000  69.389999  69.449997   \n",
       "2020-06-19 13:30:00-04:00  69.440002  69.550003  69.050003  69.139999   \n",
       "2020-06-19 14:30:00-04:00  69.139999  69.824997  69.070000  69.690002   \n",
       "2020-06-19 15:30:00-04:00  69.669998  69.769997  69.375000  69.375000   \n",
       "2020-06-19 16:00:00-04:00  69.420000  69.420000  69.000000  69.000000   \n",
       "2020-06-19 17:00:00-04:00  68.590000  68.590000  68.590000  68.590000   \n",
       "\n",
       "                           Adj Close  Volume  percent change  decision  \n",
       "Datetime                                                                \n",
       "2020-06-18 11:30:00-04:00  69.709999   96821        0.001003         0  \n",
       "2020-06-18 12:30:00-04:00  69.739998   81552       -0.000430         0  \n",
       "2020-06-18 13:30:00-04:00  69.686302  125833        0.000913         0  \n",
       "2020-06-18 14:30:00-04:00  69.589996  190707        0.001577         0  \n",
       "2020-06-18 15:30:00-04:00  69.809998  129329       -0.003161         0  \n",
       "2020-06-18 16:00:00-04:00  69.810000       0        0.000000         0  \n",
       "2020-06-19 09:30:00-04:00  70.385002  158337        0.004033         0  \n",
       "2020-06-19 10:30:00-04:00  70.230003  107960        0.002273         0  \n",
       "2020-06-19 11:30:00-04:00  69.510002  178128        0.010393         0  \n",
       "2020-06-19 12:30:00-04:00  69.449997   82032        0.000719         0  \n",
       "2020-06-19 13:30:00-04:00  69.139999  247531        0.004320         0  \n",
       "2020-06-19 14:30:00-04:00  69.690002  291761       -0.007955         1  \n",
       "2020-06-19 15:30:00-04:00  69.375000  266983        0.004234         0  \n",
       "2020-06-19 16:00:00-04:00  69.000000    8823        0.006050         0  \n",
       "2020-06-19 17:00:00-04:00  68.590000       0        0.000000         0  "
      ]
     },
     "execution_count": 9,
     "metadata": {},
     "output_type": "execute_result"
    }
   ],
   "source": [
    "stock_df.tail(15)"
   ]
  },
  {
   "cell_type": "markdown",
   "metadata": {},
   "source": [
    "### Create One Offs"
   ]
  },
  {
   "cell_type": "markdown",
   "metadata": {},
   "source": [
    "Move decision column up by 1 row so the current\n",
    "hour of data will predict the next hour of data\n",
    "or whichever time frame is observed"
   ]
  },
  {
   "cell_type": "code",
   "execution_count": 10,
   "metadata": {
    "scrolled": true
   },
   "outputs": [
    {
     "data": {
      "text/plain": [
       "numpy.ndarray"
      ]
     },
     "execution_count": 10,
     "metadata": {},
     "output_type": "execute_result"
    }
   ],
   "source": [
    "decisions = stock_df.decision.values\n",
    "type(decisions)"
   ]
  },
  {
   "cell_type": "code",
   "execution_count": 11,
   "metadata": {},
   "outputs": [
    {
     "data": {
      "text/plain": [
       "4320"
      ]
     },
     "execution_count": 11,
     "metadata": {},
     "output_type": "execute_result"
    }
   ],
   "source": [
    "len(decisions)"
   ]
  },
  {
   "cell_type": "code",
   "execution_count": 12,
   "metadata": {},
   "outputs": [],
   "source": [
    "decisions = decisions[1:len(decisions)] # from rows 2 to 6061"
   ]
  },
  {
   "cell_type": "code",
   "execution_count": 13,
   "metadata": {},
   "outputs": [
    {
     "data": {
      "text/plain": [
       "4319"
      ]
     },
     "execution_count": 13,
     "metadata": {},
     "output_type": "execute_result"
    }
   ],
   "source": [
    "len(decisions)"
   ]
  },
  {
   "cell_type": "code",
   "execution_count": 14,
   "metadata": {},
   "outputs": [
    {
     "data": {
      "text/plain": [
       "(4319, 8)"
      ]
     },
     "execution_count": 14,
     "metadata": {},
     "output_type": "execute_result"
    }
   ],
   "source": [
    "stock_df_one_off = stock_df.iloc[0:stock_df.shape[0]-1] # from rows 1 to 6060\n",
    "stock_df_one_off.shape"
   ]
  },
  {
   "cell_type": "code",
   "execution_count": 15,
   "metadata": {
    "scrolled": true
   },
   "outputs": [
    {
     "data": {
      "text/plain": [
       "Open                69.42000\n",
       "High                69.42000\n",
       "Low                 69.00000\n",
       "Close               69.00000\n",
       "Adj Close           69.00000\n",
       "Volume            8823.00000\n",
       "percent change       0.00605\n",
       "decision             0.00000\n",
       "Name: 2020-06-19 16:00:00-04:00, dtype: float64"
      ]
     },
     "execution_count": 15,
     "metadata": {},
     "output_type": "execute_result"
    }
   ],
   "source": [
    "stock_df_one_off.iloc[-1]"
   ]
  },
  {
   "cell_type": "code",
   "execution_count": 16,
   "metadata": {},
   "outputs": [
    {
     "data": {
      "text/html": [
       "<div>\n",
       "<style scoped>\n",
       "    .dataframe tbody tr th:only-of-type {\n",
       "        vertical-align: middle;\n",
       "    }\n",
       "\n",
       "    .dataframe tbody tr th {\n",
       "        vertical-align: top;\n",
       "    }\n",
       "\n",
       "    .dataframe thead th {\n",
       "        text-align: right;\n",
       "    }\n",
       "</style>\n",
       "<table border=\"1\" class=\"dataframe\">\n",
       "  <thead>\n",
       "    <tr style=\"text-align: right;\">\n",
       "      <th></th>\n",
       "      <th>Open</th>\n",
       "      <th>High</th>\n",
       "      <th>Low</th>\n",
       "      <th>Close</th>\n",
       "      <th>Adj Close</th>\n",
       "      <th>Volume</th>\n",
       "      <th>percent change</th>\n",
       "      <th>decision</th>\n",
       "    </tr>\n",
       "    <tr>\n",
       "      <th>Datetime</th>\n",
       "      <th></th>\n",
       "      <th></th>\n",
       "      <th></th>\n",
       "      <th></th>\n",
       "      <th></th>\n",
       "      <th></th>\n",
       "      <th></th>\n",
       "      <th></th>\n",
       "    </tr>\n",
       "  </thead>\n",
       "  <tbody>\n",
       "    <tr>\n",
       "      <th>2018-06-20 08:00:00-04:00</th>\n",
       "      <td>63.890000</td>\n",
       "      <td>63.890000</td>\n",
       "      <td>63.890000</td>\n",
       "      <td>63.890000</td>\n",
       "      <td>63.890000</td>\n",
       "      <td>0</td>\n",
       "      <td>0.000000</td>\n",
       "      <td>0</td>\n",
       "    </tr>\n",
       "    <tr>\n",
       "      <th>2018-06-20 09:30:00-04:00</th>\n",
       "      <td>64.080002</td>\n",
       "      <td>64.105003</td>\n",
       "      <td>63.930000</td>\n",
       "      <td>63.930000</td>\n",
       "      <td>63.930000</td>\n",
       "      <td>140337</td>\n",
       "      <td>0.002341</td>\n",
       "      <td>0</td>\n",
       "    </tr>\n",
       "    <tr>\n",
       "      <th>2018-06-20 10:30:00-04:00</th>\n",
       "      <td>63.970001</td>\n",
       "      <td>64.083504</td>\n",
       "      <td>63.919998</td>\n",
       "      <td>64.059998</td>\n",
       "      <td>64.059998</td>\n",
       "      <td>100727</td>\n",
       "      <td>-0.001407</td>\n",
       "      <td>0</td>\n",
       "    </tr>\n",
       "    <tr>\n",
       "      <th>2018-06-20 11:30:00-04:00</th>\n",
       "      <td>64.070000</td>\n",
       "      <td>64.150002</td>\n",
       "      <td>64.040001</td>\n",
       "      <td>64.110001</td>\n",
       "      <td>64.110001</td>\n",
       "      <td>46765</td>\n",
       "      <td>-0.000624</td>\n",
       "      <td>0</td>\n",
       "    </tr>\n",
       "    <tr>\n",
       "      <th>2018-06-20 12:30:00-04:00</th>\n",
       "      <td>64.119904</td>\n",
       "      <td>64.204498</td>\n",
       "      <td>64.110001</td>\n",
       "      <td>64.120003</td>\n",
       "      <td>64.120003</td>\n",
       "      <td>51480</td>\n",
       "      <td>-0.000002</td>\n",
       "      <td>0</td>\n",
       "    </tr>\n",
       "  </tbody>\n",
       "</table>\n",
       "</div>"
      ],
      "text/plain": [
       "                                Open       High        Low      Close  \\\n",
       "Datetime                                                                \n",
       "2018-06-20 08:00:00-04:00  63.890000  63.890000  63.890000  63.890000   \n",
       "2018-06-20 09:30:00-04:00  64.080002  64.105003  63.930000  63.930000   \n",
       "2018-06-20 10:30:00-04:00  63.970001  64.083504  63.919998  64.059998   \n",
       "2018-06-20 11:30:00-04:00  64.070000  64.150002  64.040001  64.110001   \n",
       "2018-06-20 12:30:00-04:00  64.119904  64.204498  64.110001  64.120003   \n",
       "\n",
       "                           Adj Close  Volume  percent change  decision  \n",
       "Datetime                                                                \n",
       "2018-06-20 08:00:00-04:00  63.890000       0        0.000000         0  \n",
       "2018-06-20 09:30:00-04:00  63.930000  140337        0.002341         0  \n",
       "2018-06-20 10:30:00-04:00  64.059998  100727       -0.001407         0  \n",
       "2018-06-20 11:30:00-04:00  64.110001   46765       -0.000624         0  \n",
       "2018-06-20 12:30:00-04:00  64.120003   51480       -0.000002         0  "
      ]
     },
     "execution_count": 16,
     "metadata": {},
     "output_type": "execute_result"
    }
   ],
   "source": [
    "stock_df_one_off['decision'] = decisions\n",
    "stock_df_one_off.head()"
   ]
  },
  {
   "cell_type": "code",
   "execution_count": 17,
   "metadata": {},
   "outputs": [
    {
     "data": {
      "text/plain": [
       "0    4125\n",
       "1     194\n",
       "Name: decision, dtype: int64"
      ]
     },
     "execution_count": 17,
     "metadata": {},
     "output_type": "execute_result"
    }
   ],
   "source": [
    "stock_df_one_off.decision.value_counts() # there is an inablance between 0's and 1's"
   ]
  },
  {
   "cell_type": "markdown",
   "metadata": {},
   "source": [
    "### Balance the 0's and 1's"
   ]
  },
  {
   "cell_type": "code",
   "execution_count": 18,
   "metadata": {},
   "outputs": [
    {
     "data": {
      "text/plain": [
       "194"
      ]
     },
     "execution_count": 18,
     "metadata": {},
     "output_type": "execute_result"
    }
   ],
   "source": [
    "ones = stock_df_one_off.decision.value_counts()[1]\n",
    "ones"
   ]
  },
  {
   "cell_type": "code",
   "execution_count": 19,
   "metadata": {},
   "outputs": [],
   "source": [
    "stock_df_bal = stock_df_one_off.groupby('decision').apply(lambda x: x.sample(n=ones)).reset_index(drop=True)"
   ]
  },
  {
   "cell_type": "code",
   "execution_count": 20,
   "metadata": {},
   "outputs": [
    {
     "data": {
      "text/plain": [
       "(388, 8)"
      ]
     },
     "execution_count": 20,
     "metadata": {},
     "output_type": "execute_result"
    }
   ],
   "source": [
    "stock_df_bal.shape"
   ]
  },
  {
   "cell_type": "code",
   "execution_count": 21,
   "metadata": {},
   "outputs": [
    {
     "data": {
      "text/plain": [
       "1    194\n",
       "0    194\n",
       "Name: decision, dtype: int64"
      ]
     },
     "execution_count": 21,
     "metadata": {},
     "output_type": "execute_result"
    }
   ],
   "source": [
    "stock_df_bal.decision.value_counts()"
   ]
  },
  {
   "cell_type": "markdown",
   "metadata": {},
   "source": [
    "### Check for NaN's"
   ]
  },
  {
   "cell_type": "code",
   "execution_count": 22,
   "metadata": {
    "scrolled": true
   },
   "outputs": [
    {
     "data": {
      "text/plain": [
       "Open              0\n",
       "High              0\n",
       "Low               0\n",
       "Close             0\n",
       "Adj Close         0\n",
       "Volume            0\n",
       "percent change    0\n",
       "decision          0\n",
       "dtype: int64"
      ]
     },
     "execution_count": 22,
     "metadata": {},
     "output_type": "execute_result"
    }
   ],
   "source": [
    "stock_df_bal.isna().sum()"
   ]
  },
  {
   "cell_type": "code",
   "execution_count": 23,
   "metadata": {
    "scrolled": true
   },
   "outputs": [],
   "source": [
    "stock_df_bal.dropna(axis=0, inplace=True)"
   ]
  },
  {
   "cell_type": "code",
   "execution_count": 24,
   "metadata": {},
   "outputs": [
    {
     "data": {
      "text/plain": [
       "Open              0\n",
       "High              0\n",
       "Low               0\n",
       "Close             0\n",
       "Adj Close         0\n",
       "Volume            0\n",
       "percent change    0\n",
       "decision          0\n",
       "dtype: int64"
      ]
     },
     "execution_count": 24,
     "metadata": {},
     "output_type": "execute_result"
    }
   ],
   "source": [
    "stock_df_bal.isna().sum()"
   ]
  },
  {
   "cell_type": "markdown",
   "metadata": {},
   "source": [
    "### Train Test Split"
   ]
  },
  {
   "cell_type": "code",
   "execution_count": 25,
   "metadata": {},
   "outputs": [],
   "source": [
    "X = stock_df_bal.drop(columns=['percent change', 'decision']) # get columns other than decision\n",
    "y = stock_df_bal['decision'] # get decision column"
   ]
  },
  {
   "cell_type": "code",
   "execution_count": 26,
   "metadata": {},
   "outputs": [],
   "source": [
    "X_train, X_test, y_train, y_test = train_test_split(X\n",
    "                                                    , y\n",
    "                                                    , test_size=0.20\n",
    "                                                    , random_state = 42\n",
    "                                                   )"
   ]
  },
  {
   "cell_type": "markdown",
   "metadata": {},
   "source": [
    "### Random Forest Classifier"
   ]
  },
  {
   "cell_type": "code",
   "execution_count": 27,
   "metadata": {},
   "outputs": [
    {
     "name": "stderr",
     "output_type": "stream",
     "text": [
      "[Parallel(n_jobs=-1)]: Using backend ThreadingBackend with 8 concurrent workers.\n",
      "[Parallel(n_jobs=-1)]: Done  34 tasks      | elapsed:    0.1s\n",
      "[Parallel(n_jobs=-1)]: Done  77 out of  77 | elapsed:    0.1s finished\n",
      "[Parallel(n_jobs=8)]: Using backend ThreadingBackend with 8 concurrent workers.\n",
      "[Parallel(n_jobs=8)]: Done  34 tasks      | elapsed:    0.0s\n",
      "[Parallel(n_jobs=8)]: Done  77 out of  77 | elapsed:    0.0s finished\n",
      "[Parallel(n_jobs=8)]: Using backend ThreadingBackend with 8 concurrent workers.\n",
      "[Parallel(n_jobs=8)]: Done  34 tasks      | elapsed:    0.0s\n",
      "[Parallel(n_jobs=8)]: Done  77 out of  77 | elapsed:    0.0s finished\n"
     ]
    }
   ],
   "source": [
    "rfc = RandomForestClassifier(n_estimators = int(perc_train * len(X_train)) # odd number \n",
    "                             , random_state = 42\n",
    "                             , verbose=1\n",
    "                             , n_jobs = -1 # access all of your processor cores Lenovo P50 i7-6820HQ 2.7GHz\n",
    "                            )\n",
    "\n",
    "rfc.fit(X_train, y_train)\n",
    "\n",
    "y_pred = rfc.predict(X_test)\n",
    "\n",
    "y_probs = rfc.predict_proba(X_test)[:, 1]"
   ]
  },
  {
   "cell_type": "markdown",
   "metadata": {},
   "source": [
    "### Measures of Performances: Receiver Operating Characteristic (ROC) Curve"
   ]
  },
  {
   "cell_type": "code",
   "execution_count": 28,
   "metadata": {},
   "outputs": [
    {
     "data": {
      "text/plain": [
       "0.8527777777777777"
      ]
     },
     "execution_count": 28,
     "metadata": {},
     "output_type": "execute_result"
    }
   ],
   "source": [
    "roc_value = roc_auc_score(y_test\n",
    "                          , y_probs\n",
    "                         )\n",
    "roc_value"
   ]
  },
  {
   "cell_type": "code",
   "execution_count": 29,
   "metadata": {},
   "outputs": [
    {
     "data": {
      "image/png": "[encoded data removed]",
      "text/plain": [
       "<Figure size 720x504 with 1 Axes>"
      ]
     },
     "metadata": {},
     "output_type": "display_data"
    }
   ],
   "source": [
    "plt.rcParams['font.size'] = 16\n",
    "base_fpr, base_tpr, _ = roc_curve(y_test, [1 for _ in range(len(y_test))])\n",
    "model_fpr, model_tpr, _ = roc_curve(y_test, y_probs)\n",
    "\n",
    "plt.figure(figsize=(10,7))\n",
    "plt.plot(base_fpr, base_tpr, 'b', label='No Skill')\n",
    "plt.plot(model_fpr, model_tpr, 'r', label='RFC Model')\n",
    "plt.legend()\n",
    "plt.xlabel('False Positive Rate')\n",
    "plt.ylabel('True Positive Rate')\n",
    "plt.title(f'{symbol} ROC Curve, Accuracy: {round(roc_value, 3)}');"
   ]
  },
  {
   "cell_type": "markdown",
   "metadata": {},
   "source": [
    "### Measures of Performance: Confusion Matrix"
   ]
  },
  {
   "cell_type": "code",
   "execution_count": 30,
   "metadata": {},
   "outputs": [
    {
     "name": "stderr",
     "output_type": "stream",
     "text": [
      "[Parallel(n_jobs=8)]: Using backend ThreadingBackend with 8 concurrent workers.\n",
      "[Parallel(n_jobs=8)]: Done  34 tasks      | elapsed:    0.0s\n",
      "[Parallel(n_jobs=8)]: Done  77 out of  77 | elapsed:    0.0s finished\n"
     ]
    },
    {
     "data": {
      "image/png": "[encoded data removed]",
      "text/plain": [
       "<Figure size 360x288 with 2 Axes>"
      ]
     },
     "metadata": {},
     "output_type": "display_data"
    }
   ],
   "source": [
    "plt.rcParams['figure.figsize'] = (5, 4)\n",
    "plt.rcParams['font.size'] = 16\n",
    "disp = plot_confusion_matrix(rfc\n",
    "                           , X_test\n",
    "                           , y_test\n",
    "                           , cmap=plt.cm.Blues\n",
    "                           , normalize='true'\n",
    "                     )\n",
    "disp.ax_.grid(False)\n",
    "disp.ax_.set_title(f'{symbol} Decision Confusion Matrix');"
   ]
  },
  {
   "cell_type": "markdown",
   "metadata": {},
   "source": [
    "### Measures of Performance: Precision Recall Curve"
   ]
  },
  {
   "cell_type": "code",
   "execution_count": 31,
   "metadata": {},
   "outputs": [
    {
     "data": {
      "image/png": "[encoded data removed]",
      "text/plain": [
       "<Figure size 720x576 with 1 Axes>"
      ]
     },
     "metadata": {},
     "output_type": "display_data"
    }
   ],
   "source": [
    "plt.rcParams['font.size'] = 16\n",
    "plt.rcParams['figure.figsize'] = (10,8)\n",
    "rf_prec, rf_recall, _ = precision_recall_curve(y_test, y_probs)\n",
    "plt.plot([0, 0], linestyle = '--', color = 'b', label='No Skill')\n",
    "plt.plot(rf_recall, rf_prec, color='r', label='Random Forest')\n",
    "plt.xlabel('Recall')\n",
    "plt.ylabel('Precision')\n",
    "plt.legend()\n",
    "plt.title(f'{symbol} Precision-Recall Curve, Accuracy: {round(auc(rf_recall, rf_prec), 3)}');"
   ]
  },
  {
   "cell_type": "markdown",
   "metadata": {},
   "source": [
    "### Measure of Performance: Feature Importances"
   ]
  },
  {
   "cell_type": "code",
   "execution_count": 32,
   "metadata": {},
   "outputs": [
    {
     "data": {
      "text/html": [
       "<div>\n",
       "<style scoped>\n",
       "    .dataframe tbody tr th:only-of-type {\n",
       "        vertical-align: middle;\n",
       "    }\n",
       "\n",
       "    .dataframe tbody tr th {\n",
       "        vertical-align: top;\n",
       "    }\n",
       "\n",
       "    .dataframe thead th {\n",
       "        text-align: right;\n",
       "    }\n",
       "</style>\n",
       "<table border=\"1\" class=\"dataframe\">\n",
       "  <thead>\n",
       "    <tr style=\"text-align: right;\">\n",
       "      <th></th>\n",
       "      <th>feature</th>\n",
       "      <th>importances</th>\n",
       "    </tr>\n",
       "  </thead>\n",
       "  <tbody>\n",
       "    <tr>\n",
       "      <th>5</th>\n",
       "      <td>Volume</td>\n",
       "      <td>0.217959</td>\n",
       "    </tr>\n",
       "    <tr>\n",
       "      <th>3</th>\n",
       "      <td>Close</td>\n",
       "      <td>0.169029</td>\n",
       "    </tr>\n",
       "    <tr>\n",
       "      <th>1</th>\n",
       "      <td>High</td>\n",
       "      <td>0.164126</td>\n",
       "    </tr>\n",
       "    <tr>\n",
       "      <th>2</th>\n",
       "      <td>Low</td>\n",
       "      <td>0.163832</td>\n",
       "    </tr>\n",
       "    <tr>\n",
       "      <th>4</th>\n",
       "      <td>Adj Close</td>\n",
       "      <td>0.152795</td>\n",
       "    </tr>\n",
       "    <tr>\n",
       "      <th>0</th>\n",
       "      <td>Open</td>\n",
       "      <td>0.132259</td>\n",
       "    </tr>\n",
       "  </tbody>\n",
       "</table>\n",
       "</div>"
      ],
      "text/plain": [
       "     feature  importances\n",
       "5     Volume     0.217959\n",
       "3      Close     0.169029\n",
       "1       High     0.164126\n",
       "2        Low     0.163832\n",
       "4  Adj Close     0.152795\n",
       "0       Open     0.132259"
      ]
     },
     "execution_count": 32,
     "metadata": {},
     "output_type": "execute_result"
    }
   ],
   "source": [
    "feature_df = pd.DataFrame({'feature': X_train.columns\n",
    "                           , 'importances': rfc.feature_importances_\n",
    "                          }).sort_values('importances', ascending=False)\n",
    "feature_df"
   ]
  },
  {
   "cell_type": "code",
   "execution_count": 33,
   "metadata": {
    "scrolled": true
   },
   "outputs": [
    {
     "data": {
      "text/html": [
       "<div>\n",
       "<style scoped>\n",
       "    .dataframe tbody tr th:only-of-type {\n",
       "        vertical-align: middle;\n",
       "    }\n",
       "\n",
       "    .dataframe tbody tr th {\n",
       "        vertical-align: top;\n",
       "    }\n",
       "\n",
       "    .dataframe thead th {\n",
       "        text-align: right;\n",
       "    }\n",
       "</style>\n",
       "<table border=\"1\" class=\"dataframe\">\n",
       "  <thead>\n",
       "    <tr style=\"text-align: right;\">\n",
       "      <th></th>\n",
       "      <th>Open</th>\n",
       "      <th>High</th>\n",
       "      <th>Low</th>\n",
       "      <th>Close</th>\n",
       "      <th>Adj Close</th>\n",
       "      <th>Volume</th>\n",
       "      <th>percent change</th>\n",
       "      <th>decision</th>\n",
       "    </tr>\n",
       "  </thead>\n",
       "  <tbody>\n",
       "    <tr>\n",
       "      <th>0</th>\n",
       "      <td>61.000000</td>\n",
       "      <td>61.000000</td>\n",
       "      <td>60.010100</td>\n",
       "      <td>60.010100</td>\n",
       "      <td>60.010100</td>\n",
       "      <td>0</td>\n",
       "      <td>0.016228</td>\n",
       "      <td>0</td>\n",
       "    </tr>\n",
       "    <tr>\n",
       "      <th>1</th>\n",
       "      <td>65.268997</td>\n",
       "      <td>65.320000</td>\n",
       "      <td>65.150002</td>\n",
       "      <td>65.169998</td>\n",
       "      <td>65.169998</td>\n",
       "      <td>74685</td>\n",
       "      <td>0.001517</td>\n",
       "      <td>0</td>\n",
       "    </tr>\n",
       "    <tr>\n",
       "      <th>2</th>\n",
       "      <td>70.285004</td>\n",
       "      <td>70.364998</td>\n",
       "      <td>70.139999</td>\n",
       "      <td>70.220001</td>\n",
       "      <td>70.220001</td>\n",
       "      <td>180296</td>\n",
       "      <td>0.000925</td>\n",
       "      <td>0</td>\n",
       "    </tr>\n",
       "    <tr>\n",
       "      <th>3</th>\n",
       "      <td>60.970001</td>\n",
       "      <td>61.133202</td>\n",
       "      <td>60.950001</td>\n",
       "      <td>61.110001</td>\n",
       "      <td>61.110001</td>\n",
       "      <td>138408</td>\n",
       "      <td>-0.002296</td>\n",
       "      <td>0</td>\n",
       "    </tr>\n",
       "    <tr>\n",
       "      <th>4</th>\n",
       "      <td>63.240101</td>\n",
       "      <td>63.450001</td>\n",
       "      <td>63.169998</td>\n",
       "      <td>63.259998</td>\n",
       "      <td>63.259998</td>\n",
       "      <td>534898</td>\n",
       "      <td>-0.000315</td>\n",
       "      <td>0</td>\n",
       "    </tr>\n",
       "  </tbody>\n",
       "</table>\n",
       "</div>"
      ],
      "text/plain": [
       "        Open       High        Low      Close  Adj Close  Volume  \\\n",
       "0  61.000000  61.000000  60.010100  60.010100  60.010100       0   \n",
       "1  65.268997  65.320000  65.150002  65.169998  65.169998   74685   \n",
       "2  70.285004  70.364998  70.139999  70.220001  70.220001  180296   \n",
       "3  60.970001  61.133202  60.950001  61.110001  61.110001  138408   \n",
       "4  63.240101  63.450001  63.169998  63.259998  63.259998  534898   \n",
       "\n",
       "   percent change  decision  \n",
       "0        0.016228         0  \n",
       "1        0.001517         0  \n",
       "2        0.000925         0  \n",
       "3       -0.002296         0  \n",
       "4       -0.000315         0  "
      ]
     },
     "execution_count": 33,
     "metadata": {},
     "output_type": "execute_result"
    }
   ],
   "source": [
    "stock_df_bal.head()"
   ]
  },
  {
   "cell_type": "markdown",
   "metadata": {},
   "source": [
    "### Make A Prediction"
   ]
  },
  {
   "cell_type": "code",
   "execution_count": 34,
   "metadata": {},
   "outputs": [
    {
     "data": {
      "text/plain": [
       "Open         68.59\n",
       "High         68.59\n",
       "Low          68.59\n",
       "Close        68.59\n",
       "Adj Close    68.59\n",
       "Volume        0.00\n",
       "Name: 2020-06-19 17:00:00-04:00, dtype: float64"
      ]
     },
     "execution_count": 34,
     "metadata": {},
     "output_type": "execute_result"
    }
   ],
   "source": [
    "last = stock_df[['Open', 'High', 'Low', 'Close', 'Adj Close', 'Volume']].iloc[-1]\n",
    "last"
   ]
  },
  {
   "cell_type": "code",
   "execution_count": 35,
   "metadata": {},
   "outputs": [
    {
     "name": "stdout",
     "output_type": "stream",
     "text": [
      "Sell or hold ITOT on the 60m interval.\n"
     ]
    },
    {
     "name": "stderr",
     "output_type": "stream",
     "text": [
      "[Parallel(n_jobs=8)]: Using backend ThreadingBackend with 8 concurrent workers.\n",
      "[Parallel(n_jobs=8)]: Done  34 tasks      | elapsed:    0.0s\n",
      "[Parallel(n_jobs=8)]: Done  77 out of  77 | elapsed:    0.0s finished\n"
     ]
    }
   ],
   "source": [
    "if rfc.predict(np.array(last).reshape(1, -1))[0] == 1:\n",
    "    print(f'Buy {symbol} on the {interval} interval for {round(perc_inc *100, 1)}% increase.')\n",
    "else:\n",
    "    print(f'Sell or hold {symbol} on the {interval} interval.')"
   ]
  },
  {
   "cell_type": "code",
   "execution_count": null,
   "metadata": {},
   "outputs": [],
   "source": []
  },
  {
   "cell_type": "code",
   "execution_count": null,
   "metadata": {},
   "outputs": [],
   "source": []
  },
  {
   "cell_type": "code",
   "execution_count": null,
   "metadata": {},
   "outputs": [],
   "source": []
  },
  {
   "cell_type": "code",
   "execution_count": null,
   "metadata": {},
   "outputs": [],
   "source": []
  }
 ],
 "metadata": {
  "kernelspec": {
   "display_name": "Python 3",
   "language": "python",
   "name": "python3"
  },
  "language_info": {
   "codemirror_mode": {
    "name": "ipython",
    "version": 3
   },
   "file_extension": ".py",
   "mimetype": "text/x-python",
   "name": "python",
   "nbconvert_exporter": "python",
   "pygments_lexer": "ipython3",
   "version": "3.7.5"
  }
 },
 "nbformat": 4,
 "nbformat_minor": 4
}
