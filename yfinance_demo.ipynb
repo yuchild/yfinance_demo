{
 "cells": [
  {
   "cell_type": "markdown",
   "metadata": {},
   "source": [
    "## yfinance Library Demo"
   ]
  },
  {
   "cell_type": "markdown",
   "metadata": {},
   "source": [
    "### Disclaimers:"
   ]
  },
  {
   "cell_type": "markdown",
   "metadata": {},
   "source": [
    "Trading stocks has it's own inherent risks. Trade at your own discretion. \n",
    "<br />\n",
    "\n",
    "The predictions from the model is best thought of as correlations rather than causations.  "
   ]
  },
  {
   "cell_type": "markdown",
   "metadata": {},
   "source": [
    "### Overview:"
   ]
  },
  {
   "cell_type": "markdown",
   "metadata": {},
   "source": [
    "This notebook provides a random forest classifier model that predicts the direction of movement of a secruity in the next time interval.\n",
    "<br />\n",
    "\n",
    "The prediction is only for directions up 1 or down 0. "
   ]
  },
  {
   "cell_type": "markdown",
   "metadata": {},
   "source": [
    "### Imports: "
   ]
  },
  {
   "cell_type": "code",
   "execution_count": 1,
   "metadata": {},
   "outputs": [],
   "source": [
    "import pandas as pd\n",
    "import numpy as np\n",
    "\n",
    "import matplotlib.pyplot as plt\n",
    "plt.rcParams['font.size'] = 12\n",
    "plt.rcParams['figure.figsize'] = (8, 7)\n",
    "plt.style.use('fivethirtyeight')\n",
    "\n",
    "import warnings\n",
    "warnings.filterwarnings('ignore')\n",
    "\n",
    "import yfinance as yf\n",
    "\n",
    "from sklearn.model_selection import train_test_split\n",
    "from sklearn.ensemble import RandomForestClassifier\n",
    "from sklearn.metrics import (roc_auc_score\n",
    "                             , precision_score\n",
    "                             , recall_score\n",
    "                             , roc_curve\n",
    "                             , confusion_matrix\n",
    "                             , plot_confusion_matrix\n",
    "                             , precision_recall_curve\n",
    "                             , auc\n",
    "                            )"
   ]
  },
  {
   "cell_type": "markdown",
   "metadata": {},
   "source": [
    "### Global Variables:"
   ]
  },
  {
   "cell_type": "code",
   "execution_count": 2,
   "metadata": {},
   "outputs": [],
   "source": [
    "# yfinance automatically pull data up to the current time, unless specified \n",
    "\n",
    "# month = '06' # month and date not necessary if using fix period, see next cell\n",
    "# date = '15'\n",
    "\n",
    "# sf_hour = 13 # 6 to 13 military time in PST\n",
    "# ny_hour = 4 # 9 to 16 military time in EST\n",
    "\n",
    "# valid intervals: 1m,2m,5m,15m,30m,60m,90m,1h,1d,5d,1wk,1mo,3mo\n",
    "interval = '60m'\n",
    "\n",
    "perc_inc = 0.01 # 2 percent increase from hour to hour or any time period\n",
    "\n",
    "# start = '2018-07-01'\n",
    "\n",
    "# end = '2020-' + month + '-' + date\n",
    "\n",
    "symbol = 'IYW' # IDEX penny stock, IYW iShares Tech ETF stock\n",
    "\n",
    "perc_train = 0.6 # percent of train set"
   ]
  },
  {
   "cell_type": "markdown",
   "metadata": {},
   "source": [
    "### Yahoo Finance"
   ]
  },
  {
   "cell_type": "code",
   "execution_count": 3,
   "metadata": {},
   "outputs": [
    {
     "name": "stdout",
     "output_type": "stream",
     "text": [
      "[*********************100%***********************]  1 of 1 completed\n"
     ]
    }
   ],
   "source": [
    "stock_df = yf.download(tickers = symbol # symbol of stock \n",
    "                       \n",
    "                       , period = '2y' # time span of data e.g. 1y or 10y, 2y for 60m, 10y for 1d\n",
    "                       \n",
    "                       , interval = interval # time periods of subinterval e.g. 1m or 1hr\n",
    "                       \n",
    "                       # , start = start # start date, time\n",
    "                       \n",
    "                       # , end = end # end date, time\n",
    "                       \n",
    "                       , prepost = True # pre/post market data\n",
    "                      )"
   ]
  },
  {
   "cell_type": "code",
   "execution_count": 4,
   "metadata": {},
   "outputs": [
    {
     "data": {
      "text/html": [
       "<div>\n",
       "<style scoped>\n",
       "    .dataframe tbody tr th:only-of-type {\n",
       "        vertical-align: middle;\n",
       "    }\n",
       "\n",
       "    .dataframe tbody tr th {\n",
       "        vertical-align: top;\n",
       "    }\n",
       "\n",
       "    .dataframe thead th {\n",
       "        text-align: right;\n",
       "    }\n",
       "</style>\n",
       "<table border=\"1\" class=\"dataframe\">\n",
       "  <thead>\n",
       "    <tr style=\"text-align: right;\">\n",
       "      <th></th>\n",
       "      <th>Open</th>\n",
       "      <th>High</th>\n",
       "      <th>Low</th>\n",
       "      <th>Close</th>\n",
       "      <th>Adj Close</th>\n",
       "      <th>Volume</th>\n",
       "    </tr>\n",
       "    <tr>\n",
       "      <th>Datetime</th>\n",
       "      <th></th>\n",
       "      <th></th>\n",
       "      <th></th>\n",
       "      <th></th>\n",
       "      <th></th>\n",
       "      <th></th>\n",
       "    </tr>\n",
       "  </thead>\n",
       "  <tbody>\n",
       "    <tr>\n",
       "      <th>2018-06-18 09:30:00-04:00</th>\n",
       "      <td>184.272507</td>\n",
       "      <td>185.220001</td>\n",
       "      <td>184.009995</td>\n",
       "      <td>185.199997</td>\n",
       "      <td>185.199997</td>\n",
       "      <td>0</td>\n",
       "    </tr>\n",
       "    <tr>\n",
       "      <th>2018-06-18 10:30:00-04:00</th>\n",
       "      <td>185.470200</td>\n",
       "      <td>186.350006</td>\n",
       "      <td>185.470200</td>\n",
       "      <td>186.070007</td>\n",
       "      <td>186.070007</td>\n",
       "      <td>10589</td>\n",
       "    </tr>\n",
       "    <tr>\n",
       "      <th>2018-06-18 11:30:00-04:00</th>\n",
       "      <td>186.119995</td>\n",
       "      <td>186.210007</td>\n",
       "      <td>185.830002</td>\n",
       "      <td>185.830002</td>\n",
       "      <td>185.830002</td>\n",
       "      <td>12388</td>\n",
       "    </tr>\n",
       "    <tr>\n",
       "      <th>2018-06-18 12:30:00-04:00</th>\n",
       "      <td>185.869904</td>\n",
       "      <td>186.229996</td>\n",
       "      <td>185.779999</td>\n",
       "      <td>186.229996</td>\n",
       "      <td>186.229996</td>\n",
       "      <td>14237</td>\n",
       "    </tr>\n",
       "    <tr>\n",
       "      <th>2018-06-18 13:30:00-04:00</th>\n",
       "      <td>186.199997</td>\n",
       "      <td>186.429993</td>\n",
       "      <td>186.159500</td>\n",
       "      <td>186.429993</td>\n",
       "      <td>186.429993</td>\n",
       "      <td>9214</td>\n",
       "    </tr>\n",
       "  </tbody>\n",
       "</table>\n",
       "</div>"
      ],
      "text/plain": [
       "                                 Open        High         Low       Close  \\\n",
       "Datetime                                                                    \n",
       "2018-06-18 09:30:00-04:00  184.272507  185.220001  184.009995  185.199997   \n",
       "2018-06-18 10:30:00-04:00  185.470200  186.350006  185.470200  186.070007   \n",
       "2018-06-18 11:30:00-04:00  186.119995  186.210007  185.830002  185.830002   \n",
       "2018-06-18 12:30:00-04:00  185.869904  186.229996  185.779999  186.229996   \n",
       "2018-06-18 13:30:00-04:00  186.199997  186.429993  186.159500  186.429993   \n",
       "\n",
       "                            Adj Close  Volume  \n",
       "Datetime                                       \n",
       "2018-06-18 09:30:00-04:00  185.199997       0  \n",
       "2018-06-18 10:30:00-04:00  186.070007   10589  \n",
       "2018-06-18 11:30:00-04:00  185.830002   12388  \n",
       "2018-06-18 12:30:00-04:00  186.229996   14237  \n",
       "2018-06-18 13:30:00-04:00  186.429993    9214  "
      ]
     },
     "execution_count": 4,
     "metadata": {},
     "output_type": "execute_result"
    }
   ],
   "source": [
    "stock_df.head()"
   ]
  },
  {
   "cell_type": "markdown",
   "metadata": {},
   "source": [
    "### EDA of Secruity"
   ]
  },
  {
   "cell_type": "code",
   "execution_count": 5,
   "metadata": {
    "scrolled": true
   },
   "outputs": [
    {
     "data": {
      "text/html": [
       "<div>\n",
       "<style scoped>\n",
       "    .dataframe tbody tr th:only-of-type {\n",
       "        vertical-align: middle;\n",
       "    }\n",
       "\n",
       "    .dataframe tbody tr th {\n",
       "        vertical-align: top;\n",
       "    }\n",
       "\n",
       "    .dataframe thead th {\n",
       "        text-align: right;\n",
       "    }\n",
       "</style>\n",
       "<table border=\"1\" class=\"dataframe\">\n",
       "  <thead>\n",
       "    <tr style=\"text-align: right;\">\n",
       "      <th></th>\n",
       "      <th>Open</th>\n",
       "      <th>High</th>\n",
       "      <th>Low</th>\n",
       "      <th>Close</th>\n",
       "      <th>Adj Close</th>\n",
       "      <th>Volume</th>\n",
       "      <th>percent change</th>\n",
       "    </tr>\n",
       "    <tr>\n",
       "      <th>Datetime</th>\n",
       "      <th></th>\n",
       "      <th></th>\n",
       "      <th></th>\n",
       "      <th></th>\n",
       "      <th></th>\n",
       "      <th></th>\n",
       "      <th></th>\n",
       "    </tr>\n",
       "  </thead>\n",
       "  <tbody>\n",
       "    <tr>\n",
       "      <th>2018-06-18 09:30:00-04:00</th>\n",
       "      <td>184.272507</td>\n",
       "      <td>185.220001</td>\n",
       "      <td>184.009995</td>\n",
       "      <td>185.199997</td>\n",
       "      <td>185.199997</td>\n",
       "      <td>0</td>\n",
       "      <td>-0.005033</td>\n",
       "    </tr>\n",
       "    <tr>\n",
       "      <th>2018-06-18 10:30:00-04:00</th>\n",
       "      <td>185.470200</td>\n",
       "      <td>186.350006</td>\n",
       "      <td>185.470200</td>\n",
       "      <td>186.070007</td>\n",
       "      <td>186.070007</td>\n",
       "      <td>10589</td>\n",
       "      <td>-0.003234</td>\n",
       "    </tr>\n",
       "    <tr>\n",
       "      <th>2018-06-18 11:30:00-04:00</th>\n",
       "      <td>186.119995</td>\n",
       "      <td>186.210007</td>\n",
       "      <td>185.830002</td>\n",
       "      <td>185.830002</td>\n",
       "      <td>185.830002</td>\n",
       "      <td>12388</td>\n",
       "      <td>0.001558</td>\n",
       "    </tr>\n",
       "    <tr>\n",
       "      <th>2018-06-18 12:30:00-04:00</th>\n",
       "      <td>185.869904</td>\n",
       "      <td>186.229996</td>\n",
       "      <td>185.779999</td>\n",
       "      <td>186.229996</td>\n",
       "      <td>186.229996</td>\n",
       "      <td>14237</td>\n",
       "      <td>-0.001937</td>\n",
       "    </tr>\n",
       "    <tr>\n",
       "      <th>2018-06-18 13:30:00-04:00</th>\n",
       "      <td>186.199997</td>\n",
       "      <td>186.429993</td>\n",
       "      <td>186.159500</td>\n",
       "      <td>186.429993</td>\n",
       "      <td>186.429993</td>\n",
       "      <td>9214</td>\n",
       "      <td>-0.001235</td>\n",
       "    </tr>\n",
       "  </tbody>\n",
       "</table>\n",
       "</div>"
      ],
      "text/plain": [
       "                                 Open        High         Low       Close  \\\n",
       "Datetime                                                                    \n",
       "2018-06-18 09:30:00-04:00  184.272507  185.220001  184.009995  185.199997   \n",
       "2018-06-18 10:30:00-04:00  185.470200  186.350006  185.470200  186.070007   \n",
       "2018-06-18 11:30:00-04:00  186.119995  186.210007  185.830002  185.830002   \n",
       "2018-06-18 12:30:00-04:00  185.869904  186.229996  185.779999  186.229996   \n",
       "2018-06-18 13:30:00-04:00  186.199997  186.429993  186.159500  186.429993   \n",
       "\n",
       "                            Adj Close  Volume  percent change  \n",
       "Datetime                                                       \n",
       "2018-06-18 09:30:00-04:00  185.199997       0       -0.005033  \n",
       "2018-06-18 10:30:00-04:00  186.070007   10589       -0.003234  \n",
       "2018-06-18 11:30:00-04:00  185.830002   12388        0.001558  \n",
       "2018-06-18 12:30:00-04:00  186.229996   14237       -0.001937  \n",
       "2018-06-18 13:30:00-04:00  186.429993    9214       -0.001235  "
      ]
     },
     "execution_count": 5,
     "metadata": {},
     "output_type": "execute_result"
    }
   ],
   "source": [
    "stock_df['percent change'] = (stock_df.Open - stock_df.Close) / stock_df.Open\n",
    "stock_df.head()"
   ]
  },
  {
   "cell_type": "code",
   "execution_count": 6,
   "metadata": {
    "scrolled": true
   },
   "outputs": [
    {
     "data": {
      "image/png": "[encoded data removed]",
      "text/plain": [
       "<Figure size 576x504 with 1 Axes>"
      ]
     },
     "metadata": {},
     "output_type": "display_data"
    }
   ],
   "source": [
    "stock_df['percent change'].hist();"
   ]
  },
  {
   "cell_type": "code",
   "execution_count": 7,
   "metadata": {},
   "outputs": [
    {
     "data": {
      "text/plain": [
       "0.84    0.002619\n",
       "Name: percent change, dtype: float64"
      ]
     },
     "execution_count": 7,
     "metadata": {},
     "output_type": "execute_result"
    }
   ],
   "source": [
    "stock_df['percent change'].quantile([0.84])"
   ]
  },
  {
   "cell_type": "markdown",
   "metadata": {},
   "source": [
    "### Assign Descisions for Up %+ or Not"
   ]
  },
  {
   "cell_type": "code",
   "execution_count": 8,
   "metadata": {},
   "outputs": [],
   "source": [
    "stock_df['decision'] = np.where((stock_df['Close'] - stock_df['Open'])/stock_df['Open'] > perc_inc\n",
    "                                \n",
    "                                , 1  # 1 if up % or greater\n",
    "                                \n",
    "                                , 0  # 0 if not up % or greater\n",
    "                                \n",
    "                               )"
   ]
  },
  {
   "cell_type": "code",
   "execution_count": 9,
   "metadata": {
    "scrolled": true
   },
   "outputs": [
    {
     "data": {
      "text/html": [
       "<div>\n",
       "<style scoped>\n",
       "    .dataframe tbody tr th:only-of-type {\n",
       "        vertical-align: middle;\n",
       "    }\n",
       "\n",
       "    .dataframe tbody tr th {\n",
       "        vertical-align: top;\n",
       "    }\n",
       "\n",
       "    .dataframe thead th {\n",
       "        text-align: right;\n",
       "    }\n",
       "</style>\n",
       "<table border=\"1\" class=\"dataframe\">\n",
       "  <thead>\n",
       "    <tr style=\"text-align: right;\">\n",
       "      <th></th>\n",
       "      <th>Open</th>\n",
       "      <th>High</th>\n",
       "      <th>Low</th>\n",
       "      <th>Close</th>\n",
       "      <th>Adj Close</th>\n",
       "      <th>Volume</th>\n",
       "      <th>percent change</th>\n",
       "      <th>decision</th>\n",
       "    </tr>\n",
       "    <tr>\n",
       "      <th>Datetime</th>\n",
       "      <th></th>\n",
       "      <th></th>\n",
       "      <th></th>\n",
       "      <th></th>\n",
       "      <th></th>\n",
       "      <th></th>\n",
       "      <th></th>\n",
       "      <th></th>\n",
       "    </tr>\n",
       "  </thead>\n",
       "  <tbody>\n",
       "    <tr>\n",
       "      <th>2020-06-16 12:30:00-04:00</th>\n",
       "      <td>263.269989</td>\n",
       "      <td>264.429993</td>\n",
       "      <td>263.269989</td>\n",
       "      <td>264.269989</td>\n",
       "      <td>264.269989</td>\n",
       "      <td>5622</td>\n",
       "      <td>-0.003798</td>\n",
       "      <td>0</td>\n",
       "    </tr>\n",
       "    <tr>\n",
       "      <th>2020-06-16 13:30:00-04:00</th>\n",
       "      <td>263.529999</td>\n",
       "      <td>264.290009</td>\n",
       "      <td>262.709991</td>\n",
       "      <td>263.429993</td>\n",
       "      <td>263.429993</td>\n",
       "      <td>11764</td>\n",
       "      <td>0.000379</td>\n",
       "      <td>0</td>\n",
       "    </tr>\n",
       "    <tr>\n",
       "      <th>2020-06-16 14:30:00-04:00</th>\n",
       "      <td>263.649994</td>\n",
       "      <td>263.850006</td>\n",
       "      <td>261.845001</td>\n",
       "      <td>262.959991</td>\n",
       "      <td>262.959991</td>\n",
       "      <td>11613</td>\n",
       "      <td>0.002617</td>\n",
       "      <td>0</td>\n",
       "    </tr>\n",
       "    <tr>\n",
       "      <th>2020-06-16 15:30:00-04:00</th>\n",
       "      <td>262.980011</td>\n",
       "      <td>263.859985</td>\n",
       "      <td>262.420013</td>\n",
       "      <td>263.799988</td>\n",
       "      <td>263.799988</td>\n",
       "      <td>14644</td>\n",
       "      <td>-0.003118</td>\n",
       "      <td>0</td>\n",
       "    </tr>\n",
       "    <tr>\n",
       "      <th>2020-06-16 16:00:00-04:00</th>\n",
       "      <td>263.740000</td>\n",
       "      <td>263.740000</td>\n",
       "      <td>263.740000</td>\n",
       "      <td>263.740000</td>\n",
       "      <td>263.740000</td>\n",
       "      <td>0</td>\n",
       "      <td>0.000000</td>\n",
       "      <td>0</td>\n",
       "    </tr>\n",
       "    <tr>\n",
       "      <th>2020-06-17 09:30:00-04:00</th>\n",
       "      <td>265.429993</td>\n",
       "      <td>265.459290</td>\n",
       "      <td>263.510010</td>\n",
       "      <td>263.890015</td>\n",
       "      <td>263.890015</td>\n",
       "      <td>22821</td>\n",
       "      <td>0.005802</td>\n",
       "      <td>0</td>\n",
       "    </tr>\n",
       "    <tr>\n",
       "      <th>2020-06-17 10:30:00-04:00</th>\n",
       "      <td>263.799988</td>\n",
       "      <td>265.410004</td>\n",
       "      <td>263.799988</td>\n",
       "      <td>264.790009</td>\n",
       "      <td>264.790009</td>\n",
       "      <td>10121</td>\n",
       "      <td>-0.003753</td>\n",
       "      <td>0</td>\n",
       "    </tr>\n",
       "    <tr>\n",
       "      <th>2020-06-17 11:30:00-04:00</th>\n",
       "      <td>265.049988</td>\n",
       "      <td>265.269989</td>\n",
       "      <td>264.579987</td>\n",
       "      <td>265.188110</td>\n",
       "      <td>265.188110</td>\n",
       "      <td>9198</td>\n",
       "      <td>-0.000521</td>\n",
       "      <td>0</td>\n",
       "    </tr>\n",
       "    <tr>\n",
       "      <th>2020-06-17 12:30:00-04:00</th>\n",
       "      <td>265.230011</td>\n",
       "      <td>266.200012</td>\n",
       "      <td>265.230011</td>\n",
       "      <td>265.989990</td>\n",
       "      <td>265.989990</td>\n",
       "      <td>14559</td>\n",
       "      <td>-0.002865</td>\n",
       "      <td>0</td>\n",
       "    </tr>\n",
       "    <tr>\n",
       "      <th>2020-06-17 13:30:00-04:00</th>\n",
       "      <td>266.100006</td>\n",
       "      <td>266.149994</td>\n",
       "      <td>265.679993</td>\n",
       "      <td>265.700012</td>\n",
       "      <td>265.700012</td>\n",
       "      <td>2950</td>\n",
       "      <td>0.001503</td>\n",
       "      <td>0</td>\n",
       "    </tr>\n",
       "    <tr>\n",
       "      <th>2020-06-17 14:30:00-04:00</th>\n",
       "      <td>265.869995</td>\n",
       "      <td>266.119995</td>\n",
       "      <td>264.130005</td>\n",
       "      <td>264.130005</td>\n",
       "      <td>264.130005</td>\n",
       "      <td>7613</td>\n",
       "      <td>0.006545</td>\n",
       "      <td>0</td>\n",
       "    </tr>\n",
       "    <tr>\n",
       "      <th>2020-06-17 15:30:00-04:00</th>\n",
       "      <td>263.695007</td>\n",
       "      <td>264.459991</td>\n",
       "      <td>263.390015</td>\n",
       "      <td>264.109985</td>\n",
       "      <td>264.109985</td>\n",
       "      <td>16587</td>\n",
       "      <td>-0.001574</td>\n",
       "      <td>0</td>\n",
       "    </tr>\n",
       "    <tr>\n",
       "      <th>2020-06-17 16:00:00-04:00</th>\n",
       "      <td>264.000000</td>\n",
       "      <td>264.000000</td>\n",
       "      <td>264.000000</td>\n",
       "      <td>264.000000</td>\n",
       "      <td>264.000000</td>\n",
       "      <td>8928</td>\n",
       "      <td>0.000000</td>\n",
       "      <td>0</td>\n",
       "    </tr>\n",
       "    <tr>\n",
       "      <th>2020-06-18 09:30:00-04:00</th>\n",
       "      <td>263.690002</td>\n",
       "      <td>264.242004</td>\n",
       "      <td>263.480011</td>\n",
       "      <td>264.242004</td>\n",
       "      <td>264.242004</td>\n",
       "      <td>1422</td>\n",
       "      <td>-0.002093</td>\n",
       "      <td>0</td>\n",
       "    </tr>\n",
       "    <tr>\n",
       "      <th>2020-06-18 09:53:41-04:00</th>\n",
       "      <td>264.390015</td>\n",
       "      <td>264.390015</td>\n",
       "      <td>264.390015</td>\n",
       "      <td>264.390015</td>\n",
       "      <td>264.390015</td>\n",
       "      <td>0</td>\n",
       "      <td>0.000000</td>\n",
       "      <td>0</td>\n",
       "    </tr>\n",
       "  </tbody>\n",
       "</table>\n",
       "</div>"
      ],
      "text/plain": [
       "                                 Open        High         Low       Close  \\\n",
       "Datetime                                                                    \n",
       "2020-06-16 12:30:00-04:00  263.269989  264.429993  263.269989  264.269989   \n",
       "2020-06-16 13:30:00-04:00  263.529999  264.290009  262.709991  263.429993   \n",
       "2020-06-16 14:30:00-04:00  263.649994  263.850006  261.845001  262.959991   \n",
       "2020-06-16 15:30:00-04:00  262.980011  263.859985  262.420013  263.799988   \n",
       "2020-06-16 16:00:00-04:00  263.740000  263.740000  263.740000  263.740000   \n",
       "2020-06-17 09:30:00-04:00  265.429993  265.459290  263.510010  263.890015   \n",
       "2020-06-17 10:30:00-04:00  263.799988  265.410004  263.799988  264.790009   \n",
       "2020-06-17 11:30:00-04:00  265.049988  265.269989  264.579987  265.188110   \n",
       "2020-06-17 12:30:00-04:00  265.230011  266.200012  265.230011  265.989990   \n",
       "2020-06-17 13:30:00-04:00  266.100006  266.149994  265.679993  265.700012   \n",
       "2020-06-17 14:30:00-04:00  265.869995  266.119995  264.130005  264.130005   \n",
       "2020-06-17 15:30:00-04:00  263.695007  264.459991  263.390015  264.109985   \n",
       "2020-06-17 16:00:00-04:00  264.000000  264.000000  264.000000  264.000000   \n",
       "2020-06-18 09:30:00-04:00  263.690002  264.242004  263.480011  264.242004   \n",
       "2020-06-18 09:53:41-04:00  264.390015  264.390015  264.390015  264.390015   \n",
       "\n",
       "                            Adj Close  Volume  percent change  decision  \n",
       "Datetime                                                                 \n",
       "2020-06-16 12:30:00-04:00  264.269989    5622       -0.003798         0  \n",
       "2020-06-16 13:30:00-04:00  263.429993   11764        0.000379         0  \n",
       "2020-06-16 14:30:00-04:00  262.959991   11613        0.002617         0  \n",
       "2020-06-16 15:30:00-04:00  263.799988   14644       -0.003118         0  \n",
       "2020-06-16 16:00:00-04:00  263.740000       0        0.000000         0  \n",
       "2020-06-17 09:30:00-04:00  263.890015   22821        0.005802         0  \n",
       "2020-06-17 10:30:00-04:00  264.790009   10121       -0.003753         0  \n",
       "2020-06-17 11:30:00-04:00  265.188110    9198       -0.000521         0  \n",
       "2020-06-17 12:30:00-04:00  265.989990   14559       -0.002865         0  \n",
       "2020-06-17 13:30:00-04:00  265.700012    2950        0.001503         0  \n",
       "2020-06-17 14:30:00-04:00  264.130005    7613        0.006545         0  \n",
       "2020-06-17 15:30:00-04:00  264.109985   16587       -0.001574         0  \n",
       "2020-06-17 16:00:00-04:00  264.000000    8928        0.000000         0  \n",
       "2020-06-18 09:30:00-04:00  264.242004    1422       -0.002093         0  \n",
       "2020-06-18 09:53:41-04:00  264.390015       0        0.000000         0  "
      ]
     },
     "execution_count": 9,
     "metadata": {},
     "output_type": "execute_result"
    }
   ],
   "source": [
    "stock_df.tail(15)"
   ]
  },
  {
   "cell_type": "markdown",
   "metadata": {},
   "source": [
    "### Create One Offs"
   ]
  },
  {
   "cell_type": "markdown",
   "metadata": {},
   "source": [
    "Move decision column up by 1 row so the current\n",
    "hour of data will predict the next hour of data\n",
    "or whichever time frame is observed"
   ]
  },
  {
   "cell_type": "code",
   "execution_count": 10,
   "metadata": {
    "scrolled": true
   },
   "outputs": [
    {
     "data": {
      "text/plain": [
       "numpy.ndarray"
      ]
     },
     "execution_count": 10,
     "metadata": {},
     "output_type": "execute_result"
    }
   ],
   "source": [
    "decisions = stock_df.decision.values\n",
    "type(decisions)"
   ]
  },
  {
   "cell_type": "code",
   "execution_count": 11,
   "metadata": {},
   "outputs": [
    {
     "data": {
      "text/plain": [
       "4051"
      ]
     },
     "execution_count": 11,
     "metadata": {},
     "output_type": "execute_result"
    }
   ],
   "source": [
    "len(decisions)"
   ]
  },
  {
   "cell_type": "code",
   "execution_count": 12,
   "metadata": {},
   "outputs": [],
   "source": [
    "decisions = decisions[1:len(decisions)] # from rows 2 to 6061"
   ]
  },
  {
   "cell_type": "code",
   "execution_count": 13,
   "metadata": {},
   "outputs": [
    {
     "data": {
      "text/plain": [
       "4050"
      ]
     },
     "execution_count": 13,
     "metadata": {},
     "output_type": "execute_result"
    }
   ],
   "source": [
    "len(decisions)"
   ]
  },
  {
   "cell_type": "code",
   "execution_count": 14,
   "metadata": {},
   "outputs": [
    {
     "data": {
      "text/plain": [
       "(4050, 8)"
      ]
     },
     "execution_count": 14,
     "metadata": {},
     "output_type": "execute_result"
    }
   ],
   "source": [
    "stock_df_one_off = stock_df.iloc[0:stock_df.shape[0]-1] # from rows 1 to 6060\n",
    "stock_df_one_off.shape"
   ]
  },
  {
   "cell_type": "code",
   "execution_count": 15,
   "metadata": {
    "scrolled": true
   },
   "outputs": [
    {
     "data": {
      "text/plain": [
       "Open               263.690002\n",
       "High               264.242004\n",
       "Low                263.480011\n",
       "Close              264.242004\n",
       "Adj Close          264.242004\n",
       "Volume            1422.000000\n",
       "percent change      -0.002093\n",
       "decision             0.000000\n",
       "Name: 2020-06-18 09:30:00-04:00, dtype: float64"
      ]
     },
     "execution_count": 15,
     "metadata": {},
     "output_type": "execute_result"
    }
   ],
   "source": [
    "stock_df_one_off.iloc[-1]"
   ]
  },
  {
   "cell_type": "code",
   "execution_count": 16,
   "metadata": {},
   "outputs": [
    {
     "data": {
      "text/html": [
       "<div>\n",
       "<style scoped>\n",
       "    .dataframe tbody tr th:only-of-type {\n",
       "        vertical-align: middle;\n",
       "    }\n",
       "\n",
       "    .dataframe tbody tr th {\n",
       "        vertical-align: top;\n",
       "    }\n",
       "\n",
       "    .dataframe thead th {\n",
       "        text-align: right;\n",
       "    }\n",
       "</style>\n",
       "<table border=\"1\" class=\"dataframe\">\n",
       "  <thead>\n",
       "    <tr style=\"text-align: right;\">\n",
       "      <th></th>\n",
       "      <th>Open</th>\n",
       "      <th>High</th>\n",
       "      <th>Low</th>\n",
       "      <th>Close</th>\n",
       "      <th>Adj Close</th>\n",
       "      <th>Volume</th>\n",
       "      <th>percent change</th>\n",
       "      <th>decision</th>\n",
       "    </tr>\n",
       "    <tr>\n",
       "      <th>Datetime</th>\n",
       "      <th></th>\n",
       "      <th></th>\n",
       "      <th></th>\n",
       "      <th></th>\n",
       "      <th></th>\n",
       "      <th></th>\n",
       "      <th></th>\n",
       "      <th></th>\n",
       "    </tr>\n",
       "  </thead>\n",
       "  <tbody>\n",
       "    <tr>\n",
       "      <th>2018-06-18 09:30:00-04:00</th>\n",
       "      <td>184.272507</td>\n",
       "      <td>185.220001</td>\n",
       "      <td>184.009995</td>\n",
       "      <td>185.199997</td>\n",
       "      <td>185.199997</td>\n",
       "      <td>0</td>\n",
       "      <td>-0.005033</td>\n",
       "      <td>0</td>\n",
       "    </tr>\n",
       "    <tr>\n",
       "      <th>2018-06-18 10:30:00-04:00</th>\n",
       "      <td>185.470200</td>\n",
       "      <td>186.350006</td>\n",
       "      <td>185.470200</td>\n",
       "      <td>186.070007</td>\n",
       "      <td>186.070007</td>\n",
       "      <td>10589</td>\n",
       "      <td>-0.003234</td>\n",
       "      <td>0</td>\n",
       "    </tr>\n",
       "    <tr>\n",
       "      <th>2018-06-18 11:30:00-04:00</th>\n",
       "      <td>186.119995</td>\n",
       "      <td>186.210007</td>\n",
       "      <td>185.830002</td>\n",
       "      <td>185.830002</td>\n",
       "      <td>185.830002</td>\n",
       "      <td>12388</td>\n",
       "      <td>0.001558</td>\n",
       "      <td>0</td>\n",
       "    </tr>\n",
       "    <tr>\n",
       "      <th>2018-06-18 12:30:00-04:00</th>\n",
       "      <td>185.869904</td>\n",
       "      <td>186.229996</td>\n",
       "      <td>185.779999</td>\n",
       "      <td>186.229996</td>\n",
       "      <td>186.229996</td>\n",
       "      <td>14237</td>\n",
       "      <td>-0.001937</td>\n",
       "      <td>0</td>\n",
       "    </tr>\n",
       "    <tr>\n",
       "      <th>2018-06-18 13:30:00-04:00</th>\n",
       "      <td>186.199997</td>\n",
       "      <td>186.429993</td>\n",
       "      <td>186.159500</td>\n",
       "      <td>186.429993</td>\n",
       "      <td>186.429993</td>\n",
       "      <td>9214</td>\n",
       "      <td>-0.001235</td>\n",
       "      <td>0</td>\n",
       "    </tr>\n",
       "  </tbody>\n",
       "</table>\n",
       "</div>"
      ],
      "text/plain": [
       "                                 Open        High         Low       Close  \\\n",
       "Datetime                                                                    \n",
       "2018-06-18 09:30:00-04:00  184.272507  185.220001  184.009995  185.199997   \n",
       "2018-06-18 10:30:00-04:00  185.470200  186.350006  185.470200  186.070007   \n",
       "2018-06-18 11:30:00-04:00  186.119995  186.210007  185.830002  185.830002   \n",
       "2018-06-18 12:30:00-04:00  185.869904  186.229996  185.779999  186.229996   \n",
       "2018-06-18 13:30:00-04:00  186.199997  186.429993  186.159500  186.429993   \n",
       "\n",
       "                            Adj Close  Volume  percent change  decision  \n",
       "Datetime                                                                 \n",
       "2018-06-18 09:30:00-04:00  185.199997       0       -0.005033         0  \n",
       "2018-06-18 10:30:00-04:00  186.070007   10589       -0.003234         0  \n",
       "2018-06-18 11:30:00-04:00  185.830002   12388        0.001558         0  \n",
       "2018-06-18 12:30:00-04:00  186.229996   14237       -0.001937         0  \n",
       "2018-06-18 13:30:00-04:00  186.429993    9214       -0.001235         0  "
      ]
     },
     "execution_count": 16,
     "metadata": {},
     "output_type": "execute_result"
    }
   ],
   "source": [
    "stock_df_one_off['decision'] = decisions\n",
    "stock_df_one_off.head()"
   ]
  },
  {
   "cell_type": "code",
   "execution_count": 17,
   "metadata": {},
   "outputs": [
    {
     "data": {
      "text/plain": [
       "0    3961\n",
       "1      89\n",
       "Name: decision, dtype: int64"
      ]
     },
     "execution_count": 17,
     "metadata": {},
     "output_type": "execute_result"
    }
   ],
   "source": [
    "stock_df_one_off.decision.value_counts() # there is an inablance between 0's and 1's"
   ]
  },
  {
   "cell_type": "markdown",
   "metadata": {},
   "source": [
    "### Balance the 0's and 1's"
   ]
  },
  {
   "cell_type": "code",
   "execution_count": 18,
   "metadata": {},
   "outputs": [
    {
     "data": {
      "text/plain": [
       "89"
      ]
     },
     "execution_count": 18,
     "metadata": {},
     "output_type": "execute_result"
    }
   ],
   "source": [
    "ones = stock_df_one_off.decision.value_counts()[1]\n",
    "ones"
   ]
  },
  {
   "cell_type": "code",
   "execution_count": 19,
   "metadata": {},
   "outputs": [],
   "source": [
    "stock_df_bal = stock_df_one_off.groupby('decision').apply(lambda x: x.sample(n=ones)).reset_index(drop=True)"
   ]
  },
  {
   "cell_type": "code",
   "execution_count": 20,
   "metadata": {},
   "outputs": [
    {
     "data": {
      "text/plain": [
       "(178, 8)"
      ]
     },
     "execution_count": 20,
     "metadata": {},
     "output_type": "execute_result"
    }
   ],
   "source": [
    "stock_df_bal.shape"
   ]
  },
  {
   "cell_type": "code",
   "execution_count": 21,
   "metadata": {},
   "outputs": [
    {
     "data": {
      "text/plain": [
       "1    89\n",
       "0    89\n",
       "Name: decision, dtype: int64"
      ]
     },
     "execution_count": 21,
     "metadata": {},
     "output_type": "execute_result"
    }
   ],
   "source": [
    "stock_df_bal.decision.value_counts()"
   ]
  },
  {
   "cell_type": "markdown",
   "metadata": {},
   "source": [
    "### Check for NaN's"
   ]
  },
  {
   "cell_type": "code",
   "execution_count": 22,
   "metadata": {
    "scrolled": true
   },
   "outputs": [
    {
     "data": {
      "text/plain": [
       "Open              0\n",
       "High              0\n",
       "Low               0\n",
       "Close             0\n",
       "Adj Close         0\n",
       "Volume            0\n",
       "percent change    0\n",
       "decision          0\n",
       "dtype: int64"
      ]
     },
     "execution_count": 22,
     "metadata": {},
     "output_type": "execute_result"
    }
   ],
   "source": [
    "stock_df_bal.isna().sum()"
   ]
  },
  {
   "cell_type": "code",
   "execution_count": 23,
   "metadata": {
    "scrolled": true
   },
   "outputs": [],
   "source": [
    "stock_df_bal.dropna(axis=0, inplace=True)"
   ]
  },
  {
   "cell_type": "code",
   "execution_count": 24,
   "metadata": {},
   "outputs": [
    {
     "data": {
      "text/plain": [
       "Open              0\n",
       "High              0\n",
       "Low               0\n",
       "Close             0\n",
       "Adj Close         0\n",
       "Volume            0\n",
       "percent change    0\n",
       "decision          0\n",
       "dtype: int64"
      ]
     },
     "execution_count": 24,
     "metadata": {},
     "output_type": "execute_result"
    }
   ],
   "source": [
    "stock_df_bal.isna().sum()"
   ]
  },
  {
   "cell_type": "markdown",
   "metadata": {},
   "source": [
    "### Train Test Split"
   ]
  },
  {
   "cell_type": "code",
   "execution_count": 25,
   "metadata": {},
   "outputs": [],
   "source": [
    "X = stock_df_bal.drop(columns=['percent change', 'decision']) # get columns other than decision\n",
    "y = stock_df_bal['decision'] # get decision column"
   ]
  },
  {
   "cell_type": "code",
   "execution_count": 26,
   "metadata": {},
   "outputs": [],
   "source": [
    "X_train, X_test, y_train, y_test = train_test_split(X\n",
    "                                                    , y\n",
    "                                                    , test_size=0.20\n",
    "                                                    , random_state = 42\n",
    "                                                   )"
   ]
  },
  {
   "cell_type": "markdown",
   "metadata": {},
   "source": [
    "### Random Forest Classifier"
   ]
  },
  {
   "cell_type": "code",
   "execution_count": 27,
   "metadata": {},
   "outputs": [
    {
     "name": "stderr",
     "output_type": "stream",
     "text": [
      "[Parallel(n_jobs=-1)]: Using backend ThreadingBackend with 8 concurrent workers.\n",
      "[Parallel(n_jobs=-1)]: Done  34 tasks      | elapsed:    0.1s\n",
      "[Parallel(n_jobs=-1)]: Done  85 out of  85 | elapsed:    0.1s finished\n",
      "[Parallel(n_jobs=8)]: Using backend ThreadingBackend with 8 concurrent workers.\n",
      "[Parallel(n_jobs=8)]: Done  34 tasks      | elapsed:    0.0s\n",
      "[Parallel(n_jobs=8)]: Done  85 out of  85 | elapsed:    0.0s finished\n",
      "[Parallel(n_jobs=8)]: Using backend ThreadingBackend with 8 concurrent workers.\n",
      "[Parallel(n_jobs=8)]: Done  34 tasks      | elapsed:    0.0s\n",
      "[Parallel(n_jobs=8)]: Done  85 out of  85 | elapsed:    0.0s finished\n"
     ]
    }
   ],
   "source": [
    "rfc = RandomForestClassifier(n_estimators = int(perc_train * len(X_train)) # odd number \n",
    "                             , random_state = 42\n",
    "                             , verbose=1\n",
    "                             , n_jobs = -1 # access all of your processor cores Lenovo P50 i7-6820HQ 2.7GHz\n",
    "                            )\n",
    "\n",
    "rfc.fit(X_train, y_train)\n",
    "\n",
    "y_pred = rfc.predict(X_test)\n",
    "\n",
    "y_probs = rfc.predict_proba(X_test)[:, 1]"
   ]
  },
  {
   "cell_type": "markdown",
   "metadata": {},
   "source": [
    "### Measures of Performances: Receiver Operating Characteristic (ROC) Curve"
   ]
  },
  {
   "cell_type": "code",
   "execution_count": 28,
   "metadata": {},
   "outputs": [
    {
     "data": {
      "text/plain": [
       "0.6811145510835913"
      ]
     },
     "execution_count": 28,
     "metadata": {},
     "output_type": "execute_result"
    }
   ],
   "source": [
    "roc_value = roc_auc_score(y_test\n",
    "                          , y_probs\n",
    "                         )\n",
    "roc_value"
   ]
  },
  {
   "cell_type": "code",
   "execution_count": 29,
   "metadata": {},
   "outputs": [
    {
     "data": {
      "image/png": "[encoded data removed]",
      "text/plain": [
       "<Figure size 720x504 with 1 Axes>"
      ]
     },
     "metadata": {},
     "output_type": "display_data"
    }
   ],
   "source": [
    "plt.rcParams['font.size'] = 16\n",
    "base_fpr, base_tpr, _ = roc_curve(y_test, [1 for _ in range(len(y_test))])\n",
    "model_fpr, model_tpr, _ = roc_curve(y_test, y_probs)\n",
    "\n",
    "plt.figure(figsize=(10,7))\n",
    "plt.plot(base_fpr, base_tpr, 'b', label='No Skill')\n",
    "plt.plot(model_fpr, model_tpr, 'r', label='RFC Model')\n",
    "plt.legend()\n",
    "plt.xlabel('False Positive Rate')\n",
    "plt.ylabel('True Positive Rate')\n",
    "plt.title(f'{symbol} ROC Curve, Accuracy: {round(roc_value, 3)}');"
   ]
  },
  {
   "cell_type": "markdown",
   "metadata": {},
   "source": [
    "### Measures of Performance: Confusion Matrix"
   ]
  },
  {
   "cell_type": "code",
   "execution_count": 30,
   "metadata": {},
   "outputs": [
    {
     "name": "stderr",
     "output_type": "stream",
     "text": [
      "[Parallel(n_jobs=8)]: Using backend ThreadingBackend with 8 concurrent workers.\n",
      "[Parallel(n_jobs=8)]: Done  34 tasks      | elapsed:    0.0s\n",
      "[Parallel(n_jobs=8)]: Done  85 out of  85 | elapsed:    0.0s finished\n"
     ]
    },
    {
     "data": {
      "image/png": "[encoded data removed]",
      "text/plain": [
       "<Figure size 360x288 with 2 Axes>"
      ]
     },
     "metadata": {},
     "output_type": "display_data"
    }
   ],
   "source": [
    "plt.rcParams['figure.figsize'] = (5, 4)\n",
    "plt.rcParams['font.size'] = 16\n",
    "disp = plot_confusion_matrix(rfc\n",
    "                           , X_test\n",
    "                           , y_test\n",
    "                           , cmap=plt.cm.Blues\n",
    "                           , normalize='true'\n",
    "                     )\n",
    "disp.ax_.grid(False)\n",
    "disp.ax_.set_title(f'{symbol} Decision Confusion Matrix');"
   ]
  },
  {
   "cell_type": "markdown",
   "metadata": {},
   "source": [
    "### Measures of Performance: Precision Recall Curve"
   ]
  },
  {
   "cell_type": "code",
   "execution_count": 31,
   "metadata": {},
   "outputs": [
    {
     "data": {
      "image/png": "[encoded data removed]",
      "text/plain": [
       "<Figure size 720x576 with 1 Axes>"
      ]
     },
     "metadata": {},
     "output_type": "display_data"
    }
   ],
   "source": [
    "plt.rcParams['font.size'] = 16\n",
    "plt.rcParams['figure.figsize'] = (10,8)\n",
    "rf_prec, rf_recall, _ = precision_recall_curve(y_test, y_probs)\n",
    "plt.plot([0, 0], linestyle = '--', color = 'b', label='No Skill')\n",
    "plt.plot(rf_recall, rf_prec, color='r', label='Random Forest')\n",
    "plt.xlabel('Recall')\n",
    "plt.ylabel('Precision')\n",
    "plt.legend()\n",
    "plt.title(f'{symbol} Precision-Recall Curve, Accuracy: {round(auc(rf_recall, rf_prec), 3)}');"
   ]
  },
  {
   "cell_type": "markdown",
   "metadata": {},
   "source": [
    "### Measure of Performance: Feature Importances"
   ]
  },
  {
   "cell_type": "code",
   "execution_count": 32,
   "metadata": {},
   "outputs": [
    {
     "data": {
      "text/html": [
       "<div>\n",
       "<style scoped>\n",
       "    .dataframe tbody tr th:only-of-type {\n",
       "        vertical-align: middle;\n",
       "    }\n",
       "\n",
       "    .dataframe tbody tr th {\n",
       "        vertical-align: top;\n",
       "    }\n",
       "\n",
       "    .dataframe thead th {\n",
       "        text-align: right;\n",
       "    }\n",
       "</style>\n",
       "<table border=\"1\" class=\"dataframe\">\n",
       "  <thead>\n",
       "    <tr style=\"text-align: right;\">\n",
       "      <th></th>\n",
       "      <th>feature</th>\n",
       "      <th>importances</th>\n",
       "    </tr>\n",
       "  </thead>\n",
       "  <tbody>\n",
       "    <tr>\n",
       "      <th>5</th>\n",
       "      <td>Volume</td>\n",
       "      <td>0.247985</td>\n",
       "    </tr>\n",
       "    <tr>\n",
       "      <th>0</th>\n",
       "      <td>Open</td>\n",
       "      <td>0.165613</td>\n",
       "    </tr>\n",
       "    <tr>\n",
       "      <th>3</th>\n",
       "      <td>Close</td>\n",
       "      <td>0.151098</td>\n",
       "    </tr>\n",
       "    <tr>\n",
       "      <th>4</th>\n",
       "      <td>Adj Close</td>\n",
       "      <td>0.147393</td>\n",
       "    </tr>\n",
       "    <tr>\n",
       "      <th>2</th>\n",
       "      <td>Low</td>\n",
       "      <td>0.144968</td>\n",
       "    </tr>\n",
       "    <tr>\n",
       "      <th>1</th>\n",
       "      <td>High</td>\n",
       "      <td>0.142943</td>\n",
       "    </tr>\n",
       "  </tbody>\n",
       "</table>\n",
       "</div>"
      ],
      "text/plain": [
       "     feature  importances\n",
       "5     Volume     0.247985\n",
       "0       Open     0.165613\n",
       "3      Close     0.151098\n",
       "4  Adj Close     0.147393\n",
       "2        Low     0.144968\n",
       "1       High     0.142943"
      ]
     },
     "execution_count": 32,
     "metadata": {},
     "output_type": "execute_result"
    }
   ],
   "source": [
    "feature_df = pd.DataFrame({'feature': X_train.columns\n",
    "                           , 'importances': rfc.feature_importances_\n",
    "                          }).sort_values('importances', ascending=False)\n",
    "feature_df"
   ]
  },
  {
   "cell_type": "code",
   "execution_count": 33,
   "metadata": {
    "scrolled": true
   },
   "outputs": [
    {
     "data": {
      "text/html": [
       "<div>\n",
       "<style scoped>\n",
       "    .dataframe tbody tr th:only-of-type {\n",
       "        vertical-align: middle;\n",
       "    }\n",
       "\n",
       "    .dataframe tbody tr th {\n",
       "        vertical-align: top;\n",
       "    }\n",
       "\n",
       "    .dataframe thead th {\n",
       "        text-align: right;\n",
       "    }\n",
       "</style>\n",
       "<table border=\"1\" class=\"dataframe\">\n",
       "  <thead>\n",
       "    <tr style=\"text-align: right;\">\n",
       "      <th></th>\n",
       "      <th>Open</th>\n",
       "      <th>High</th>\n",
       "      <th>Low</th>\n",
       "      <th>Close</th>\n",
       "      <th>Adj Close</th>\n",
       "      <th>Volume</th>\n",
       "      <th>percent change</th>\n",
       "      <th>decision</th>\n",
       "    </tr>\n",
       "  </thead>\n",
       "  <tbody>\n",
       "    <tr>\n",
       "      <th>0</th>\n",
       "      <td>197.009995</td>\n",
       "      <td>197.600006</td>\n",
       "      <td>197.000000</td>\n",
       "      <td>197.327896</td>\n",
       "      <td>197.327896</td>\n",
       "      <td>12160</td>\n",
       "      <td>-0.001614</td>\n",
       "      <td>0</td>\n",
       "    </tr>\n",
       "    <tr>\n",
       "      <th>1</th>\n",
       "      <td>189.322800</td>\n",
       "      <td>189.330002</td>\n",
       "      <td>189.074600</td>\n",
       "      <td>189.117096</td>\n",
       "      <td>189.117096</td>\n",
       "      <td>4770</td>\n",
       "      <td>0.001087</td>\n",
       "      <td>0</td>\n",
       "    </tr>\n",
       "    <tr>\n",
       "      <th>2</th>\n",
       "      <td>207.009995</td>\n",
       "      <td>207.140594</td>\n",
       "      <td>206.850006</td>\n",
       "      <td>206.850006</td>\n",
       "      <td>206.850006</td>\n",
       "      <td>2481</td>\n",
       "      <td>0.000773</td>\n",
       "      <td>0</td>\n",
       "    </tr>\n",
       "    <tr>\n",
       "      <th>3</th>\n",
       "      <td>205.699997</td>\n",
       "      <td>206.039993</td>\n",
       "      <td>205.699493</td>\n",
       "      <td>205.960007</td>\n",
       "      <td>205.960007</td>\n",
       "      <td>5086</td>\n",
       "      <td>-0.001264</td>\n",
       "      <td>0</td>\n",
       "    </tr>\n",
       "    <tr>\n",
       "      <th>4</th>\n",
       "      <td>236.500000</td>\n",
       "      <td>236.910000</td>\n",
       "      <td>236.500000</td>\n",
       "      <td>236.910000</td>\n",
       "      <td>236.910000</td>\n",
       "      <td>0</td>\n",
       "      <td>-0.001734</td>\n",
       "      <td>0</td>\n",
       "    </tr>\n",
       "  </tbody>\n",
       "</table>\n",
       "</div>"
      ],
      "text/plain": [
       "         Open        High         Low       Close   Adj Close  Volume  \\\n",
       "0  197.009995  197.600006  197.000000  197.327896  197.327896   12160   \n",
       "1  189.322800  189.330002  189.074600  189.117096  189.117096    4770   \n",
       "2  207.009995  207.140594  206.850006  206.850006  206.850006    2481   \n",
       "3  205.699997  206.039993  205.699493  205.960007  205.960007    5086   \n",
       "4  236.500000  236.910000  236.500000  236.910000  236.910000       0   \n",
       "\n",
       "   percent change  decision  \n",
       "0       -0.001614         0  \n",
       "1        0.001087         0  \n",
       "2        0.000773         0  \n",
       "3       -0.001264         0  \n",
       "4       -0.001734         0  "
      ]
     },
     "execution_count": 33,
     "metadata": {},
     "output_type": "execute_result"
    }
   ],
   "source": [
    "stock_df_bal.head()"
   ]
  },
  {
   "cell_type": "markdown",
   "metadata": {},
   "source": [
    "### Make A Prediction"
   ]
  },
  {
   "cell_type": "code",
   "execution_count": 34,
   "metadata": {},
   "outputs": [
    {
     "data": {
      "text/plain": [
       "Open         264.390015\n",
       "High         264.390015\n",
       "Low          264.390015\n",
       "Close        264.390015\n",
       "Adj Close    264.390015\n",
       "Volume         0.000000\n",
       "Name: 2020-06-18 09:53:41-04:00, dtype: float64"
      ]
     },
     "execution_count": 34,
     "metadata": {},
     "output_type": "execute_result"
    }
   ],
   "source": [
    "last = stock_df[['Open', 'High', 'Low', 'Close', 'Adj Close', 'Volume']].iloc[-1]\n",
    "last"
   ]
  },
  {
   "cell_type": "code",
   "execution_count": 35,
   "metadata": {},
   "outputs": [
    {
     "name": "stdout",
     "output_type": "stream",
     "text": [
      "Sell or hold IYW on the 60m interval.\n"
     ]
    },
    {
     "name": "stderr",
     "output_type": "stream",
     "text": [
      "[Parallel(n_jobs=8)]: Using backend ThreadingBackend with 8 concurrent workers.\n",
      "[Parallel(n_jobs=8)]: Done  34 tasks      | elapsed:    0.0s\n",
      "[Parallel(n_jobs=8)]: Done  85 out of  85 | elapsed:    0.0s finished\n"
     ]
    }
   ],
   "source": [
    "if rfc.predict(np.array(last).reshape(1, -1))[0] == 1:\n",
    "    print(f'Buy {symbol} on the {interval} interval for {round(perc_inc *100)}% increase.')\n",
    "else:\n",
    "    print(f'Sell or hold {symbol} on the {interval} interval.')"
   ]
  },
  {
   "cell_type": "code",
   "execution_count": null,
   "metadata": {},
   "outputs": [],
   "source": []
  },
  {
   "cell_type": "code",
   "execution_count": null,
   "metadata": {},
   "outputs": [],
   "source": []
  },
  {
   "cell_type": "code",
   "execution_count": null,
   "metadata": {},
   "outputs": [],
   "source": []
  },
  {
   "cell_type": "code",
   "execution_count": null,
   "metadata": {},
   "outputs": [],
   "source": []
  },
  {
   "cell_type": "markdown",
   "metadata": {},
   "source": [
    "# "
   ]
  }
 ],
 "metadata": {
  "kernelspec": {
   "display_name": "Python 3",
   "language": "python",
   "name": "python3"
  },
  "language_info": {
   "codemirror_mode": {
    "name": "ipython",
    "version": 3
   },
   "file_extension": ".py",
   "mimetype": "text/x-python",
   "name": "python",
   "nbconvert_exporter": "python",
   "pygments_lexer": "ipython3",
   "version": "3.7.5"
  }
 },
 "nbformat": 4,
 "nbformat_minor": 4
}
