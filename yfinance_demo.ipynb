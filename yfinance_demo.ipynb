{
 "cells": [
  {
   "cell_type": "markdown",
   "metadata": {},
   "source": [
    "## yfinance Library Demo"
   ]
  },
  {
   "cell_type": "markdown",
   "metadata": {},
   "source": [
    "### Disclaimers:"
   ]
  },
  {
   "cell_type": "markdown",
   "metadata": {},
   "source": [
    "Trading stocks has it's own inherent risks. Trade at your own discretion. \n",
    "<br />\n",
    "\n",
    "The predictions from the model is best thought of as correlations rather than causations.  "
   ]
  },
  {
   "cell_type": "markdown",
   "metadata": {},
   "source": [
    "### Overview:"
   ]
  },
  {
   "cell_type": "markdown",
   "metadata": {},
   "source": [
    "This notebook provides a random forest classifier model that predicts the direction of movement of a secruity in the next time interval.\n",
    "<br />\n",
    "\n",
    "The prediction is only for directions up 1 or down 0. "
   ]
  },
  {
   "cell_type": "markdown",
   "metadata": {},
   "source": [
    "### Imports: "
   ]
  },
  {
   "cell_type": "code",
   "execution_count": 1,
   "metadata": {},
   "outputs": [],
   "source": [
    "import pandas as pd\n",
    "import numpy as np\n",
    "\n",
    "import matplotlib.pyplot as plt\n",
    "plt.rcParams['font.size'] = 12\n",
    "plt.rcParams['figure.figsize'] = (8, 7)\n",
    "plt.style.use('fivethirtyeight')\n",
    "\n",
    "import warnings\n",
    "warnings.filterwarnings('ignore')\n",
    "\n",
    "import yfinance as yf\n",
    "\n",
    "from sklearn.model_selection import train_test_split\n",
    "from sklearn.ensemble import RandomForestClassifier\n",
    "from sklearn.metrics import (roc_auc_score\n",
    "                             , precision_score\n",
    "                             , recall_score\n",
    "                             , roc_curve\n",
    "                             , confusion_matrix\n",
    "                             , plot_confusion_matrix\n",
    "                             , precision_recall_curve\n",
    "                             , auc\n",
    "                            )"
   ]
  },
  {
   "cell_type": "markdown",
   "metadata": {},
   "source": [
    "### Global Variables:"
   ]
  },
  {
   "cell_type": "code",
   "execution_count": 2,
   "metadata": {},
   "outputs": [],
   "source": [
    "# yfinance automatically pull data up to the current time, unless specified \n",
    "\n",
    "# month = '06' # month and date not necessary if using fix period, see next cell\n",
    "# date = '15'\n",
    "\n",
    "# sf_hour = 13 # 6 to 13 military time in PST\n",
    "# ny_hour = 4 # 9 to 16 military time in EST\n",
    "\n",
    "# valid intervals: 1m,2m,5m,15m,30m,60m,90m,1h,1d,5d,1wk,1mo,3mo\n",
    "interval = '60m'\n",
    "\n",
    "# time span of data e.g. 2y for 60m, 10y for 1d\n",
    "period = '2y'\n",
    "\n",
    "perc_inc = 0.01 # 1 percent increase from hour to hour or any time period\n",
    "\n",
    "# start = '2018-07-01'\n",
    "\n",
    "# end = '2020-' + month + '-' + date\n",
    "\n",
    "symbol = 'VGT' # ITOT iShares TOTAL Market ETF stock\n",
    "\n",
    "perc_train = 0.25 # percent of train set"
   ]
  },
  {
   "cell_type": "markdown",
   "metadata": {},
   "source": [
    "### Yahoo Finance"
   ]
  },
  {
   "cell_type": "code",
   "execution_count": 3,
   "metadata": {},
   "outputs": [
    {
     "name": "stdout",
     "output_type": "stream",
     "text": [
      "[*********************100%***********************]  1 of 1 completed\n"
     ]
    }
   ],
   "source": [
    "stock_df = yf.download(tickers = symbol # symbol of stock \n",
    "                       \n",
    "                       , period = period\n",
    "                       \n",
    "                       , interval = interval # time periods of subinterval e.g. 1m or 1hr\n",
    "                       \n",
    "                       # , start = start # start date, time\n",
    "                       \n",
    "                       # , end = end # end date, time\n",
    "                       \n",
    "                       , prepost = True # pre/post market data\n",
    "                      )"
   ]
  },
  {
   "cell_type": "code",
   "execution_count": 4,
   "metadata": {},
   "outputs": [
    {
     "data": {
      "text/html": [
       "<div>\n",
       "<style scoped>\n",
       "    .dataframe tbody tr th:only-of-type {\n",
       "        vertical-align: middle;\n",
       "    }\n",
       "\n",
       "    .dataframe tbody tr th {\n",
       "        vertical-align: top;\n",
       "    }\n",
       "\n",
       "    .dataframe thead th {\n",
       "        text-align: right;\n",
       "    }\n",
       "</style>\n",
       "<table border=\"1\" class=\"dataframe\">\n",
       "  <thead>\n",
       "    <tr style=\"text-align: right;\">\n",
       "      <th></th>\n",
       "      <th>Open</th>\n",
       "      <th>High</th>\n",
       "      <th>Low</th>\n",
       "      <th>Close</th>\n",
       "      <th>Adj Close</th>\n",
       "      <th>Volume</th>\n",
       "    </tr>\n",
       "    <tr>\n",
       "      <th>Datetime</th>\n",
       "      <th></th>\n",
       "      <th></th>\n",
       "      <th></th>\n",
       "      <th></th>\n",
       "      <th></th>\n",
       "      <th></th>\n",
       "    </tr>\n",
       "  </thead>\n",
       "  <tbody>\n",
       "    <tr>\n",
       "      <th>2018-06-19 10:30:00-04:00</th>\n",
       "      <td>185.600006</td>\n",
       "      <td>186.959900</td>\n",
       "      <td>185.529999</td>\n",
       "      <td>186.910004</td>\n",
       "      <td>186.910004</td>\n",
       "      <td>0</td>\n",
       "    </tr>\n",
       "    <tr>\n",
       "      <th>2018-06-19 11:30:00-04:00</th>\n",
       "      <td>187.039200</td>\n",
       "      <td>187.309998</td>\n",
       "      <td>186.800003</td>\n",
       "      <td>187.149902</td>\n",
       "      <td>187.149902</td>\n",
       "      <td>51175</td>\n",
       "    </tr>\n",
       "    <tr>\n",
       "      <th>2018-06-19 12:30:00-04:00</th>\n",
       "      <td>187.080002</td>\n",
       "      <td>187.189896</td>\n",
       "      <td>186.889999</td>\n",
       "      <td>187.059998</td>\n",
       "      <td>187.059998</td>\n",
       "      <td>36429</td>\n",
       "    </tr>\n",
       "    <tr>\n",
       "      <th>2018-06-19 13:30:00-04:00</th>\n",
       "      <td>186.949997</td>\n",
       "      <td>187.787399</td>\n",
       "      <td>186.949997</td>\n",
       "      <td>187.680099</td>\n",
       "      <td>187.680099</td>\n",
       "      <td>59515</td>\n",
       "    </tr>\n",
       "    <tr>\n",
       "      <th>2018-06-19 14:30:00-04:00</th>\n",
       "      <td>187.753006</td>\n",
       "      <td>187.953293</td>\n",
       "      <td>187.487503</td>\n",
       "      <td>187.487503</td>\n",
       "      <td>187.487503</td>\n",
       "      <td>50534</td>\n",
       "    </tr>\n",
       "  </tbody>\n",
       "</table>\n",
       "</div>"
      ],
      "text/plain": [
       "                                 Open        High         Low       Close  \\\n",
       "Datetime                                                                    \n",
       "2018-06-19 10:30:00-04:00  185.600006  186.959900  185.529999  186.910004   \n",
       "2018-06-19 11:30:00-04:00  187.039200  187.309998  186.800003  187.149902   \n",
       "2018-06-19 12:30:00-04:00  187.080002  187.189896  186.889999  187.059998   \n",
       "2018-06-19 13:30:00-04:00  186.949997  187.787399  186.949997  187.680099   \n",
       "2018-06-19 14:30:00-04:00  187.753006  187.953293  187.487503  187.487503   \n",
       "\n",
       "                            Adj Close  Volume  \n",
       "Datetime                                       \n",
       "2018-06-19 10:30:00-04:00  186.910004       0  \n",
       "2018-06-19 11:30:00-04:00  187.149902   51175  \n",
       "2018-06-19 12:30:00-04:00  187.059998   36429  \n",
       "2018-06-19 13:30:00-04:00  187.680099   59515  \n",
       "2018-06-19 14:30:00-04:00  187.487503   50534  "
      ]
     },
     "execution_count": 4,
     "metadata": {},
     "output_type": "execute_result"
    }
   ],
   "source": [
    "stock_df.head()"
   ]
  },
  {
   "cell_type": "markdown",
   "metadata": {},
   "source": [
    "### EDA of Secruity"
   ]
  },
  {
   "cell_type": "code",
   "execution_count": 5,
   "metadata": {
    "scrolled": true
   },
   "outputs": [
    {
     "data": {
      "text/html": [
       "<div>\n",
       "<style scoped>\n",
       "    .dataframe tbody tr th:only-of-type {\n",
       "        vertical-align: middle;\n",
       "    }\n",
       "\n",
       "    .dataframe tbody tr th {\n",
       "        vertical-align: top;\n",
       "    }\n",
       "\n",
       "    .dataframe thead th {\n",
       "        text-align: right;\n",
       "    }\n",
       "</style>\n",
       "<table border=\"1\" class=\"dataframe\">\n",
       "  <thead>\n",
       "    <tr style=\"text-align: right;\">\n",
       "      <th></th>\n",
       "      <th>Open</th>\n",
       "      <th>High</th>\n",
       "      <th>Low</th>\n",
       "      <th>Close</th>\n",
       "      <th>Adj Close</th>\n",
       "      <th>Volume</th>\n",
       "      <th>percent change</th>\n",
       "    </tr>\n",
       "    <tr>\n",
       "      <th>Datetime</th>\n",
       "      <th></th>\n",
       "      <th></th>\n",
       "      <th></th>\n",
       "      <th></th>\n",
       "      <th></th>\n",
       "      <th></th>\n",
       "      <th></th>\n",
       "    </tr>\n",
       "  </thead>\n",
       "  <tbody>\n",
       "    <tr>\n",
       "      <th>2018-06-19 10:30:00-04:00</th>\n",
       "      <td>185.600006</td>\n",
       "      <td>186.959900</td>\n",
       "      <td>185.529999</td>\n",
       "      <td>186.910004</td>\n",
       "      <td>186.910004</td>\n",
       "      <td>0</td>\n",
       "      <td>-0.007058</td>\n",
       "    </tr>\n",
       "    <tr>\n",
       "      <th>2018-06-19 11:30:00-04:00</th>\n",
       "      <td>187.039200</td>\n",
       "      <td>187.309998</td>\n",
       "      <td>186.800003</td>\n",
       "      <td>187.149902</td>\n",
       "      <td>187.149902</td>\n",
       "      <td>51175</td>\n",
       "      <td>-0.000592</td>\n",
       "    </tr>\n",
       "    <tr>\n",
       "      <th>2018-06-19 12:30:00-04:00</th>\n",
       "      <td>187.080002</td>\n",
       "      <td>187.189896</td>\n",
       "      <td>186.889999</td>\n",
       "      <td>187.059998</td>\n",
       "      <td>187.059998</td>\n",
       "      <td>36429</td>\n",
       "      <td>0.000107</td>\n",
       "    </tr>\n",
       "    <tr>\n",
       "      <th>2018-06-19 13:30:00-04:00</th>\n",
       "      <td>186.949997</td>\n",
       "      <td>187.787399</td>\n",
       "      <td>186.949997</td>\n",
       "      <td>187.680099</td>\n",
       "      <td>187.680099</td>\n",
       "      <td>59515</td>\n",
       "      <td>-0.003905</td>\n",
       "    </tr>\n",
       "    <tr>\n",
       "      <th>2018-06-19 14:30:00-04:00</th>\n",
       "      <td>187.753006</td>\n",
       "      <td>187.953293</td>\n",
       "      <td>187.487503</td>\n",
       "      <td>187.487503</td>\n",
       "      <td>187.487503</td>\n",
       "      <td>50534</td>\n",
       "      <td>0.001414</td>\n",
       "    </tr>\n",
       "  </tbody>\n",
       "</table>\n",
       "</div>"
      ],
      "text/plain": [
       "                                 Open        High         Low       Close  \\\n",
       "Datetime                                                                    \n",
       "2018-06-19 10:30:00-04:00  185.600006  186.959900  185.529999  186.910004   \n",
       "2018-06-19 11:30:00-04:00  187.039200  187.309998  186.800003  187.149902   \n",
       "2018-06-19 12:30:00-04:00  187.080002  187.189896  186.889999  187.059998   \n",
       "2018-06-19 13:30:00-04:00  186.949997  187.787399  186.949997  187.680099   \n",
       "2018-06-19 14:30:00-04:00  187.753006  187.953293  187.487503  187.487503   \n",
       "\n",
       "                            Adj Close  Volume  percent change  \n",
       "Datetime                                                       \n",
       "2018-06-19 10:30:00-04:00  186.910004       0       -0.007058  \n",
       "2018-06-19 11:30:00-04:00  187.149902   51175       -0.000592  \n",
       "2018-06-19 12:30:00-04:00  187.059998   36429        0.000107  \n",
       "2018-06-19 13:30:00-04:00  187.680099   59515       -0.003905  \n",
       "2018-06-19 14:30:00-04:00  187.487503   50534        0.001414  "
      ]
     },
     "execution_count": 5,
     "metadata": {},
     "output_type": "execute_result"
    }
   ],
   "source": [
    "stock_df['percent change'] = (stock_df.Open - stock_df.Close) / stock_df.Open\n",
    "stock_df.head()"
   ]
  },
  {
   "cell_type": "code",
   "execution_count": 6,
   "metadata": {
    "scrolled": true
   },
   "outputs": [
    {
     "data": {
      "image/png": "[encoded data removed]",
      "text/plain": [
       "<Figure size 576x504 with 1 Axes>"
      ]
     },
     "metadata": {},
     "output_type": "display_data"
    }
   ],
   "source": [
    "stock_df['percent change'].hist(bins=25);"
   ]
  },
  {
   "cell_type": "code",
   "execution_count": 7,
   "metadata": {},
   "outputs": [
    {
     "data": {
      "text/plain": [
       "0.84    0.002476\n",
       "Name: percent change, dtype: float64"
      ]
     },
     "execution_count": 7,
     "metadata": {},
     "output_type": "execute_result"
    }
   ],
   "source": [
    "stock_df['percent change'].quantile([0.84])"
   ]
  },
  {
   "cell_type": "markdown",
   "metadata": {},
   "source": [
    "### Assign Descisions for Up %+ or Not"
   ]
  },
  {
   "cell_type": "code",
   "execution_count": 8,
   "metadata": {},
   "outputs": [],
   "source": [
    "stock_df['decision'] = np.where((stock_df['Close'] - stock_df['Open'])/stock_df['Open'] > perc_inc\n",
    "                                \n",
    "                                , 1  # 1 if up % or greater\n",
    "                                \n",
    "                                , 0  # 0 if not up % or greater\n",
    "                                \n",
    "                               )"
   ]
  },
  {
   "cell_type": "code",
   "execution_count": 9,
   "metadata": {
    "scrolled": true
   },
   "outputs": [
    {
     "data": {
      "text/html": [
       "<div>\n",
       "<style scoped>\n",
       "    .dataframe tbody tr th:only-of-type {\n",
       "        vertical-align: middle;\n",
       "    }\n",
       "\n",
       "    .dataframe tbody tr th {\n",
       "        vertical-align: top;\n",
       "    }\n",
       "\n",
       "    .dataframe thead th {\n",
       "        text-align: right;\n",
       "    }\n",
       "</style>\n",
       "<table border=\"1\" class=\"dataframe\">\n",
       "  <thead>\n",
       "    <tr style=\"text-align: right;\">\n",
       "      <th></th>\n",
       "      <th>Open</th>\n",
       "      <th>High</th>\n",
       "      <th>Low</th>\n",
       "      <th>Close</th>\n",
       "      <th>Adj Close</th>\n",
       "      <th>Volume</th>\n",
       "      <th>percent change</th>\n",
       "      <th>decision</th>\n",
       "    </tr>\n",
       "    <tr>\n",
       "      <th>Datetime</th>\n",
       "      <th></th>\n",
       "      <th></th>\n",
       "      <th></th>\n",
       "      <th></th>\n",
       "      <th></th>\n",
       "      <th></th>\n",
       "      <th></th>\n",
       "      <th></th>\n",
       "    </tr>\n",
       "  </thead>\n",
       "  <tbody>\n",
       "    <tr>\n",
       "      <th>2020-06-17 16:00:00-04:00</th>\n",
       "      <td>272.910000</td>\n",
       "      <td>273.500000</td>\n",
       "      <td>272.900000</td>\n",
       "      <td>273.500000</td>\n",
       "      <td>273.500000</td>\n",
       "      <td>0</td>\n",
       "      <td>-0.002162</td>\n",
       "      <td>0</td>\n",
       "    </tr>\n",
       "    <tr>\n",
       "      <th>2020-06-18 09:30:00-04:00</th>\n",
       "      <td>272.619995</td>\n",
       "      <td>274.040009</td>\n",
       "      <td>272.010010</td>\n",
       "      <td>273.029999</td>\n",
       "      <td>273.029999</td>\n",
       "      <td>99568</td>\n",
       "      <td>-0.001504</td>\n",
       "      <td>0</td>\n",
       "    </tr>\n",
       "    <tr>\n",
       "      <th>2020-06-18 10:30:00-04:00</th>\n",
       "      <td>273.089996</td>\n",
       "      <td>274.670013</td>\n",
       "      <td>272.459991</td>\n",
       "      <td>274.269989</td>\n",
       "      <td>274.269989</td>\n",
       "      <td>74286</td>\n",
       "      <td>-0.004321</td>\n",
       "      <td>0</td>\n",
       "    </tr>\n",
       "    <tr>\n",
       "      <th>2020-06-18 11:30:00-04:00</th>\n",
       "      <td>274.220001</td>\n",
       "      <td>274.246185</td>\n",
       "      <td>273.020111</td>\n",
       "      <td>273.644989</td>\n",
       "      <td>273.644989</td>\n",
       "      <td>62028</td>\n",
       "      <td>0.002097</td>\n",
       "      <td>0</td>\n",
       "    </tr>\n",
       "    <tr>\n",
       "      <th>2020-06-18 12:30:00-04:00</th>\n",
       "      <td>273.700012</td>\n",
       "      <td>273.940613</td>\n",
       "      <td>273.350006</td>\n",
       "      <td>273.790009</td>\n",
       "      <td>273.790009</td>\n",
       "      <td>93369</td>\n",
       "      <td>-0.000329</td>\n",
       "      <td>0</td>\n",
       "    </tr>\n",
       "    <tr>\n",
       "      <th>2020-06-18 13:30:00-04:00</th>\n",
       "      <td>273.720001</td>\n",
       "      <td>274.279999</td>\n",
       "      <td>273.250000</td>\n",
       "      <td>273.600006</td>\n",
       "      <td>273.600006</td>\n",
       "      <td>99289</td>\n",
       "      <td>0.000438</td>\n",
       "      <td>0</td>\n",
       "    </tr>\n",
       "    <tr>\n",
       "      <th>2020-06-18 14:30:00-04:00</th>\n",
       "      <td>273.559998</td>\n",
       "      <td>274.000000</td>\n",
       "      <td>272.670013</td>\n",
       "      <td>273.380005</td>\n",
       "      <td>273.380005</td>\n",
       "      <td>139671</td>\n",
       "      <td>0.000658</td>\n",
       "      <td>0</td>\n",
       "    </tr>\n",
       "    <tr>\n",
       "      <th>2020-06-18 15:30:00-04:00</th>\n",
       "      <td>273.429993</td>\n",
       "      <td>274.579987</td>\n",
       "      <td>273.230011</td>\n",
       "      <td>274.559998</td>\n",
       "      <td>274.559998</td>\n",
       "      <td>95222</td>\n",
       "      <td>-0.004133</td>\n",
       "      <td>0</td>\n",
       "    </tr>\n",
       "    <tr>\n",
       "      <th>2020-06-18 16:00:00-04:00</th>\n",
       "      <td>274.400000</td>\n",
       "      <td>274.400000</td>\n",
       "      <td>274.400000</td>\n",
       "      <td>274.400000</td>\n",
       "      <td>274.400000</td>\n",
       "      <td>0</td>\n",
       "      <td>0.000000</td>\n",
       "      <td>0</td>\n",
       "    </tr>\n",
       "    <tr>\n",
       "      <th>2020-06-18 17:00:00-04:00</th>\n",
       "      <td>274.400000</td>\n",
       "      <td>274.400000</td>\n",
       "      <td>274.400000</td>\n",
       "      <td>274.400000</td>\n",
       "      <td>274.400000</td>\n",
       "      <td>0</td>\n",
       "      <td>0.000000</td>\n",
       "      <td>0</td>\n",
       "    </tr>\n",
       "    <tr>\n",
       "      <th>2020-06-18 19:00:00-04:00</th>\n",
       "      <td>274.400000</td>\n",
       "      <td>274.400000</td>\n",
       "      <td>274.400000</td>\n",
       "      <td>274.400000</td>\n",
       "      <td>274.400000</td>\n",
       "      <td>0</td>\n",
       "      <td>0.000000</td>\n",
       "      <td>0</td>\n",
       "    </tr>\n",
       "    <tr>\n",
       "      <th>2020-06-19 08:00:00-04:00</th>\n",
       "      <td>276.500000</td>\n",
       "      <td>276.500000</td>\n",
       "      <td>276.500000</td>\n",
       "      <td>276.500000</td>\n",
       "      <td>276.500000</td>\n",
       "      <td>0</td>\n",
       "      <td>0.000000</td>\n",
       "      <td>0</td>\n",
       "    </tr>\n",
       "    <tr>\n",
       "      <th>2020-06-19 09:30:00-04:00</th>\n",
       "      <td>277.720001</td>\n",
       "      <td>278.019989</td>\n",
       "      <td>277.119995</td>\n",
       "      <td>277.470001</td>\n",
       "      <td>277.470001</td>\n",
       "      <td>139643</td>\n",
       "      <td>0.000900</td>\n",
       "      <td>0</td>\n",
       "    </tr>\n",
       "    <tr>\n",
       "      <th>2020-06-19 10:30:00-04:00</th>\n",
       "      <td>277.299988</td>\n",
       "      <td>277.390015</td>\n",
       "      <td>276.454987</td>\n",
       "      <td>276.750000</td>\n",
       "      <td>276.750000</td>\n",
       "      <td>35525</td>\n",
       "      <td>0.001983</td>\n",
       "      <td>0</td>\n",
       "    </tr>\n",
       "    <tr>\n",
       "      <th>2020-06-19 11:03:22-04:00</th>\n",
       "      <td>276.809998</td>\n",
       "      <td>276.809998</td>\n",
       "      <td>276.809998</td>\n",
       "      <td>276.809998</td>\n",
       "      <td>276.809998</td>\n",
       "      <td>0</td>\n",
       "      <td>0.000000</td>\n",
       "      <td>0</td>\n",
       "    </tr>\n",
       "  </tbody>\n",
       "</table>\n",
       "</div>"
      ],
      "text/plain": [
       "                                 Open        High         Low       Close  \\\n",
       "Datetime                                                                    \n",
       "2020-06-17 16:00:00-04:00  272.910000  273.500000  272.900000  273.500000   \n",
       "2020-06-18 09:30:00-04:00  272.619995  274.040009  272.010010  273.029999   \n",
       "2020-06-18 10:30:00-04:00  273.089996  274.670013  272.459991  274.269989   \n",
       "2020-06-18 11:30:00-04:00  274.220001  274.246185  273.020111  273.644989   \n",
       "2020-06-18 12:30:00-04:00  273.700012  273.940613  273.350006  273.790009   \n",
       "2020-06-18 13:30:00-04:00  273.720001  274.279999  273.250000  273.600006   \n",
       "2020-06-18 14:30:00-04:00  273.559998  274.000000  272.670013  273.380005   \n",
       "2020-06-18 15:30:00-04:00  273.429993  274.579987  273.230011  274.559998   \n",
       "2020-06-18 16:00:00-04:00  274.400000  274.400000  274.400000  274.400000   \n",
       "2020-06-18 17:00:00-04:00  274.400000  274.400000  274.400000  274.400000   \n",
       "2020-06-18 19:00:00-04:00  274.400000  274.400000  274.400000  274.400000   \n",
       "2020-06-19 08:00:00-04:00  276.500000  276.500000  276.500000  276.500000   \n",
       "2020-06-19 09:30:00-04:00  277.720001  278.019989  277.119995  277.470001   \n",
       "2020-06-19 10:30:00-04:00  277.299988  277.390015  276.454987  276.750000   \n",
       "2020-06-19 11:03:22-04:00  276.809998  276.809998  276.809998  276.809998   \n",
       "\n",
       "                            Adj Close  Volume  percent change  decision  \n",
       "Datetime                                                                 \n",
       "2020-06-17 16:00:00-04:00  273.500000       0       -0.002162         0  \n",
       "2020-06-18 09:30:00-04:00  273.029999   99568       -0.001504         0  \n",
       "2020-06-18 10:30:00-04:00  274.269989   74286       -0.004321         0  \n",
       "2020-06-18 11:30:00-04:00  273.644989   62028        0.002097         0  \n",
       "2020-06-18 12:30:00-04:00  273.790009   93369       -0.000329         0  \n",
       "2020-06-18 13:30:00-04:00  273.600006   99289        0.000438         0  \n",
       "2020-06-18 14:30:00-04:00  273.380005  139671        0.000658         0  \n",
       "2020-06-18 15:30:00-04:00  274.559998   95222       -0.004133         0  \n",
       "2020-06-18 16:00:00-04:00  274.400000       0        0.000000         0  \n",
       "2020-06-18 17:00:00-04:00  274.400000       0        0.000000         0  \n",
       "2020-06-18 19:00:00-04:00  274.400000       0        0.000000         0  \n",
       "2020-06-19 08:00:00-04:00  276.500000       0        0.000000         0  \n",
       "2020-06-19 09:30:00-04:00  277.470001  139643        0.000900         0  \n",
       "2020-06-19 10:30:00-04:00  276.750000   35525        0.001983         0  \n",
       "2020-06-19 11:03:22-04:00  276.809998       0        0.000000         0  "
      ]
     },
     "execution_count": 9,
     "metadata": {},
     "output_type": "execute_result"
    }
   ],
   "source": [
    "stock_df.tail(15)"
   ]
  },
  {
   "cell_type": "markdown",
   "metadata": {},
   "source": [
    "### Create One Offs"
   ]
  },
  {
   "cell_type": "markdown",
   "metadata": {},
   "source": [
    "Move decision column up by 1 row so the current\n",
    "hour of data will predict the next hour of data\n",
    "or whichever time frame is observed"
   ]
  },
  {
   "cell_type": "code",
   "execution_count": 10,
   "metadata": {
    "scrolled": true
   },
   "outputs": [
    {
     "data": {
      "text/plain": [
       "numpy.ndarray"
      ]
     },
     "execution_count": 10,
     "metadata": {},
     "output_type": "execute_result"
    }
   ],
   "source": [
    "decisions = stock_df.decision.values\n",
    "type(decisions)"
   ]
  },
  {
   "cell_type": "code",
   "execution_count": 11,
   "metadata": {},
   "outputs": [
    {
     "data": {
      "text/plain": [
       "4711"
      ]
     },
     "execution_count": 11,
     "metadata": {},
     "output_type": "execute_result"
    }
   ],
   "source": [
    "len(decisions)"
   ]
  },
  {
   "cell_type": "code",
   "execution_count": 12,
   "metadata": {},
   "outputs": [],
   "source": [
    "decisions = decisions[1:len(decisions)] # from rows 2 to 6061"
   ]
  },
  {
   "cell_type": "code",
   "execution_count": 13,
   "metadata": {},
   "outputs": [
    {
     "data": {
      "text/plain": [
       "4710"
      ]
     },
     "execution_count": 13,
     "metadata": {},
     "output_type": "execute_result"
    }
   ],
   "source": [
    "len(decisions)"
   ]
  },
  {
   "cell_type": "code",
   "execution_count": 14,
   "metadata": {},
   "outputs": [
    {
     "data": {
      "text/plain": [
       "(4710, 8)"
      ]
     },
     "execution_count": 14,
     "metadata": {},
     "output_type": "execute_result"
    }
   ],
   "source": [
    "stock_df_one_off = stock_df.iloc[0:stock_df.shape[0]-1] # from rows 1 to 6060\n",
    "stock_df_one_off.shape"
   ]
  },
  {
   "cell_type": "code",
   "execution_count": 15,
   "metadata": {
    "scrolled": true
   },
   "outputs": [
    {
     "data": {
      "text/plain": [
       "Open                277.299988\n",
       "High                277.390015\n",
       "Low                 276.454987\n",
       "Close               276.750000\n",
       "Adj Close           276.750000\n",
       "Volume            35525.000000\n",
       "percent change        0.001983\n",
       "decision              0.000000\n",
       "Name: 2020-06-19 10:30:00-04:00, dtype: float64"
      ]
     },
     "execution_count": 15,
     "metadata": {},
     "output_type": "execute_result"
    }
   ],
   "source": [
    "stock_df_one_off.iloc[-1]"
   ]
  },
  {
   "cell_type": "code",
   "execution_count": 16,
   "metadata": {},
   "outputs": [
    {
     "data": {
      "text/html": [
       "<div>\n",
       "<style scoped>\n",
       "    .dataframe tbody tr th:only-of-type {\n",
       "        vertical-align: middle;\n",
       "    }\n",
       "\n",
       "    .dataframe tbody tr th {\n",
       "        vertical-align: top;\n",
       "    }\n",
       "\n",
       "    .dataframe thead th {\n",
       "        text-align: right;\n",
       "    }\n",
       "</style>\n",
       "<table border=\"1\" class=\"dataframe\">\n",
       "  <thead>\n",
       "    <tr style=\"text-align: right;\">\n",
       "      <th></th>\n",
       "      <th>Open</th>\n",
       "      <th>High</th>\n",
       "      <th>Low</th>\n",
       "      <th>Close</th>\n",
       "      <th>Adj Close</th>\n",
       "      <th>Volume</th>\n",
       "      <th>percent change</th>\n",
       "      <th>decision</th>\n",
       "    </tr>\n",
       "    <tr>\n",
       "      <th>Datetime</th>\n",
       "      <th></th>\n",
       "      <th></th>\n",
       "      <th></th>\n",
       "      <th></th>\n",
       "      <th></th>\n",
       "      <th></th>\n",
       "      <th></th>\n",
       "      <th></th>\n",
       "    </tr>\n",
       "  </thead>\n",
       "  <tbody>\n",
       "    <tr>\n",
       "      <th>2018-06-19 10:30:00-04:00</th>\n",
       "      <td>185.600006</td>\n",
       "      <td>186.959900</td>\n",
       "      <td>185.529999</td>\n",
       "      <td>186.910004</td>\n",
       "      <td>186.910004</td>\n",
       "      <td>0</td>\n",
       "      <td>-0.007058</td>\n",
       "      <td>0</td>\n",
       "    </tr>\n",
       "    <tr>\n",
       "      <th>2018-06-19 11:30:00-04:00</th>\n",
       "      <td>187.039200</td>\n",
       "      <td>187.309998</td>\n",
       "      <td>186.800003</td>\n",
       "      <td>187.149902</td>\n",
       "      <td>187.149902</td>\n",
       "      <td>51175</td>\n",
       "      <td>-0.000592</td>\n",
       "      <td>0</td>\n",
       "    </tr>\n",
       "    <tr>\n",
       "      <th>2018-06-19 12:30:00-04:00</th>\n",
       "      <td>187.080002</td>\n",
       "      <td>187.189896</td>\n",
       "      <td>186.889999</td>\n",
       "      <td>187.059998</td>\n",
       "      <td>187.059998</td>\n",
       "      <td>36429</td>\n",
       "      <td>0.000107</td>\n",
       "      <td>0</td>\n",
       "    </tr>\n",
       "    <tr>\n",
       "      <th>2018-06-19 13:30:00-04:00</th>\n",
       "      <td>186.949997</td>\n",
       "      <td>187.787399</td>\n",
       "      <td>186.949997</td>\n",
       "      <td>187.680099</td>\n",
       "      <td>187.680099</td>\n",
       "      <td>59515</td>\n",
       "      <td>-0.003905</td>\n",
       "      <td>0</td>\n",
       "    </tr>\n",
       "    <tr>\n",
       "      <th>2018-06-19 14:30:00-04:00</th>\n",
       "      <td>187.753006</td>\n",
       "      <td>187.953293</td>\n",
       "      <td>187.487503</td>\n",
       "      <td>187.487503</td>\n",
       "      <td>187.487503</td>\n",
       "      <td>50534</td>\n",
       "      <td>0.001414</td>\n",
       "      <td>0</td>\n",
       "    </tr>\n",
       "  </tbody>\n",
       "</table>\n",
       "</div>"
      ],
      "text/plain": [
       "                                 Open        High         Low       Close  \\\n",
       "Datetime                                                                    \n",
       "2018-06-19 10:30:00-04:00  185.600006  186.959900  185.529999  186.910004   \n",
       "2018-06-19 11:30:00-04:00  187.039200  187.309998  186.800003  187.149902   \n",
       "2018-06-19 12:30:00-04:00  187.080002  187.189896  186.889999  187.059998   \n",
       "2018-06-19 13:30:00-04:00  186.949997  187.787399  186.949997  187.680099   \n",
       "2018-06-19 14:30:00-04:00  187.753006  187.953293  187.487503  187.487503   \n",
       "\n",
       "                            Adj Close  Volume  percent change  decision  \n",
       "Datetime                                                                 \n",
       "2018-06-19 10:30:00-04:00  186.910004       0       -0.007058         0  \n",
       "2018-06-19 11:30:00-04:00  187.149902   51175       -0.000592         0  \n",
       "2018-06-19 12:30:00-04:00  187.059998   36429        0.000107         0  \n",
       "2018-06-19 13:30:00-04:00  187.680099   59515       -0.003905         0  \n",
       "2018-06-19 14:30:00-04:00  187.487503   50534        0.001414         0  "
      ]
     },
     "execution_count": 16,
     "metadata": {},
     "output_type": "execute_result"
    }
   ],
   "source": [
    "stock_df_one_off['decision'] = decisions\n",
    "stock_df_one_off.head()"
   ]
  },
  {
   "cell_type": "code",
   "execution_count": 17,
   "metadata": {},
   "outputs": [
    {
     "data": {
      "text/plain": [
       "0    4604\n",
       "1     106\n",
       "Name: decision, dtype: int64"
      ]
     },
     "execution_count": 17,
     "metadata": {},
     "output_type": "execute_result"
    }
   ],
   "source": [
    "stock_df_one_off.decision.value_counts() # there is an inablance between 0's and 1's"
   ]
  },
  {
   "cell_type": "markdown",
   "metadata": {},
   "source": [
    "### Balance the 0's and 1's"
   ]
  },
  {
   "cell_type": "code",
   "execution_count": 18,
   "metadata": {},
   "outputs": [
    {
     "data": {
      "text/plain": [
       "106"
      ]
     },
     "execution_count": 18,
     "metadata": {},
     "output_type": "execute_result"
    }
   ],
   "source": [
    "ones = stock_df_one_off.decision.value_counts()[1]\n",
    "ones"
   ]
  },
  {
   "cell_type": "code",
   "execution_count": 19,
   "metadata": {},
   "outputs": [],
   "source": [
    "stock_df_bal = stock_df_one_off.groupby('decision').apply(lambda x: x.sample(n=ones)).reset_index(drop=True)"
   ]
  },
  {
   "cell_type": "code",
   "execution_count": 20,
   "metadata": {},
   "outputs": [
    {
     "data": {
      "text/plain": [
       "(212, 8)"
      ]
     },
     "execution_count": 20,
     "metadata": {},
     "output_type": "execute_result"
    }
   ],
   "source": [
    "stock_df_bal.shape"
   ]
  },
  {
   "cell_type": "code",
   "execution_count": 21,
   "metadata": {},
   "outputs": [
    {
     "data": {
      "text/plain": [
       "1    106\n",
       "0    106\n",
       "Name: decision, dtype: int64"
      ]
     },
     "execution_count": 21,
     "metadata": {},
     "output_type": "execute_result"
    }
   ],
   "source": [
    "stock_df_bal.decision.value_counts()"
   ]
  },
  {
   "cell_type": "markdown",
   "metadata": {},
   "source": [
    "### Check for NaN's"
   ]
  },
  {
   "cell_type": "code",
   "execution_count": 22,
   "metadata": {
    "scrolled": true
   },
   "outputs": [
    {
     "data": {
      "text/plain": [
       "Open              0\n",
       "High              0\n",
       "Low               0\n",
       "Close             0\n",
       "Adj Close         0\n",
       "Volume            0\n",
       "percent change    0\n",
       "decision          0\n",
       "dtype: int64"
      ]
     },
     "execution_count": 22,
     "metadata": {},
     "output_type": "execute_result"
    }
   ],
   "source": [
    "stock_df_bal.isna().sum()"
   ]
  },
  {
   "cell_type": "code",
   "execution_count": 23,
   "metadata": {
    "scrolled": true
   },
   "outputs": [],
   "source": [
    "stock_df_bal.dropna(axis=0, inplace=True)"
   ]
  },
  {
   "cell_type": "code",
   "execution_count": 24,
   "metadata": {},
   "outputs": [
    {
     "data": {
      "text/plain": [
       "Open              0\n",
       "High              0\n",
       "Low               0\n",
       "Close             0\n",
       "Adj Close         0\n",
       "Volume            0\n",
       "percent change    0\n",
       "decision          0\n",
       "dtype: int64"
      ]
     },
     "execution_count": 24,
     "metadata": {},
     "output_type": "execute_result"
    }
   ],
   "source": [
    "stock_df_bal.isna().sum()"
   ]
  },
  {
   "cell_type": "markdown",
   "metadata": {},
   "source": [
    "### Train Test Split"
   ]
  },
  {
   "cell_type": "code",
   "execution_count": 25,
   "metadata": {},
   "outputs": [],
   "source": [
    "X = stock_df_bal.drop(columns=['percent change', 'decision']) # get columns other than decision\n",
    "y = stock_df_bal['decision'] # get decision column"
   ]
  },
  {
   "cell_type": "code",
   "execution_count": 26,
   "metadata": {},
   "outputs": [],
   "source": [
    "X_train, X_test, y_train, y_test = train_test_split(X\n",
    "                                                    , y\n",
    "                                                    , test_size=0.20\n",
    "                                                    , random_state = 42\n",
    "                                                   )"
   ]
  },
  {
   "cell_type": "markdown",
   "metadata": {},
   "source": [
    "### Random Forest Classifier"
   ]
  },
  {
   "cell_type": "code",
   "execution_count": 27,
   "metadata": {},
   "outputs": [
    {
     "name": "stderr",
     "output_type": "stream",
     "text": [
      "[Parallel(n_jobs=-1)]: Using backend ThreadingBackend with 8 concurrent workers.\n",
      "[Parallel(n_jobs=-1)]: Done  42 out of  42 | elapsed:    0.1s finished\n",
      "[Parallel(n_jobs=8)]: Using backend ThreadingBackend with 8 concurrent workers.\n",
      "[Parallel(n_jobs=8)]: Done  42 out of  42 | elapsed:    0.0s finished\n",
      "[Parallel(n_jobs=8)]: Using backend ThreadingBackend with 8 concurrent workers.\n",
      "[Parallel(n_jobs=8)]: Done  42 out of  42 | elapsed:    0.0s finished\n"
     ]
    }
   ],
   "source": [
    "rfc = RandomForestClassifier(n_estimators = int(perc_train * len(X_train)) # odd number \n",
    "                             , random_state = 42\n",
    "                             , verbose=1\n",
    "                             , n_jobs = -1 # access all of your processor cores Lenovo P50 i7-6820HQ 2.7GHz\n",
    "                            )\n",
    "\n",
    "rfc.fit(X_train, y_train)\n",
    "\n",
    "y_pred = rfc.predict(X_test)\n",
    "\n",
    "y_probs = rfc.predict_proba(X_test)[:, 1]"
   ]
  },
  {
   "cell_type": "markdown",
   "metadata": {},
   "source": [
    "### Measures of Performances: Receiver Operating Characteristic (ROC) Curve"
   ]
  },
  {
   "cell_type": "code",
   "execution_count": 28,
   "metadata": {},
   "outputs": [
    {
     "data": {
      "text/plain": [
       "0.7675438596491229"
      ]
     },
     "execution_count": 28,
     "metadata": {},
     "output_type": "execute_result"
    }
   ],
   "source": [
    "roc_value = roc_auc_score(y_test\n",
    "                          , y_probs\n",
    "                         )\n",
    "roc_value"
   ]
  },
  {
   "cell_type": "code",
   "execution_count": 29,
   "metadata": {},
   "outputs": [
    {
     "data": {
      "image/png": "[encoded data removed]",
      "text/plain": [
       "<Figure size 720x504 with 1 Axes>"
      ]
     },
     "metadata": {},
     "output_type": "display_data"
    }
   ],
   "source": [
    "plt.rcParams['font.size'] = 16\n",
    "base_fpr, base_tpr, _ = roc_curve(y_test, [1 for _ in range(len(y_test))])\n",
    "model_fpr, model_tpr, _ = roc_curve(y_test, y_probs)\n",
    "\n",
    "plt.figure(figsize=(10,7))\n",
    "plt.plot(base_fpr, base_tpr, 'b', label='No Skill')\n",
    "plt.plot(model_fpr, model_tpr, 'r', label='RFC Model')\n",
    "plt.legend()\n",
    "plt.xlabel('False Positive Rate')\n",
    "plt.ylabel('True Positive Rate')\n",
    "plt.title(f'{symbol} ROC Curve, Accuracy: {round(roc_value, 3)}');"
   ]
  },
  {
   "cell_type": "markdown",
   "metadata": {},
   "source": [
    "### Measures of Performance: Confusion Matrix"
   ]
  },
  {
   "cell_type": "code",
   "execution_count": 30,
   "metadata": {},
   "outputs": [
    {
     "name": "stderr",
     "output_type": "stream",
     "text": [
      "[Parallel(n_jobs=8)]: Using backend ThreadingBackend with 8 concurrent workers.\n",
      "[Parallel(n_jobs=8)]: Done  42 out of  42 | elapsed:    0.0s finished\n"
     ]
    },
    {
     "data": {
      "image/png": "[encoded data removed]",
      "text/plain": [
       "<Figure size 360x288 with 2 Axes>"
      ]
     },
     "metadata": {},
     "output_type": "display_data"
    }
   ],
   "source": [
    "plt.rcParams['figure.figsize'] = (5, 4)\n",
    "plt.rcParams['font.size'] = 16\n",
    "disp = plot_confusion_matrix(rfc\n",
    "                           , X_test\n",
    "                           , y_test\n",
    "                           , cmap=plt.cm.Blues\n",
    "                           , normalize='true'\n",
    "                     )\n",
    "disp.ax_.grid(False)\n",
    "disp.ax_.set_title(f'{symbol} Decision Confusion Matrix');"
   ]
  },
  {
   "cell_type": "markdown",
   "metadata": {},
   "source": [
    "### Measures of Performance: Precision Recall Curve"
   ]
  },
  {
   "cell_type": "code",
   "execution_count": 31,
   "metadata": {},
   "outputs": [
    {
     "data": {
      "image/png": "[encoded data removed]",
      "text/plain": [
       "<Figure size 720x576 with 1 Axes>"
      ]
     },
     "metadata": {},
     "output_type": "display_data"
    }
   ],
   "source": [
    "plt.rcParams['font.size'] = 16\n",
    "plt.rcParams['figure.figsize'] = (10,8)\n",
    "rf_prec, rf_recall, _ = precision_recall_curve(y_test, y_probs)\n",
    "plt.plot([0, 0], linestyle = '--', color = 'b', label='No Skill')\n",
    "plt.plot(rf_recall, rf_prec, color='r', label='Random Forest')\n",
    "plt.xlabel('Recall')\n",
    "plt.ylabel('Precision')\n",
    "plt.legend()\n",
    "plt.title(f'{symbol} Precision-Recall Curve, Accuracy: {round(auc(rf_recall, rf_prec), 3)}');"
   ]
  },
  {
   "cell_type": "markdown",
   "metadata": {},
   "source": [
    "### Measure of Performance: Feature Importances"
   ]
  },
  {
   "cell_type": "code",
   "execution_count": 32,
   "metadata": {},
   "outputs": [
    {
     "data": {
      "text/html": [
       "<div>\n",
       "<style scoped>\n",
       "    .dataframe tbody tr th:only-of-type {\n",
       "        vertical-align: middle;\n",
       "    }\n",
       "\n",
       "    .dataframe tbody tr th {\n",
       "        vertical-align: top;\n",
       "    }\n",
       "\n",
       "    .dataframe thead th {\n",
       "        text-align: right;\n",
       "    }\n",
       "</style>\n",
       "<table border=\"1\" class=\"dataframe\">\n",
       "  <thead>\n",
       "    <tr style=\"text-align: right;\">\n",
       "      <th></th>\n",
       "      <th>feature</th>\n",
       "      <th>importances</th>\n",
       "    </tr>\n",
       "  </thead>\n",
       "  <tbody>\n",
       "    <tr>\n",
       "      <th>5</th>\n",
       "      <td>Volume</td>\n",
       "      <td>0.317904</td>\n",
       "    </tr>\n",
       "    <tr>\n",
       "      <th>0</th>\n",
       "      <td>Open</td>\n",
       "      <td>0.148568</td>\n",
       "    </tr>\n",
       "    <tr>\n",
       "      <th>1</th>\n",
       "      <td>High</td>\n",
       "      <td>0.146766</td>\n",
       "    </tr>\n",
       "    <tr>\n",
       "      <th>3</th>\n",
       "      <td>Close</td>\n",
       "      <td>0.136393</td>\n",
       "    </tr>\n",
       "    <tr>\n",
       "      <th>2</th>\n",
       "      <td>Low</td>\n",
       "      <td>0.131742</td>\n",
       "    </tr>\n",
       "    <tr>\n",
       "      <th>4</th>\n",
       "      <td>Adj Close</td>\n",
       "      <td>0.118628</td>\n",
       "    </tr>\n",
       "  </tbody>\n",
       "</table>\n",
       "</div>"
      ],
      "text/plain": [
       "     feature  importances\n",
       "5     Volume     0.317904\n",
       "0       Open     0.148568\n",
       "1       High     0.146766\n",
       "3      Close     0.136393\n",
       "2        Low     0.131742\n",
       "4  Adj Close     0.118628"
      ]
     },
     "execution_count": 32,
     "metadata": {},
     "output_type": "execute_result"
    }
   ],
   "source": [
    "feature_df = pd.DataFrame({'feature': X_train.columns\n",
    "                           , 'importances': rfc.feature_importances_\n",
    "                          }).sort_values('importances', ascending=False)\n",
    "feature_df"
   ]
  },
  {
   "cell_type": "code",
   "execution_count": 33,
   "metadata": {
    "scrolled": true
   },
   "outputs": [
    {
     "data": {
      "text/html": [
       "<div>\n",
       "<style scoped>\n",
       "    .dataframe tbody tr th:only-of-type {\n",
       "        vertical-align: middle;\n",
       "    }\n",
       "\n",
       "    .dataframe tbody tr th {\n",
       "        vertical-align: top;\n",
       "    }\n",
       "\n",
       "    .dataframe thead th {\n",
       "        text-align: right;\n",
       "    }\n",
       "</style>\n",
       "<table border=\"1\" class=\"dataframe\">\n",
       "  <thead>\n",
       "    <tr style=\"text-align: right;\">\n",
       "      <th></th>\n",
       "      <th>Open</th>\n",
       "      <th>High</th>\n",
       "      <th>Low</th>\n",
       "      <th>Close</th>\n",
       "      <th>Adj Close</th>\n",
       "      <th>Volume</th>\n",
       "      <th>percent change</th>\n",
       "      <th>decision</th>\n",
       "    </tr>\n",
       "  </thead>\n",
       "  <tbody>\n",
       "    <tr>\n",
       "      <th>0</th>\n",
       "      <td>173.440002</td>\n",
       "      <td>174.039993</td>\n",
       "      <td>173.425003</td>\n",
       "      <td>173.809998</td>\n",
       "      <td>173.809998</td>\n",
       "      <td>74053</td>\n",
       "      <td>-0.002133</td>\n",
       "      <td>0</td>\n",
       "    </tr>\n",
       "    <tr>\n",
       "      <th>1</th>\n",
       "      <td>259.500000</td>\n",
       "      <td>259.750000</td>\n",
       "      <td>259.500000</td>\n",
       "      <td>259.750000</td>\n",
       "      <td>259.750000</td>\n",
       "      <td>0</td>\n",
       "      <td>-0.000963</td>\n",
       "      <td>0</td>\n",
       "    </tr>\n",
       "    <tr>\n",
       "      <th>2</th>\n",
       "      <td>184.200000</td>\n",
       "      <td>184.200000</td>\n",
       "      <td>182.400000</td>\n",
       "      <td>182.500000</td>\n",
       "      <td>182.500000</td>\n",
       "      <td>0</td>\n",
       "      <td>0.009229</td>\n",
       "      <td>0</td>\n",
       "    </tr>\n",
       "    <tr>\n",
       "      <th>3</th>\n",
       "      <td>209.949997</td>\n",
       "      <td>210.220001</td>\n",
       "      <td>209.389999</td>\n",
       "      <td>209.462906</td>\n",
       "      <td>209.462906</td>\n",
       "      <td>48205</td>\n",
       "      <td>0.002320</td>\n",
       "      <td>0</td>\n",
       "    </tr>\n",
       "    <tr>\n",
       "      <th>4</th>\n",
       "      <td>203.544098</td>\n",
       "      <td>203.750000</td>\n",
       "      <td>203.399994</td>\n",
       "      <td>203.589996</td>\n",
       "      <td>203.589996</td>\n",
       "      <td>46927</td>\n",
       "      <td>-0.000225</td>\n",
       "      <td>0</td>\n",
       "    </tr>\n",
       "  </tbody>\n",
       "</table>\n",
       "</div>"
      ],
      "text/plain": [
       "         Open        High         Low       Close   Adj Close  Volume  \\\n",
       "0  173.440002  174.039993  173.425003  173.809998  173.809998   74053   \n",
       "1  259.500000  259.750000  259.500000  259.750000  259.750000       0   \n",
       "2  184.200000  184.200000  182.400000  182.500000  182.500000       0   \n",
       "3  209.949997  210.220001  209.389999  209.462906  209.462906   48205   \n",
       "4  203.544098  203.750000  203.399994  203.589996  203.589996   46927   \n",
       "\n",
       "   percent change  decision  \n",
       "0       -0.002133         0  \n",
       "1       -0.000963         0  \n",
       "2        0.009229         0  \n",
       "3        0.002320         0  \n",
       "4       -0.000225         0  "
      ]
     },
     "execution_count": 33,
     "metadata": {},
     "output_type": "execute_result"
    }
   ],
   "source": [
    "stock_df_bal.head()"
   ]
  },
  {
   "cell_type": "markdown",
   "metadata": {},
   "source": [
    "### Make A Prediction"
   ]
  },
  {
   "cell_type": "code",
   "execution_count": 34,
   "metadata": {},
   "outputs": [
    {
     "data": {
      "text/plain": [
       "Open         276.809998\n",
       "High         276.809998\n",
       "Low          276.809998\n",
       "Close        276.809998\n",
       "Adj Close    276.809998\n",
       "Volume         0.000000\n",
       "Name: 2020-06-19 11:03:22-04:00, dtype: float64"
      ]
     },
     "execution_count": 34,
     "metadata": {},
     "output_type": "execute_result"
    }
   ],
   "source": [
    "last = stock_df[['Open', 'High', 'Low', 'Close', 'Adj Close', 'Volume']].iloc[-1]\n",
    "last"
   ]
  },
  {
   "cell_type": "code",
   "execution_count": 35,
   "metadata": {},
   "outputs": [
    {
     "name": "stdout",
     "output_type": "stream",
     "text": [
      "Sell or hold VGT on the 60m interval.\n"
     ]
    },
    {
     "name": "stderr",
     "output_type": "stream",
     "text": [
      "[Parallel(n_jobs=8)]: Using backend ThreadingBackend with 8 concurrent workers.\n",
      "[Parallel(n_jobs=8)]: Done  42 out of  42 | elapsed:    0.0s finished\n"
     ]
    }
   ],
   "source": [
    "if rfc.predict(np.array(last).reshape(1, -1))[0] == 1:\n",
    "    print(f'Buy {symbol} on the {interval} interval for {round(perc_inc *100, 1)}% increase.')\n",
    "else:\n",
    "    print(f'Sell or hold {symbol} on the {interval} interval.')"
   ]
  },
  {
   "cell_type": "code",
   "execution_count": null,
   "metadata": {},
   "outputs": [],
   "source": []
  },
  {
   "cell_type": "code",
   "execution_count": null,
   "metadata": {},
   "outputs": [],
   "source": []
  },
  {
   "cell_type": "code",
   "execution_count": null,
   "metadata": {},
   "outputs": [],
   "source": []
  },
  {
   "cell_type": "code",
   "execution_count": null,
   "metadata": {},
   "outputs": [],
   "source": []
  },
  {
   "cell_type": "markdown",
   "metadata": {},
   "source": [
    "# "
   ]
  }
 ],
 "metadata": {
  "kernelspec": {
   "display_name": "Python 3",
   "language": "python",
   "name": "python3"
  },
  "language_info": {
   "codemirror_mode": {
    "name": "ipython",
    "version": 3
   },
   "file_extension": ".py",
   "mimetype": "text/x-python",
   "name": "python",
   "nbconvert_exporter": "python",
   "pygments_lexer": "ipython3",
   "version": "3.7.5"
  }
 },
 "nbformat": 4,
 "nbformat_minor": 4
}
