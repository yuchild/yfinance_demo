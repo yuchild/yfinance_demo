{
 "cells": [
  {
   "cell_type": "markdown",
   "metadata": {},
   "source": [
    "## yfinance Library Demo"
   ]
  },
  {
   "cell_type": "markdown",
   "metadata": {},
   "source": [
    "### Disclaimers:"
   ]
  },
  {
   "cell_type": "markdown",
   "metadata": {},
   "source": [
    "Trading stocks has it's own inherent risks. Trade at your own discretion. \n",
    "<br />\n",
    "\n",
    "The predictions from the model is best thought of as correlations rather than causations.  "
   ]
  },
  {
   "cell_type": "markdown",
   "metadata": {},
   "source": [
    "### Overview:"
   ]
  },
  {
   "cell_type": "markdown",
   "metadata": {},
   "source": [
    "This notebook provides a random forest classifier model that predicts the direction of movement of a secruity in the next time interval.\n",
    "<br />\n",
    "\n",
    "The prediction is only for directions up 1 or down 0. "
   ]
  },
  {
   "cell_type": "markdown",
   "metadata": {},
   "source": [
    "### Imports: "
   ]
  },
  {
   "cell_type": "code",
   "execution_count": 1,
   "metadata": {},
   "outputs": [],
   "source": [
    "import pandas as pd\n",
    "import numpy as np\n",
    "\n",
    "import matplotlib.pyplot as plt\n",
    "plt.rcParams['font.size'] = 12\n",
    "plt.rcParams['figure.figsize'] = (8, 7)\n",
    "plt.style.use('fivethirtyeight')\n",
    "\n",
    "import warnings\n",
    "warnings.filterwarnings('ignore')\n",
    "\n",
    "import yfinance as yf\n",
    "\n",
    "from sklearn.model_selection import train_test_split\n",
    "from sklearn.ensemble import RandomForestClassifier\n",
    "from sklearn.metrics import (roc_auc_score\n",
    "                             , precision_score\n",
    "                             , recall_score\n",
    "                             , roc_curve\n",
    "                             , confusion_matrix\n",
    "                             , plot_confusion_matrix\n",
    "                             , precision_recall_curve\n",
    "                             , auc\n",
    "                            )"
   ]
  },
  {
   "cell_type": "markdown",
   "metadata": {},
   "source": [
    "### Global Variables:"
   ]
  },
  {
   "cell_type": "code",
   "execution_count": 2,
   "metadata": {},
   "outputs": [],
   "source": [
    "# yfinance automatically pull data up to the current time, unless specified \n",
    "\n",
    "# month = '06' # month and date not necessary if using fix period, see next cell\n",
    "# date = '15'\n",
    "\n",
    "# sf_hour = 13 # 6 to 13 military time in PST\n",
    "# ny_hour = 4 # 9 to 16 military time in EST\n",
    "\n",
    "# valid intervals: 1m,2m,5m,15m,30m,60m,90m,1h,1d,5d,1wk,1mo,3mo\n",
    "interval = '1d'\n",
    "\n",
    "# time span of data e.g. 2y for 60m, 10y for 1d\n",
    "period = '10y'\n",
    "\n",
    "perc_inc = 0.015 # 1.5 percent increase from hour to hour or any time period\n",
    "\n",
    "# start = '2018-07-01'\n",
    "\n",
    "# end = '2020-' + month + '-' + date\n",
    "\n",
    "symbol = 'IYW' # ITOT iShares TOTAL Market ETF stock\n",
    "\n",
    "perc_train = 0.45 # percent of train set"
   ]
  },
  {
   "cell_type": "markdown",
   "metadata": {},
   "source": [
    "### Yahoo Finance"
   ]
  },
  {
   "cell_type": "code",
   "execution_count": 3,
   "metadata": {},
   "outputs": [
    {
     "name": "stdout",
     "output_type": "stream",
     "text": [
      "[*********************100%***********************]  1 of 1 completed\n"
     ]
    }
   ],
   "source": [
    "stock_df = yf.download(tickers = symbol # symbol of stock \n",
    "                       \n",
    "                       , period = period\n",
    "                       \n",
    "                       , interval = interval # time periods of subinterval e.g. 1m or 1hr\n",
    "                       \n",
    "                       # , start = start # start date, time\n",
    "                       \n",
    "                       # , end = end # end date, time\n",
    "                       \n",
    "                       , prepost = True # pre/post market data\n",
    "                      )"
   ]
  },
  {
   "cell_type": "code",
   "execution_count": 4,
   "metadata": {},
   "outputs": [
    {
     "data": {
      "text/html": [
       "<div>\n",
       "<style scoped>\n",
       "    .dataframe tbody tr th:only-of-type {\n",
       "        vertical-align: middle;\n",
       "    }\n",
       "\n",
       "    .dataframe tbody tr th {\n",
       "        vertical-align: top;\n",
       "    }\n",
       "\n",
       "    .dataframe thead th {\n",
       "        text-align: right;\n",
       "    }\n",
       "</style>\n",
       "<table border=\"1\" class=\"dataframe\">\n",
       "  <thead>\n",
       "    <tr style=\"text-align: right;\">\n",
       "      <th></th>\n",
       "      <th>Open</th>\n",
       "      <th>High</th>\n",
       "      <th>Low</th>\n",
       "      <th>Close</th>\n",
       "      <th>Adj Close</th>\n",
       "      <th>Volume</th>\n",
       "    </tr>\n",
       "    <tr>\n",
       "      <th>Date</th>\n",
       "      <th></th>\n",
       "      <th></th>\n",
       "      <th></th>\n",
       "      <th></th>\n",
       "      <th></th>\n",
       "      <th></th>\n",
       "    </tr>\n",
       "  </thead>\n",
       "  <tbody>\n",
       "    <tr>\n",
       "      <th>2010-06-21</th>\n",
       "      <td>57.660000</td>\n",
       "      <td>57.730000</td>\n",
       "      <td>56.160000</td>\n",
       "      <td>56.450001</td>\n",
       "      <td>51.221802</td>\n",
       "      <td>180700</td>\n",
       "    </tr>\n",
       "    <tr>\n",
       "      <th>2010-06-22</th>\n",
       "      <td>56.639999</td>\n",
       "      <td>57.090000</td>\n",
       "      <td>55.849998</td>\n",
       "      <td>55.889999</td>\n",
       "      <td>50.713669</td>\n",
       "      <td>177400</td>\n",
       "    </tr>\n",
       "    <tr>\n",
       "      <th>2010-06-23</th>\n",
       "      <td>56.020000</td>\n",
       "      <td>56.200001</td>\n",
       "      <td>55.259998</td>\n",
       "      <td>55.680000</td>\n",
       "      <td>50.523113</td>\n",
       "      <td>154700</td>\n",
       "    </tr>\n",
       "    <tr>\n",
       "      <th>2010-06-24</th>\n",
       "      <td>55.380001</td>\n",
       "      <td>55.529999</td>\n",
       "      <td>54.419998</td>\n",
       "      <td>54.580002</td>\n",
       "      <td>49.591793</td>\n",
       "      <td>261600</td>\n",
       "    </tr>\n",
       "    <tr>\n",
       "      <th>2010-06-25</th>\n",
       "      <td>54.840000</td>\n",
       "      <td>54.959999</td>\n",
       "      <td>54.070000</td>\n",
       "      <td>54.500000</td>\n",
       "      <td>49.519112</td>\n",
       "      <td>604100</td>\n",
       "    </tr>\n",
       "  </tbody>\n",
       "</table>\n",
       "</div>"
      ],
      "text/plain": [
       "                 Open       High        Low      Close  Adj Close  Volume\n",
       "Date                                                                     \n",
       "2010-06-21  57.660000  57.730000  56.160000  56.450001  51.221802  180700\n",
       "2010-06-22  56.639999  57.090000  55.849998  55.889999  50.713669  177400\n",
       "2010-06-23  56.020000  56.200001  55.259998  55.680000  50.523113  154700\n",
       "2010-06-24  55.380001  55.529999  54.419998  54.580002  49.591793  261600\n",
       "2010-06-25  54.840000  54.959999  54.070000  54.500000  49.519112  604100"
      ]
     },
     "execution_count": 4,
     "metadata": {},
     "output_type": "execute_result"
    }
   ],
   "source": [
    "stock_df.head()"
   ]
  },
  {
   "cell_type": "markdown",
   "metadata": {},
   "source": [
    "### EDA of Secruity"
   ]
  },
  {
   "cell_type": "code",
   "execution_count": 5,
   "metadata": {
    "scrolled": true
   },
   "outputs": [
    {
     "data": {
      "text/html": [
       "<div>\n",
       "<style scoped>\n",
       "    .dataframe tbody tr th:only-of-type {\n",
       "        vertical-align: middle;\n",
       "    }\n",
       "\n",
       "    .dataframe tbody tr th {\n",
       "        vertical-align: top;\n",
       "    }\n",
       "\n",
       "    .dataframe thead th {\n",
       "        text-align: right;\n",
       "    }\n",
       "</style>\n",
       "<table border=\"1\" class=\"dataframe\">\n",
       "  <thead>\n",
       "    <tr style=\"text-align: right;\">\n",
       "      <th></th>\n",
       "      <th>Open</th>\n",
       "      <th>High</th>\n",
       "      <th>Low</th>\n",
       "      <th>Close</th>\n",
       "      <th>Adj Close</th>\n",
       "      <th>Volume</th>\n",
       "      <th>percent change</th>\n",
       "    </tr>\n",
       "    <tr>\n",
       "      <th>Date</th>\n",
       "      <th></th>\n",
       "      <th></th>\n",
       "      <th></th>\n",
       "      <th></th>\n",
       "      <th></th>\n",
       "      <th></th>\n",
       "      <th></th>\n",
       "    </tr>\n",
       "  </thead>\n",
       "  <tbody>\n",
       "    <tr>\n",
       "      <th>2010-06-21</th>\n",
       "      <td>57.660000</td>\n",
       "      <td>57.730000</td>\n",
       "      <td>56.160000</td>\n",
       "      <td>56.450001</td>\n",
       "      <td>51.221802</td>\n",
       "      <td>180700</td>\n",
       "      <td>0.020985</td>\n",
       "    </tr>\n",
       "    <tr>\n",
       "      <th>2010-06-22</th>\n",
       "      <td>56.639999</td>\n",
       "      <td>57.090000</td>\n",
       "      <td>55.849998</td>\n",
       "      <td>55.889999</td>\n",
       "      <td>50.713669</td>\n",
       "      <td>177400</td>\n",
       "      <td>0.013242</td>\n",
       "    </tr>\n",
       "    <tr>\n",
       "      <th>2010-06-23</th>\n",
       "      <td>56.020000</td>\n",
       "      <td>56.200001</td>\n",
       "      <td>55.259998</td>\n",
       "      <td>55.680000</td>\n",
       "      <td>50.523113</td>\n",
       "      <td>154700</td>\n",
       "      <td>0.006069</td>\n",
       "    </tr>\n",
       "    <tr>\n",
       "      <th>2010-06-24</th>\n",
       "      <td>55.380001</td>\n",
       "      <td>55.529999</td>\n",
       "      <td>54.419998</td>\n",
       "      <td>54.580002</td>\n",
       "      <td>49.591793</td>\n",
       "      <td>261600</td>\n",
       "      <td>0.014446</td>\n",
       "    </tr>\n",
       "    <tr>\n",
       "      <th>2010-06-25</th>\n",
       "      <td>54.840000</td>\n",
       "      <td>54.959999</td>\n",
       "      <td>54.070000</td>\n",
       "      <td>54.500000</td>\n",
       "      <td>49.519112</td>\n",
       "      <td>604100</td>\n",
       "      <td>0.006200</td>\n",
       "    </tr>\n",
       "  </tbody>\n",
       "</table>\n",
       "</div>"
      ],
      "text/plain": [
       "                 Open       High        Low      Close  Adj Close  Volume  \\\n",
       "Date                                                                        \n",
       "2010-06-21  57.660000  57.730000  56.160000  56.450001  51.221802  180700   \n",
       "2010-06-22  56.639999  57.090000  55.849998  55.889999  50.713669  177400   \n",
       "2010-06-23  56.020000  56.200001  55.259998  55.680000  50.523113  154700   \n",
       "2010-06-24  55.380001  55.529999  54.419998  54.580002  49.591793  261600   \n",
       "2010-06-25  54.840000  54.959999  54.070000  54.500000  49.519112  604100   \n",
       "\n",
       "            percent change  \n",
       "Date                        \n",
       "2010-06-21        0.020985  \n",
       "2010-06-22        0.013242  \n",
       "2010-06-23        0.006069  \n",
       "2010-06-24        0.014446  \n",
       "2010-06-25        0.006200  "
      ]
     },
     "execution_count": 5,
     "metadata": {},
     "output_type": "execute_result"
    }
   ],
   "source": [
    "stock_df['percent change'] = (stock_df.Open - stock_df.Close) / stock_df.Open\n",
    "stock_df.head()"
   ]
  },
  {
   "cell_type": "code",
   "execution_count": 6,
   "metadata": {
    "scrolled": true
   },
   "outputs": [
    {
     "data": {
      "image/png": "[encoded data removed]",
      "text/plain": [
       "<Figure size 576x504 with 1 Axes>"
      ]
     },
     "metadata": {},
     "output_type": "display_data"
    }
   ],
   "source": [
    "stock_df['percent change'].hist(bins=25);"
   ]
  },
  {
   "cell_type": "code",
   "execution_count": 7,
   "metadata": {},
   "outputs": [
    {
     "data": {
      "text/plain": [
       "0.84    0.007545\n",
       "Name: percent change, dtype: float64"
      ]
     },
     "execution_count": 7,
     "metadata": {},
     "output_type": "execute_result"
    }
   ],
   "source": [
    "stock_df['percent change'].quantile([0.84])"
   ]
  },
  {
   "cell_type": "markdown",
   "metadata": {},
   "source": [
    "### Assign Descisions for Up %+ or Not"
   ]
  },
  {
   "cell_type": "code",
   "execution_count": 8,
   "metadata": {},
   "outputs": [],
   "source": [
    "stock_df['decision'] = np.where((stock_df['Close'] - stock_df['Open'])/stock_df['Open'] > perc_inc\n",
    "                                \n",
    "                                , 1  # 1 if up % or greater\n",
    "                                \n",
    "                                , 0  # 0 if not up % or greater\n",
    "                                \n",
    "                               )"
   ]
  },
  {
   "cell_type": "code",
   "execution_count": 9,
   "metadata": {
    "scrolled": true
   },
   "outputs": [
    {
     "data": {
      "text/html": [
       "<div>\n",
       "<style scoped>\n",
       "    .dataframe tbody tr th:only-of-type {\n",
       "        vertical-align: middle;\n",
       "    }\n",
       "\n",
       "    .dataframe tbody tr th {\n",
       "        vertical-align: top;\n",
       "    }\n",
       "\n",
       "    .dataframe thead th {\n",
       "        text-align: right;\n",
       "    }\n",
       "</style>\n",
       "<table border=\"1\" class=\"dataframe\">\n",
       "  <thead>\n",
       "    <tr style=\"text-align: right;\">\n",
       "      <th></th>\n",
       "      <th>Open</th>\n",
       "      <th>High</th>\n",
       "      <th>Low</th>\n",
       "      <th>Close</th>\n",
       "      <th>Adj Close</th>\n",
       "      <th>Volume</th>\n",
       "      <th>percent change</th>\n",
       "      <th>decision</th>\n",
       "    </tr>\n",
       "    <tr>\n",
       "      <th>Date</th>\n",
       "      <th></th>\n",
       "      <th></th>\n",
       "      <th></th>\n",
       "      <th></th>\n",
       "      <th></th>\n",
       "      <th></th>\n",
       "      <th></th>\n",
       "      <th></th>\n",
       "    </tr>\n",
       "  </thead>\n",
       "  <tbody>\n",
       "    <tr>\n",
       "      <th>2020-06-01</th>\n",
       "      <td>251.250000</td>\n",
       "      <td>253.449997</td>\n",
       "      <td>250.500000</td>\n",
       "      <td>253.029999</td>\n",
       "      <td>252.591400</td>\n",
       "      <td>102500</td>\n",
       "      <td>-0.007085</td>\n",
       "      <td>0</td>\n",
       "    </tr>\n",
       "    <tr>\n",
       "      <th>2020-06-02</th>\n",
       "      <td>253.270004</td>\n",
       "      <td>255.009995</td>\n",
       "      <td>250.339996</td>\n",
       "      <td>255.009995</td>\n",
       "      <td>254.567963</td>\n",
       "      <td>271300</td>\n",
       "      <td>-0.006870</td>\n",
       "      <td>0</td>\n",
       "    </tr>\n",
       "    <tr>\n",
       "      <th>2020-06-03</th>\n",
       "      <td>256.140015</td>\n",
       "      <td>257.619995</td>\n",
       "      <td>255.070007</td>\n",
       "      <td>256.730011</td>\n",
       "      <td>256.285004</td>\n",
       "      <td>185300</td>\n",
       "      <td>-0.002303</td>\n",
       "      <td>0</td>\n",
       "    </tr>\n",
       "    <tr>\n",
       "      <th>2020-06-04</th>\n",
       "      <td>256.010010</td>\n",
       "      <td>257.730011</td>\n",
       "      <td>253.139999</td>\n",
       "      <td>254.789993</td>\n",
       "      <td>254.348343</td>\n",
       "      <td>409000</td>\n",
       "      <td>0.004766</td>\n",
       "      <td>0</td>\n",
       "    </tr>\n",
       "    <tr>\n",
       "      <th>2020-06-05</th>\n",
       "      <td>256.140015</td>\n",
       "      <td>261.140015</td>\n",
       "      <td>255.369995</td>\n",
       "      <td>260.130005</td>\n",
       "      <td>259.679108</td>\n",
       "      <td>130300</td>\n",
       "      <td>-0.015577</td>\n",
       "      <td>1</td>\n",
       "    </tr>\n",
       "    <tr>\n",
       "      <th>2020-06-08</th>\n",
       "      <td>259.880005</td>\n",
       "      <td>262.380005</td>\n",
       "      <td>257.750000</td>\n",
       "      <td>262.380005</td>\n",
       "      <td>261.925201</td>\n",
       "      <td>147300</td>\n",
       "      <td>-0.009620</td>\n",
       "      <td>0</td>\n",
       "    </tr>\n",
       "    <tr>\n",
       "      <th>2020-06-09</th>\n",
       "      <td>261.109985</td>\n",
       "      <td>264.769989</td>\n",
       "      <td>260.649994</td>\n",
       "      <td>263.739990</td>\n",
       "      <td>263.282837</td>\n",
       "      <td>138300</td>\n",
       "      <td>-0.010072</td>\n",
       "      <td>0</td>\n",
       "    </tr>\n",
       "    <tr>\n",
       "      <th>2020-06-10</th>\n",
       "      <td>265.630005</td>\n",
       "      <td>269.420013</td>\n",
       "      <td>264.959991</td>\n",
       "      <td>267.739990</td>\n",
       "      <td>267.275909</td>\n",
       "      <td>116600</td>\n",
       "      <td>-0.007943</td>\n",
       "      <td>0</td>\n",
       "    </tr>\n",
       "    <tr>\n",
       "      <th>2020-06-11</th>\n",
       "      <td>261.940002</td>\n",
       "      <td>263.459991</td>\n",
       "      <td>252.509995</td>\n",
       "      <td>252.630005</td>\n",
       "      <td>252.192108</td>\n",
       "      <td>193500</td>\n",
       "      <td>0.035542</td>\n",
       "      <td>0</td>\n",
       "    </tr>\n",
       "    <tr>\n",
       "      <th>2020-06-12</th>\n",
       "      <td>259.670013</td>\n",
       "      <td>260.630005</td>\n",
       "      <td>251.440002</td>\n",
       "      <td>255.570007</td>\n",
       "      <td>255.127014</td>\n",
       "      <td>150400</td>\n",
       "      <td>0.015789</td>\n",
       "      <td>0</td>\n",
       "    </tr>\n",
       "    <tr>\n",
       "      <th>2020-06-15</th>\n",
       "      <td>250.369995</td>\n",
       "      <td>259.369995</td>\n",
       "      <td>250.350006</td>\n",
       "      <td>258.589996</td>\n",
       "      <td>258.589996</td>\n",
       "      <td>124400</td>\n",
       "      <td>-0.032831</td>\n",
       "      <td>1</td>\n",
       "    </tr>\n",
       "    <tr>\n",
       "      <th>2020-06-16</th>\n",
       "      <td>265.320007</td>\n",
       "      <td>265.660004</td>\n",
       "      <td>259.799988</td>\n",
       "      <td>263.739990</td>\n",
       "      <td>263.739990</td>\n",
       "      <td>127400</td>\n",
       "      <td>0.005955</td>\n",
       "      <td>0</td>\n",
       "    </tr>\n",
       "    <tr>\n",
       "      <th>2020-06-17</th>\n",
       "      <td>265.429993</td>\n",
       "      <td>266.200012</td>\n",
       "      <td>263.390015</td>\n",
       "      <td>264.000000</td>\n",
       "      <td>264.000000</td>\n",
       "      <td>92800</td>\n",
       "      <td>0.005387</td>\n",
       "      <td>0</td>\n",
       "    </tr>\n",
       "    <tr>\n",
       "      <th>2020-06-18</th>\n",
       "      <td>263.690002</td>\n",
       "      <td>265.320007</td>\n",
       "      <td>263.000000</td>\n",
       "      <td>265.190002</td>\n",
       "      <td>265.190002</td>\n",
       "      <td>56300</td>\n",
       "      <td>-0.005688</td>\n",
       "      <td>0</td>\n",
       "    </tr>\n",
       "    <tr>\n",
       "      <th>2020-06-19</th>\n",
       "      <td>268.450012</td>\n",
       "      <td>268.450012</td>\n",
       "      <td>262.630005</td>\n",
       "      <td>264.230011</td>\n",
       "      <td>264.230011</td>\n",
       "      <td>116900</td>\n",
       "      <td>0.015720</td>\n",
       "      <td>0</td>\n",
       "    </tr>\n",
       "  </tbody>\n",
       "</table>\n",
       "</div>"
      ],
      "text/plain": [
       "                  Open        High         Low       Close   Adj Close  \\\n",
       "Date                                                                     \n",
       "2020-06-01  251.250000  253.449997  250.500000  253.029999  252.591400   \n",
       "2020-06-02  253.270004  255.009995  250.339996  255.009995  254.567963   \n",
       "2020-06-03  256.140015  257.619995  255.070007  256.730011  256.285004   \n",
       "2020-06-04  256.010010  257.730011  253.139999  254.789993  254.348343   \n",
       "2020-06-05  256.140015  261.140015  255.369995  260.130005  259.679108   \n",
       "2020-06-08  259.880005  262.380005  257.750000  262.380005  261.925201   \n",
       "2020-06-09  261.109985  264.769989  260.649994  263.739990  263.282837   \n",
       "2020-06-10  265.630005  269.420013  264.959991  267.739990  267.275909   \n",
       "2020-06-11  261.940002  263.459991  252.509995  252.630005  252.192108   \n",
       "2020-06-12  259.670013  260.630005  251.440002  255.570007  255.127014   \n",
       "2020-06-15  250.369995  259.369995  250.350006  258.589996  258.589996   \n",
       "2020-06-16  265.320007  265.660004  259.799988  263.739990  263.739990   \n",
       "2020-06-17  265.429993  266.200012  263.390015  264.000000  264.000000   \n",
       "2020-06-18  263.690002  265.320007  263.000000  265.190002  265.190002   \n",
       "2020-06-19  268.450012  268.450012  262.630005  264.230011  264.230011   \n",
       "\n",
       "            Volume  percent change  decision  \n",
       "Date                                          \n",
       "2020-06-01  102500       -0.007085         0  \n",
       "2020-06-02  271300       -0.006870         0  \n",
       "2020-06-03  185300       -0.002303         0  \n",
       "2020-06-04  409000        0.004766         0  \n",
       "2020-06-05  130300       -0.015577         1  \n",
       "2020-06-08  147300       -0.009620         0  \n",
       "2020-06-09  138300       -0.010072         0  \n",
       "2020-06-10  116600       -0.007943         0  \n",
       "2020-06-11  193500        0.035542         0  \n",
       "2020-06-12  150400        0.015789         0  \n",
       "2020-06-15  124400       -0.032831         1  \n",
       "2020-06-16  127400        0.005955         0  \n",
       "2020-06-17   92800        0.005387         0  \n",
       "2020-06-18   56300       -0.005688         0  \n",
       "2020-06-19  116900        0.015720         0  "
      ]
     },
     "execution_count": 9,
     "metadata": {},
     "output_type": "execute_result"
    }
   ],
   "source": [
    "stock_df.tail(15)"
   ]
  },
  {
   "cell_type": "markdown",
   "metadata": {},
   "source": [
    "### Create One Offs"
   ]
  },
  {
   "cell_type": "markdown",
   "metadata": {},
   "source": [
    "Move decision column up by 1 row so the current\n",
    "hour of data will predict the next hour of data\n",
    "or whichever time frame is observed"
   ]
  },
  {
   "cell_type": "code",
   "execution_count": 10,
   "metadata": {
    "scrolled": true
   },
   "outputs": [
    {
     "data": {
      "text/plain": [
       "numpy.ndarray"
      ]
     },
     "execution_count": 10,
     "metadata": {},
     "output_type": "execute_result"
    }
   ],
   "source": [
    "decisions = stock_df.decision.values\n",
    "type(decisions)"
   ]
  },
  {
   "cell_type": "code",
   "execution_count": 11,
   "metadata": {},
   "outputs": [
    {
     "data": {
      "text/plain": [
       "2518"
      ]
     },
     "execution_count": 11,
     "metadata": {},
     "output_type": "execute_result"
    }
   ],
   "source": [
    "len(decisions)"
   ]
  },
  {
   "cell_type": "code",
   "execution_count": 12,
   "metadata": {},
   "outputs": [],
   "source": [
    "decisions = decisions[1:len(decisions)] # from rows 2 to 6061"
   ]
  },
  {
   "cell_type": "code",
   "execution_count": 13,
   "metadata": {},
   "outputs": [
    {
     "data": {
      "text/plain": [
       "2517"
      ]
     },
     "execution_count": 13,
     "metadata": {},
     "output_type": "execute_result"
    }
   ],
   "source": [
    "len(decisions)"
   ]
  },
  {
   "cell_type": "code",
   "execution_count": 14,
   "metadata": {},
   "outputs": [
    {
     "data": {
      "text/plain": [
       "(2517, 8)"
      ]
     },
     "execution_count": 14,
     "metadata": {},
     "output_type": "execute_result"
    }
   ],
   "source": [
    "stock_df_one_off = stock_df.iloc[0:stock_df.shape[0]-1] # from rows 1 to 6060\n",
    "stock_df_one_off.shape"
   ]
  },
  {
   "cell_type": "code",
   "execution_count": 15,
   "metadata": {
    "scrolled": true
   },
   "outputs": [
    {
     "data": {
      "text/plain": [
       "Open                263.690002\n",
       "High                265.320007\n",
       "Low                 263.000000\n",
       "Close               265.190002\n",
       "Adj Close           265.190002\n",
       "Volume            56300.000000\n",
       "percent change       -0.005688\n",
       "decision              0.000000\n",
       "Name: 2020-06-18 00:00:00, dtype: float64"
      ]
     },
     "execution_count": 15,
     "metadata": {},
     "output_type": "execute_result"
    }
   ],
   "source": [
    "stock_df_one_off.iloc[-1]"
   ]
  },
  {
   "cell_type": "code",
   "execution_count": 16,
   "metadata": {},
   "outputs": [
    {
     "data": {
      "text/html": [
       "<div>\n",
       "<style scoped>\n",
       "    .dataframe tbody tr th:only-of-type {\n",
       "        vertical-align: middle;\n",
       "    }\n",
       "\n",
       "    .dataframe tbody tr th {\n",
       "        vertical-align: top;\n",
       "    }\n",
       "\n",
       "    .dataframe thead th {\n",
       "        text-align: right;\n",
       "    }\n",
       "</style>\n",
       "<table border=\"1\" class=\"dataframe\">\n",
       "  <thead>\n",
       "    <tr style=\"text-align: right;\">\n",
       "      <th></th>\n",
       "      <th>Open</th>\n",
       "      <th>High</th>\n",
       "      <th>Low</th>\n",
       "      <th>Close</th>\n",
       "      <th>Adj Close</th>\n",
       "      <th>Volume</th>\n",
       "      <th>percent change</th>\n",
       "      <th>decision</th>\n",
       "    </tr>\n",
       "    <tr>\n",
       "      <th>Date</th>\n",
       "      <th></th>\n",
       "      <th></th>\n",
       "      <th></th>\n",
       "      <th></th>\n",
       "      <th></th>\n",
       "      <th></th>\n",
       "      <th></th>\n",
       "      <th></th>\n",
       "    </tr>\n",
       "  </thead>\n",
       "  <tbody>\n",
       "    <tr>\n",
       "      <th>2010-06-21</th>\n",
       "      <td>57.660000</td>\n",
       "      <td>57.730000</td>\n",
       "      <td>56.160000</td>\n",
       "      <td>56.450001</td>\n",
       "      <td>51.221802</td>\n",
       "      <td>180700</td>\n",
       "      <td>0.020985</td>\n",
       "      <td>0</td>\n",
       "    </tr>\n",
       "    <tr>\n",
       "      <th>2010-06-22</th>\n",
       "      <td>56.639999</td>\n",
       "      <td>57.090000</td>\n",
       "      <td>55.849998</td>\n",
       "      <td>55.889999</td>\n",
       "      <td>50.713669</td>\n",
       "      <td>177400</td>\n",
       "      <td>0.013242</td>\n",
       "      <td>0</td>\n",
       "    </tr>\n",
       "    <tr>\n",
       "      <th>2010-06-23</th>\n",
       "      <td>56.020000</td>\n",
       "      <td>56.200001</td>\n",
       "      <td>55.259998</td>\n",
       "      <td>55.680000</td>\n",
       "      <td>50.523113</td>\n",
       "      <td>154700</td>\n",
       "      <td>0.006069</td>\n",
       "      <td>0</td>\n",
       "    </tr>\n",
       "    <tr>\n",
       "      <th>2010-06-24</th>\n",
       "      <td>55.380001</td>\n",
       "      <td>55.529999</td>\n",
       "      <td>54.419998</td>\n",
       "      <td>54.580002</td>\n",
       "      <td>49.591793</td>\n",
       "      <td>261600</td>\n",
       "      <td>0.014446</td>\n",
       "      <td>0</td>\n",
       "    </tr>\n",
       "    <tr>\n",
       "      <th>2010-06-25</th>\n",
       "      <td>54.840000</td>\n",
       "      <td>54.959999</td>\n",
       "      <td>54.070000</td>\n",
       "      <td>54.500000</td>\n",
       "      <td>49.519112</td>\n",
       "      <td>604100</td>\n",
       "      <td>0.006200</td>\n",
       "      <td>0</td>\n",
       "    </tr>\n",
       "  </tbody>\n",
       "</table>\n",
       "</div>"
      ],
      "text/plain": [
       "                 Open       High        Low      Close  Adj Close  Volume  \\\n",
       "Date                                                                        \n",
       "2010-06-21  57.660000  57.730000  56.160000  56.450001  51.221802  180700   \n",
       "2010-06-22  56.639999  57.090000  55.849998  55.889999  50.713669  177400   \n",
       "2010-06-23  56.020000  56.200001  55.259998  55.680000  50.523113  154700   \n",
       "2010-06-24  55.380001  55.529999  54.419998  54.580002  49.591793  261600   \n",
       "2010-06-25  54.840000  54.959999  54.070000  54.500000  49.519112  604100   \n",
       "\n",
       "            percent change  decision  \n",
       "Date                                  \n",
       "2010-06-21        0.020985         0  \n",
       "2010-06-22        0.013242         0  \n",
       "2010-06-23        0.006069         0  \n",
       "2010-06-24        0.014446         0  \n",
       "2010-06-25        0.006200         0  "
      ]
     },
     "execution_count": 16,
     "metadata": {},
     "output_type": "execute_result"
    }
   ],
   "source": [
    "stock_df_one_off['decision'] = decisions\n",
    "stock_df_one_off.head()"
   ]
  },
  {
   "cell_type": "code",
   "execution_count": 17,
   "metadata": {},
   "outputs": [
    {
     "data": {
      "text/plain": [
       "0    2394\n",
       "1     123\n",
       "Name: decision, dtype: int64"
      ]
     },
     "execution_count": 17,
     "metadata": {},
     "output_type": "execute_result"
    }
   ],
   "source": [
    "stock_df_one_off.decision.value_counts() # there is an inablance between 0's and 1's"
   ]
  },
  {
   "cell_type": "markdown",
   "metadata": {},
   "source": [
    "### Balance the 0's and 1's"
   ]
  },
  {
   "cell_type": "code",
   "execution_count": 18,
   "metadata": {},
   "outputs": [
    {
     "data": {
      "text/plain": [
       "123"
      ]
     },
     "execution_count": 18,
     "metadata": {},
     "output_type": "execute_result"
    }
   ],
   "source": [
    "ones = stock_df_one_off.decision.value_counts()[1]\n",
    "ones"
   ]
  },
  {
   "cell_type": "code",
   "execution_count": 19,
   "metadata": {},
   "outputs": [],
   "source": [
    "stock_df_bal = stock_df_one_off.groupby('decision').apply(lambda x: x.sample(n=ones)).reset_index(drop=True)"
   ]
  },
  {
   "cell_type": "code",
   "execution_count": 20,
   "metadata": {},
   "outputs": [
    {
     "data": {
      "text/plain": [
       "(246, 8)"
      ]
     },
     "execution_count": 20,
     "metadata": {},
     "output_type": "execute_result"
    }
   ],
   "source": [
    "stock_df_bal.shape"
   ]
  },
  {
   "cell_type": "code",
   "execution_count": 21,
   "metadata": {},
   "outputs": [
    {
     "data": {
      "text/plain": [
       "1    123\n",
       "0    123\n",
       "Name: decision, dtype: int64"
      ]
     },
     "execution_count": 21,
     "metadata": {},
     "output_type": "execute_result"
    }
   ],
   "source": [
    "stock_df_bal.decision.value_counts()"
   ]
  },
  {
   "cell_type": "markdown",
   "metadata": {},
   "source": [
    "### Check for NaN's"
   ]
  },
  {
   "cell_type": "code",
   "execution_count": 22,
   "metadata": {
    "scrolled": true
   },
   "outputs": [
    {
     "data": {
      "text/plain": [
       "Open              0\n",
       "High              0\n",
       "Low               0\n",
       "Close             0\n",
       "Adj Close         0\n",
       "Volume            0\n",
       "percent change    0\n",
       "decision          0\n",
       "dtype: int64"
      ]
     },
     "execution_count": 22,
     "metadata": {},
     "output_type": "execute_result"
    }
   ],
   "source": [
    "stock_df_bal.isna().sum()"
   ]
  },
  {
   "cell_type": "code",
   "execution_count": 23,
   "metadata": {
    "scrolled": true
   },
   "outputs": [],
   "source": [
    "stock_df_bal.dropna(axis=0, inplace=True)"
   ]
  },
  {
   "cell_type": "code",
   "execution_count": 24,
   "metadata": {},
   "outputs": [
    {
     "data": {
      "text/plain": [
       "Open              0\n",
       "High              0\n",
       "Low               0\n",
       "Close             0\n",
       "Adj Close         0\n",
       "Volume            0\n",
       "percent change    0\n",
       "decision          0\n",
       "dtype: int64"
      ]
     },
     "execution_count": 24,
     "metadata": {},
     "output_type": "execute_result"
    }
   ],
   "source": [
    "stock_df_bal.isna().sum()"
   ]
  },
  {
   "cell_type": "markdown",
   "metadata": {},
   "source": [
    "### Train Test Split"
   ]
  },
  {
   "cell_type": "code",
   "execution_count": 25,
   "metadata": {},
   "outputs": [],
   "source": [
    "X = stock_df_bal.drop(columns=['percent change', 'decision']) # get columns other than decision\n",
    "y = stock_df_bal['decision'] # get decision column"
   ]
  },
  {
   "cell_type": "code",
   "execution_count": 26,
   "metadata": {},
   "outputs": [],
   "source": [
    "X_train, X_test, y_train, y_test = train_test_split(X\n",
    "                                                    , y\n",
    "                                                    , test_size=0.20\n",
    "                                                    , random_state = 42\n",
    "                                                   )"
   ]
  },
  {
   "cell_type": "markdown",
   "metadata": {},
   "source": [
    "### Random Forest Classifier"
   ]
  },
  {
   "cell_type": "code",
   "execution_count": 27,
   "metadata": {},
   "outputs": [
    {
     "name": "stderr",
     "output_type": "stream",
     "text": [
      "[Parallel(n_jobs=-1)]: Using backend ThreadingBackend with 8 concurrent workers.\n",
      "[Parallel(n_jobs=-1)]: Done  34 tasks      | elapsed:    0.0s\n",
      "[Parallel(n_jobs=-1)]: Done  88 out of  88 | elapsed:    0.1s finished\n",
      "[Parallel(n_jobs=8)]: Using backend ThreadingBackend with 8 concurrent workers.\n",
      "[Parallel(n_jobs=8)]: Done  34 tasks      | elapsed:    0.0s\n",
      "[Parallel(n_jobs=8)]: Done  88 out of  88 | elapsed:    0.0s finished\n",
      "[Parallel(n_jobs=8)]: Using backend ThreadingBackend with 8 concurrent workers.\n",
      "[Parallel(n_jobs=8)]: Done  34 tasks      | elapsed:    0.0s\n",
      "[Parallel(n_jobs=8)]: Done  88 out of  88 | elapsed:    0.0s finished\n"
     ]
    }
   ],
   "source": [
    "rfc = RandomForestClassifier(n_estimators = int(perc_train * len(X_train)) # odd number \n",
    "                             , random_state = 42\n",
    "                             , verbose=1\n",
    "                             , n_jobs = -1 # access all of your processor cores Lenovo P50 i7-6820HQ 2.7GHz\n",
    "                            )\n",
    "\n",
    "rfc.fit(X_train, y_train)\n",
    "\n",
    "y_pred = rfc.predict(X_test)\n",
    "\n",
    "y_probs = rfc.predict_proba(X_test)[:, 1]"
   ]
  },
  {
   "cell_type": "markdown",
   "metadata": {},
   "source": [
    "### Measures of Performances: Receiver Operating Characteristic (ROC) Curve"
   ]
  },
  {
   "cell_type": "code",
   "execution_count": 28,
   "metadata": {},
   "outputs": [
    {
     "data": {
      "text/plain": [
       "0.6762820512820513"
      ]
     },
     "execution_count": 28,
     "metadata": {},
     "output_type": "execute_result"
    }
   ],
   "source": [
    "roc_value = roc_auc_score(y_test\n",
    "                          , y_probs\n",
    "                         )\n",
    "roc_value"
   ]
  },
  {
   "cell_type": "code",
   "execution_count": 29,
   "metadata": {},
   "outputs": [
    {
     "data": {
      "image/png": "[encoded data removed]",
      "text/plain": [
       "<Figure size 720x504 with 1 Axes>"
      ]
     },
     "metadata": {},
     "output_type": "display_data"
    }
   ],
   "source": [
    "plt.rcParams['font.size'] = 16\n",
    "base_fpr, base_tpr, _ = roc_curve(y_test, [1 for _ in range(len(y_test))])\n",
    "model_fpr, model_tpr, _ = roc_curve(y_test, y_probs)\n",
    "\n",
    "plt.figure(figsize=(10,7))\n",
    "plt.plot(base_fpr, base_tpr, 'b', label='No Skill')\n",
    "plt.plot(model_fpr, model_tpr, 'r', label='RFC Model')\n",
    "plt.legend()\n",
    "plt.xlabel('False Positive Rate')\n",
    "plt.ylabel('True Positive Rate')\n",
    "plt.title(f'{symbol} ROC Curve, Accuracy: {round(roc_value, 3)}');"
   ]
  },
  {
   "cell_type": "markdown",
   "metadata": {},
   "source": [
    "### Measures of Performance: Confusion Matrix"
   ]
  },
  {
   "cell_type": "code",
   "execution_count": 30,
   "metadata": {},
   "outputs": [
    {
     "name": "stderr",
     "output_type": "stream",
     "text": [
      "[Parallel(n_jobs=8)]: Using backend ThreadingBackend with 8 concurrent workers.\n",
      "[Parallel(n_jobs=8)]: Done  34 tasks      | elapsed:    0.0s\n",
      "[Parallel(n_jobs=8)]: Done  88 out of  88 | elapsed:    0.0s finished\n"
     ]
    },
    {
     "data": {
      "image/png": "[encoded data removed]",
      "text/plain": [
       "<Figure size 360x288 with 2 Axes>"
      ]
     },
     "metadata": {},
     "output_type": "display_data"
    }
   ],
   "source": [
    "plt.rcParams['figure.figsize'] = (5, 4)\n",
    "plt.rcParams['font.size'] = 16\n",
    "disp = plot_confusion_matrix(rfc\n",
    "                           , X_test\n",
    "                           , y_test\n",
    "                           , cmap=plt.cm.Blues\n",
    "                           , normalize='true'\n",
    "                     )\n",
    "disp.ax_.grid(False)\n",
    "disp.ax_.set_title(f'{symbol} Decision Confusion Matrix');"
   ]
  },
  {
   "cell_type": "markdown",
   "metadata": {},
   "source": [
    "### Measures of Performance: Precision Recall Curve"
   ]
  },
  {
   "cell_type": "code",
   "execution_count": 31,
   "metadata": {},
   "outputs": [
    {
     "data": {
      "image/png": "[encoded data removed]",
      "text/plain": [
       "<Figure size 720x576 with 1 Axes>"
      ]
     },
     "metadata": {},
     "output_type": "display_data"
    }
   ],
   "source": [
    "plt.rcParams['font.size'] = 16\n",
    "plt.rcParams['figure.figsize'] = (10,8)\n",
    "rf_prec, rf_recall, _ = precision_recall_curve(y_test, y_probs)\n",
    "plt.plot([0, 0], linestyle = '--', color = 'b', label='No Skill')\n",
    "plt.plot(rf_recall, rf_prec, color='r', label='Random Forest')\n",
    "plt.xlabel('Recall')\n",
    "plt.ylabel('Precision')\n",
    "plt.legend()\n",
    "plt.title(f'{symbol} Precision-Recall Curve, Accuracy: {round(auc(rf_recall, rf_prec), 3)}');"
   ]
  },
  {
   "cell_type": "markdown",
   "metadata": {},
   "source": [
    "### Measure of Performance: Feature Importances"
   ]
  },
  {
   "cell_type": "code",
   "execution_count": 32,
   "metadata": {},
   "outputs": [
    {
     "data": {
      "text/html": [
       "<div>\n",
       "<style scoped>\n",
       "    .dataframe tbody tr th:only-of-type {\n",
       "        vertical-align: middle;\n",
       "    }\n",
       "\n",
       "    .dataframe tbody tr th {\n",
       "        vertical-align: top;\n",
       "    }\n",
       "\n",
       "    .dataframe thead th {\n",
       "        text-align: right;\n",
       "    }\n",
       "</style>\n",
       "<table border=\"1\" class=\"dataframe\">\n",
       "  <thead>\n",
       "    <tr style=\"text-align: right;\">\n",
       "      <th></th>\n",
       "      <th>feature</th>\n",
       "      <th>importances</th>\n",
       "    </tr>\n",
       "  </thead>\n",
       "  <tbody>\n",
       "    <tr>\n",
       "      <th>4</th>\n",
       "      <td>Adj Close</td>\n",
       "      <td>0.188250</td>\n",
       "    </tr>\n",
       "    <tr>\n",
       "      <th>1</th>\n",
       "      <td>High</td>\n",
       "      <td>0.171940</td>\n",
       "    </tr>\n",
       "    <tr>\n",
       "      <th>3</th>\n",
       "      <td>Close</td>\n",
       "      <td>0.167606</td>\n",
       "    </tr>\n",
       "    <tr>\n",
       "      <th>0</th>\n",
       "      <td>Open</td>\n",
       "      <td>0.160443</td>\n",
       "    </tr>\n",
       "    <tr>\n",
       "      <th>5</th>\n",
       "      <td>Volume</td>\n",
       "      <td>0.156678</td>\n",
       "    </tr>\n",
       "    <tr>\n",
       "      <th>2</th>\n",
       "      <td>Low</td>\n",
       "      <td>0.155082</td>\n",
       "    </tr>\n",
       "  </tbody>\n",
       "</table>\n",
       "</div>"
      ],
      "text/plain": [
       "     feature  importances\n",
       "4  Adj Close     0.188250\n",
       "1       High     0.171940\n",
       "3      Close     0.167606\n",
       "0       Open     0.160443\n",
       "5     Volume     0.156678\n",
       "2        Low     0.155082"
      ]
     },
     "execution_count": 32,
     "metadata": {},
     "output_type": "execute_result"
    }
   ],
   "source": [
    "feature_df = pd.DataFrame({'feature': X_train.columns\n",
    "                           , 'importances': rfc.feature_importances_\n",
    "                          }).sort_values('importances', ascending=False)\n",
    "feature_df"
   ]
  },
  {
   "cell_type": "code",
   "execution_count": 33,
   "metadata": {
    "scrolled": true
   },
   "outputs": [
    {
     "data": {
      "text/html": [
       "<div>\n",
       "<style scoped>\n",
       "    .dataframe tbody tr th:only-of-type {\n",
       "        vertical-align: middle;\n",
       "    }\n",
       "\n",
       "    .dataframe tbody tr th {\n",
       "        vertical-align: top;\n",
       "    }\n",
       "\n",
       "    .dataframe thead th {\n",
       "        text-align: right;\n",
       "    }\n",
       "</style>\n",
       "<table border=\"1\" class=\"dataframe\">\n",
       "  <thead>\n",
       "    <tr style=\"text-align: right;\">\n",
       "      <th></th>\n",
       "      <th>Open</th>\n",
       "      <th>High</th>\n",
       "      <th>Low</th>\n",
       "      <th>Close</th>\n",
       "      <th>Adj Close</th>\n",
       "      <th>Volume</th>\n",
       "      <th>percent change</th>\n",
       "      <th>decision</th>\n",
       "    </tr>\n",
       "  </thead>\n",
       "  <tbody>\n",
       "    <tr>\n",
       "      <th>0</th>\n",
       "      <td>100.279999</td>\n",
       "      <td>100.589996</td>\n",
       "      <td>99.559998</td>\n",
       "      <td>99.870003</td>\n",
       "      <td>94.250153</td>\n",
       "      <td>387400</td>\n",
       "      <td>0.004089</td>\n",
       "      <td>0</td>\n",
       "    </tr>\n",
       "    <tr>\n",
       "      <th>1</th>\n",
       "      <td>106.550003</td>\n",
       "      <td>106.980003</td>\n",
       "      <td>105.639999</td>\n",
       "      <td>106.239998</td>\n",
       "      <td>102.136200</td>\n",
       "      <td>205200</td>\n",
       "      <td>0.002909</td>\n",
       "      <td>0</td>\n",
       "    </tr>\n",
       "    <tr>\n",
       "      <th>2</th>\n",
       "      <td>133.970001</td>\n",
       "      <td>134.309998</td>\n",
       "      <td>133.320007</td>\n",
       "      <td>133.529999</td>\n",
       "      <td>129.793411</td>\n",
       "      <td>77300</td>\n",
       "      <td>0.003284</td>\n",
       "      <td>0</td>\n",
       "    </tr>\n",
       "    <tr>\n",
       "      <th>3</th>\n",
       "      <td>71.540001</td>\n",
       "      <td>72.260002</td>\n",
       "      <td>71.440002</td>\n",
       "      <td>71.500000</td>\n",
       "      <td>66.114799</td>\n",
       "      <td>372100</td>\n",
       "      <td>0.000559</td>\n",
       "      <td>0</td>\n",
       "    </tr>\n",
       "    <tr>\n",
       "      <th>4</th>\n",
       "      <td>189.759995</td>\n",
       "      <td>192.179993</td>\n",
       "      <td>189.210007</td>\n",
       "      <td>191.009995</td>\n",
       "      <td>187.669327</td>\n",
       "      <td>56600</td>\n",
       "      <td>-0.006587</td>\n",
       "      <td>0</td>\n",
       "    </tr>\n",
       "  </tbody>\n",
       "</table>\n",
       "</div>"
      ],
      "text/plain": [
       "         Open        High         Low       Close   Adj Close  Volume  \\\n",
       "0  100.279999  100.589996   99.559998   99.870003   94.250153  387400   \n",
       "1  106.550003  106.980003  105.639999  106.239998  102.136200  205200   \n",
       "2  133.970001  134.309998  133.320007  133.529999  129.793411   77300   \n",
       "3   71.540001   72.260002   71.440002   71.500000   66.114799  372100   \n",
       "4  189.759995  192.179993  189.210007  191.009995  187.669327   56600   \n",
       "\n",
       "   percent change  decision  \n",
       "0        0.004089         0  \n",
       "1        0.002909         0  \n",
       "2        0.003284         0  \n",
       "3        0.000559         0  \n",
       "4       -0.006587         0  "
      ]
     },
     "execution_count": 33,
     "metadata": {},
     "output_type": "execute_result"
    }
   ],
   "source": [
    "stock_df_bal.head()"
   ]
  },
  {
   "cell_type": "markdown",
   "metadata": {},
   "source": [
    "### Make A Prediction"
   ]
  },
  {
   "cell_type": "code",
   "execution_count": 34,
   "metadata": {},
   "outputs": [
    {
     "data": {
      "text/plain": [
       "Open            268.450012\n",
       "High            268.450012\n",
       "Low             262.630005\n",
       "Close           264.230011\n",
       "Adj Close       264.230011\n",
       "Volume       116900.000000\n",
       "Name: 2020-06-19 00:00:00, dtype: float64"
      ]
     },
     "execution_count": 34,
     "metadata": {},
     "output_type": "execute_result"
    }
   ],
   "source": [
    "last = stock_df[['Open', 'High', 'Low', 'Close', 'Adj Close', 'Volume']].iloc[-1]\n",
    "last"
   ]
  },
  {
   "cell_type": "code",
   "execution_count": 35,
   "metadata": {},
   "outputs": [
    {
     "name": "stdout",
     "output_type": "stream",
     "text": [
      "Buy IYW on the 1d interval for 1.5% increase.\n"
     ]
    },
    {
     "name": "stderr",
     "output_type": "stream",
     "text": [
      "[Parallel(n_jobs=8)]: Using backend ThreadingBackend with 8 concurrent workers.\n",
      "[Parallel(n_jobs=8)]: Done  34 tasks      | elapsed:    0.0s\n",
      "[Parallel(n_jobs=8)]: Done  88 out of  88 | elapsed:    0.0s finished\n"
     ]
    }
   ],
   "source": [
    "if rfc.predict(np.array(last).reshape(1, -1))[0] == 1:\n",
    "    print(f'Buy {symbol} on the {interval} interval for {round(perc_inc *100, 1)}% increase.')\n",
    "else:\n",
    "    print(f'Sell or hold {symbol} on the {interval} interval.')"
   ]
  },
  {
   "cell_type": "code",
   "execution_count": null,
   "metadata": {},
   "outputs": [],
   "source": []
  },
  {
   "cell_type": "code",
   "execution_count": null,
   "metadata": {},
   "outputs": [],
   "source": []
  },
  {
   "cell_type": "code",
   "execution_count": null,
   "metadata": {},
   "outputs": [],
   "source": []
  },
  {
   "cell_type": "code",
   "execution_count": null,
   "metadata": {},
   "outputs": [],
   "source": []
  }
 ],
 "metadata": {
  "kernelspec": {
   "display_name": "Python 3",
   "language": "python",
   "name": "python3"
  },
  "language_info": {
   "codemirror_mode": {
    "name": "ipython",
    "version": 3
   },
   "file_extension": ".py",
   "mimetype": "text/x-python",
   "name": "python",
   "nbconvert_exporter": "python",
   "pygments_lexer": "ipython3",
   "version": "3.7.5"
  }
 },
 "nbformat": 4,
 "nbformat_minor": 4
}
