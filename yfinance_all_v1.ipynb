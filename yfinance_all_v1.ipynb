{
 "cells": [
  {
   "cell_type": "markdown",
   "metadata": {},
   "source": [
    "## Library Imports"
   ]
  },
  {
   "cell_type": "code",
   "execution_count": 2,
   "metadata": {},
   "outputs": [],
   "source": [
    "import modin.pandas as pd\n",
    "import numpy as np\n",
    "\n",
    "import matplotlib.pyplot as plt\n",
    "plt.rcParams['font.size'] = 12\n",
    "plt.rcParams['figure.figsize'] = (8, 7)\n",
    "plt.style.use('fivethirtyeight')\n",
    "\n",
    "import warnings \n",
    "warnings.filterwarnings('ignore')\n",
    "\n",
    "import yfinance as yf\n",
    "\n",
    "from sklearn.model_selection import train_test_split, GridSearchCV, cross_val_score\n",
    "from sklearn.ensemble import RandomForestClassifier\n",
    "from sklearn.metrics import (roc_auc_score\n",
    "                             , precision_score\n",
    "                             , recall_score\n",
    "                             , roc_curve\n",
    "                             , confusion_matrix\n",
    "                             , plot_confusion_matrix\n",
    "                             , precision_recall_curve\n",
    "                             , auc\n",
    "                            )\n",
    "\n",
    "import joblib"
   ]
  },
  {
   "cell_type": "markdown",
   "metadata": {},
   "source": [
    "## Global Variables"
   ]
  },
  {
   "cell_type": "code",
   "execution_count": 3,
   "metadata": {},
   "outputs": [],
   "source": [
    "interval = '1d' # time gap between data points\n",
    "history = 'max' # time history going back...\n",
    "perc_inc = 0.02 # 2% increase within time interval\n",
    "symbol = 'IYW' # IYW iShares Tech ETF"
   ]
  },
  {
   "cell_type": "markdown",
   "metadata": {},
   "source": [
    "## Yahoo Finance"
   ]
  },
  {
   "cell_type": "code",
   "execution_count": 4,
   "metadata": {},
   "outputs": [
    {
     "name": "stdout",
     "output_type": "stream",
     "text": [
      "[*********************100%***********************]  1 of 1 completed\n"
     ]
    }
   ],
   "source": [
    "stock_df = yf.download(tickers = symbol\n",
    "                       , interval = interval\n",
    "                       , period = history\n",
    "                       , prepost = True\n",
    "                      )"
   ]
  },
  {
   "cell_type": "code",
   "execution_count": 8,
   "metadata": {},
   "outputs": [
    {
     "data": {
      "text/html": [
       "<div>\n",
       "<style scoped>\n",
       "    .dataframe tbody tr th:only-of-type {\n",
       "        vertical-align: middle;\n",
       "    }\n",
       "\n",
       "    .dataframe tbody tr th {\n",
       "        vertical-align: top;\n",
       "    }\n",
       "\n",
       "    .dataframe thead th {\n",
       "        text-align: right;\n",
       "    }\n",
       "</style>\n",
       "<table border=\"1\" class=\"dataframe\">\n",
       "  <thead>\n",
       "    <tr style=\"text-align: right;\">\n",
       "      <th></th>\n",
       "      <th>Open</th>\n",
       "      <th>High</th>\n",
       "      <th>Low</th>\n",
       "      <th>Close</th>\n",
       "      <th>Adj Close</th>\n",
       "      <th>Volume</th>\n",
       "    </tr>\n",
       "    <tr>\n",
       "      <th>Date</th>\n",
       "      <th></th>\n",
       "      <th></th>\n",
       "      <th></th>\n",
       "      <th></th>\n",
       "      <th></th>\n",
       "      <th></th>\n",
       "    </tr>\n",
       "  </thead>\n",
       "  <tbody>\n",
       "    <tr>\n",
       "      <th>2020-06-29</th>\n",
       "      <td>260.859985</td>\n",
       "      <td>264.450012</td>\n",
       "      <td>257.890015</td>\n",
       "      <td>264.450012</td>\n",
       "      <td>264.450012</td>\n",
       "      <td>103100</td>\n",
       "    </tr>\n",
       "    <tr>\n",
       "      <th>2020-06-30</th>\n",
       "      <td>264.369995</td>\n",
       "      <td>270.239990</td>\n",
       "      <td>264.200012</td>\n",
       "      <td>269.799988</td>\n",
       "      <td>269.799988</td>\n",
       "      <td>158800</td>\n",
       "    </tr>\n",
       "    <tr>\n",
       "      <th>2020-07-01</th>\n",
       "      <td>269.720001</td>\n",
       "      <td>272.149994</td>\n",
       "      <td>268.799988</td>\n",
       "      <td>270.839996</td>\n",
       "      <td>270.839996</td>\n",
       "      <td>96700</td>\n",
       "    </tr>\n",
       "    <tr>\n",
       "      <th>2020-07-02</th>\n",
       "      <td>273.510010</td>\n",
       "      <td>274.339996</td>\n",
       "      <td>271.809998</td>\n",
       "      <td>272.119995</td>\n",
       "      <td>272.119995</td>\n",
       "      <td>93100</td>\n",
       "    </tr>\n",
       "    <tr>\n",
       "      <th>2020-07-06</th>\n",
       "      <td>275.570007</td>\n",
       "      <td>278.769989</td>\n",
       "      <td>275.570007</td>\n",
       "      <td>277.519989</td>\n",
       "      <td>277.519989</td>\n",
       "      <td>268700</td>\n",
       "    </tr>\n",
       "  </tbody>\n",
       "</table>\n",
       "</div>"
      ],
      "text/plain": [
       "                  Open        High         Low       Close   Adj Close  Volume\n",
       "Date                                                                          \n",
       "2020-06-29  260.859985  264.450012  257.890015  264.450012  264.450012  103100\n",
       "2020-06-30  264.369995  270.239990  264.200012  269.799988  269.799988  158800\n",
       "2020-07-01  269.720001  272.149994  268.799988  270.839996  270.839996   96700\n",
       "2020-07-02  273.510010  274.339996  271.809998  272.119995  272.119995   93100\n",
       "2020-07-06  275.570007  278.769989  275.570007  277.519989  277.519989  268700"
      ]
     },
     "execution_count": 8,
     "metadata": {},
     "output_type": "execute_result"
    }
   ],
   "source": [
    "stock_df.tail(5)"
   ]
  },
  {
   "cell_type": "markdown",
   "metadata": {},
   "source": [
    "## Create Precent Change"
   ]
  },
  {
   "cell_type": "code",
   "execution_count": 9,
   "metadata": {},
   "outputs": [
    {
     "data": {
      "text/html": [
       "<div>\n",
       "<style scoped>\n",
       "    .dataframe tbody tr th:only-of-type {\n",
       "        vertical-align: middle;\n",
       "    }\n",
       "\n",
       "    .dataframe tbody tr th {\n",
       "        vertical-align: top;\n",
       "    }\n",
       "\n",
       "    .dataframe thead th {\n",
       "        text-align: right;\n",
       "    }\n",
       "</style>\n",
       "<table border=\"1\" class=\"dataframe\">\n",
       "  <thead>\n",
       "    <tr style=\"text-align: right;\">\n",
       "      <th></th>\n",
       "      <th>Open</th>\n",
       "      <th>High</th>\n",
       "      <th>Low</th>\n",
       "      <th>Close</th>\n",
       "      <th>Adj Close</th>\n",
       "      <th>Volume</th>\n",
       "      <th>Percent Change</th>\n",
       "    </tr>\n",
       "    <tr>\n",
       "      <th>Date</th>\n",
       "      <th></th>\n",
       "      <th></th>\n",
       "      <th></th>\n",
       "      <th></th>\n",
       "      <th></th>\n",
       "      <th></th>\n",
       "      <th></th>\n",
       "    </tr>\n",
       "  </thead>\n",
       "  <tbody>\n",
       "    <tr>\n",
       "      <th>2020-06-29</th>\n",
       "      <td>260.859985</td>\n",
       "      <td>264.450012</td>\n",
       "      <td>257.890015</td>\n",
       "      <td>264.450012</td>\n",
       "      <td>264.450012</td>\n",
       "      <td>103100</td>\n",
       "      <td>0.013762</td>\n",
       "    </tr>\n",
       "    <tr>\n",
       "      <th>2020-06-30</th>\n",
       "      <td>264.369995</td>\n",
       "      <td>270.239990</td>\n",
       "      <td>264.200012</td>\n",
       "      <td>269.799988</td>\n",
       "      <td>269.799988</td>\n",
       "      <td>158800</td>\n",
       "      <td>0.020539</td>\n",
       "    </tr>\n",
       "    <tr>\n",
       "      <th>2020-07-01</th>\n",
       "      <td>269.720001</td>\n",
       "      <td>272.149994</td>\n",
       "      <td>268.799988</td>\n",
       "      <td>270.839996</td>\n",
       "      <td>270.839996</td>\n",
       "      <td>96700</td>\n",
       "      <td>0.004152</td>\n",
       "    </tr>\n",
       "    <tr>\n",
       "      <th>2020-07-02</th>\n",
       "      <td>273.510010</td>\n",
       "      <td>274.339996</td>\n",
       "      <td>271.809998</td>\n",
       "      <td>272.119995</td>\n",
       "      <td>272.119995</td>\n",
       "      <td>93100</td>\n",
       "      <td>-0.005082</td>\n",
       "    </tr>\n",
       "    <tr>\n",
       "      <th>2020-07-06</th>\n",
       "      <td>275.570007</td>\n",
       "      <td>278.769989</td>\n",
       "      <td>275.570007</td>\n",
       "      <td>277.519989</td>\n",
       "      <td>277.519989</td>\n",
       "      <td>268700</td>\n",
       "      <td>0.007076</td>\n",
       "    </tr>\n",
       "  </tbody>\n",
       "</table>\n",
       "</div>"
      ],
      "text/plain": [
       "                  Open        High         Low       Close   Adj Close  \\\n",
       "Date                                                                     \n",
       "2020-06-29  260.859985  264.450012  257.890015  264.450012  264.450012   \n",
       "2020-06-30  264.369995  270.239990  264.200012  269.799988  269.799988   \n",
       "2020-07-01  269.720001  272.149994  268.799988  270.839996  270.839996   \n",
       "2020-07-02  273.510010  274.339996  271.809998  272.119995  272.119995   \n",
       "2020-07-06  275.570007  278.769989  275.570007  277.519989  277.519989   \n",
       "\n",
       "            Volume  Percent Change  \n",
       "Date                                \n",
       "2020-06-29  103100        0.013762  \n",
       "2020-06-30  158800        0.020539  \n",
       "2020-07-01   96700        0.004152  \n",
       "2020-07-02   93100       -0.005082  \n",
       "2020-07-06  268700        0.007076  "
      ]
     },
     "execution_count": 9,
     "metadata": {},
     "output_type": "execute_result"
    }
   ],
   "source": [
    "stock_df['Percent Change'] = (stock_df.Close - stock_df.Open) / stock_df.Open\n",
    "stock_df.tail(5)"
   ]
  },
  {
   "cell_type": "code",
   "execution_count": 11,
   "metadata": {},
   "outputs": [
    {
     "data": {
      "image/png": "[encoded data removed]",
      "text/plain": [
       "<Figure size 576x504 with 1 Axes>"
      ]
     },
     "metadata": {},
     "output_type": "display_data"
    }
   ],
   "source": [
    "stock_df['Percent Change'].hist(bins=25);"
   ]
  },
  {
   "cell_type": "code",
   "execution_count": 13,
   "metadata": {},
   "outputs": [
    {
     "data": {
      "text/plain": [
       "0.97    0.026324\n",
       "Name: Percent Change, dtype: float64"
      ]
     },
     "execution_count": 13,
     "metadata": {},
     "output_type": "execute_result"
    }
   ],
   "source": [
    "stock_df['Percent Change'].quantile([0.97]) # 2 stdev above average % change"
   ]
  },
  {
   "cell_type": "markdown",
   "metadata": {},
   "source": [
    "## Assign Direction"
   ]
  },
  {
   "cell_type": "code",
   "execution_count": 14,
   "metadata": {},
   "outputs": [
    {
     "data": {
      "text/html": [
       "<div>\n",
       "<style scoped>\n",
       "    .dataframe tbody tr th:only-of-type {\n",
       "        vertical-align: middle;\n",
       "    }\n",
       "\n",
       "    .dataframe tbody tr th {\n",
       "        vertical-align: top;\n",
       "    }\n",
       "\n",
       "    .dataframe thead th {\n",
       "        text-align: right;\n",
       "    }\n",
       "</style>\n",
       "<table border=\"1\" class=\"dataframe\">\n",
       "  <thead>\n",
       "    <tr style=\"text-align: right;\">\n",
       "      <th></th>\n",
       "      <th>Open</th>\n",
       "      <th>High</th>\n",
       "      <th>Low</th>\n",
       "      <th>Close</th>\n",
       "      <th>Adj Close</th>\n",
       "      <th>Volume</th>\n",
       "      <th>Percent Change</th>\n",
       "      <th>Direction</th>\n",
       "    </tr>\n",
       "    <tr>\n",
       "      <th>Date</th>\n",
       "      <th></th>\n",
       "      <th></th>\n",
       "      <th></th>\n",
       "      <th></th>\n",
       "      <th></th>\n",
       "      <th></th>\n",
       "      <th></th>\n",
       "      <th></th>\n",
       "    </tr>\n",
       "  </thead>\n",
       "  <tbody>\n",
       "    <tr>\n",
       "      <th>2020-06-29</th>\n",
       "      <td>260.859985</td>\n",
       "      <td>264.450012</td>\n",
       "      <td>257.890015</td>\n",
       "      <td>264.450012</td>\n",
       "      <td>264.450012</td>\n",
       "      <td>103100</td>\n",
       "      <td>0.013762</td>\n",
       "      <td>0</td>\n",
       "    </tr>\n",
       "    <tr>\n",
       "      <th>2020-06-30</th>\n",
       "      <td>264.369995</td>\n",
       "      <td>270.239990</td>\n",
       "      <td>264.200012</td>\n",
       "      <td>269.799988</td>\n",
       "      <td>269.799988</td>\n",
       "      <td>158800</td>\n",
       "      <td>0.020539</td>\n",
       "      <td>1</td>\n",
       "    </tr>\n",
       "    <tr>\n",
       "      <th>2020-07-01</th>\n",
       "      <td>269.720001</td>\n",
       "      <td>272.149994</td>\n",
       "      <td>268.799988</td>\n",
       "      <td>270.839996</td>\n",
       "      <td>270.839996</td>\n",
       "      <td>96700</td>\n",
       "      <td>0.004152</td>\n",
       "      <td>0</td>\n",
       "    </tr>\n",
       "    <tr>\n",
       "      <th>2020-07-02</th>\n",
       "      <td>273.510010</td>\n",
       "      <td>274.339996</td>\n",
       "      <td>271.809998</td>\n",
       "      <td>272.119995</td>\n",
       "      <td>272.119995</td>\n",
       "      <td>93100</td>\n",
       "      <td>-0.005082</td>\n",
       "      <td>0</td>\n",
       "    </tr>\n",
       "    <tr>\n",
       "      <th>2020-07-06</th>\n",
       "      <td>275.570007</td>\n",
       "      <td>278.769989</td>\n",
       "      <td>275.570007</td>\n",
       "      <td>277.519989</td>\n",
       "      <td>277.519989</td>\n",
       "      <td>268700</td>\n",
       "      <td>0.007076</td>\n",
       "      <td>0</td>\n",
       "    </tr>\n",
       "  </tbody>\n",
       "</table>\n",
       "</div>"
      ],
      "text/plain": [
       "                  Open        High         Low       Close   Adj Close  \\\n",
       "Date                                                                     \n",
       "2020-06-29  260.859985  264.450012  257.890015  264.450012  264.450012   \n",
       "2020-06-30  264.369995  270.239990  264.200012  269.799988  269.799988   \n",
       "2020-07-01  269.720001  272.149994  268.799988  270.839996  270.839996   \n",
       "2020-07-02  273.510010  274.339996  271.809998  272.119995  272.119995   \n",
       "2020-07-06  275.570007  278.769989  275.570007  277.519989  277.519989   \n",
       "\n",
       "            Volume  Percent Change  Direction  \n",
       "Date                                           \n",
       "2020-06-29  103100        0.013762          0  \n",
       "2020-06-30  158800        0.020539          1  \n",
       "2020-07-01   96700        0.004152          0  \n",
       "2020-07-02   93100       -0.005082          0  \n",
       "2020-07-06  268700        0.007076          0  "
      ]
     },
     "execution_count": 14,
     "metadata": {},
     "output_type": "execute_result"
    }
   ],
   "source": [
    "stock_df['Direction'] = np.where(stock_df['Percent Change'] > perc_inc\n",
    "                                 , 1\n",
    "                                 , 0\n",
    "                                )\n",
    "stock_df.tail(5)"
   ]
  },
  {
   "cell_type": "markdown",
   "metadata": {},
   "source": [
    "## Shift Direction Column Up by 1"
   ]
  },
  {
   "cell_type": "markdown",
   "metadata": {},
   "source": [
    "Move decision column up by 1 cell so current hour of data will predict the next hour of data or whichever time frame interval is observed"
   ]
  },
  {
   "cell_type": "code",
   "execution_count": 15,
   "metadata": {},
   "outputs": [
    {
     "name": "stdout",
     "output_type": "stream",
     "text": [
      "Length Before: 5063\n",
      "Length After: 5062\n"
     ]
    }
   ],
   "source": [
    "dir_vals = stock_df.Direction.values\n",
    "print(f'Length Before: {len(dir_vals)}')\n",
    "dir_vals = dir_vals[1:len(dir_vals)]\n",
    "print(f'Length After: {len(dir_vals)}')"
   ]
  },
  {
   "cell_type": "code",
   "execution_count": null,
   "metadata": {},
   "outputs": [],
   "source": []
  }
 ],
 "metadata": {
  "kernelspec": {
   "display_name": "Python 3",
   "language": "python",
   "name": "python3"
  },
  "language_info": {
   "codemirror_mode": {
    "name": "ipython",
    "version": 3
   },
   "file_extension": ".py",
   "mimetype": "text/x-python",
   "name": "python",
   "nbconvert_exporter": "python",
   "pygments_lexer": "ipython3",
   "version": "3.8.2"
  }
 },
 "nbformat": 4,
 "nbformat_minor": 4
}
